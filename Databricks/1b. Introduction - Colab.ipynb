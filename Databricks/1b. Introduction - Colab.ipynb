{
  "nbformat": 4,
  "nbformat_minor": 0,
  "metadata": {
    "colab": {
      "name": "Introduction.ipynb",
      "version": "0.3.2",
      "provenance": [],
      "include_colab_link": true
    },
    "kernelspec": {
      "name": "python3",
      "display_name": "Python 3"
    }
  },
  "cells": [
    {
      "cell_type": "markdown",
      "metadata": {
        "id": "view-in-github",
        "colab_type": "text"
      },
      "source": [
        "<a href=\"https://colab.research.google.com/github/data-space/datalab-notebooks/blob/master/Colab/1.0%20Introduction.ipynb\" target=\"_parent\"><img src=\"https://colab.research.google.com/assets/colab-badge.svg\" alt=\"Open In Colab\"/></a>"
      ]
    },
    {
      "cell_type": "markdown",
      "metadata": {
        "id": "NpPX8OVM6Osn",
        "colab_type": "text"
      },
      "source": [
        "# Colab Introduction"
      ]
    },
    {
      "cell_type": "markdown",
      "metadata": {
        "id": "Kos5pW_e6TYh",
        "colab_type": "text"
      },
      "source": [
        "## Contents\n",
        "1. Markdown basics\n",
        "1. Cells with magic commands\n"
      ]
    },
    {
      "cell_type": "markdown",
      "metadata": {
        "id": "DDZfp_zWtIHu",
        "colab_type": "text"
      },
      "source": [
        "## 1. Markdown basics"
      ]
    },
    {
      "cell_type": "markdown",
      "metadata": {
        "id": "Rt74dAjAsehs",
        "colab_type": "text"
      },
      "source": [
        "This is a markdown cell that demonstrates basic markdown formats.\n",
        "Either double click or hit enter after selecting a cell to see the markdown code."
      ]
    },
    {
      "cell_type": "markdown",
      "metadata": {
        "id": "ENyHzq6ksobs",
        "colab_type": "text"
      },
      "source": [
        "This sentence contains __bold face text__ and _italicized text_. "
      ]
    },
    {
      "cell_type": "markdown",
      "metadata": {
        "id": "9_nPknJysxUl",
        "colab_type": "text"
      },
      "source": [
        "This is an unnumbered list:\n",
        "- this is an item\n",
        "- this is another item\n",
        "- this is the last item"
      ]
    },
    {
      "cell_type": "markdown",
      "metadata": {
        "id": "yJXT-YVes6J1",
        "colab_type": "text"
      },
      "source": [
        "This is a numbered list:\n",
        "1. The first item\n",
        "1. The second item\n",
        "1. The third item"
      ]
    },
    {
      "cell_type": "markdown",
      "metadata": {
        "id": "UwaEaa-ztqm1",
        "colab_type": "text"
      },
      "source": [
        "## 2. Cells with magic commands"
      ]
    },
    {
      "cell_type": "markdown",
      "metadata": {
        "id": "C4FnK7n1t1wc",
        "colab_type": "text"
      },
      "source": [
        "Commands that start with a percent sign (`%`)  are called \"magics\" and are not Python and are not markdown. \n",
        "- Cells that start with `%ls` list files in the current or named directory.\n",
        "- Cells that start with `%%sh`  contains Linux commands on the second and later lines. \n",
        "\n",
        "The following cells lists the files and directories in the runtime container. These files can be access from your code. "
      ]
    },
    {
      "cell_type": "code",
      "metadata": {
        "id": "I_pb_gl9ugT1",
        "colab_type": "code",
        "colab": {
          "base_uri": "https://localhost:8080/",
          "height": 34
        },
        "outputId": "81cde5e9-d34b-4c59-eef0-e543b18a7ea8"
      },
      "source": [
        "%ls"
      ],
      "execution_count": 1,
      "outputs": [
        {
          "output_type": "stream",
          "text": [
            "\u001b[0m\u001b[01;34msample_data\u001b[0m/\n"
          ],
          "name": "stdout"
        }
      ]
    },
    {
      "cell_type": "code",
      "metadata": {
        "id": "VRdo3KEsvao2",
        "colab_type": "code",
        "colab": {
          "base_uri": "https://localhost:8080/",
          "height": 68
        },
        "outputId": "4e0f2e49-e81c-4bf4-84ec-44ade7a3dae5"
      },
      "source": [
        "%ls sample_data/*"
      ],
      "execution_count": 4,
      "outputs": [
        {
          "output_type": "stream",
          "text": [
            "\u001b[0m\u001b[01;32msample_data/anscombe.json\u001b[0m*                sample_data/mnist_test.csv\n",
            "sample_data/california_housing_test.csv   sample_data/mnist_train_small.csv\n",
            "sample_data/california_housing_train.csv  \u001b[01;32msample_data/README.md\u001b[0m*\n"
          ],
          "name": "stdout"
        }
      ]
    },
    {
      "cell_type": "markdown",
      "metadata": {
        "id": "EkQBNzTiu6dD",
        "colab_type": "text"
      },
      "source": [
        "The following command clones a GitHub repository, that contains many datasets, into the current (top level) directory. "
      ]
    },
    {
      "cell_type": "code",
      "metadata": {
        "id": "CT377bo7U4u6",
        "colab_type": "code",
        "outputId": "3a87a70f-8ed6-4874-e191-630616090c5a",
        "colab": {
          "base_uri": "https://localhost:8080/",
          "height": 51
        }
      },
      "source": [
        "%%sh \n",
        "git clone https://github.com/datasets/openml-datasets"
      ],
      "execution_count": 5,
      "outputs": [
        {
          "output_type": "stream",
          "text": [
            "Cloning into 'openml-datasets'...\n",
            "Checking out files:  10% (36/356)   \rChecking out files:  11% (40/356)   \rChecking out files:  12% (43/356)   \rChecking out files:  13% (47/356)   \rChecking out files:  14% (50/356)   \rChecking out files:  15% (54/356)   \rChecking out files:  16% (57/356)   \rChecking out files:  17% (61/356)   \rChecking out files:  18% (65/356)   \rChecking out files:  19% (68/356)   \rChecking out files:  20% (72/356)   \rChecking out files:  21% (75/356)   \rChecking out files:  22% (79/356)   \rChecking out files:  23% (82/356)   \rChecking out files:  24% (86/356)   \rChecking out files:  25% (89/356)   \rChecking out files:  26% (93/356)   \rChecking out files:  27% (97/356)   \rChecking out files:  28% (100/356)   \rChecking out files:  29% (104/356)   \rChecking out files:  30% (107/356)   \rChecking out files:  31% (111/356)   \rChecking out files:  32% (114/356)   \rChecking out files:  33% (118/356)   \rChecking out files:  34% (122/356)   \rChecking out files:  35% (125/356)   \rChecking out files:  35% (128/356)   \rChecking out files:  36% (129/356)   \rChecking out files:  37% (132/356)   \rChecking out files:  38% (136/356)   \rChecking out files:  39% (139/356)   \rChecking out files:  40% (143/356)   \rChecking out files:  41% (146/356)   \rChecking out files:  42% (150/356)   \rChecking out files:  43% (154/356)   \rChecking out files:  44% (157/356)   \rChecking out files:  45% (161/356)   \rChecking out files:  46% (164/356)   \rChecking out files:  47% (168/356)   \rChecking out files:  48% (171/356)   \rChecking out files:  49% (175/356)   \rChecking out files:  50% (178/356)   \rChecking out files:  51% (182/356)   \rChecking out files:  52% (186/356)   \rChecking out files:  53% (189/356)   \rChecking out files:  54% (193/356)   \rChecking out files:  55% (196/356)   \rChecking out files:  56% (200/356)   \rChecking out files:  57% (203/356)   \rChecking out files:  58% (207/356)   \rChecking out files:  59% (211/356)   \rChecking out files:  60% (214/356)   \rChecking out files:  61% (218/356)   \rChecking out files:  62% (221/356)   \rChecking out files:  63% (225/356)   \rChecking out files:  64% (228/356)   \rChecking out files:  65% (232/356)   \rChecking out files:  66% (235/356)   \rChecking out files:  67% (239/356)   \rChecking out files:  68% (243/356)   \rChecking out files:  69% (246/356)   \rChecking out files:  70% (250/356)   \rChecking out files:  71% (253/356)   \rChecking out files:  72% (257/356)   \rChecking out files:  73% (260/356)   \rChecking out files:  74% (264/356)   \rChecking out files:  75% (267/356)   \rChecking out files:  76% (271/356)   \rChecking out files:  77% (275/356)   \rChecking out files:  78% (278/356)   \rChecking out files:  79% (282/356)   \rChecking out files:  80% (285/356)   \rChecking out files:  81% (289/356)   \rChecking out files:  82% (292/356)   \rChecking out files:  83% (296/356)   \rChecking out files:  84% (300/356)   \rChecking out files:  85% (303/356)   \rChecking out files:  86% (307/356)   \rChecking out files:  87% (310/356)   \rChecking out files:  88% (314/356)   \rChecking out files:  89% (317/356)   \rChecking out files:  90% (321/356)   \rChecking out files:  91% (324/356)   \rChecking out files:  92% (328/356)   \rChecking out files:  93% (332/356)   \rChecking out files:  94% (335/356)   \rChecking out files:  95% (339/356)   \rChecking out files:  96% (342/356)   \rChecking out files:  97% (346/356)   \rChecking out files:  98% (349/356)   \rChecking out files:  99% (353/356)   \rChecking out files: 100% (356/356)   \rChecking out files: 100% (356/356), done.\n"
          ],
          "name": "stderr"
        }
      ]
    },
    {
      "cell_type": "markdown",
      "metadata": {
        "id": "SBWGA89qwpB1",
        "colab_type": "text"
      },
      "source": [
        "List the contents of the newly created directory."
      ]
    },
    {
      "cell_type": "code",
      "metadata": {
        "id": "C57K31W-RZqA",
        "colab_type": "code",
        "colab": {
          "base_uri": "https://localhost:8080/",
          "height": 34
        },
        "outputId": "5b9299ad-dab1-4095-d7da-70ba0be7c228"
      },
      "source": [
        "%ls "
      ],
      "execution_count": 6,
      "outputs": [
        {
          "output_type": "stream",
          "text": [
            "\u001b[0m\u001b[01;34mopenml-datasets\u001b[0m/  \u001b[01;34msample_data\u001b[0m/\n"
          ],
          "name": "stdout"
        }
      ]
    },
    {
      "cell_type": "code",
      "metadata": {
        "id": "PMFFqDeSwVcP",
        "colab_type": "code",
        "colab": {
          "base_uri": "https://localhost:8080/",
          "height": 34
        },
        "outputId": "ab5ea8d9-2dcb-49f9-8151-355e7646280e"
      },
      "source": [
        "%ls openml-datasets"
      ],
      "execution_count": 7,
      "outputs": [
        {
          "output_type": "stream",
          "text": [
            "\u001b[0m\u001b[01;34mdata\u001b[0m/\n"
          ],
          "name": "stdout"
        }
      ]
    },
    {
      "cell_type": "code",
      "metadata": {
        "id": "Wu8KF0GZwu--",
        "colab_type": "code",
        "colab": {
          "base_uri": "https://localhost:8080/",
          "height": 782
        },
        "outputId": "ce2ddbba-a9b0-4445-b424-1f3e37763c11"
      },
      "source": [
        "%ls openml-datasets/data"
      ],
      "execution_count": 8,
      "outputs": [
        {
          "output_type": "stream",
          "text": [
            "\u001b[0m\u001b[01;34mabalone\u001b[0m/                           \u001b[01;34mlymph\u001b[0m/\n",
            "\u001b[01;34madult\u001b[0m/                             \u001b[01;34mmadelon\u001b[0m/\n",
            "\u001b[01;34mairlines\u001b[0m/                          \u001b[01;34mMagicTelescope\u001b[0m/\n",
            "\u001b[01;34mamazon-commerce-reviews\u001b[0m/           \u001b[01;34mmammography\u001b[0m/\n",
            "\u001b[01;34manneal\u001b[0m/                            \u001b[01;34mmfeat-factors\u001b[0m/\n",
            "\u001b[01;34marrhythmia\u001b[0m/                        \u001b[01;34mmfeat-karhunen\u001b[0m/\n",
            "\u001b[01;34mautos\u001b[0m/                             \u001b[01;34mmfeat-morphological\u001b[0m/\n",
            "\u001b[01;34mautoUniv-au6-1000\u001b[0m/                 \u001b[01;34mmfeat-pixel\u001b[0m/\n",
            "\u001b[01;34mbank-marketing\u001b[0m/                    \u001b[01;34mmfeat-zernike\u001b[0m/\n",
            "\u001b[01;34mbanknote-authentication\u001b[0m/           \u001b[01;34mmozilla4\u001b[0m/\n",
            "\u001b[01;34mBioresponse\u001b[0m/                       \u001b[01;34mmushroom\u001b[0m/\n",
            "\u001b[01;34mblood-transfusion-service-center\u001b[0m/  \u001b[01;34mmusk\u001b[0m/\n",
            "\u001b[01;34mbreast-cancer\u001b[0m/                     \u001b[01;34mnursery\u001b[0m/\n",
            "\u001b[01;34mbreast-w\u001b[0m/                          \u001b[01;34moil_spill\u001b[0m/\n",
            "\u001b[01;34mcardiotocography\u001b[0m/                  \u001b[01;34mone-hundred-plants-shape\u001b[0m/\n",
            "\u001b[01;34mClick_prediction_small\u001b[0m/            \u001b[01;34mone-hundred-plants-texture\u001b[0m/\n",
            "\u001b[01;34mclimate-model-simulation-crashes\u001b[0m/  \u001b[01;34moptdigits\u001b[0m/\n",
            "\u001b[01;34mcmc\u001b[0m/                               \u001b[01;34mpage-blocks\u001b[0m/\n",
            "\u001b[01;34mcredit-approval\u001b[0m/                   \u001b[01;34mpc1\u001b[0m/\n",
            "\u001b[01;34mcredit-g\u001b[0m/                          \u001b[01;34mpc3\u001b[0m/\n",
            "\u001b[01;34mdiabetes\u001b[0m/                          \u001b[01;34mpendigits\u001b[0m/\n",
            "\u001b[01;34meeg-eye-state\u001b[0m/                     \u001b[01;34mphoneme\u001b[0m/\n",
            "\u001b[01;34melectricity\u001b[0m/                       \u001b[01;34mprofb\u001b[0m/\n",
            "\u001b[01;34mfbis.wc\u001b[0m/                           \u001b[01;34mqsar-biodeg\u001b[0m/\n",
            "\u001b[01;34mfirst-order-theorem-proving\u001b[0m/       \u001b[01;34mSatellite\u001b[0m/\n",
            "\u001b[01;34mgas-drift\u001b[0m/                         \u001b[01;34msatimage\u001b[0m/\n",
            "\u001b[01;34mgina_agnostic\u001b[0m/                     \u001b[01;34mscene\u001b[0m/\n",
            "\u001b[01;34mgina_prior2\u001b[0m/                       \u001b[01;34msegment\u001b[0m/\n",
            "\u001b[01;34mglass\u001b[0m/                             \u001b[01;34mseismic-bumps\u001b[0m/\n",
            "\u001b[01;34mhaberman\u001b[0m/                          \u001b[01;34msemeion\u001b[0m/\n",
            "\u001b[01;34mheart-statlog\u001b[0m/                     \u001b[01;34msick\u001b[0m/\n",
            "\u001b[01;34mhill-valley\u001b[0m/                       \u001b[01;34msonar\u001b[0m/\n",
            "\u001b[01;34milpd\u001b[0m/                              \u001b[01;34msoybean\u001b[0m/\n",
            "\u001b[01;34mIMDB.drama\u001b[0m/                        \u001b[01;34mspambase\u001b[0m/\n",
            "\u001b[01;34mionosphere\u001b[0m/                        \u001b[01;34mspectrometer\u001b[0m/\n",
            "\u001b[01;34miris\u001b[0m/                              \u001b[01;34mSpeedDating\u001b[0m/\n",
            "\u001b[01;34misolet\u001b[0m/                            \u001b[01;34msteel-plates-fault\u001b[0m/\n",
            "\u001b[01;34mjm1\u001b[0m/                               \u001b[01;34mtic-tac-toe\u001b[0m/\n",
            "\u001b[01;34mkc1\u001b[0m/                               \u001b[01;34mvehicle\u001b[0m/\n",
            "\u001b[01;34mkc2\u001b[0m/                               \u001b[01;34mvote\u001b[0m/\n",
            "\u001b[01;34mkropt\u001b[0m/                             \u001b[01;34mwall-robot-navigation\u001b[0m/\n",
            "\u001b[01;34mkr-vs-kp\u001b[0m/                          \u001b[01;34mwaveform-5000\u001b[0m/\n",
            "\u001b[01;34mletter\u001b[0m/                            \u001b[01;34mwdbc\u001b[0m/\n",
            "\u001b[01;34mliver-disorders\u001b[0m/                   \u001b[01;34myeast\u001b[0m/\n",
            "\u001b[01;34mlung-cancer\u001b[0m/\n"
          ],
          "name": "stdout"
        }
      ]
    },
    {
      "cell_type": "code",
      "metadata": {
        "id": "QLTX119KRjUJ",
        "colab_type": "code",
        "colab": {
          "base_uri": "https://localhost:8080/",
          "height": 34
        },
        "outputId": "3a13b798-e511-432b-f3ec-4acfd3f77d32"
      },
      "source": [
        "%ls openml-datasets/data/iris"
      ],
      "execution_count": 9,
      "outputs": [
        {
          "output_type": "stream",
          "text": [
            "datapackage.json  iris.arff  iris.csv  README.md\n"
          ],
          "name": "stdout"
        }
      ]
    },
    {
      "cell_type": "code",
      "metadata": {
        "id": "19sb7b8TRm8S",
        "colab_type": "code",
        "colab": {
          "base_uri": "https://localhost:8080/",
          "height": 68
        },
        "outputId": "a1c4a50a-57da-4e62-bbb8-71264d9a9811"
      },
      "source": [
        "%%sh\n",
        "head -n 3 openml-datasets/data/iris/iris.csv"
      ],
      "execution_count": 12,
      "outputs": [
        {
          "output_type": "stream",
          "text": [
            "sepallength,sepalwidth,petallength,petalwidth,class\n",
            "5.1,3.5,1.4,0.2,Iris-setosa\n",
            "4.9,3.0,1.4,0.2,Iris-setosa\n"
          ],
          "name": "stdout"
        }
      ]
    },
    {
      "cell_type": "markdown",
      "metadata": {
        "id": "BHCw4FgHw3A0",
        "colab_type": "text"
      },
      "source": [
        "It will be easier to choose a dataset using your browser. Go to:\n",
        "- https://github.com/datasets/openml-datasets"
      ]
    }
  ]
}