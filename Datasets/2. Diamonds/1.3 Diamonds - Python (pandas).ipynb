{
  "nbformat": 4,
  "nbformat_minor": 0,
  "metadata": {
    "name": "1.3 Diamonds - Python (pandas)",
    "notebookId": 900343,
    "colab": {
      "name": "1.3 Diamonds - Python (pandas).ipynb",
      "provenance": []
    },
    "kernelspec": {
      "name": "python3",
      "display_name": "Python 3"
    }
  },
  "cells": [
    {
      "cell_type": "markdown",
      "metadata": {
        "id": "DSfxrD_EC-wJ",
        "colab_type": "text"
      },
      "source": [
        "# Read diamonds Dataset in Python with pandas"
      ]
    },
    {
      "cell_type": "markdown",
      "metadata": {
        "id": "KgNPsZeGC-wN",
        "colab_type": "text"
      },
      "source": [
        "## Introduction\n",
        "This notebook imports the `diamonds` dataset. This entails:\n",
        "2. Reading the datafile (into a dataframe)\n",
        "3. Checking the datatypes (of each column in the dataframe)\n",
        "4. Setting these datatypes (if they were not initially read correctly)\n",
        "\n",
        "The sections of this notebook (listed below, except the Setup section) correspond to each step. \n",
        "Note that the columns of the diamonds dataset are all initially read correctly. \n",
        "Other notebooks require more work to set the column datatypes correctly."
      ]
    },
    {
      "cell_type": "markdown",
      "metadata": {
        "id": "KFNDw_D9C-wP",
        "colab_type": "text"
      },
      "source": [
        "## Contents\n",
        "1. Setup\n",
        "2. Read datafile\n",
        "3. Check column types\n",
        "4. Set column types"
      ]
    },
    {
      "cell_type": "markdown",
      "metadata": {
        "id": "yUOAxIJoC-wR",
        "colab_type": "text"
      },
      "source": [
        "## 1. Setup"
      ]
    },
    {
      "cell_type": "code",
      "metadata": {
        "id": "QQokLUVeC-wZ",
        "colab_type": "code",
        "colab": {}
      },
      "source": [
        "diamonds_filepath = 'https://raw.githubusercontent.com/datalab-datasets/file-samples/master/diamonds.csv'"
      ],
      "execution_count": 0,
      "outputs": []
    },
    {
      "cell_type": "markdown",
      "metadata": {
        "id": "2daC8JjUC-wd",
        "colab_type": "text"
      },
      "source": [
        "## 2. Read using `read_csv` from `pandas` (Python)"
      ]
    },
    {
      "cell_type": "markdown",
      "metadata": {
        "id": "sWbfBbm4C-we",
        "colab_type": "text"
      },
      "source": [
        "The pandas module makes available many functions for work with (including reading) dataframes in Python.\n",
        "In particular, we use the `read_csv` function from the pandas. \n",
        "For details on the function see:\n",
        "- http://pandas.pydata.org/pandas-docs/version/0.19/generated/pandas.read_csv.html\n",
        "\n",
        "Notice the version of pandas used on the cluster."
      ]
    },
    {
      "cell_type": "code",
      "metadata": {
        "id": "kLCDxhrvC-wf",
        "colab_type": "code",
        "outputId": "05a46559-f8ae-4f7a-95bd-2a7bb788720b",
        "colab": {
          "base_uri": "https://localhost:8080/",
          "height": 34
        }
      },
      "source": [
        "import pandas as pd\n",
        "pd.__version__"
      ],
      "execution_count": 6,
      "outputs": [
        {
          "output_type": "execute_result",
          "data": {
            "text/plain": [
              "'0.25.3'"
            ]
          },
          "metadata": {
            "tags": []
          },
          "execution_count": 6
        }
      ]
    },
    {
      "cell_type": "markdown",
      "metadata": {
        "id": "AAVgnCVYC-wh",
        "colab_type": "text"
      },
      "source": [
        "The code cell below uses the `read_csv` function to read the `diamonds.csv` datafile into a pandas dataframe.\n",
        "\n",
        "The `info()` method is used to display the datatypes of the columns."
      ]
    },
    {
      "cell_type": "code",
      "metadata": {
        "id": "q773dbmkC-wi",
        "colab_type": "code",
        "outputId": "e113aec7-cd31-4af4-d813-57b85f14b74c",
        "colab": {
          "base_uri": "https://localhost:8080/",
          "height": 289
        }
      },
      "source": [
        "import pandas as pd\n",
        "pd.read_csv(diamonds_filepath) \\\n",
        "  .info()"
      ],
      "execution_count": 7,
      "outputs": [
        {
          "output_type": "stream",
          "text": [
            "<class 'pandas.core.frame.DataFrame'>\n",
            "RangeIndex: 53940 entries, 0 to 53939\n",
            "Data columns (total 11 columns):\n",
            "Unnamed: 0    53940 non-null int64\n",
            "carat         53940 non-null float64\n",
            "cut           53940 non-null object\n",
            "color         53940 non-null object\n",
            "clarity       53940 non-null object\n",
            "depth         53940 non-null float64\n",
            "table         53940 non-null float64\n",
            "price         53940 non-null int64\n",
            "x             53940 non-null float64\n",
            "y             53940 non-null float64\n",
            "z             53940 non-null float64\n",
            "dtypes: float64(6), int64(2), object(3)\n",
            "memory usage: 4.5+ MB\n"
          ],
          "name": "stdout"
        }
      ]
    },
    {
      "cell_type": "markdown",
      "metadata": {
        "id": "BsO47P7OC-wn",
        "colab_type": "text"
      },
      "source": [
        "Notice that the four numeric columns are all read correctly as type `float64`. \n",
        "\n",
        "The `Name` column though is a categorical variable and should be read as type `category`, not a `object`."
      ]
    },
    {
      "cell_type": "code",
      "metadata": {
        "id": "yvIu3cvjC-wo",
        "colab_type": "code",
        "outputId": "62b683c8-6d14-4823-dd93-dc89bb8c66e9",
        "colab": {
          "base_uri": "https://localhost:8080/",
          "height": 272
        }
      },
      "source": [
        "import pandas as pd\n",
        "pd.read_csv(diamonds_filepath,\n",
        "            dtype={'cut':'category',\n",
        "                   'color':'category',\n",
        "                   'clarity':'category'}\n",
        "           ) \\\n",
        "  .drop(columns=['Unnamed: 0']) \\\n",
        "  .info()"
      ],
      "execution_count": 8,
      "outputs": [
        {
          "output_type": "stream",
          "text": [
            "<class 'pandas.core.frame.DataFrame'>\n",
            "RangeIndex: 53940 entries, 0 to 53939\n",
            "Data columns (total 10 columns):\n",
            "carat      53940 non-null float64\n",
            "cut        53940 non-null category\n",
            "color      53940 non-null category\n",
            "clarity    53940 non-null category\n",
            "depth      53940 non-null float64\n",
            "table      53940 non-null float64\n",
            "price      53940 non-null int64\n",
            "x          53940 non-null float64\n",
            "y          53940 non-null float64\n",
            "z          53940 non-null float64\n",
            "dtypes: category(3), float64(6), int64(1)\n",
            "memory usage: 3.0 MB\n"
          ],
          "name": "stdout"
        }
      ]
    },
    {
      "cell_type": "markdown",
      "metadata": {
        "id": "y2fKBKzXC-wq",
        "colab_type": "text"
      },
      "source": [
        "__The End__"
      ]
    }
  ]
}