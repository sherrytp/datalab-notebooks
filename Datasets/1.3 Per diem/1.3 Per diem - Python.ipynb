{
  "nbformat": 4,
  "nbformat_minor": 0,
  "metadata": {
    "name": "1.3 Per diem - Python",
    "notebookId": 1273506,
    "colab": {
      "name": "1.3 Per diem - Python.ipynb",
      "provenance": []
    },
    "kernelspec": {
      "name": "python3",
      "display_name": "Python 3"
    }
  },
  "cells": [
    {
      "cell_type": "markdown",
      "metadata": {
        "id": "Vzf7Ed7l4213",
        "colab_type": "text"
      },
      "source": [
        "# Read Per Diem Dataset in Python with pandas"
      ]
    },
    {
      "cell_type": "markdown",
      "metadata": {
        "id": "_5XyMDod4217",
        "colab_type": "text"
      },
      "source": [
        "## Introduction\n",
        "This notebook reads (using pandas) a spreadsheet from the Per Diem dataset."
      ]
    },
    {
      "cell_type": "markdown",
      "metadata": {
        "id": "XyTonAFT421-",
        "colab_type": "text"
      },
      "source": [
        "## 1. Setup"
      ]
    },
    {
      "cell_type": "code",
      "metadata": {
        "id": "iUYPdcXl422H",
        "colab_type": "code",
        "colab": {}
      },
      "source": [
        "per_diem_filepath = 'https://github.com/datalab-datasets/per_diem/blob/master/December2017PD.xls?raw=true'"
      ],
      "execution_count": 0,
      "outputs": []
    },
    {
      "cell_type": "markdown",
      "metadata": {
        "id": "f5MzJ2_7422K",
        "colab_type": "text"
      },
      "source": [
        "## 2. Read using `read_csv` from `pandas` (Python)"
      ]
    },
    {
      "cell_type": "markdown",
      "metadata": {
        "id": "-xSFtptY422L",
        "colab_type": "text"
      },
      "source": [
        "The pandas module makes available many functions for work with (including reading) dataframes in Python.\n",
        "In particular, we use the `read_csv` function from the pandas. \n",
        "For details on the function see:\n",
        "- http://pandas.pydata.org/pandas-docs/version/0.19/generated/pandas.read_csv.html\n",
        "\n",
        "Notice the version of pandas used on the cluster."
      ]
    },
    {
      "cell_type": "markdown",
      "metadata": {
        "id": "MQcrkdcE422M",
        "colab_type": "text"
      },
      "source": [
        "The code cell below uses the `read_csv` function to read the `diamonds.csv` datafile into a pandas dataframe.\n",
        "\n",
        "The `info()` method is used to display the datatypes of the columns."
      ]
    },
    {
      "cell_type": "code",
      "metadata": {
        "id": "W5xIwoaj422O",
        "colab_type": "code",
        "colab": {
          "base_uri": "https://localhost:8080/",
          "height": 306
        },
        "outputId": "34b10b10-263f-41f6-efed-6dc4fd814472"
      },
      "source": [
        "import pandas as pd\n",
        "pd.read_excel(per_diem_filepath) \\\n",
        "  .info()"
      ],
      "execution_count": 2,
      "outputs": [
        {
          "output_type": "stream",
          "text": [
            "WARNING *** file size (242690) not 512 + multiple of sector size (512)\n",
            "<class 'pandas.core.frame.DataFrame'>\n",
            "RangeIndex: 1108 entries, 0 to 1107\n",
            "Data columns (total 11 columns):\n",
            "Country                   1108 non-null object\n",
            "Location                  1108 non-null object\n",
            "Season Code               1108 non-null object\n",
            "Season Start Date         1108 non-null datetime64[ns]\n",
            "Season End Date           1108 non-null datetime64[ns]\n",
            "Lodging                   1108 non-null int64\n",
            "Meals and Incidentals     1108 non-null int64\n",
            "Per Diem                  1108 non-null int64\n",
            "Effective Date            1108 non-null datetime64[ns]\n",
            "Footnote Reference        180 non-null object\n",
            "Location Code             1108 non-null int64\n",
            "dtypes: datetime64[ns](3), int64(4), object(4)\n",
            "memory usage: 95.3+ KB\n"
          ],
          "name": "stdout"
        }
      ]
    },
    {
      "cell_type": "markdown",
      "metadata": {
        "id": "XrspY7h-422Q",
        "colab_type": "text"
      },
      "source": [
        "__Exercise:__ create a function called `get_per_diem_dataframe` that has one input parameter `filepath` and returns the pandas dataframe returned by the `read_excel` function for the given value of `filepath`. For instance, \n",
        "\n",
        "`get_per_diem_dataframe('/dbfs/mnt/datalab-datasets/per_diem/February2018PD.xls')` \n",
        "\n",
        "would return the dataframe \n",
        "\n",
        "`pd.read_excel('/dbfs/mnt/datalab-datasets/per_diem/February2018PD.xls')`"
      ]
    },
    {
      "cell_type": "markdown",
      "metadata": {
        "id": "gQoSZK8-422R",
        "colab_type": "text"
      },
      "source": [
        "__Exercise:__ modify the function `get_per_diem_dataframe` so that the column names of the dataframe it returns are in lower case with spaces replaced with the underscore (`_`)."
      ]
    },
    {
      "cell_type": "markdown",
      "metadata": {
        "id": "XmOEiyFn422S",
        "colab_type": "text"
      },
      "source": [
        "__Exercise:__ find the number of rows in the resulting dataframe from the `get_per_diem_dataframe` function, for one of the files."
      ]
    },
    {
      "cell_type": "markdown",
      "metadata": {
        "id": "yzCpzAbk422S",
        "colab_type": "text"
      },
      "source": [
        "__Exercise:__ using the pandas `concat` function, union two dataframes produced by the `get_per_diem_dataframe` function (with two files as input).\n",
        "\n",
        "This means the resulting (unioned) dataframe will have the same number of columns and its rows include rows from each dataframe."
      ]
    },
    {
      "cell_type": "markdown",
      "metadata": {
        "id": "PsiW_kOl422W",
        "colab_type": "text"
      },
      "source": [
        "__Exercise:__ the code cell above creates a list of filepaths (one filepath for each spreadsheet in the directory).\n",
        "Use a list comprehension or the `map` function to create a list of dataframes (one for each filepath) using the ` get_per_diem_dataframe` function."
      ]
    },
    {
      "cell_type": "markdown",
      "metadata": {
        "id": "0BghXLVB422W",
        "colab_type": "text"
      },
      "source": [
        "__Exercise:__ create a single dataframe from all of the dataframes (in the list created above) using the pandas `concat` function.\n",
        "This single dataframe should have the same columns as the individual dataframes."
      ]
    },
    {
      "cell_type": "markdown",
      "metadata": {
        "id": "-DeXrIQ5422X",
        "colab_type": "text"
      },
      "source": [
        "__The End__"
      ]
    }
  ]
}