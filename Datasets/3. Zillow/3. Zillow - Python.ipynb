{
  "nbformat": 4,
  "nbformat_minor": 0,
  "metadata": {
    "name": "3. Zillow - Python",
    "notebookId": 900554,
    "colab": {
      "name": "3. Zillow - Python.ipynb",
      "provenance": []
    },
    "kernelspec": {
      "name": "python3",
      "display_name": "Python 3"
    }
  },
  "cells": [
    {
      "cell_type": "markdown",
      "metadata": {
        "id": "EZgyE-Y344bR",
        "colab_type": "text"
      },
      "source": [
        "# Dataset: Zillow"
      ]
    },
    {
      "cell_type": "markdown",
      "metadata": {
        "id": "Hjc-hp1t44bV",
        "colab_type": "text"
      },
      "source": [
        "## Contents\n",
        "1. Setup\n",
        "2. Datafile\n",
        "3. Read using SQL\n",
        "4. Read using `read_csv` from `readr` (R)\n",
        "5. Read using `read_csv` from `pandas` (Python)\n",
        "6. Read using SQL into R and Python"
      ]
    },
    {
      "cell_type": "markdown",
      "metadata": {
        "id": "qlXVWvy244bX",
        "colab_type": "text"
      },
      "source": [
        "## 1. Setup"
      ]
    },
    {
      "cell_type": "code",
      "metadata": {
        "id": "jO4BCYz944bi",
        "colab_type": "code",
        "colab": {}
      },
      "source": [
        "properties_filepath = 'https://github.com/datalab-datasets/zillow-prize/blob/master/properties_2017.csv?raw=true'\n",
        "train_filepath = 'https://github.com/datalab-datasets/zillow-prize/blob/master/train_2017.csv?raw=true'"
      ],
      "execution_count": 0,
      "outputs": []
    },
    {
      "cell_type": "markdown",
      "metadata": {
        "id": "KWxJTVQe44bq",
        "colab_type": "text"
      },
      "source": [
        "## 5. Read using `read_csv` from `pandas` (Python)"
      ]
    },
    {
      "cell_type": "markdown",
      "metadata": {
        "id": "xLetZP0e44br",
        "colab_type": "text"
      },
      "source": [
        "- http://pandas.pydata.org/pandas-docs/version/0.19/generated/pandas.read_csv.html"
      ]
    },
    {
      "cell_type": "code",
      "metadata": {
        "id": "ZP7aD6Ul44bs",
        "colab_type": "code",
        "colab": {
          "base_uri": "https://localhost:8080/",
          "height": 34
        },
        "outputId": "4c9a8045-8fa2-45fc-8dcd-9590eb36654b"
      },
      "source": [
        "import pandas as pd\n",
        "pd.__version__"
      ],
      "execution_count": 5,
      "outputs": [
        {
          "output_type": "execute_result",
          "data": {
            "text/plain": [
              "'0.25.3'"
            ]
          },
          "metadata": {
            "tags": []
          },
          "execution_count": 5
        }
      ]
    },
    {
      "cell_type": "markdown",
      "metadata": {
        "id": "CY83-26nlIhK",
        "colab_type": "text"
      },
      "source": [
        "## Read the properties file"
      ]
    },
    {
      "cell_type": "code",
      "metadata": {
        "id": "oATlyIte44bv",
        "colab_type": "code",
        "colab": {}
      },
      "source": [
        "properties_pdf = \\\n",
        "pd.read_csv(properties_filepath,\n",
        "            low_memory=False) "
      ],
      "execution_count": 0,
      "outputs": []
    },
    {
      "cell_type": "code",
      "metadata": {
        "id": "ZaQuWKrd44bx",
        "colab_type": "code",
        "colab": {
          "base_uri": "https://localhost:8080/",
          "height": 1000
        },
        "outputId": "854113f6-6c1a-42eb-a9b8-1c395d8b9af0"
      },
      "source": [
        "properties_pdf.info()"
      ],
      "execution_count": 8,
      "outputs": [
        {
          "output_type": "stream",
          "text": [
            "<class 'pandas.core.frame.DataFrame'>\n",
            "RangeIndex: 2985217 entries, 0 to 2985216\n",
            "Data columns (total 58 columns):\n",
            "parcelid                        int64\n",
            "airconditioningtypeid           float64\n",
            "architecturalstyletypeid        float64\n",
            "basementsqft                    float64\n",
            "bathroomcnt                     float64\n",
            "bedroomcnt                      float64\n",
            "buildingclasstypeid             float64\n",
            "buildingqualitytypeid           float64\n",
            "calculatedbathnbr               float64\n",
            "decktypeid                      float64\n",
            "finishedfloor1squarefeet        float64\n",
            "calculatedfinishedsquarefeet    float64\n",
            "finishedsquarefeet12            float64\n",
            "finishedsquarefeet13            float64\n",
            "finishedsquarefeet15            float64\n",
            "finishedsquarefeet50            float64\n",
            "finishedsquarefeet6             float64\n",
            "fips                            float64\n",
            "fireplacecnt                    float64\n",
            "fullbathcnt                     float64\n",
            "garagecarcnt                    float64\n",
            "garagetotalsqft                 float64\n",
            "hashottuborspa                  object\n",
            "heatingorsystemtypeid           float64\n",
            "latitude                        float64\n",
            "longitude                       float64\n",
            "lotsizesquarefeet               float64\n",
            "poolcnt                         float64\n",
            "poolsizesum                     float64\n",
            "pooltypeid10                    float64\n",
            "pooltypeid2                     float64\n",
            "pooltypeid7                     float64\n",
            "propertycountylandusecode       object\n",
            "propertylandusetypeid           float64\n",
            "propertyzoningdesc              object\n",
            "rawcensustractandblock          float64\n",
            "regionidcity                    float64\n",
            "regionidcounty                  float64\n",
            "regionidneighborhood            float64\n",
            "regionidzip                     float64\n",
            "roomcnt                         float64\n",
            "storytypeid                     float64\n",
            "threequarterbathnbr             float64\n",
            "typeconstructiontypeid          float64\n",
            "unitcnt                         float64\n",
            "yardbuildingsqft17              float64\n",
            "yardbuildingsqft26              float64\n",
            "yearbuilt                       float64\n",
            "numberofstories                 float64\n",
            "fireplaceflag                   object\n",
            "structuretaxvaluedollarcnt      float64\n",
            "taxvaluedollarcnt               float64\n",
            "assessmentyear                  float64\n",
            "landtaxvaluedollarcnt           float64\n",
            "taxamount                       float64\n",
            "taxdelinquencyflag              object\n",
            "taxdelinquencyyear              float64\n",
            "censustractandblock             float64\n",
            "dtypes: float64(52), int64(1), object(5)\n",
            "memory usage: 1.3+ GB\n"
          ],
          "name": "stdout"
        }
      ]
    },
    {
      "cell_type": "markdown",
      "metadata": {
        "id": "GiMieB6IlM1H",
        "colab_type": "text"
      },
      "source": [
        "## Read the sales file"
      ]
    },
    {
      "cell_type": "code",
      "metadata": {
        "id": "BnAGQVy8ks_y",
        "colab_type": "code",
        "colab": {}
      },
      "source": [
        "train_pdf = \\\n",
        "pd.read_csv(train_filepath) "
      ],
      "execution_count": 0,
      "outputs": []
    },
    {
      "cell_type": "code",
      "metadata": {
        "id": "3UmJvg44k2Qs",
        "colab_type": "code",
        "colab": {
          "base_uri": "https://localhost:8080/",
          "height": 153
        },
        "outputId": "59fb0c98-c884-48d6-d6ca-35cd362af3a5"
      },
      "source": [
        "train_pdf.info()"
      ],
      "execution_count": 10,
      "outputs": [
        {
          "output_type": "stream",
          "text": [
            "<class 'pandas.core.frame.DataFrame'>\n",
            "RangeIndex: 77613 entries, 0 to 77612\n",
            "Data columns (total 3 columns):\n",
            "parcelid           77613 non-null int64\n",
            "logerror           77613 non-null float64\n",
            "transactiondate    77613 non-null object\n",
            "dtypes: float64(1), int64(1), object(1)\n",
            "memory usage: 1.8+ MB\n"
          ],
          "name": "stdout"
        }
      ]
    },
    {
      "cell_type": "markdown",
      "metadata": {
        "id": "WTVPZqiV44b0",
        "colab_type": "text"
      },
      "source": [
        "__The End__"
      ]
    }
  ]
}