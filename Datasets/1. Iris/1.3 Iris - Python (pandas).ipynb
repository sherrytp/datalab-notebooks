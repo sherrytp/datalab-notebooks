{
  "nbformat": 4,
  "nbformat_minor": 0,
  "metadata": {
    "name": "1.3 Iris - Python (pandas)",
    "notebookId": 900201,
    "colab": {
      "name": "1.3 Iris - Python (pandas).ipynb",
      "provenance": []
    },
    "kernelspec": {
      "name": "python3",
      "display_name": "Python 3"
    }
  },
  "cells": [
    {
      "cell_type": "markdown",
      "metadata": {
        "id": "R6ddvHUP42Bg",
        "colab_type": "text"
      },
      "source": [
        "# Read Iris Dataset in Python with pandas"
      ]
    },
    {
      "cell_type": "markdown",
      "metadata": {
        "id": "t9zITUEC42Bl",
        "colab_type": "text"
      },
      "source": [
        "## Introduction\n",
        "This notebook imports the `iris` dataset. This entails:\n",
        "2. Reading the datafile (into a dataframe)\n",
        "3. Checking the datatypes (of each column in the dataframe)\n",
        "4. Setting these datatypes (if they were not initially read correctly)\n",
        "\n",
        "The sections of this notebook (listed below, except the Setup section) correspond to each step. \n",
        "Note that the columns of the Iris dataset are all initially read correctly. \n",
        "Other notebooks require more work to set the column datatypes correctly."
      ]
    },
    {
      "cell_type": "markdown",
      "metadata": {
        "id": "ccGvIGF-42Bn",
        "colab_type": "text"
      },
      "source": [
        "## Contents\n",
        "1. Setup\n",
        "2. Read datafile\n",
        "3. Check column types\n",
        "4. Set column types"
      ]
    },
    {
      "cell_type": "markdown",
      "metadata": {
        "id": "k57oYbKH42Bo",
        "colab_type": "text"
      },
      "source": [
        "## 1. Setup"
      ]
    },
    {
      "cell_type": "code",
      "metadata": {
        "id": "24he2eUI42Bx",
        "colab_type": "code",
        "colab": {}
      },
      "source": [
        "iris_filepath = 'https://raw.githubusercontent.com/datalab-datasets/file-samples/master/iris.csv'"
      ],
      "execution_count": 0,
      "outputs": []
    },
    {
      "cell_type": "markdown",
      "metadata": {
        "id": "4JF1iJyW42B1",
        "colab_type": "text"
      },
      "source": [
        "## 2. Read using `read_csv` from `pandas` (Python)"
      ]
    },
    {
      "cell_type": "markdown",
      "metadata": {
        "id": "7Jrl_iwY42B2",
        "colab_type": "text"
      },
      "source": [
        "The pandas module makes available many functions for work with (including reading) dataframes in Python.\n",
        "In particular, we use the `read_csv` function from the pandas. \n",
        "For details on the function see:\n",
        "- http://pandas.pydata.org/pandas-docs/version/0.19/generated/pandas.read_csv.html\n",
        "\n",
        "Notice the version of pandas used on the cluster."
      ]
    },
    {
      "cell_type": "code",
      "metadata": {
        "id": "BB0N4hdk42B3",
        "colab_type": "code",
        "colab": {
          "base_uri": "https://localhost:8080/",
          "height": 34
        },
        "outputId": "e455f8f8-5331-4d86-e9d8-c91fef676ff1"
      },
      "source": [
        "import pandas as pd\n",
        "pd.__version__"
      ],
      "execution_count": 10,
      "outputs": [
        {
          "output_type": "execute_result",
          "data": {
            "text/plain": [
              "'0.25.3'"
            ]
          },
          "metadata": {
            "tags": []
          },
          "execution_count": 10
        }
      ]
    },
    {
      "cell_type": "markdown",
      "metadata": {
        "id": "0i45FLdL42B6",
        "colab_type": "text"
      },
      "source": [
        "The code cell below uses the `read_csv` function to read the `iris.csv` datafile into a pandas dataframe.\n",
        "\n",
        "The `info()` method is used to display the datatypes of the columns."
      ]
    },
    {
      "cell_type": "code",
      "metadata": {
        "id": "ShrslGrt42B6",
        "colab_type": "code",
        "colab": {
          "base_uri": "https://localhost:8080/",
          "height": 187
        },
        "outputId": "be678f65-748a-432d-8cb3-2f65ae7a4832"
      },
      "source": [
        "import pandas as pd\n",
        "pd.read_csv(iris_filepath) \\\n",
        "  .info()"
      ],
      "execution_count": 11,
      "outputs": [
        {
          "output_type": "stream",
          "text": [
            "<class 'pandas.core.frame.DataFrame'>\n",
            "RangeIndex: 150 entries, 0 to 149\n",
            "Data columns (total 5 columns):\n",
            "SepalLength    150 non-null float64\n",
            "SepalWidth     150 non-null float64\n",
            "PetalLength    150 non-null float64\n",
            "PetalWidth     150 non-null float64\n",
            "Name           150 non-null object\n",
            "dtypes: float64(4), object(1)\n",
            "memory usage: 6.0+ KB\n"
          ],
          "name": "stdout"
        }
      ]
    },
    {
      "cell_type": "markdown",
      "metadata": {
        "id": "M65Xt1Lk42B9",
        "colab_type": "text"
      },
      "source": [
        "Notice that the four numeric columns are all read correctly as type `float64`. \n",
        "\n",
        "The `Name` column though is a categorical variable and should be read as type `category`, not a `object`."
      ]
    },
    {
      "cell_type": "code",
      "metadata": {
        "id": "kfUpUY8v42B-",
        "colab_type": "code",
        "colab": {
          "base_uri": "https://localhost:8080/",
          "height": 187
        },
        "outputId": "e6c15c91-968a-4693-ad81-386f480f3fc1"
      },
      "source": [
        "import pandas as pd\n",
        "pd.read_csv(iris_filepath,\n",
        "            dtype={'Name':'category'}) \\\n",
        "  .info()"
      ],
      "execution_count": 13,
      "outputs": [
        {
          "output_type": "stream",
          "text": [
            "<class 'pandas.core.frame.DataFrame'>\n",
            "RangeIndex: 150 entries, 0 to 149\n",
            "Data columns (total 5 columns):\n",
            "SepalLength    150 non-null float64\n",
            "SepalWidth     150 non-null float64\n",
            "PetalLength    150 non-null float64\n",
            "PetalWidth     150 non-null float64\n",
            "Name           150 non-null category\n",
            "dtypes: category(1), float64(4)\n",
            "memory usage: 5.0 KB\n"
          ],
          "name": "stdout"
        }
      ]
    },
    {
      "cell_type": "markdown",
      "metadata": {
        "id": "dEWoGPzc42CA",
        "colab_type": "text"
      },
      "source": [
        "__The End__"
      ]
    }
  ]
}