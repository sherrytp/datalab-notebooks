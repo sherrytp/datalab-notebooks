{
 "cells": [
  {
   "cell_type": "markdown",
   "metadata": {
    "colab_type": "text",
    "id": "jzP4GUF28ljP"
   },
   "source": [
    "# Comprehensions"
   ]
  },
  {
   "cell_type": "markdown",
   "metadata": {
    "colab_type": "text",
    "id": "resTNLDb8ljR"
   },
   "source": [
    "- http://book.pythontips.com/en/latest/comprehensions.html"
   ]
  },
  {
   "cell_type": "markdown",
   "metadata": {
    "colab_type": "text",
    "id": "LIL_R_L88ljT"
   },
   "source": [
    "## 1. List Comprehensions"
   ]
  },
  {
   "cell_type": "markdown",
   "metadata": {
    "colab_type": "text",
    "id": "ulboV9dx8ljT"
   },
   "source": [
    "List comprehensions might be thought of as an oddly formatted `for` loop inside square brackets that results in a list. \n",
    "\n",
    "First we demonstrate a `for` loop:"
   ]
  },
  {
   "cell_type": "code",
   "execution_count": 1,
   "metadata": {
    "colab": {
     "base_uri": "https://localhost:8080/",
     "height": 35
    },
    "colab_type": "code",
    "id": "HQsMAYBL8ljU",
    "outputId": "2f5b961e-7f2a-4967-b4f4-4e7275852c03"
   },
   "outputs": [
    {
     "data": {
      "text/plain": [
       "[0, 1, 2, 3, 4]"
      ]
     },
     "execution_count": 1,
     "metadata": {},
     "output_type": "execute_result"
    }
   ],
   "source": [
    "list(range(5))"
   ]
  },
  {
   "cell_type": "code",
   "execution_count": 2,
   "metadata": {
    "colab": {
     "base_uri": "https://localhost:8080/",
     "height": 104
    },
    "colab_type": "code",
    "id": "lJy4fo0o8ljY",
    "outputId": "192897c0-8978-4984-e9df-3c5e5a3f4ec3"
   },
   "outputs": [
    {
     "name": "stdout",
     "output_type": "stream",
     "text": [
      "\n",
      "abc\n",
      "abcabc\n",
      "abcabcabc\n",
      "abcabcabcabc\n"
     ]
    }
   ],
   "source": [
    "for number in list(range(5)):\n",
    "  print(number*\"abc\")"
   ]
  },
  {
   "cell_type": "markdown",
   "metadata": {
    "colab_type": "text",
    "id": "G2XWuKCQ8lja"
   },
   "source": [
    "Notice that the loop does not have a return value. It only prints. "
   ]
  },
  {
   "cell_type": "markdown",
   "metadata": {
    "colab_type": "text",
    "id": "Ad3h8DYS8ljb"
   },
   "source": [
    "A list comprehension (see below) does the same work as the command below, but:\n",
    "- it has a return value\n",
    "- it cannot print values"
   ]
  },
  {
   "cell_type": "code",
   "execution_count": 3,
   "metadata": {
    "colab": {
     "base_uri": "https://localhost:8080/",
     "height": 35
    },
    "colab_type": "code",
    "id": "Hzal4wbe8ljc",
    "outputId": "3d22aa07-d328-440f-cf86-c4218230ae38"
   },
   "outputs": [
    {
     "data": {
      "text/plain": [
       "[0, 10, 20, 30, 40]"
      ]
     },
     "execution_count": 3,
     "metadata": {},
     "output_type": "execute_result"
    }
   ],
   "source": [
    "multiples = [item*10 for item in range(5)]\n",
    "multiples"
   ]
  },
  {
   "cell_type": "markdown",
   "metadata": {
    "colab_type": "text",
    "id": "0dKF4Qo08ljf"
   },
   "source": [
    "An `if` clause can be added to return only values that match a specified condition."
   ]
  },
  {
   "cell_type": "code",
   "execution_count": 4,
   "metadata": {
    "colab": {
     "base_uri": "https://localhost:8080/",
     "height": 35
    },
    "colab_type": "code",
    "id": "2YfqtjbI8ljf",
    "outputId": "e7012620-02a4-4520-b9f7-cdf5c1912d0c"
   },
   "outputs": [
    {
     "data": {
      "text/plain": [
       "[0, 20, 40]"
      ]
     },
     "execution_count": 4,
     "metadata": {},
     "output_type": "execute_result"
    }
   ],
   "source": [
    "multiples = [x*10 for x in range(5) if x % 2 == 0]\n",
    "multiples"
   ]
  },
  {
   "cell_type": "markdown",
   "metadata": {
    "colab_type": "text",
    "id": "Zot62a988lji"
   },
   "source": [
    "This operation (returning a list to be stored in a variable) could be accomplished with a `for` loop, but it looks a bit awkward."
   ]
  },
  {
   "cell_type": "code",
   "execution_count": 5,
   "metadata": {
    "colab": {
     "base_uri": "https://localhost:8080/",
     "height": 35
    },
    "colab_type": "code",
    "id": "y9CIEfrz8ljj",
    "outputId": "15246f52-7c73-4029-e506-907ed57bd651"
   },
   "outputs": [
    {
     "data": {
      "text/plain": [
       "[0, 20, 40]"
      ]
     },
     "execution_count": 5,
     "metadata": {},
     "output_type": "execute_result"
    }
   ],
   "source": [
    "y = []\n",
    "for x in range(5):\n",
    "  if x % 2 == 0:\n",
    "    y.append(x*10)\n",
    "y"
   ]
  },
  {
   "cell_type": "markdown",
   "metadata": {
    "colab_type": "text",
    "id": "VghoWXow8ljn"
   },
   "source": [
    "It is better programming practice to use list comprehensions instead of the `append` method."
   ]
  },
  {
   "cell_type": "markdown",
   "metadata": {
    "colab_type": "text",
    "id": "kXgH5ffx8ljo"
   },
   "source": [
    "List comprehensions can be nested."
   ]
  },
  {
   "cell_type": "code",
   "execution_count": 6,
   "metadata": {
    "colab": {
     "base_uri": "https://localhost:8080/",
     "height": 35
    },
    "colab_type": "code",
    "id": "XfTnfl1Q8ljp",
    "outputId": "34ab2e71-1094-4a13-8474-62c0bcfc22a8"
   },
   "outputs": [
    {
     "data": {
      "text/plain": [
       "[10, -10, 20, -20, 30, -30]"
      ]
     },
     "execution_count": 6,
     "metadata": {},
     "output_type": "execute_result"
    }
   ],
   "source": [
    "[10*x*y for x in [1,2,3] for y in [1, -1]]"
   ]
  },
  {
   "cell_type": "markdown",
   "metadata": {
    "colab_type": "text",
    "id": "MHlDUfvR8ljt"
   },
   "source": [
    "Notice that the resulting list contains one element for every combination of `x` in `[1,2,3]` and `y` in `[1, -1]`."
   ]
  },
  {
   "cell_type": "markdown",
   "metadata": {
    "colab_type": "text",
    "id": "MQrBGSCw8ljt"
   },
   "source": [
    "Dictionary and set comprehensions can also be nested. "
   ]
  },
  {
   "cell_type": "code",
   "execution_count": 7,
   "metadata": {
    "colab": {
     "base_uri": "https://localhost:8080/",
     "height": 190
    },
    "colab_type": "code",
    "id": "na9INUE1AC2R",
    "outputId": "ba9eb953-be87-42aa-f3a3-bbd9f15bef2e"
   },
   "outputs": [
    {
     "data": {
      "text/plain": [
       "[(0, ''),\n",
       " (0, ''),\n",
       " (1, 'abc'),\n",
       " (0, ''),\n",
       " (1, 'abc'),\n",
       " (2, 'abcabc'),\n",
       " (0, ''),\n",
       " (1, 'abc'),\n",
       " (2, 'abcabc'),\n",
       " (3, 'abcabcabc')]"
      ]
     },
     "execution_count": 7,
     "metadata": {},
     "output_type": "execute_result"
    }
   ],
   "source": [
    "[\n",
    "    (ndx,'abc'*ndx)\n",
    "    for upper_bound in [1,2,3,4] \n",
    "    for ndx in range(upper_bound)\n",
    "]"
   ]
  },
  {
   "cell_type": "markdown",
   "metadata": {
    "colab_type": "text",
    "id": "_Epi7gvrAz-A"
   },
   "source": [
    "Notice that the for loops in the list comprehension are arranged as you would write them as nested for loops. "
   ]
  },
  {
   "cell_type": "code",
   "execution_count": 8,
   "metadata": {
    "colab": {
     "base_uri": "https://localhost:8080/",
     "height": 190
    },
    "colab_type": "code",
    "id": "J6eknWgpA--J",
    "outputId": "e0f2d214-9a64-407d-9ba8-5cc3d0e26011"
   },
   "outputs": [
    {
     "name": "stdout",
     "output_type": "stream",
     "text": [
      "0 \n",
      "0 \n",
      "1 abc\n",
      "0 \n",
      "1 abc\n",
      "2 abcabc\n",
      "0 \n",
      "1 abc\n",
      "2 abcabc\n",
      "3 abcabcabc\n"
     ]
    }
   ],
   "source": [
    "for upper_bound in [1,2,3,4]:\n",
    "  for ndx in range(upper_bound):\n",
    "    print(ndx,'abc'*ndx)"
   ]
  },
  {
   "cell_type": "markdown",
   "metadata": {
    "colab_type": "text",
    "id": "h-LZe-kd8ljx"
   },
   "source": [
    "## 2. Dictionary Comprehensions"
   ]
  },
  {
   "cell_type": "markdown",
   "metadata": {
    "colab_type": "text",
    "id": "_9RvapNH8lj0"
   },
   "source": [
    "Dictionary comprehensions might be thought of as an oddly formatted `for` loop inside curly brackets that results in a dictionary. \n",
    "   \n",
    "First create a sample dictionary."
   ]
  },
  {
   "cell_type": "code",
   "execution_count": 9,
   "metadata": {
    "colab": {
     "base_uri": "https://localhost:8080/",
     "height": 35
    },
    "colab_type": "code",
    "id": "8vjQEtJm8lj1",
    "outputId": "4510e7ac-0cac-470c-8055-123240d73b19"
   },
   "outputs": [
    {
     "data": {
      "text/plain": [
       "{'a': 1, 'b': 2, 'c': 3, 'd': 4}"
      ]
     },
     "execution_count": 9,
     "metadata": {},
     "output_type": "execute_result"
    }
   ],
   "source": [
    "some_dict = {\"a\":1, \"b\":2, \"c\":3, \"d\":4}\n",
    "some_dict"
   ]
  },
  {
   "cell_type": "markdown",
   "metadata": {
    "colab_type": "text",
    "id": "M6PAPybS8lj5"
   },
   "source": [
    "Recall that the elements of a dictionary are key-value pairs. \n",
    "These pairs can be retrieved with the `items` method."
   ]
  },
  {
   "cell_type": "code",
   "execution_count": 10,
   "metadata": {
    "colab": {
     "base_uri": "https://localhost:8080/",
     "height": 35
    },
    "colab_type": "code",
    "id": "Kr-7QZcM8lj5",
    "outputId": "013c7dae-af14-4128-e776-f6410b32e184"
   },
   "outputs": [
    {
     "data": {
      "text/plain": [
       "dict_items([('a', 1), ('b', 2), ('c', 3), ('d', 4)])"
      ]
     },
     "execution_count": 10,
     "metadata": {},
     "output_type": "execute_result"
    }
   ],
   "source": [
    "some_dict.items()"
   ]
  },
  {
   "cell_type": "markdown",
   "metadata": {
    "colab_type": "text",
    "id": "EKlLApy38lj8"
   },
   "source": [
    "Notice that the `items()` method returns a list of 2-tuples."
   ]
  },
  {
   "cell_type": "markdown",
   "metadata": {
    "colab_type": "text",
    "id": "1vjdivRF8lj9"
   },
   "source": [
    "The `list` function can return this into a familiar list."
   ]
  },
  {
   "cell_type": "code",
   "execution_count": 11,
   "metadata": {
    "colab": {
     "base_uri": "https://localhost:8080/",
     "height": 35
    },
    "colab_type": "code",
    "id": "7BaiS6FU8lj9",
    "outputId": "d2c35c27-94e1-4081-c26b-a6af5001ac32"
   },
   "outputs": [
    {
     "data": {
      "text/plain": [
       "[('a', 1), ('b', 2), ('c', 3), ('d', 4)]"
      ]
     },
     "execution_count": 11,
     "metadata": {},
     "output_type": "execute_result"
    }
   ],
   "source": [
    "list(some_dict.items())"
   ]
  },
  {
   "cell_type": "markdown",
   "metadata": {
    "colab_type": "text",
    "id": "DJb4OTIP8lj_"
   },
   "source": [
    "A dictionary can be created from the 2-tuples returns by the `items` method. \n",
    "\n",
    "The dictionary comprehension created below contains only the key-value pairs where the value is even."
   ]
  },
  {
   "cell_type": "code",
   "execution_count": 12,
   "metadata": {
    "colab": {
     "base_uri": "https://localhost:8080/",
     "height": 35
    },
    "colab_type": "code",
    "id": "XiHt6LDN8lkA",
    "outputId": "192f78ab-8766-41b2-f155-2a98fd733446"
   },
   "outputs": [
    {
     "data": {
      "text/plain": [
       "{'b': 2, 'd': 4}"
      ]
     },
     "execution_count": 12,
     "metadata": {},
     "output_type": "execute_result"
    }
   ],
   "source": [
    "{k:v\n",
    "   for (k, v)\n",
    "   in some_dict.items()\n",
    "   if v % 2 == 0\n",
    "}"
   ]
  },
  {
   "cell_type": "markdown",
   "metadata": {
    "colab_type": "text",
    "id": "sYqllkXL8lkC"
   },
   "source": [
    "Notice that the key and value of the resulting dictionary can be changed."
   ]
  },
  {
   "cell_type": "code",
   "execution_count": 13,
   "metadata": {
    "colab": {
     "base_uri": "https://localhost:8080/",
     "height": 35
    },
    "colab_type": "code",
    "id": "S4P_lcfy8lkD",
    "outputId": "bfbeb151-520b-4384-defb-34ebca1dac50"
   },
   "outputs": [
    {
     "data": {
      "text/plain": [
       "{'b': 20, 'd': 40}"
      ]
     },
     "execution_count": 13,
     "metadata": {},
     "output_type": "execute_result"
    }
   ],
   "source": [
    "{k:10*v\n",
    " for (k, v)\n",
    " in some_dict.items()\n",
    " if v % 2 == 0\n",
    "}"
   ]
  },
  {
   "cell_type": "markdown",
   "metadata": {
    "colab_type": "text",
    "id": "GQNpoOAQ8lkG"
   },
   "source": [
    "Notice,  that the value was changed above and the key is changed below."
   ]
  },
  {
   "cell_type": "code",
   "execution_count": 14,
   "metadata": {
    "colab": {
     "base_uri": "https://localhost:8080/",
     "height": 35
    },
    "colab_type": "code",
    "id": "jpmvMw1C8lkH",
    "outputId": "1872858d-296f-4f0d-8aa4-f27f69b7356b"
   },
   "outputs": [
    {
     "data": {
      "text/plain": [
       "{'aa': 1, 'bb': 2, 'cc': 3, 'dd': 4}"
      ]
     },
     "execution_count": 14,
     "metadata": {},
     "output_type": "execute_result"
    }
   ],
   "source": [
    "{k+k:v\n",
    "   for (k, v)\n",
    "   in some_dict.items()\n",
    "}"
   ]
  },
  {
   "cell_type": "markdown",
   "metadata": {
    "colab_type": "text",
    "id": "gYViTPGq8lkJ"
   },
   "source": [
    "Of course, both can be changed."
   ]
  },
  {
   "cell_type": "code",
   "execution_count": 15,
   "metadata": {
    "colab": {
     "base_uri": "https://localhost:8080/",
     "height": 35
    },
    "colab_type": "code",
    "id": "_zbTViHP8lkJ",
    "outputId": "b8e8708a-2394-4eae-bee7-78bf06850ac7"
   },
   "outputs": [
    {
     "data": {
      "text/plain": [
       "{'aa': 10, 'bb': 20, 'cc': 30, 'dd': 40}"
      ]
     },
     "execution_count": 15,
     "metadata": {},
     "output_type": "execute_result"
    }
   ],
   "source": [
    "{k+k:10*v\n",
    "   for k, v\n",
    "   in some_dict.items()\n",
    "}"
   ]
  },
  {
   "cell_type": "markdown",
   "metadata": {
    "colab_type": "text",
    "id": "VcNh3UM28lkM"
   },
   "source": [
    "## 3. Set Comprehensions"
   ]
  },
  {
   "cell_type": "markdown",
   "metadata": {
    "colab_type": "text",
    "id": "1rbnaJAF8lkM"
   },
   "source": [
    "A set comprehension looks like a dictionary comprehension, but does not include a value.\n",
    "\n",
    "For this reason it will not contain duplicates."
   ]
  },
  {
   "cell_type": "code",
   "execution_count": 16,
   "metadata": {
    "colab": {
     "base_uri": "https://localhost:8080/",
     "height": 35
    },
    "colab_type": "code",
    "id": "gf7h5x1Y8lkO",
    "outputId": "6fb5f9e5-11c9-4c40-a69c-51d75bf163d3"
   },
   "outputs": [
    {
     "data": {
      "text/plain": [
       "{1, 4}"
      ]
     },
     "execution_count": 16,
     "metadata": {},
     "output_type": "execute_result"
    }
   ],
   "source": [
    "squared = {x**2  for x in [-1, 1, 2]}\n",
    "squared"
   ]
  },
  {
   "cell_type": "code",
   "execution_count": 17,
   "metadata": {
    "colab": {
     "base_uri": "https://localhost:8080/",
     "height": 35
    },
    "colab_type": "code",
    "id": "bhJ2yzQh8lkS",
    "outputId": "0e26636f-3d1f-4945-8d2f-5b82bac680c7"
   },
   "outputs": [
    {
     "data": {
      "text/plain": [
       "{(3, 0), (3, 1), (4, 0), (4, 1)}"
      ]
     },
     "execution_count": 17,
     "metadata": {},
     "output_type": "execute_result"
    }
   ],
   "source": [
    "{(m, n) for n in range(2) for m in range(3, 5)}"
   ]
  },
  {
   "cell_type": "markdown",
   "metadata": {
    "colab_type": "text",
    "id": "uqlWnhzw8lkU"
   },
   "source": [
    "Notice that set comprehensions do not have duplicates."
   ]
  },
  {
   "cell_type": "markdown",
   "metadata": {
    "colab_type": "text",
    "id": "OUs3xjFT8lkW"
   },
   "source": [
    "__The End__"
   ]
  }
 ],
 "metadata": {
  "colab": {
   "name": "3.2 Comprehensions.ipynb",
   "provenance": [],
   "version": "0.3.2"
  },
  "kernelspec": {
   "display_name": "Python 3",
   "language": "python",
   "name": "python3"
  },
  "language_info": {
   "codemirror_mode": {
    "name": "ipython",
    "version": 3
   },
   "file_extension": ".py",
   "mimetype": "text/x-python",
   "name": "python",
   "nbconvert_exporter": "python",
   "pygments_lexer": "ipython3",
   "version": "3.7.3"
  },
  "name": "3.2 Comprehensions",
  "notebookId": 90595
 },
 "nbformat": 4,
 "nbformat_minor": 1
}
