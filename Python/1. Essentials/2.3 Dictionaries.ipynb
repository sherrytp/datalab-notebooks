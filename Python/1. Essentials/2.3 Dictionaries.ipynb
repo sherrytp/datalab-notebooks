{
 "cells": [
  {
   "cell_type": "markdown",
   "metadata": {
    "colab_type": "text",
    "id": "CNR9e-gL8kaf"
   },
   "source": [
    "# Python Dictionaries"
   ]
  },
  {
   "cell_type": "markdown",
   "metadata": {
    "colab_type": "text",
    "id": "pevoNnch8kah"
   },
   "source": [
    "## Table of Contents\n",
    "\n",
    "1. Creating Dictionaries\n",
    "1. Accessing Dictionaries\n",
    "1. Manipulating Dictionaries\n",
    "1. Operations on Dictionaries"
   ]
  },
  {
   "cell_type": "markdown",
   "metadata": {
    "colab_type": "text",
    "id": "48XIxh6F8kai"
   },
   "source": [
    "## Creating Dictionaries"
   ]
  },
  {
   "cell_type": "markdown",
   "metadata": {
    "colab_type": "text",
    "id": "jjmfhIry8kaj"
   },
   "source": [
    "Dictionaries are collections of _key_-_value_ pairs separated by commas and enclosed in braces. \n",
    "\n",
    "Below the keys are the country names and the values are the city names."
   ]
  },
  {
   "cell_type": "code",
   "execution_count": 1,
   "metadata": {
    "colab": {},
    "colab_type": "code",
    "id": "vkY8j8Ls8kaj"
   },
   "outputs": [],
   "source": [
    "europe_cities = {'spain'  :['madrid', 'barcelona', 'seville', 'valencia'], \n",
    "                 'france' :['paris', 'marseille', 'bordeaux'], \n",
    "                 'germany':['berlin', 'munich'], \n",
    "                 'norway' :['oslo'] }"
   ]
  },
  {
   "cell_type": "code",
   "execution_count": 2,
   "metadata": {
    "colab": {},
    "colab_type": "code",
    "id": "eg4itnau8kan"
   },
   "outputs": [],
   "source": [
    "europe_cap_pop = {'spain'  : { 'capital':'madrid' , 'population':46.77 },\n",
    "                  'france' : { 'capital':'paris'  , 'population':66.03 },\n",
    "                  'germany': { 'capital':'berlin' , 'population':80.62 },\n",
    "                  'norway' : { 'capital':'oslo'   , 'population': 5.84 } }"
   ]
  },
  {
   "cell_type": "markdown",
   "metadata": {
    "colab_type": "text",
    "id": "OHK51pdh8kaq"
   },
   "source": [
    "## Accessing Dictionaries"
   ]
  },
  {
   "cell_type": "code",
   "execution_count": 3,
   "metadata": {
    "colab": {
     "base_uri": "https://localhost:8080/",
     "height": 35
    },
    "colab_type": "code",
    "id": "EGSkbpb98kaq",
    "outputId": "4df949a9-b2a4-4aa0-c4c1-bebe8e889e45"
   },
   "outputs": [
    {
     "data": {
      "text/plain": [
       "['berlin', 'munich']"
      ]
     },
     "execution_count": 3,
     "metadata": {},
     "output_type": "execute_result"
    }
   ],
   "source": [
    "europe_cities['germany']"
   ]
  },
  {
   "cell_type": "code",
   "execution_count": 4,
   "metadata": {
    "colab": {
     "base_uri": "https://localhost:8080/",
     "height": 35
    },
    "colab_type": "code",
    "id": "2YC7OyWU8kas",
    "outputId": "cabde226-3d39-4342-c3fb-2e488bfe9c11"
   },
   "outputs": [
    {
     "data": {
      "text/plain": [
       "{'capital': 'berlin', 'population': 80.62}"
      ]
     },
     "execution_count": 4,
     "metadata": {},
     "output_type": "execute_result"
    }
   ],
   "source": [
    "europe_cap_pop['germany']"
   ]
  },
  {
   "cell_type": "code",
   "execution_count": 5,
   "metadata": {
    "colab": {
     "base_uri": "https://localhost:8080/",
     "height": 35
    },
    "colab_type": "code",
    "id": "wX7q88So8kau",
    "outputId": "c353f877-36dd-4c95-a106-b9b8bdac7064"
   },
   "outputs": [
    {
     "data": {
      "text/plain": [
       "'berlin'"
      ]
     },
     "execution_count": 5,
     "metadata": {},
     "output_type": "execute_result"
    }
   ],
   "source": [
    "europe_cap_pop['germany']['capital']"
   ]
  },
  {
   "cell_type": "markdown",
   "metadata": {
    "colab_type": "text",
    "id": "OElp0uYE8kax"
   },
   "source": [
    "__Exercise__: Using the dictionaries created above:\n",
    "- Retrieve the second city listed for Spain in `europe_cities`.\n",
    "- Retrieve the last city listed in `europe_cities` for France. Use the `-1` index.\n",
    "- Retrieve the capital of Norway from `europe_cap_pop`."
   ]
  },
  {
   "cell_type": "markdown",
   "metadata": {
    "colab_type": "text",
    "id": "_cniViQz8kax"
   },
   "source": [
    "## Manipulating Dictionaries"
   ]
  },
  {
   "cell_type": "code",
   "execution_count": 6,
   "metadata": {
    "colab": {},
    "colab_type": "code",
    "id": "PWQWYLli8kay"
   },
   "outputs": [],
   "source": [
    "europe_cities = {'spain'  :['madrid', 'barcelona', 'seville', 'valencia'], \n",
    "                 'france' :['paris', 'marseille', 'bordeaux'], \n",
    "                 'germany':['berlin', 'munich'], \n",
    "                 'norway' :['oslo'] }"
   ]
  },
  {
   "cell_type": "markdown",
   "metadata": {
    "colab_type": "text",
    "id": "wAbOdAA-8ka0"
   },
   "source": [
    "Add a new key-value pair to a dictionary."
   ]
  },
  {
   "cell_type": "code",
   "execution_count": 7,
   "metadata": {
    "colab": {
     "base_uri": "https://localhost:8080/",
     "height": 104
    },
    "colab_type": "code",
    "id": "1GFGsvO48ka0",
    "outputId": "a0a6adda-1805-4c6f-df7a-8bb205330270"
   },
   "outputs": [
    {
     "data": {
      "text/plain": [
       "{'spain': ['madrid', 'barcelona', 'seville', 'valencia'],\n",
       " 'france': ['paris', 'marseille', 'bordeaux'],\n",
       " 'germany': ['berlin', 'munich'],\n",
       " 'norway': ['oslo'],\n",
       " 'italy': ['genoa']}"
      ]
     },
     "execution_count": 7,
     "metadata": {},
     "output_type": "execute_result"
    }
   ],
   "source": [
    "europe_cities['italy'] = ['genoa']\n",
    "europe_cities"
   ]
  },
  {
   "cell_type": "markdown",
   "metadata": {
    "colab_type": "text",
    "id": "_bFe-Tv78ka3"
   },
   "source": [
    "Append a string to the list stored as a value of a key."
   ]
  },
  {
   "cell_type": "code",
   "execution_count": 8,
   "metadata": {
    "colab": {
     "base_uri": "https://localhost:8080/",
     "height": 104
    },
    "colab_type": "code",
    "id": "rvqpZeK58ka4",
    "outputId": "c5e512fe-4e42-4f9c-c5ed-b8b870dc9d47"
   },
   "outputs": [
    {
     "data": {
      "text/plain": [
       "{'spain': ['madrid', 'barcelona', 'seville', 'valencia'],\n",
       " 'france': ['paris', 'marseille', 'bordeaux'],\n",
       " 'germany': ['berlin', 'munich'],\n",
       " 'norway': ['oslo', 'bergen'],\n",
       " 'italy': ['genoa']}"
      ]
     },
     "execution_count": 8,
     "metadata": {},
     "output_type": "execute_result"
    }
   ],
   "source": [
    "europe_cities['norway'].append('bergen')\n",
    "europe_cities"
   ]
  },
  {
   "cell_type": "markdown",
   "metadata": {
    "colab_type": "text",
    "id": "Ejh2-N1f8ka6"
   },
   "source": [
    "## Methods of Dictionaries"
   ]
  },
  {
   "cell_type": "markdown",
   "metadata": {
    "colab_type": "text",
    "id": "R4GTp5Mo8ka8"
   },
   "source": [
    "There are three basic methods used with dictionaries:\n",
    "1. `keys` which returns the keys of all key-value pairs\n",
    "1. `values` which returns the values of all key-value pairs\n",
    "1. `items` which returns the all key-value pairs as tuples\n",
    "1. `get` which when passed a key return the corresponding value"
   ]
  },
  {
   "cell_type": "markdown",
   "metadata": {
    "colab_type": "text",
    "id": "_1UIBcOf8ka8"
   },
   "source": [
    "The `keys()` method returns a list  containing the key names of the input dictionary."
   ]
  },
  {
   "cell_type": "code",
   "execution_count": 9,
   "metadata": {
    "colab": {
     "base_uri": "https://localhost:8080/",
     "height": 35
    },
    "colab_type": "code",
    "id": "0cCSuqU98ka9",
    "outputId": "8c72559f-5cae-45ea-e32d-23837a08b322"
   },
   "outputs": [
    {
     "data": {
      "text/plain": [
       "dict_keys(['a', 'b'])"
      ]
     },
     "execution_count": 9,
     "metadata": {},
     "output_type": "execute_result"
    }
   ],
   "source": [
    "{'a':1, 'b':2}.keys()"
   ]
  },
  {
   "cell_type": "code",
   "execution_count": 10,
   "metadata": {
    "colab": {
     "base_uri": "https://localhost:8080/",
     "height": 35
    },
    "colab_type": "code",
    "id": "qm5WvxPk8ka_",
    "outputId": "4aa42030-85bb-4f73-d75a-498298645281"
   },
   "outputs": [
    {
     "data": {
      "text/plain": [
       "dict_keys(['spain', 'france', 'germany', 'norway', 'italy'])"
      ]
     },
     "execution_count": 10,
     "metadata": {},
     "output_type": "execute_result"
    }
   ],
   "source": [
    "europe_cities.keys()"
   ]
  },
  {
   "cell_type": "code",
   "execution_count": 11,
   "metadata": {
    "colab": {
     "base_uri": "https://localhost:8080/",
     "height": 35
    },
    "colab_type": "code",
    "id": "YHX6mIKM9Y7T",
    "outputId": "0fb58cfc-cfd7-40ef-e03d-08b2548ac03a"
   },
   "outputs": [
    {
     "data": {
      "text/plain": [
       "dict_values([1, 2])"
      ]
     },
     "execution_count": 11,
     "metadata": {},
     "output_type": "execute_result"
    }
   ],
   "source": [
    "{'a':1, 'b':2}.values()"
   ]
  },
  {
   "cell_type": "code",
   "execution_count": 12,
   "metadata": {
    "colab": {
     "base_uri": "https://localhost:8080/",
     "height": 55
    },
    "colab_type": "code",
    "id": "iEM0Ttyu9fM_",
    "outputId": "8b8fc1d5-c8fe-45f3-ab87-c3e3883840da"
   },
   "outputs": [
    {
     "data": {
      "text/plain": [
       "dict_values([['madrid', 'barcelona', 'seville', 'valencia'], ['paris', 'marseille', 'bordeaux'], ['berlin', 'munich'], ['oslo', 'bergen'], ['genoa']])"
      ]
     },
     "execution_count": 12,
     "metadata": {},
     "output_type": "execute_result"
    }
   ],
   "source": [
    "europe_cities.values()"
   ]
  },
  {
   "cell_type": "markdown",
   "metadata": {
    "colab_type": "text",
    "id": "dxby4G498kbA"
   },
   "source": [
    "The `items()` method returns a list of tuples where each tuple contains the key name and its value."
   ]
  },
  {
   "cell_type": "code",
   "execution_count": 13,
   "metadata": {
    "colab": {
     "base_uri": "https://localhost:8080/",
     "height": 35
    },
    "colab_type": "code",
    "id": "mFFSiWBB8kbB",
    "outputId": "ccbc5288-dc3c-44ec-ede3-9a589b9d1d32"
   },
   "outputs": [
    {
     "data": {
      "text/plain": [
       "dict_items([('a', 1), ('b', 2), ('c', 3)])"
      ]
     },
     "execution_count": 13,
     "metadata": {},
     "output_type": "execute_result"
    }
   ],
   "source": [
    "{'a':1, 'b':2, 'c':3}.items()"
   ]
  },
  {
   "cell_type": "code",
   "execution_count": 14,
   "metadata": {
    "colab": {
     "base_uri": "https://localhost:8080/",
     "height": 55
    },
    "colab_type": "code",
    "id": "0We_gZme8kbD",
    "outputId": "0fcd3f5b-d7dd-42ab-d809-c0ac8f1291b5"
   },
   "outputs": [
    {
     "data": {
      "text/plain": [
       "dict_items([('spain', ['madrid', 'barcelona', 'seville', 'valencia']), ('france', ['paris', 'marseille', 'bordeaux']), ('germany', ['berlin', 'munich']), ('norway', ['oslo', 'bergen']), ('italy', ['genoa'])])"
      ]
     },
     "execution_count": 14,
     "metadata": {},
     "output_type": "execute_result"
    }
   ],
   "source": [
    "europe_cities.items()"
   ]
  },
  {
   "cell_type": "markdown",
   "metadata": {
    "colab_type": "text",
    "id": "ozdOvA3I8kbF"
   },
   "source": [
    "These `dict_items` can be transformed into a list."
   ]
  },
  {
   "cell_type": "code",
   "execution_count": 15,
   "metadata": {
    "colab": {
     "base_uri": "https://localhost:8080/",
     "height": 35
    },
    "colab_type": "code",
    "id": "8pyh7N8D8kbF",
    "outputId": "6ddec6e9-4e43-4a87-ad18-ba93ef227b18"
   },
   "outputs": [
    {
     "data": {
      "text/plain": [
       "[('a', 1), ('b', 2)]"
      ]
     },
     "execution_count": 15,
     "metadata": {},
     "output_type": "execute_result"
    }
   ],
   "source": [
    "list({'a':1, 'b':2}.items())"
   ]
  },
  {
   "cell_type": "markdown",
   "metadata": {
    "colab_type": "text",
    "id": "aAI58GiT8kbH"
   },
   "source": [
    "The `get()` method returns the value of the key given as input (to the method.)"
   ]
  },
  {
   "cell_type": "code",
   "execution_count": 16,
   "metadata": {
    "colab": {
     "base_uri": "https://localhost:8080/",
     "height": 35
    },
    "colab_type": "code",
    "id": "WfOI0Geb8kbI",
    "outputId": "fc08a08a-3efe-42a8-b88f-f5a7c58b6858"
   },
   "outputs": [
    {
     "data": {
      "text/plain": [
       "2"
      ]
     },
     "execution_count": 16,
     "metadata": {},
     "output_type": "execute_result"
    }
   ],
   "source": [
    "{'a':1, 'b':2}.get('b')"
   ]
  },
  {
   "cell_type": "code",
   "execution_count": 17,
   "metadata": {
    "colab": {},
    "colab_type": "code",
    "id": "0zxuTZWm8kbJ"
   },
   "outputs": [],
   "source": [
    "{'a':1, 'b':2}.get('c')"
   ]
  },
  {
   "cell_type": "markdown",
   "metadata": {
    "colab_type": "text",
    "id": "khxSQou28kbM"
   },
   "source": [
    "Below the `get` method attempts to retrieve the value of a key that is not present. \n",
    "\n",
    "In this case the second parameter is returned."
   ]
  },
  {
   "cell_type": "code",
   "execution_count": 18,
   "metadata": {
    "colab": {
     "base_uri": "https://localhost:8080/",
     "height": 35
    },
    "colab_type": "code",
    "id": "OivPOGiN8kbN",
    "outputId": "81d544bc-74b5-437d-fabb-ee452ef4e355"
   },
   "outputs": [
    {
     "data": {
      "text/plain": [
       "'NA'"
      ]
     },
     "execution_count": 18,
     "metadata": {},
     "output_type": "execute_result"
    }
   ],
   "source": [
    "{'a':1, 'b':2}.get('z',\"NA\")"
   ]
  },
  {
   "cell_type": "markdown",
   "metadata": {
    "colab_type": "text",
    "id": "HzlZsWtT8kbP"
   },
   "source": [
    "__The End__"
   ]
  }
 ],
 "metadata": {
  "colab": {
   "name": "2.3 Dictionaries.ipynb",
   "provenance": [],
   "version": "0.3.2"
  },
  "kernelspec": {
   "display_name": "Python 3",
   "language": "python",
   "name": "python3"
  },
  "language_info": {
   "codemirror_mode": {
    "name": "ipython",
    "version": 3
   },
   "file_extension": ".py",
   "mimetype": "text/x-python",
   "name": "python",
   "nbconvert_exporter": "python",
   "pygments_lexer": "ipython3",
   "version": "3.7.3"
  },
  "name": "2.3 Dictionaries",
  "notebookId": 90420
 },
 "nbformat": 4,
 "nbformat_minor": 1
}
