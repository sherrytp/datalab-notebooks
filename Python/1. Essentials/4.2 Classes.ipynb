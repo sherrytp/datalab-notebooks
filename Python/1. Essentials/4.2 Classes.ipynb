{
 "cells": [
  {
   "cell_type": "markdown",
   "metadata": {
    "colab_type": "text",
    "id": "YC6Izqdnnm2x"
   },
   "source": [
    "# Python Classes"
   ]
  },
  {
   "cell_type": "markdown",
   "metadata": {
    "colab_type": "text",
    "id": "Je4VnTcvnm21"
   },
   "source": [
    "## Contents\n",
    "1. Defining classes\n",
    "1. Creating objects\n",
    "1. Example: class `Temperature`"
   ]
  },
  {
   "cell_type": "markdown",
   "metadata": {
    "colab_type": "text",
    "id": "X1PTrhW8nm22"
   },
   "source": [
    "Check that we are running Python 3."
   ]
  },
  {
   "cell_type": "code",
   "execution_count": 1,
   "metadata": {
    "colab": {
     "base_uri": "https://localhost:8080/",
     "height": 35
    },
    "colab_type": "code",
    "id": "EoBhGwpenm23",
    "outputId": "8bac9d44-94d7-45d7-a8c7-88a493708c2c"
   },
   "outputs": [
    {
     "data": {
      "text/plain": [
       "'3.7.3 (default, Mar 27 2019, 16:54:48) \\n[Clang 4.0.1 (tags/RELEASE_401/final)]'"
      ]
     },
     "execution_count": 1,
     "metadata": {},
     "output_type": "execute_result"
    }
   ],
   "source": [
    "import sys\n",
    "sys.version"
   ]
  },
  {
   "cell_type": "markdown",
   "metadata": {
    "colab_type": "text",
    "id": "dAYONer-nm28"
   },
   "source": [
    "## 1. Defining classes"
   ]
  },
  {
   "cell_type": "markdown",
   "metadata": {
    "colab_type": "text",
    "id": "EXSjxhmvnm29"
   },
   "source": [
    "Classes are templates for creating objects. These objects (also called instances) have _attributes_ and _methods_:\n",
    "- Attributes are variables that are defined in the class\n",
    "- Methods are functions that are defined in the class\n",
    "\n",
    "See the `Objects` notebook for more on attributes and methods.\n",
    "\n",
    "Every class/object has a special method (a \"constructor\") which is called when the object is created. When you define a class this method is named `__init__`. It is used to set the _initial_ values of the object's attributes and provides the parameters of the classes _constructor_."
   ]
  },
  {
   "cell_type": "markdown",
   "metadata": {
    "colab_type": "text",
    "id": "0dAft4Ldnm2-"
   },
   "source": [
    "The example below creates a simple class with:\n",
    "- a constructor that takes a single argument `name`\n",
    "- a single attribute, also called `name`, but referred to as `self.name`\n",
    "- a method, called `greet_dog`, which returns a string and increments a counter"
   ]
  },
  {
   "cell_type": "code",
   "execution_count": 2,
   "metadata": {
    "colab": {},
    "colab_type": "code",
    "id": "wDeCSx8Snm2_"
   },
   "outputs": [],
   "source": [
    "class Dog:\n",
    "    def __init__(self, name='Fido'):\n",
    "        self.name  = name  \n",
    "        self.count = 0 \n",
    "    def greet_dog(self, salutation='Hi'):\n",
    "        self.count = self.count + 1\n",
    "        return f'{salutation}, {self.name}'"
   ]
  },
  {
   "cell_type": "markdown",
   "metadata": {
    "colab_type": "text",
    "id": "gMOCGRIynm3B"
   },
   "source": [
    "## 2. Creating objects"
   ]
  },
  {
   "cell_type": "markdown",
   "metadata": {
    "colab_type": "text",
    "id": "ZJ6YU6Yznm3C"
   },
   "source": [
    "The class name is used to create an object (of class `Dog`) and run the `__init__` function. \n",
    "\n",
    "The `name` parameter is set to `'Fido'` when the `Dog` object is created below. \n",
    "This object is stored in variable `f`.\n",
    "\n",
    "Notice the value of the `name` attribute."
   ]
  },
  {
   "cell_type": "code",
   "execution_count": 3,
   "metadata": {
    "colab": {
     "base_uri": "https://localhost:8080/",
     "height": 35
    },
    "colab_type": "code",
    "id": "NWrwx7vVnm3D",
    "outputId": "53c5f1b6-ca8e-420c-d714-dbe8d2f2c2d9"
   },
   "outputs": [
    {
     "data": {
      "text/plain": [
       "(<__main__.Dog at 0x1115781d0>, 'Rose', 0)"
      ]
     },
     "execution_count": 3,
     "metadata": {},
     "output_type": "execute_result"
    }
   ],
   "source": [
    "b = Dog('Rose')\n",
    "b, b.name, b.count"
   ]
  },
  {
   "cell_type": "code",
   "execution_count": 4,
   "metadata": {
    "colab": {
     "base_uri": "https://localhost:8080/",
     "height": 35
    },
    "colab_type": "code",
    "id": "no5XysYjnm3G",
    "outputId": "f802c7dd-893d-4e2c-b6ee-5160a3c2e58f"
   },
   "outputs": [
    {
     "data": {
      "text/plain": [
       "(<__main__.Dog at 0x1115786a0>, 'Lily', 0)"
      ]
     },
     "execution_count": 4,
     "metadata": {},
     "output_type": "execute_result"
    }
   ],
   "source": [
    "a = Dog('Lily')\n",
    "a, a.name, a.count"
   ]
  },
  {
   "cell_type": "code",
   "execution_count": 5,
   "metadata": {
    "colab": {
     "base_uri": "https://localhost:8080/",
     "height": 35
    },
    "colab_type": "code",
    "id": "33PXujiqnm3J",
    "outputId": "49d78101-fbab-439c-d978-aefaf8a20f98"
   },
   "outputs": [
    {
     "data": {
      "text/plain": [
       "\"G'day, Lily\""
      ]
     },
     "execution_count": 5,
     "metadata": {},
     "output_type": "execute_result"
    }
   ],
   "source": [
    "a.greet_dog(\"G'day\")"
   ]
  },
  {
   "cell_type": "code",
   "execution_count": 6,
   "metadata": {
    "colab": {
     "base_uri": "https://localhost:8080/",
     "height": 35
    },
    "colab_type": "code",
    "id": "hzEpmIpfnm3L",
    "outputId": "c152f455-6d81-4beb-bd88-313ebbfc852b"
   },
   "outputs": [
    {
     "data": {
      "text/plain": [
       "'Hello, Lily'"
      ]
     },
     "execution_count": 6,
     "metadata": {},
     "output_type": "execute_result"
    }
   ],
   "source": [
    "a.greet_dog(\"Hello\")"
   ]
  },
  {
   "cell_type": "code",
   "execution_count": 7,
   "metadata": {
    "colab": {
     "base_uri": "https://localhost:8080/",
     "height": 35
    },
    "colab_type": "code",
    "id": "hOHcDCRVnm3O",
    "outputId": "2c14130f-5ea2-493d-f177-248fcd6cb969"
   },
   "outputs": [
    {
     "data": {
      "text/plain": [
       "2"
      ]
     },
     "execution_count": 7,
     "metadata": {},
     "output_type": "execute_result"
    }
   ],
   "source": [
    "a.count"
   ]
  },
  {
   "cell_type": "markdown",
   "metadata": {
    "colab_type": "text",
    "id": "NI9M0afOnm3R"
   },
   "source": [
    "## 3. Example: class `Temperature`"
   ]
  },
  {
   "cell_type": "markdown",
   "metadata": {
    "colab_type": "text",
    "id": "_l2Bzit0nm3T"
   },
   "source": [
    "The `Temperature` class has an `__init__` method that has two parameters. \n",
    "The second has a default value and so is optional. It is a considered \"best practice\" to supply default values for all parameters of the init method.\n",
    "\n",
    "The `set_temp` method sets the `temp` attribute of the object and returns the object itself. \n",
    "\n",
    "The `get_temp` and `get_units` methods return values."
   ]
  },
  {
   "cell_type": "code",
   "execution_count": 8,
   "metadata": {
    "colab": {},
    "colab_type": "code",
    "id": "CpkksOXSnm3U"
   },
   "outputs": [],
   "source": [
    "class Temperature:\n",
    "\n",
    "    def __init__(self, temp, units='Celsius'):\n",
    "        self.temp  = temp\n",
    "        self.units = units\n",
    "        \n",
    "    def set_temp(self,temp):\n",
    "        self.temp = temp\n",
    "        return self\n",
    "      \n",
    "    def get_temp(self):\n",
    "        return self.temp\n",
    "      \n",
    "    def get_units(self):\n",
    "        return self.units"
   ]
  },
  {
   "cell_type": "code",
   "execution_count": 9,
   "metadata": {
    "colab": {
     "base_uri": "https://localhost:8080/",
     "height": 35
    },
    "colab_type": "code",
    "id": "aD4M9-jznm3X",
    "outputId": "ae6059f5-f1de-4c52-8054-e2378fac3238"
   },
   "outputs": [
    {
     "data": {
      "text/plain": [
       "<__main__.Temperature at 0x1115554a8>"
      ]
     },
     "execution_count": 9,
     "metadata": {},
     "output_type": "execute_result"
    }
   ],
   "source": [
    "t1 = Temperature(36.0)\n",
    "t1"
   ]
  },
  {
   "cell_type": "code",
   "execution_count": 10,
   "metadata": {
    "colab": {
     "base_uri": "https://localhost:8080/",
     "height": 35
    },
    "colab_type": "code",
    "id": "6few3y3knm3a",
    "outputId": "fba53966-5b05-4bf8-d62f-97dc4d71eccf"
   },
   "outputs": [
    {
     "data": {
      "text/plain": [
       "(36.0, 'Celsius')"
      ]
     },
     "execution_count": 10,
     "metadata": {},
     "output_type": "execute_result"
    }
   ],
   "source": [
    "t1.get_temp(), t1.get_units()"
   ]
  },
  {
   "cell_type": "markdown",
   "metadata": {
    "colab_type": "text",
    "id": "TP5xy8panm3c"
   },
   "source": [
    "Create another instance `t2` of the `Temperature` class."
   ]
  },
  {
   "cell_type": "code",
   "execution_count": 11,
   "metadata": {
    "colab": {
     "base_uri": "https://localhost:8080/",
     "height": 35
    },
    "colab_type": "code",
    "id": "8w3If2uUnm3d",
    "outputId": "a914abb6-5c7e-44f8-bbf9-6076714e7b5f"
   },
   "outputs": [
    {
     "data": {
      "text/plain": [
       "(60, 'Celsius', <__main__.Temperature at 0x11159f5c0>)"
      ]
     },
     "execution_count": 11,
     "metadata": {},
     "output_type": "execute_result"
    }
   ],
   "source": [
    "t2 = Temperature(60)\n",
    "t2.get_temp(), t2.get_units(), t2"
   ]
  },
  {
   "cell_type": "markdown",
   "metadata": {
    "colab_type": "text",
    "id": "JnDx9lwNnm3f"
   },
   "source": [
    "Notice that the temperature is different in the different objects (`t1` and `t2`)."
   ]
  },
  {
   "cell_type": "code",
   "execution_count": 12,
   "metadata": {
    "colab": {
     "base_uri": "https://localhost:8080/",
     "height": 35
    },
    "colab_type": "code",
    "id": "1zOWBVUCOABO",
    "outputId": "3a229f64-825c-4276-eeb7-f1e3e6b8cf77"
   },
   "outputs": [
    {
     "data": {
      "text/plain": [
       "(36.0, 60)"
      ]
     },
     "execution_count": 12,
     "metadata": {},
     "output_type": "execute_result"
    }
   ],
   "source": [
    "t1.temp, t2.temp"
   ]
  },
  {
   "cell_type": "markdown",
   "metadata": {
    "colab_type": "text",
    "id": "jsxDkqd6nm3f"
   },
   "source": [
    "Access the `units` attribute of the object `a` using dot notation."
   ]
  },
  {
   "cell_type": "code",
   "execution_count": 13,
   "metadata": {
    "colab": {
     "base_uri": "https://localhost:8080/",
     "height": 35
    },
    "colab_type": "code",
    "id": "zpbvnSYbnm3g",
    "outputId": "1044c35f-5f5c-45a6-b96b-0b981d85b7ab"
   },
   "outputs": [
    {
     "data": {
      "text/plain": [
       "'Celsius'"
      ]
     },
     "execution_count": 13,
     "metadata": {},
     "output_type": "execute_result"
    }
   ],
   "source": [
    "t2.units"
   ]
  },
  {
   "cell_type": "markdown",
   "metadata": {
    "colab_type": "text",
    "id": "8oPcmt3Dnm3p"
   },
   "source": [
    "The `set_temp` method sets the `temp` attribute of the object and returns the object itself."
   ]
  },
  {
   "cell_type": "code",
   "execution_count": 14,
   "metadata": {
    "colab": {
     "base_uri": "https://localhost:8080/",
     "height": 35
    },
    "colab_type": "code",
    "id": "hmJeCGeInm3q",
    "outputId": "26d0a8d7-8b83-41b4-858b-9ad81ff535b5"
   },
   "outputs": [
    {
     "data": {
      "text/plain": [
       "(<__main__.Temperature at 0x11159f5c0>, 40)"
      ]
     },
     "execution_count": 14,
     "metadata": {},
     "output_type": "execute_result"
    }
   ],
   "source": [
    "t2.set_temp(40), t2.get_temp()"
   ]
  },
  {
   "cell_type": "code",
   "execution_count": 15,
   "metadata": {
    "colab": {
     "base_uri": "https://localhost:8080/",
     "height": 35
    },
    "colab_type": "code",
    "id": "Wv8YZkyNnm3t",
    "outputId": "c3be9450-b76d-44b4-c589-1dd3a042fca3"
   },
   "outputs": [
    {
     "data": {
      "text/plain": [
       "50"
      ]
     },
     "execution_count": 15,
     "metadata": {},
     "output_type": "execute_result"
    }
   ],
   "source": [
    "t2.set_temp(50).get_temp()"
   ]
  },
  {
   "cell_type": "markdown",
   "metadata": {
    "colab_type": "text",
    "id": "JTJA1sE9nm3v"
   },
   "source": [
    "## 4. Exercises "
   ]
  },
  {
   "cell_type": "markdown",
   "metadata": {
    "colab_type": "text",
    "id": "AzyIppvWnm3w"
   },
   "source": [
    "__Exercise:__ Modify the `MultipleItems` class below to add:\n",
    "- a method `get_cost` which returns the value of the `cost` attribute\n",
    "- a method `set_number` with one parameter `number` which changes the `number` attribute and returns `self`\n",
    "- a method `get_total_cost` which returns the product of the `cost` and `number` attributes"
   ]
  },
  {
   "cell_type": "code",
   "execution_count": 16,
   "metadata": {
    "colab": {},
    "colab_type": "code",
    "id": "asE0ySCRnm3w"
   },
   "outputs": [],
   "source": [
    "class MultipleItems:\n",
    "\n",
    "    def __init__(self, name='default', cost=1.00, number=1):\n",
    "        self.name   = name    # name of item\n",
    "        self.number = number  # number of items\n",
    "        self.cost   = cost    # cost per item\n",
    "    \n",
    "    def set_cost(self, cost):\n",
    "        self.cost = cost\n",
    "        return self\n",
    "  \n",
    "    def get_number(self):\n",
    "        return self.number"
   ]
  },
  {
   "cell_type": "markdown",
   "metadata": {
    "colab_type": "text",
    "id": "HKnPmkWonm30"
   },
   "source": [
    "__Exercise:__ Check your modifications to the above class by running these commands (in this order):\n",
    "1. `x = MultipleItems(name='sandwich')`\n",
    "1. `x.set_number(10)`\n",
    "1. `x.set_cost(9.95)`\n",
    "1. `x.name, x.get_cost(), x.get_number(), x.get_total_cost()`"
   ]
  },
  {
   "cell_type": "markdown",
   "metadata": {
    "colab_type": "text",
    "id": "IYBISMmXnm32"
   },
   "source": [
    "__Exercise:__ Define a class called `Lunch`:\n",
    "\n",
    "Its `__init__()` method should have two arguments: `self` and `menu`. The init method sets the attribute `menu` which is a string. \n",
    "\n",
    "Add a method called `menu_price`. It will involve an `if-elif-else` statement:\n",
    "\n",
    "- if the attribute `menu` is \"menu 1\", print `Your choice: menu 1 Price 12.00`.\n",
    "- if the attribute `menu` is \"menu 2\", print `Your choice: menu 2 Price 13.40`. \n",
    "- else print `\"Error in menu\"`.\n",
    "\n",
    "To check if it works: define `Paul=Lunch(\"menu 1\")` and call `Paul.menu_price()`."
   ]
  },
  {
   "cell_type": "code",
   "execution_count": 17,
   "metadata": {
    "colab": {},
    "colab_type": "code",
    "id": "K73z7fzenm34"
   },
   "outputs": [],
   "source": [
    "class Lunch:\n",
    "  \n",
    "  def __init__(self, menu):\n",
    "    self.menu = menu\n",
    "  \n",
    "  def menu_price(self):\n",
    "    if self.menu == 'menu 1':\n",
    "      print('Your choice: menu 1 Price 12.00')\n",
    "    elif self.menu == 'menu 2':\n",
    "      print('Your choice: menu 2 Price 13.40')\n",
    "    else:\n",
    "      print('Error in menu')\n",
    "    return self"
   ]
  },
  {
   "cell_type": "code",
   "execution_count": 18,
   "metadata": {
    "colab": {},
    "colab_type": "code",
    "id": "MSjL-Jxunm39"
   },
   "outputs": [],
   "source": [
    "Paul = Lunch('menu 1')"
   ]
  },
  {
   "cell_type": "code",
   "execution_count": 19,
   "metadata": {
    "colab": {},
    "colab_type": "code",
    "id": "hYbqr017nm4A"
   },
   "outputs": [
    {
     "name": "stdout",
     "output_type": "stream",
     "text": [
      "Your choice: menu 1 Price 12.00\n"
     ]
    },
    {
     "data": {
      "text/plain": [
       "<__main__.Lunch at 0x1115ad4e0>"
      ]
     },
     "execution_count": 19,
     "metadata": {},
     "output_type": "execute_result"
    }
   ],
   "source": [
    "Paul.menu_price()"
   ]
  },
  {
   "cell_type": "code",
   "execution_count": 20,
   "metadata": {
    "colab": {},
    "colab_type": "code",
    "id": "tF_HKzeenm4C"
   },
   "outputs": [
    {
     "name": "stdout",
     "output_type": "stream",
     "text": [
      "Your choice: menu 1 Price 12.00\n"
     ]
    }
   ],
   "source": [
    "class Lunch(object):\n",
    "    def __init__(self,menu):\n",
    "      self.menu=str(menu)\n",
    "      \n",
    "    def menu_price(self):\n",
    "       if self.menu==\"menu 1\":\n",
    "          print (\"Your choice:\", self.menu, \"Price 12.00\")\n",
    "      \n",
    "       elif self.menu==\"menu 2\":\n",
    "          print (\"Your choice:\", self.menu, \"Price 13.40\")\n",
    "    \n",
    "       else:\n",
    "          print (\"Error in menu\")\n",
    "\n",
    "Paul=Lunch(\"menu 1\")\n",
    "Paul.menu_price()"
   ]
  },
  {
   "cell_type": "markdown",
   "metadata": {
    "colab_type": "text",
    "id": "NAiB_MHunm4E"
   },
   "source": [
    "Tutorials on classes:\n",
    "- https://www.learnpython.org/en/Classes_and_Objects\n",
    "- http://thepythonguru.com/python-object-and-classes/\n",
    "- https://docs.python.org/3/tutorial/classes.html"
   ]
  },
  {
   "cell_type": "markdown",
   "metadata": {
    "colab_type": "text",
    "id": "UcHG2HnCnm4G"
   },
   "source": [
    "__The End__"
   ]
  }
 ],
 "metadata": {
  "colab": {
   "name": "4.2 Classes.ipynb",
   "provenance": [],
   "version": "0.3.2"
  },
  "kernelspec": {
   "display_name": "Python 3",
   "language": "python",
   "name": "python3"
  },
  "language_info": {
   "codemirror_mode": {
    "name": "ipython",
    "version": 3
   },
   "file_extension": ".py",
   "mimetype": "text/x-python",
   "name": "python",
   "nbconvert_exporter": "python",
   "pygments_lexer": "ipython3",
   "version": "3.7.3"
  }
 },
 "nbformat": 4,
 "nbformat_minor": 1
}
