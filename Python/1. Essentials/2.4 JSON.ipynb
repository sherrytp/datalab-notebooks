{
  "nbformat": 4,
  "nbformat_minor": 0,
  "metadata": {
    "colab": {
      "name": "2.4 JSON.ipynb",
      "version": "0.3.2",
      "provenance": []
    },
    "kernelspec": {
      "name": "python3",
      "display_name": "Python 3"
    }
  },
  "cells": [
    {
      "cell_type": "markdown",
      "metadata": {
        "id": "vu-31oL1sKdm",
        "colab_type": "text"
      },
      "source": [
        "# JSON in Python\n",
        "\n",
        "This notebook demonstrates reading JSON data from files into lists, dictionaries, and dataframes in Python."
      ]
    },
    {
      "cell_type": "markdown",
      "metadata": {
        "id": "2uhhS_ChsKdo",
        "colab_type": "text"
      },
      "source": [
        "Notice the Python version running on the cluster."
      ]
    },
    {
      "cell_type": "code",
      "metadata": {
        "id": "DYTHJOdSsKdp",
        "colab_type": "code",
        "colab": {
          "base_uri": "https://localhost:8080/",
          "height": 34
        },
        "outputId": "fb066d61-8172-49ee-d1cf-c1fa65cf2cc3"
      },
      "source": [
        "import sys\n",
        "sys.version"
      ],
      "execution_count": 1,
      "outputs": [
        {
          "output_type": "execute_result",
          "data": {
            "text/plain": [
              "'3.6.7 (default, Oct 22 2018, 11:32:17) \\n[GCC 8.2.0]'"
            ]
          },
          "metadata": {
            "tags": []
          },
          "execution_count": 1
        }
      ]
    },
    {
      "cell_type": "markdown",
      "metadata": {
        "id": "t6NDtsl8sKdu",
        "colab_type": "text"
      },
      "source": [
        "## Contents \n",
        "1. Setup\n",
        "2. List example\n",
        "1. Dictionary example\n",
        "3. Mixed examples\n",
        "1. Realistic examples"
      ]
    },
    {
      "cell_type": "markdown",
      "metadata": {
        "id": "mtIsHTdCsKdu",
        "colab_type": "text"
      },
      "source": [
        "## 1. Setup"
      ]
    },
    {
      "cell_type": "code",
      "metadata": {
        "id": "bMB0a1dauI8z",
        "colab_type": "code",
        "colab": {
          "base_uri": "https://localhost:8080/",
          "height": 122
        },
        "outputId": "46fefb9d-b9fc-42cb-d9c3-fdc9927f3e88"
      },
      "source": [
        "%pip install jsonlines"
      ],
      "execution_count": 2,
      "outputs": [
        {
          "output_type": "stream",
          "text": [
            "Collecting jsonlines\n",
            "  Downloading https://files.pythonhosted.org/packages/4f/9a/ab96291470e305504aa4b7a2e0ec132e930da89eb3ca7a82fbe03167c131/jsonlines-1.2.0-py2.py3-none-any.whl\n",
            "Requirement already satisfied: six in /usr/local/lib/python3.6/dist-packages (from jsonlines) (1.12.0)\n",
            "Installing collected packages: jsonlines\n",
            "Successfully installed jsonlines-1.2.0\n"
          ],
          "name": "stdout"
        }
      ]
    },
    {
      "cell_type": "markdown",
      "metadata": {
        "id": "KjjvGuBTsKdv",
        "colab_type": "text"
      },
      "source": [
        "Load the `pandas` Python library."
      ]
    },
    {
      "cell_type": "code",
      "metadata": {
        "id": "V4Tsb-tXsKdv",
        "colab_type": "code",
        "colab": {
          "base_uri": "https://localhost:8080/",
          "height": 34
        },
        "outputId": "c2cb2d85-1a96-4e51-fdde-6dacdde77b53"
      },
      "source": [
        "import pandas as pd\n",
        "pd.__version__"
      ],
      "execution_count": 3,
      "outputs": [
        {
          "output_type": "execute_result",
          "data": {
            "text/plain": [
              "'0.24.2'"
            ]
          },
          "metadata": {
            "tags": []
          },
          "execution_count": 3
        }
      ]
    },
    {
      "cell_type": "markdown",
      "metadata": {
        "id": "Ce4bSThFsKdy",
        "colab_type": "text"
      },
      "source": [
        "In this notebook we read data from some of these JSON files."
      ]
    },
    {
      "cell_type": "code",
      "metadata": {
        "id": "A2IkavYmsS2L",
        "colab_type": "code",
        "colab": {
          "base_uri": "https://localhost:8080/",
          "height": 34
        },
        "outputId": "7bcf316e-fadf-493a-c8ec-4922a44f9b26"
      },
      "source": [
        "%%sh\n",
        "git clone https://github.com/datalab-datasets/file-samples.git"
      ],
      "execution_count": 4,
      "outputs": [
        {
          "output_type": "stream",
          "text": [
            "Cloning into 'file-samples'...\n"
          ],
          "name": "stderr"
        }
      ]
    },
    {
      "cell_type": "code",
      "metadata": {
        "id": "b9unxMxisKdy",
        "colab_type": "code",
        "colab": {
          "base_uri": "https://localhost:8080/",
          "height": 221
        },
        "outputId": "11dddfc5-d6c0-44ab-b587-987d0b6c45ba"
      },
      "source": [
        "%ls /content/file-samples/*.json"
      ],
      "execution_count": 5,
      "outputs": [
        {
          "output_type": "stream",
          "text": [
            "/content/file-samples/dict_of_lists.json\n",
            "/content/file-samples/each_line.json\n",
            "/content/file-samples/enron.json\n",
            "/content/file-samples/list_of_dicts.json\n",
            "/content/file-samples/one_dictionary.json\n",
            "/content/file-samples/one_list.json\n",
            "/content/file-samples/one_list_with_metadata.json\n",
            "/content/file-samples/simple_dict.json\n",
            "/content/file-samples/simple_list.json\n",
            "/content/file-samples/stocks.json\n",
            "/content/file-samples/world_bank.json\n",
            "/content/file-samples/zips.json\n"
          ],
          "name": "stdout"
        }
      ]
    },
    {
      "cell_type": "markdown",
      "metadata": {
        "id": "3MglBipwsKd7",
        "colab_type": "text"
      },
      "source": [
        "The contents of individual files can be displayed with the `head` shell command. \n",
        "\n",
        "For example, the following command displays the first three lines of the `one_list.json` file. Notice the parameter `-n 3`.\n",
        "\n",
        "The `%sh` magic at the beginning of the code cell indicates that the cell contains shell commands."
      ]
    },
    {
      "cell_type": "code",
      "metadata": {
        "id": "fjOjKZs0sKd7",
        "colab_type": "code",
        "colab": {
          "base_uri": "https://localhost:8080/",
          "height": 68
        },
        "outputId": "63b5d148-8cbf-4ff8-8e65-8b5a0ffb83f6"
      },
      "source": [
        "%%sh \n",
        "head -n 3 /content/file-samples/one_list.json"
      ],
      "execution_count": 6,
      "outputs": [
        {
          "output_type": "stream",
          "text": [
            "[{ \t\n",
            "\t\"id\": \"ae4d9000001\", \n",
            "\t\"product_name\": \"sildenafil citrate\", \n"
          ],
          "name": "stdout"
        }
      ]
    },
    {
      "cell_type": "markdown",
      "metadata": {
        "id": "xjXUjzmosKd-",
        "colab_type": "text"
      },
      "source": [
        "The contents of files are often read into Python using the `open` function. (An example is three cells below.)\n",
        "- The first argument to this function is the full path of the file. \n",
        "- The second argument is the mode with which to read the file. An `r` indicates the file will be read. \n",
        "- The function returns a file object that can be used to read (in this case) from the indicated file.\n",
        "- See the documentation https://docs.python.org/3.5/library/functions.html#open for details."
      ]
    },
    {
      "cell_type": "markdown",
      "metadata": {
        "id": "0Xux4e4nsKd_",
        "colab_type": "text"
      },
      "source": [
        "The `with` command (in the example two cells below) is called a _context manager_.\n",
        "\n",
        "In the cell below (and in many cells below that), the `with` command opens the file and stores the _file object_, returned by the `open` function, in the `infile` variable. All indented commands that follow the `with` command can access this variable and the contents of the file, but when the indentation stops then the file object is deleted and it is no longer possible to read from the file. \n",
        "\n",
        "The basic reason to use the `with` and `open` statements like this is to automatically close the file after the indented commands are run.\n",
        "There are more complicated reasons to use them, but they're not that important (to know) if you __always__ use it to open files for reading or writing."
      ]
    },
    {
      "cell_type": "markdown",
      "metadata": {
        "id": "zXpSCeHLsKd_",
        "colab_type": "text"
      },
      "source": [
        "The following code cell:\n",
        "1. opens the `simple_list.json` file for reading\n",
        "2. loads the contents of the file into a list (using the `load` function from the `json` module)\n",
        "3. stores this list in `list_from_file` \n",
        "4. displays the list (as it is the last command of the cell)"
      ]
    },
    {
      "cell_type": "code",
      "metadata": {
        "id": "zZSgkaz5sKeA",
        "colab_type": "code",
        "colab": {
          "base_uri": "https://localhost:8080/",
          "height": 34
        },
        "outputId": "138252ee-06c9-40a5-dd81-54423742d28b"
      },
      "source": [
        "import json\n",
        "with open('/content/file-samples/simple_list.json', 'r') as infile:\n",
        "  list_from_file = json.load(infile)\n",
        "\n",
        "list_from_file"
      ],
      "execution_count": 7,
      "outputs": [
        {
          "output_type": "execute_result",
          "data": {
            "text/plain": [
              "[10, 20, 30]"
            ]
          },
          "metadata": {
            "tags": []
          },
          "execution_count": 7
        }
      ]
    },
    {
      "cell_type": "markdown",
      "metadata": {
        "id": "Nx-MySZnsKeD",
        "colab_type": "text"
      },
      "source": [
        "Notice the resulting list (above) corresponds exactly to the characters from the file (below)."
      ]
    },
    {
      "cell_type": "code",
      "metadata": {
        "id": "OPKyqqrIsKeE",
        "colab_type": "code",
        "colab": {
          "base_uri": "https://localhost:8080/",
          "height": 34
        },
        "outputId": "a444c7e2-26a8-4d7e-f24c-63ff30d09ca1"
      },
      "source": [
        "%%sh \n",
        "head -n 3 /content/file-samples/simple_list.json"
      ],
      "execution_count": 8,
      "outputs": [
        {
          "output_type": "stream",
          "text": [
            "[10, 20, 30]\n"
          ],
          "name": "stdout"
        }
      ]
    },
    {
      "cell_type": "markdown",
      "metadata": {
        "id": "YGwMyhW8sKeJ",
        "colab_type": "text"
      },
      "source": [
        "The remaining sections of this notebook demonstrate the reading of JSON text (from files) into Python lists. dictionaries, and tables."
      ]
    },
    {
      "cell_type": "markdown",
      "metadata": {
        "id": "hh6ZcpQpsKeK",
        "colab_type": "text"
      },
      "source": [
        "## 2. List example"
      ]
    },
    {
      "cell_type": "markdown",
      "metadata": {
        "id": "ggoczd3IsKeK",
        "colab_type": "text"
      },
      "source": [
        "The `json` library provides Python functions to read and write JSON text. \n",
        "\n",
        "The `loads` function:\n",
        "- expects its argument to be a string of JSON data and \n",
        "- returns the Python object (usually a list or dictionary) that corresponds to the JSON data"
      ]
    },
    {
      "cell_type": "code",
      "metadata": {
        "id": "zY8sj1CUsKeL",
        "colab_type": "code",
        "colab": {
          "base_uri": "https://localhost:8080/",
          "height": 34
        },
        "outputId": "f186e2f3-eb68-40dd-e0c6-2aecaec00417"
      },
      "source": [
        "import json\n",
        "my_json = json.loads('[\"hello\",\"goodbye\",777,null]')\n",
        "my_json"
      ],
      "execution_count": 9,
      "outputs": [
        {
          "output_type": "execute_result",
          "data": {
            "text/plain": [
              "['hello', 'goodbye', 777, None]"
            ]
          },
          "metadata": {
            "tags": []
          },
          "execution_count": 9
        }
      ]
    },
    {
      "cell_type": "markdown",
      "metadata": {
        "id": "33aoqdu3sKeO",
        "colab_type": "text"
      },
      "source": [
        "The `null` JSON value is often used to indicate missing data. Notice that this value corresponds to the `None` value in Python."
      ]
    },
    {
      "cell_type": "markdown",
      "metadata": {
        "id": "9B3yCOzasKeO",
        "colab_type": "text"
      },
      "source": [
        "The JSON text for the next example comes from the file `simple_list.json`, which is displayed below. \n",
        "\n",
        "This is the same example as above in the Setup section. The following command displays the contents of this file (which only contains one line)."
      ]
    },
    {
      "cell_type": "code",
      "metadata": {
        "id": "NZXeiMGYsKeP",
        "colab_type": "code",
        "colab": {
          "base_uri": "https://localhost:8080/",
          "height": 34
        },
        "outputId": "08d4eeb2-de2a-4fb8-ab8f-3bd522f548f0"
      },
      "source": [
        "%%sh \n",
        "head -n 3 /content/file-samples/simple_list.json"
      ],
      "execution_count": 10,
      "outputs": [
        {
          "output_type": "stream",
          "text": [
            "[10, 20, 30]\n"
          ],
          "name": "stdout"
        }
      ]
    },
    {
      "cell_type": "markdown",
      "metadata": {
        "id": "gnqzXB7asKeR",
        "colab_type": "text"
      },
      "source": [
        "The following code reads the contents of the file `simple_list.json` into a Python list."
      ]
    },
    {
      "cell_type": "code",
      "metadata": {
        "id": "0s8gFmRPsKeR",
        "colab_type": "code",
        "colab": {
          "base_uri": "https://localhost:8080/",
          "height": 34
        },
        "outputId": "04e2dbec-11c1-4ff8-91d6-56ccfa55613c"
      },
      "source": [
        "import json\n",
        "with open(\"/content/file-samples/simple_list.json\", 'r') as infile:\n",
        "  list_from_file = json.load(infile)\n",
        "  \n",
        "list_from_file"
      ],
      "execution_count": 11,
      "outputs": [
        {
          "output_type": "execute_result",
          "data": {
            "text/plain": [
              "[10, 20, 30]"
            ]
          },
          "metadata": {
            "tags": []
          },
          "execution_count": 11
        }
      ]
    },
    {
      "cell_type": "markdown",
      "metadata": {
        "id": "P627J4QPsKeT",
        "colab_type": "text"
      },
      "source": [
        "The following code demonstrates that the `load` function does in fact return a list."
      ]
    },
    {
      "cell_type": "code",
      "metadata": {
        "id": "EKordR6JsKeU",
        "colab_type": "code",
        "colab": {
          "base_uri": "https://localhost:8080/",
          "height": 34
        },
        "outputId": "e3e9672e-ce3d-43ff-bb7d-df00c517b9fb"
      },
      "source": [
        "type(list_from_file), list_from_file[-1]"
      ],
      "execution_count": 12,
      "outputs": [
        {
          "output_type": "execute_result",
          "data": {
            "text/plain": [
              "(list, 30)"
            ]
          },
          "metadata": {
            "tags": []
          },
          "execution_count": 12
        }
      ]
    },
    {
      "cell_type": "markdown",
      "metadata": {
        "id": "-kqkNEagsKeX",
        "colab_type": "text"
      },
      "source": [
        "## 2. Dictionary example"
      ]
    },
    {
      "cell_type": "markdown",
      "metadata": {
        "id": "bbaspBwNsKeY",
        "colab_type": "text"
      },
      "source": [
        "The JSON text for this example comes from the file `simple_dict.json`, which is displayed below."
      ]
    },
    {
      "cell_type": "code",
      "metadata": {
        "id": "SaMuKmOnsKeY",
        "colab_type": "code",
        "colab": {
          "base_uri": "https://localhost:8080/",
          "height": 34
        },
        "outputId": "be6cffff-5cd5-4e0f-d7fb-d220a47c23de"
      },
      "source": [
        "%%sh \n",
        "cat /content/file-samples/simple_dict.json"
      ],
      "execution_count": 13,
      "outputs": [
        {
          "output_type": "stream",
          "text": [
            "{\"a\":1, \"b\":2, \"c\":3}\n"
          ],
          "name": "stdout"
        }
      ]
    },
    {
      "cell_type": "markdown",
      "metadata": {
        "id": "OPotih9usKed",
        "colab_type": "text"
      },
      "source": [
        "The following code reads the contents of the file `simple_dict.json` into a Python dictionary."
      ]
    },
    {
      "cell_type": "code",
      "metadata": {
        "id": "iDphGpEpsKed",
        "colab_type": "code",
        "colab": {
          "base_uri": "https://localhost:8080/",
          "height": 34
        },
        "outputId": "8282feff-c403-4ea9-8cba-8ea715e740d0"
      },
      "source": [
        "import json\n",
        "with open(\"/content/file-samples/simple_dict.json\", 'r') as infile:\n",
        "  dict_from_file = json.load(infile)\n",
        "\n",
        "dict_from_file"
      ],
      "execution_count": 14,
      "outputs": [
        {
          "output_type": "execute_result",
          "data": {
            "text/plain": [
              "{'a': 1, 'b': 2, 'c': 3}"
            ]
          },
          "metadata": {
            "tags": []
          },
          "execution_count": 14
        }
      ]
    },
    {
      "cell_type": "code",
      "metadata": {
        "id": "QX3RvcKlsKeh",
        "colab_type": "code",
        "colab": {
          "base_uri": "https://localhost:8080/",
          "height": 34
        },
        "outputId": "0ee61fea-8c39-4c76-9b1f-54e8935d96ae"
      },
      "source": [
        "dict_from_file.get('b')"
      ],
      "execution_count": 15,
      "outputs": [
        {
          "output_type": "execute_result",
          "data": {
            "text/plain": [
              "2"
            ]
          },
          "metadata": {
            "tags": []
          },
          "execution_count": 15
        }
      ]
    },
    {
      "cell_type": "markdown",
      "metadata": {
        "id": "aFKVdnkMsKej",
        "colab_type": "text"
      },
      "source": [
        "## 3. Mixed examples"
      ]
    },
    {
      "cell_type": "markdown",
      "metadata": {
        "id": "YIh_QM7EsKek",
        "colab_type": "text"
      },
      "source": [
        "This section contains two examples, each in a section:\n",
        "1. Dictionary of lists\n",
        "1. List of dictionaries"
      ]
    },
    {
      "cell_type": "markdown",
      "metadata": {
        "id": "MXKu7OAHsKel",
        "colab_type": "text"
      },
      "source": [
        "### 3.1 Dictionary of lists"
      ]
    },
    {
      "cell_type": "code",
      "metadata": {
        "id": "lyHy_H9LsKen",
        "colab_type": "code",
        "colab": {
          "base_uri": "https://localhost:8080/",
          "height": 34
        },
        "outputId": "4ab9c280-26de-4113-a8a1-70a36adfad42"
      },
      "source": [
        "%%sh \n",
        "cat /content/file-samples/dict_of_lists.json"
      ],
      "execution_count": 16,
      "outputs": [
        {
          "output_type": "stream",
          "text": [
            "{\"a\":[1,2,3], \"b\":[4,5,6], \"c\":[7,8,9]}\n"
          ],
          "name": "stdout"
        }
      ]
    },
    {
      "cell_type": "markdown",
      "metadata": {
        "id": "naFJkBq5sKep",
        "colab_type": "text"
      },
      "source": [
        "The following code reads the contents of the file `dict_of_lists.json` into a Python dictionary."
      ]
    },
    {
      "cell_type": "code",
      "metadata": {
        "id": "XaWeG1CxsKep",
        "colab_type": "code",
        "colab": {
          "base_uri": "https://localhost:8080/",
          "height": 34
        },
        "outputId": "4beb017b-19e4-470a-9c86-9da92483357e"
      },
      "source": [
        "with open(\"/content/file-samples/dict_of_lists.json\", 'r') as infile:\n",
        "  dict_from_file = json.load(infile)\n",
        "\n",
        "dict_from_file"
      ],
      "execution_count": 17,
      "outputs": [
        {
          "output_type": "execute_result",
          "data": {
            "text/plain": [
              "{'a': [1, 2, 3], 'b': [4, 5, 6], 'c': [7, 8, 9]}"
            ]
          },
          "metadata": {
            "tags": []
          },
          "execution_count": 17
        }
      ]
    },
    {
      "cell_type": "code",
      "metadata": {
        "id": "r7_RLrVMsKew",
        "colab_type": "code",
        "colab": {
          "base_uri": "https://localhost:8080/",
          "height": 34
        },
        "outputId": "0c1d026f-c619-4679-ddcf-2d53547d7779"
      },
      "source": [
        "type(dict_from_file)"
      ],
      "execution_count": 18,
      "outputs": [
        {
          "output_type": "execute_result",
          "data": {
            "text/plain": [
              "dict"
            ]
          },
          "metadata": {
            "tags": []
          },
          "execution_count": 18
        }
      ]
    },
    {
      "cell_type": "code",
      "metadata": {
        "id": "6VHnrWB1sKey",
        "colab_type": "code",
        "colab": {
          "base_uri": "https://localhost:8080/",
          "height": 34
        },
        "outputId": "aecd35c0-4c54-4812-d3b4-d632cd037044"
      },
      "source": [
        "dict_from_file.get('b')"
      ],
      "execution_count": 19,
      "outputs": [
        {
          "output_type": "execute_result",
          "data": {
            "text/plain": [
              "[4, 5, 6]"
            ]
          },
          "metadata": {
            "tags": []
          },
          "execution_count": 19
        }
      ]
    },
    {
      "cell_type": "code",
      "metadata": {
        "id": "aBLIugSasKe0",
        "colab_type": "code",
        "colab": {
          "base_uri": "https://localhost:8080/",
          "height": 34
        },
        "outputId": "1b9a0b87-a129-4d4c-ec5c-1b0fd3a878de"
      },
      "source": [
        "dict_from_file.get('b')[2]"
      ],
      "execution_count": 20,
      "outputs": [
        {
          "output_type": "execute_result",
          "data": {
            "text/plain": [
              "6"
            ]
          },
          "metadata": {
            "tags": []
          },
          "execution_count": 20
        }
      ]
    },
    {
      "cell_type": "markdown",
      "metadata": {
        "id": "l6bPQSL4sKe3",
        "colab_type": "text"
      },
      "source": [
        "### 3.2 List of dictionaries"
      ]
    },
    {
      "cell_type": "code",
      "metadata": {
        "id": "uuW_45ypsKe9",
        "colab_type": "code",
        "colab": {
          "base_uri": "https://localhost:8080/",
          "height": 34
        },
        "outputId": "0f0524e8-8865-4617-d2d3-77234e2b49e4"
      },
      "source": [
        "%%sh \n",
        "cat /content/file-samples/list_of_dicts.json"
      ],
      "execution_count": 21,
      "outputs": [
        {
          "output_type": "stream",
          "text": [
            "[{\"a\":1, \"b\":2, \"c\":3}, {\"d\":4, \"e\":5, \"f\":6}]\n"
          ],
          "name": "stdout"
        }
      ]
    },
    {
      "cell_type": "markdown",
      "metadata": {
        "id": "m3xBftptsKe_",
        "colab_type": "text"
      },
      "source": [
        "The following code reads the contents of the file `list_of_dicts.json` into a Python list with items that are dictionaries."
      ]
    },
    {
      "cell_type": "code",
      "metadata": {
        "id": "C3xyXJV2sKfA",
        "colab_type": "code",
        "colab": {
          "base_uri": "https://localhost:8080/",
          "height": 34
        },
        "outputId": "8ed151c6-d9a1-42ef-a296-82694e0ae312"
      },
      "source": [
        "with open(\"/content/file-samples/list_of_dicts.json\", 'r') as infile:\n",
        "  dict_from_file = json.load(infile)\n",
        "\n",
        "dict_from_file"
      ],
      "execution_count": 22,
      "outputs": [
        {
          "output_type": "execute_result",
          "data": {
            "text/plain": [
              "[{'a': 1, 'b': 2, 'c': 3}, {'d': 4, 'e': 5, 'f': 6}]"
            ]
          },
          "metadata": {
            "tags": []
          },
          "execution_count": 22
        }
      ]
    },
    {
      "cell_type": "code",
      "metadata": {
        "id": "iBOdrolCsKfB",
        "colab_type": "code",
        "colab": {
          "base_uri": "https://localhost:8080/",
          "height": 34
        },
        "outputId": "f8c8f8e1-f68b-4191-82a6-4a0bfbb98bda"
      },
      "source": [
        "type(dict_from_file), dict_from_file[1]"
      ],
      "execution_count": 23,
      "outputs": [
        {
          "output_type": "execute_result",
          "data": {
            "text/plain": [
              "(list, {'d': 4, 'e': 5, 'f': 6})"
            ]
          },
          "metadata": {
            "tags": []
          },
          "execution_count": 23
        }
      ]
    },
    {
      "cell_type": "code",
      "metadata": {
        "id": "H-gtPjZDsKfD",
        "colab_type": "code",
        "colab": {
          "base_uri": "https://localhost:8080/",
          "height": 34
        },
        "outputId": "0677e7a9-8d75-473a-d261-1f8439c566ea"
      },
      "source": [
        "dict_from_file[1].get('d')"
      ],
      "execution_count": 24,
      "outputs": [
        {
          "output_type": "execute_result",
          "data": {
            "text/plain": [
              "4"
            ]
          },
          "metadata": {
            "tags": []
          },
          "execution_count": 24
        }
      ]
    },
    {
      "cell_type": "markdown",
      "metadata": {
        "id": "7p8NpixbsKfF",
        "colab_type": "text"
      },
      "source": [
        "## 4. More realistic examples"
      ]
    },
    {
      "cell_type": "markdown",
      "metadata": {
        "id": "G0s16Mk2sKfH",
        "colab_type": "text"
      },
      "source": [
        "The three subsections below demonstrate three ways in which tables are stored in JSON formatted files. \n",
        "These three ways are distinguished by the format of JSON data stored in the file to be read. \n",
        "The JSON data is: \n",
        "1. A list of dictionaries\n",
        "1. A dictionary contains a list of dictionaries\n",
        "1. Each line of the file is a dictionary\n",
        "\n",
        "In each of the three cases above, the dictionaries correspond to records of the table stored in the file."
      ]
    },
    {
      "cell_type": "markdown",
      "metadata": {
        "id": "dB-Ff3w4sKfI",
        "colab_type": "text"
      },
      "source": [
        "### 4.1 Dataset from a single list of JSON records"
      ]
    },
    {
      "cell_type": "code",
      "metadata": {
        "id": "6dkE514qsKfI",
        "colab_type": "code",
        "colab": {
          "base_uri": "https://localhost:8080/",
          "height": 374
        },
        "outputId": "a4507108-b2c6-40a4-bf2a-da4df84b6d0f"
      },
      "source": [
        "%%sh \n",
        "head -n 30 /content/file-samples/one_list.json"
      ],
      "execution_count": 25,
      "outputs": [
        {
          "output_type": "stream",
          "text": [
            "[{ \t\n",
            "\t\"id\": \"ae4d9000001\", \n",
            "\t\"product_name\": \"sildenafil citrate\", \n",
            "\t\"supplier\": \"Wisozk Inc\", \n",
            "\t\"quantity\": 261, \n",
            "\t\"unit_cost\": \"$10.47\" \n",
            "},\n",
            "{\n",
            "\t\"id\": \"ae4d9000002\", \n",
            "\t\"product_name\": \"Mountain Juniperus ashei\", \n",
            "\t\"supplier\": \"Keebler-Hilpert\", \n",
            "\t\"quantity\": 292, \n",
            "\t\"unit_cost\": \"$8.74\" \n",
            "},\n",
            "{\n",
            "\t\"id\": \"ae4d9000003\", \n",
            "\t\"product_name\": \"Dextromathorphan HBr\", \n",
            "\t\"supplier\": \"Schmitt-Weissnat\", \n",
            "\t\"quantity\": 211, \n",
            "\t\"unit_cost\": \"$20.53\" \n",
            "}]\n"
          ],
          "name": "stdout"
        }
      ]
    },
    {
      "cell_type": "markdown",
      "metadata": {
        "id": "_BTgCmLMsKfN",
        "colab_type": "text"
      },
      "source": [
        "The following code reads the contents of the file `one_list.json` into a Python list of dictionaries"
      ]
    },
    {
      "cell_type": "code",
      "metadata": {
        "id": "JifMIXHOsKfO",
        "colab_type": "code",
        "colab": {
          "base_uri": "https://localhost:8080/",
          "height": 272
        },
        "outputId": "53b3224a-fcd5-49dd-80c7-637fcc6bbb0b"
      },
      "source": [
        "import json\n",
        "with open('/content/file-samples/one_list.json', 'r') as infile:\n",
        "  dict_from_file = json.load(infile)\n",
        "  \n",
        "dict_from_file"
      ],
      "execution_count": 26,
      "outputs": [
        {
          "output_type": "execute_result",
          "data": {
            "text/plain": [
              "[{'id': 'ae4d9000001',\n",
              "  'product_name': 'sildenafil citrate',\n",
              "  'quantity': 261,\n",
              "  'supplier': 'Wisozk Inc',\n",
              "  'unit_cost': '$10.47'},\n",
              " {'id': 'ae4d9000002',\n",
              "  'product_name': 'Mountain Juniperus ashei',\n",
              "  'quantity': 292,\n",
              "  'supplier': 'Keebler-Hilpert',\n",
              "  'unit_cost': '$8.74'},\n",
              " {'id': 'ae4d9000003',\n",
              "  'product_name': 'Dextromathorphan HBr',\n",
              "  'quantity': 211,\n",
              "  'supplier': 'Schmitt-Weissnat',\n",
              "  'unit_cost': '$20.53'}]"
            ]
          },
          "metadata": {
            "tags": []
          },
          "execution_count": 26
        }
      ]
    },
    {
      "cell_type": "markdown",
      "metadata": {
        "id": "8HBJKhbjsKfP",
        "colab_type": "text"
      },
      "source": [
        "The pandas `DataFrame` constructor can take as input a list of dictionaries. \n",
        "\n",
        "The keys of the dictionaries are interpreted as column names."
      ]
    },
    {
      "cell_type": "code",
      "metadata": {
        "id": "xURth24UsKfQ",
        "colab_type": "code",
        "colab": {
          "base_uri": "https://localhost:8080/",
          "height": 142
        },
        "outputId": "163d85c1-c038-46ef-8dba-c2b080e56503"
      },
      "source": [
        "import pandas as pd \n",
        "pd.DataFrame(data=dict_from_file)"
      ],
      "execution_count": 27,
      "outputs": [
        {
          "output_type": "execute_result",
          "data": {
            "text/html": [
              "<div>\n",
              "<style scoped>\n",
              "    .dataframe tbody tr th:only-of-type {\n",
              "        vertical-align: middle;\n",
              "    }\n",
              "\n",
              "    .dataframe tbody tr th {\n",
              "        vertical-align: top;\n",
              "    }\n",
              "\n",
              "    .dataframe thead th {\n",
              "        text-align: right;\n",
              "    }\n",
              "</style>\n",
              "<table border=\"1\" class=\"dataframe\">\n",
              "  <thead>\n",
              "    <tr style=\"text-align: right;\">\n",
              "      <th></th>\n",
              "      <th>id</th>\n",
              "      <th>product_name</th>\n",
              "      <th>quantity</th>\n",
              "      <th>supplier</th>\n",
              "      <th>unit_cost</th>\n",
              "    </tr>\n",
              "  </thead>\n",
              "  <tbody>\n",
              "    <tr>\n",
              "      <th>0</th>\n",
              "      <td>ae4d9000001</td>\n",
              "      <td>sildenafil citrate</td>\n",
              "      <td>261</td>\n",
              "      <td>Wisozk Inc</td>\n",
              "      <td>$10.47</td>\n",
              "    </tr>\n",
              "    <tr>\n",
              "      <th>1</th>\n",
              "      <td>ae4d9000002</td>\n",
              "      <td>Mountain Juniperus ashei</td>\n",
              "      <td>292</td>\n",
              "      <td>Keebler-Hilpert</td>\n",
              "      <td>$8.74</td>\n",
              "    </tr>\n",
              "    <tr>\n",
              "      <th>2</th>\n",
              "      <td>ae4d9000003</td>\n",
              "      <td>Dextromathorphan HBr</td>\n",
              "      <td>211</td>\n",
              "      <td>Schmitt-Weissnat</td>\n",
              "      <td>$20.53</td>\n",
              "    </tr>\n",
              "  </tbody>\n",
              "</table>\n",
              "</div>"
            ],
            "text/plain": [
              "            id              product_name  quantity          supplier unit_cost\n",
              "0  ae4d9000001        sildenafil citrate       261        Wisozk Inc    $10.47\n",
              "1  ae4d9000002  Mountain Juniperus ashei       292   Keebler-Hilpert     $8.74\n",
              "2  ae4d9000003      Dextromathorphan HBr       211  Schmitt-Weissnat    $20.53"
            ]
          },
          "metadata": {
            "tags": []
          },
          "execution_count": 27
        }
      ]
    },
    {
      "cell_type": "markdown",
      "metadata": {
        "id": "VXmXfSV_sKfS",
        "colab_type": "text"
      },
      "source": [
        "### 4.2 Dataset from single dictionary"
      ]
    },
    {
      "cell_type": "code",
      "metadata": {
        "id": "F-nBxEHksKfS",
        "colab_type": "code",
        "colab": {
          "base_uri": "https://localhost:8080/",
          "height": 170
        },
        "outputId": "f83664ed-ea41-4cb4-d4c1-7f172f0c1071"
      },
      "source": [
        "%%sh \n",
        "head -n 9 /content/file-samples/one_dictionary.json"
      ],
      "execution_count": 28,
      "outputs": [
        {
          "output_type": "stream",
          "text": [
            "{\"metadata\": {\"author\": \"David Oury\", \"date\": \"18 Sep 2017\"}, \n",
            " \"data\": \n",
            "\t[{ \t\n",
            "\t\t\"id\": \"ae4d9000001\", \n",
            "\t\t\"product_name\": \"sildenafil citrate\", \n",
            "\t\t\"supplier\": \"Wisozk Inc\", \n",
            "\t\t\"quantity\": 261, \n",
            "\t\t\"unit_cost\": \"$10.47\" \n",
            "\t},\n"
          ],
          "name": "stdout"
        }
      ]
    },
    {
      "cell_type": "markdown",
      "metadata": {
        "id": "zHgAIAN_sKfU",
        "colab_type": "text"
      },
      "source": [
        "The following code reads the contents of the file `one_dictionary.json` into a Python dictionary.\n",
        "\n",
        "Notice that the last command converts the dictionary `my_dict_from_file['data']` into a Pandas dataframe."
      ]
    },
    {
      "cell_type": "code",
      "metadata": {
        "id": "QNaCE-6usKfU",
        "colab_type": "code",
        "colab": {
          "base_uri": "https://localhost:8080/",
          "height": 142
        },
        "outputId": "abb7a856-386a-4146-ab53-70074840d748"
      },
      "source": [
        "import pandas as pd\n",
        "with open('/content/file-samples/one_dictionary.json', 'r') as infile:\n",
        "  my_dict_from_file = json.load(infile)\n",
        "my_dict_from_file\n",
        "\n",
        "pd.DataFrame(data=my_dict_from_file['data'])"
      ],
      "execution_count": 29,
      "outputs": [
        {
          "output_type": "execute_result",
          "data": {
            "text/html": [
              "<div>\n",
              "<style scoped>\n",
              "    .dataframe tbody tr th:only-of-type {\n",
              "        vertical-align: middle;\n",
              "    }\n",
              "\n",
              "    .dataframe tbody tr th {\n",
              "        vertical-align: top;\n",
              "    }\n",
              "\n",
              "    .dataframe thead th {\n",
              "        text-align: right;\n",
              "    }\n",
              "</style>\n",
              "<table border=\"1\" class=\"dataframe\">\n",
              "  <thead>\n",
              "    <tr style=\"text-align: right;\">\n",
              "      <th></th>\n",
              "      <th>id</th>\n",
              "      <th>product_name</th>\n",
              "      <th>quantity</th>\n",
              "      <th>supplier</th>\n",
              "      <th>unit_cost</th>\n",
              "    </tr>\n",
              "  </thead>\n",
              "  <tbody>\n",
              "    <tr>\n",
              "      <th>0</th>\n",
              "      <td>ae4d9000001</td>\n",
              "      <td>sildenafil citrate</td>\n",
              "      <td>261</td>\n",
              "      <td>Wisozk Inc</td>\n",
              "      <td>$10.47</td>\n",
              "    </tr>\n",
              "    <tr>\n",
              "      <th>1</th>\n",
              "      <td>ae4d9000002</td>\n",
              "      <td>Mountain Juniperus ashei</td>\n",
              "      <td>292</td>\n",
              "      <td>Keebler-Hilpert</td>\n",
              "      <td>$8.74</td>\n",
              "    </tr>\n",
              "    <tr>\n",
              "      <th>2</th>\n",
              "      <td>ae4d9000003</td>\n",
              "      <td>Dextromathorphan HBr</td>\n",
              "      <td>211</td>\n",
              "      <td>Schmitt-Weissnat</td>\n",
              "      <td>$20.53</td>\n",
              "    </tr>\n",
              "  </tbody>\n",
              "</table>\n",
              "</div>"
            ],
            "text/plain": [
              "            id              product_name  quantity          supplier unit_cost\n",
              "0  ae4d9000001        sildenafil citrate       261        Wisozk Inc    $10.47\n",
              "1  ae4d9000002  Mountain Juniperus ashei       292   Keebler-Hilpert     $8.74\n",
              "2  ae4d9000003      Dextromathorphan HBr       211  Schmitt-Weissnat    $20.53"
            ]
          },
          "metadata": {
            "tags": []
          },
          "execution_count": 29
        }
      ]
    },
    {
      "cell_type": "markdown",
      "metadata": {
        "id": "DBCHxidgsKfX",
        "colab_type": "text"
      },
      "source": [
        "### 4.3 Dataset from one JSON record per line (JSONL format)"
      ]
    },
    {
      "cell_type": "markdown",
      "metadata": {
        "id": "uJtOjgchsKfX",
        "colab_type": "text"
      },
      "source": [
        "This is a very brief introduction to the _line delimited_ JSON format. For details see\n",
        "- http://ndjson.org/\n",
        "- http://jsonlines.org/\n",
        "- [Wikipedia](https://en.wikipedia.org/wiki/JSON_streaming)\n",
        "\n",
        "The acronyms JSONL, NDJSON and LDJSON are equivalent terms and refer to a format where each line of a file contains a single JSON record which is a dictionary and describes a record of data."
      ]
    },
    {
      "cell_type": "code",
      "metadata": {
        "id": "YdBaVYSasKfY",
        "colab_type": "code",
        "colab": {
          "base_uri": "https://localhost:8080/",
          "height": 88
        },
        "outputId": "572bf06b-3c21-43bf-e81e-c6a2eafeb52c"
      },
      "source": [
        "%%sh \n",
        "head -n 7 /content/file-samples/each_line.json"
      ],
      "execution_count": 30,
      "outputs": [
        {
          "output_type": "stream",
          "text": [
            "{ \"id\": \"ae4d9000001\", \"product_name\": \"sildenafil citrate\", \"supplier\": \"Wisozk Inc\", \"quantity\": 261, \"unit_cost\": \"$10.47\" }\n",
            "{ \"id\": \"ae4d9000002\", \"product_name\": \"Mountain Juniperus ashei\", \"supplier\": \"Keebler-Hilpert\", \"quantity\": 292, \"unit_cost\": \"$8.74\" }\n",
            "{ \"id\": \"ae4d9000003\", \"product_name\": \"Dextromathorphan HBr\", \"supplier\": \"Schmitt-Weissnat\", \"quantity\": 211, \"unit_cost\": \"$20.53\" }\n"
          ],
          "name": "stdout"
        }
      ]
    },
    {
      "cell_type": "markdown",
      "metadata": {
        "id": "U5x4uqj5sKfi",
        "colab_type": "text"
      },
      "source": [
        "This next example introduces the `jsonlines` package (from Python).\n",
        "\n",
        "The `open` function (in this package) reads a file in JSONL and returns a list of dictionaries."
      ]
    },
    {
      "cell_type": "code",
      "metadata": {
        "id": "yU4Pf-c3sKfi",
        "colab_type": "code",
        "colab": {
          "base_uri": "https://localhost:8080/",
          "height": 272
        },
        "outputId": "474cb8b6-6031-4667-9262-a0b21ea6f0fe"
      },
      "source": [
        "import pandas as pd\n",
        "import jsonlines\n",
        "list_of_dictionaries = list(jsonlines.open(\"/content/file-samples/each_line.json\"))\n",
        "list_of_dictionaries "
      ],
      "execution_count": 31,
      "outputs": [
        {
          "output_type": "execute_result",
          "data": {
            "text/plain": [
              "[{'id': 'ae4d9000001',\n",
              "  'product_name': 'sildenafil citrate',\n",
              "  'quantity': 261,\n",
              "  'supplier': 'Wisozk Inc',\n",
              "  'unit_cost': '$10.47'},\n",
              " {'id': 'ae4d9000002',\n",
              "  'product_name': 'Mountain Juniperus ashei',\n",
              "  'quantity': 292,\n",
              "  'supplier': 'Keebler-Hilpert',\n",
              "  'unit_cost': '$8.74'},\n",
              " {'id': 'ae4d9000003',\n",
              "  'product_name': 'Dextromathorphan HBr',\n",
              "  'quantity': 211,\n",
              "  'supplier': 'Schmitt-Weissnat',\n",
              "  'unit_cost': '$20.53'}]"
            ]
          },
          "metadata": {
            "tags": []
          },
          "execution_count": 31
        }
      ]
    },
    {
      "cell_type": "code",
      "metadata": {
        "id": "vqekkd8GsKfk",
        "colab_type": "code",
        "colab": {
          "base_uri": "https://localhost:8080/",
          "height": 142
        },
        "outputId": "35d1a073-bd2f-48e1-c6bc-f1d2ea6c351d"
      },
      "source": [
        "pdf_from_list_of_dictionaries = pd.DataFrame(data=list_of_dictionaries)\n",
        "pdf_from_list_of_dictionaries"
      ],
      "execution_count": 34,
      "outputs": [
        {
          "output_type": "execute_result",
          "data": {
            "text/html": [
              "<div>\n",
              "<style scoped>\n",
              "    .dataframe tbody tr th:only-of-type {\n",
              "        vertical-align: middle;\n",
              "    }\n",
              "\n",
              "    .dataframe tbody tr th {\n",
              "        vertical-align: top;\n",
              "    }\n",
              "\n",
              "    .dataframe thead th {\n",
              "        text-align: right;\n",
              "    }\n",
              "</style>\n",
              "<table border=\"1\" class=\"dataframe\">\n",
              "  <thead>\n",
              "    <tr style=\"text-align: right;\">\n",
              "      <th></th>\n",
              "      <th>id</th>\n",
              "      <th>product_name</th>\n",
              "      <th>quantity</th>\n",
              "      <th>supplier</th>\n",
              "      <th>unit_cost</th>\n",
              "    </tr>\n",
              "  </thead>\n",
              "  <tbody>\n",
              "    <tr>\n",
              "      <th>0</th>\n",
              "      <td>ae4d9000001</td>\n",
              "      <td>sildenafil citrate</td>\n",
              "      <td>261</td>\n",
              "      <td>Wisozk Inc</td>\n",
              "      <td>$10.47</td>\n",
              "    </tr>\n",
              "    <tr>\n",
              "      <th>1</th>\n",
              "      <td>ae4d9000002</td>\n",
              "      <td>Mountain Juniperus ashei</td>\n",
              "      <td>292</td>\n",
              "      <td>Keebler-Hilpert</td>\n",
              "      <td>$8.74</td>\n",
              "    </tr>\n",
              "    <tr>\n",
              "      <th>2</th>\n",
              "      <td>ae4d9000003</td>\n",
              "      <td>Dextromathorphan HBr</td>\n",
              "      <td>211</td>\n",
              "      <td>Schmitt-Weissnat</td>\n",
              "      <td>$20.53</td>\n",
              "    </tr>\n",
              "  </tbody>\n",
              "</table>\n",
              "</div>"
            ],
            "text/plain": [
              "            id              product_name  quantity          supplier unit_cost\n",
              "0  ae4d9000001        sildenafil citrate       261        Wisozk Inc    $10.47\n",
              "1  ae4d9000002  Mountain Juniperus ashei       292   Keebler-Hilpert     $8.74\n",
              "2  ae4d9000003      Dextromathorphan HBr       211  Schmitt-Weissnat    $20.53"
            ]
          },
          "metadata": {
            "tags": []
          },
          "execution_count": 34
        }
      ]
    },
    {
      "cell_type": "code",
      "metadata": {
        "id": "enst4huEsKfr",
        "colab_type": "code",
        "colab": {
          "base_uri": "https://localhost:8080/",
          "height": 187
        },
        "outputId": "4c75a331-d201-42f1-d505-585e44a18e3f"
      },
      "source": [
        "pdf_from_list_of_dictionaries.info()"
      ],
      "execution_count": 36,
      "outputs": [
        {
          "output_type": "stream",
          "text": [
            "<class 'pandas.core.frame.DataFrame'>\n",
            "RangeIndex: 3 entries, 0 to 2\n",
            "Data columns (total 5 columns):\n",
            "id              3 non-null object\n",
            "product_name    3 non-null object\n",
            "quantity        3 non-null int64\n",
            "supplier        3 non-null object\n",
            "unit_cost       3 non-null object\n",
            "dtypes: int64(1), object(4)\n",
            "memory usage: 200.0+ bytes\n"
          ],
          "name": "stdout"
        }
      ]
    },
    {
      "cell_type": "markdown",
      "metadata": {
        "id": "sGubUiaysKfu",
        "colab_type": "text"
      },
      "source": [
        "__The End__"
      ]
    }
  ]
}