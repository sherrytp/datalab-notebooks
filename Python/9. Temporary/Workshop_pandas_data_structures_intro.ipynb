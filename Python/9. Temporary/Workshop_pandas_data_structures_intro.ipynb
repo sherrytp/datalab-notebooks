{
  "nbformat": 4,
  "nbformat_minor": 0,
  "metadata": {
    "colab": {
      "name": "Workshop - pandas data structures intro.ipynb",
      "provenance": [],
      "include_colab_link": true
    },
    "kernelspec": {
      "name": "python3",
      "display_name": "Python 3"
    }
  },
  "cells": [
    {
      "cell_type": "markdown",
      "metadata": {
        "id": "view-in-github",
        "colab_type": "text"
      },
      "source": [
        "<a href=\"https://colab.research.google.com/github/data-space/datalab-notebooks/blob/master/Python/9.%20Temporary/Workshop_pandas_data_structures_intro.ipynb\" target=\"_parent\"><img src=\"https://colab.research.google.com/assets/colab-badge.svg\" alt=\"Open In Colab\"/></a>"
      ]
    },
    {
      "cell_type": "markdown",
      "metadata": {
        "id": "Fwk2cSrAj5Kj",
        "colab_type": "text"
      },
      "source": [
        "# Workshop - pandas Data Structures Intro\n",
        "\n",
        "Work from the pandas documentation:\n",
        "- [`https://pandas.pydata.org/pandas-docs/stable/getting_started/dsintro.html`](https://pandas.pydata.org/pandas-docs/stable/getting_started/dsintro.html)"
      ]
    },
    {
      "cell_type": "markdown",
      "metadata": {
        "id": "kI5i2HZU6Isp",
        "colab_type": "text"
      },
      "source": [
        "You might enjoy modifying some of the examples to use the diamonds dataframe: "
      ]
    },
    {
      "cell_type": "code",
      "metadata": {
        "id": "mbbpJSl9nxgc",
        "colab_type": "code",
        "colab": {
          "base_uri": "https://localhost:8080/",
          "height": 272
        },
        "outputId": "14c57994-b01e-4133-da26-038fdf0e078b"
      },
      "source": [
        "import pandas as pd\n",
        "diamonds_pdf = pd.read_csv('https://raw.githubusercontent.com/datalab-datasets/file-samples/master/diamonds.csv').drop(columns='Unnamed: 0') \n",
        "diamonds_pdf.info()"
      ],
      "execution_count": 10,
      "outputs": [
        {
          "output_type": "stream",
          "text": [
            "<class 'pandas.core.frame.DataFrame'>\n",
            "RangeIndex: 53940 entries, 0 to 53939\n",
            "Data columns (total 10 columns):\n",
            "carat      53940 non-null float64\n",
            "cut        53940 non-null object\n",
            "color      53940 non-null object\n",
            "clarity    53940 non-null object\n",
            "depth      53940 non-null float64\n",
            "table      53940 non-null float64\n",
            "price      53940 non-null int64\n",
            "x          53940 non-null float64\n",
            "y          53940 non-null float64\n",
            "z          53940 non-null float64\n",
            "dtypes: float64(6), int64(1), object(3)\n",
            "memory usage: 4.1+ MB\n"
          ],
          "name": "stdout"
        }
      ]
    }
  ]
}