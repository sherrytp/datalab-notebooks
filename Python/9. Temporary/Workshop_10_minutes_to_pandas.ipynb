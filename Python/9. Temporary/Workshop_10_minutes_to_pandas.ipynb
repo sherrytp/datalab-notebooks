{
  "nbformat": 4,
  "nbformat_minor": 0,
  "metadata": {
    "colab": {
      "name": "Workshop - 10 minutes to pandas.ipynb",
      "provenance": [],
      "include_colab_link": true
    },
    "kernelspec": {
      "name": "python3",
      "display_name": "Python 3"
    }
  },
  "cells": [
    {
      "cell_type": "markdown",
      "metadata": {
        "id": "view-in-github",
        "colab_type": "text"
      },
      "source": [
        "<a href=\"https://colab.research.google.com/github/data-space/datalab-notebooks/blob/master/Python/9.%20Temporary/Workshop_10_minutes_to_pandas.ipynb\" target=\"_parent\"><img src=\"https://colab.research.google.com/assets/colab-badge.svg\" alt=\"Open In Colab\"/></a>"
      ]
    },
    {
      "cell_type": "markdown",
      "metadata": {
        "id": "YC2bbI4okMxM",
        "colab_type": "text"
      },
      "source": [
        "# Workshop - 10 Minutes to pandas\n",
        "\n",
        "Work from the pandas documentation:\n",
        "- [`https://pandas.pydata.org/pandas-docs/stable/getting_started/10min.html`](https://pandas.pydata.org/pandas-docs/stable/getting_started/10min.html)"
      ]
    },
    {
      "cell_type": "markdown",
      "metadata": {
        "id": "X4rSthrSHKjb",
        "colab_type": "text"
      },
      "source": [
        "You may want to read in an external dataframe after trying the examples at the end of the \"10 minutes to pandas\" documentation above. Try these:  \n",
        "- https://raw.githubusercontent.com/datalab-datasets/file-samples/master/diamonds.csv\n",
        "- https://raw.githubusercontent.com/datalab-datasets/wine-quality/master/winequality-red.csv\n",
        "- https://raw.githubusercontent.com/datalab-datasets/wine-quality/master/winequality-white.csv\n",
        "\n",
        "Find a few more details on these datasets and others here:\n",
        "- https://github.com/datalab-datasets\n"
      ]
    },
    {
      "cell_type": "markdown",
      "metadata": {
        "id": "GdApE3IVHgss",
        "colab_type": "text"
      },
      "source": [
        "The diamonds dataframe can be read by pandas with:"
      ]
    },
    {
      "cell_type": "code",
      "metadata": {
        "id": "vGXPOfGbkLuw",
        "colab_type": "code",
        "colab": {}
      },
      "source": [
        "import pandas as pd\n",
        "diamonds_pdf = pd.read_csv('https://raw.githubusercontent.com/datalab-datasets/file-samples/master/diamonds.csv').drop(columns='Unnamed: 0')"
      ],
      "execution_count": 0,
      "outputs": []
    }
  ]
}