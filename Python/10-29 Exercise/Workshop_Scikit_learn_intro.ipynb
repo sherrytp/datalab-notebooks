{
  "nbformat": 4,
  "nbformat_minor": 0,
  "metadata": {
    "colab": {
      "name": "Workshop - Scikit-learn intro.ipynb",
      "provenance": [],
      "include_colab_link": true
    },
    "kernelspec": {
      "name": "python3",
      "display_name": "Python 3"
    }
  },
  "cells": [
    {
      "cell_type": "markdown",
      "metadata": {
        "id": "view-in-github",
        "colab_type": "text"
      },
      "source": [
        "<a href=\"https://colab.research.google.com/github/data-space/datalab-notebooks/blob/master/Python/9.%20Temporary/Workshop_Scikit_learn_intro.ipynb\" target=\"_parent\"><img src=\"https://colab.research.google.com/assets/colab-badge.svg\" alt=\"Open In Colab\"/></a>"
      ]
    },
    {
      "cell_type": "markdown",
      "metadata": {
        "id": "fFXHs_P2WbZO",
        "colab_type": "text"
      },
      "source": [
        "# Scikit-learn Workshop - 19 Nov 2019"
      ]
    },
    {
      "cell_type": "markdown",
      "metadata": {
        "id": "F7CtX-dIbC3T",
        "colab_type": "text"
      },
      "source": [
        "## Setup"
      ]
    },
    {
      "cell_type": "code",
      "metadata": {
        "id": "qe-GKbtkXmcR",
        "colab_type": "code",
        "colab": {}
      },
      "source": [
        "import pandas  as pd\n",
        "import numpy   as np\n",
        "import sklearn as sk"
      ],
      "execution_count": 0,
      "outputs": []
    },
    {
      "cell_type": "markdown",
      "metadata": {
        "id": "3sAOET5FbHFf",
        "colab_type": "text"
      },
      "source": [
        "### Iris dataset"
      ]
    },
    {
      "cell_type": "code",
      "metadata": {
        "id": "YxeMQak9Xfq6",
        "colab_type": "code",
        "colab": {}
      },
      "source": [
        "import pandas as pd\n",
        "from sklearn.datasets import load_iris\n",
        "iris_features = load_iris().data[:,1:]\n",
        "iris_target   = load_iris().data[:,:1]"
      ],
      "execution_count": 0,
      "outputs": []
    },
    {
      "cell_type": "markdown",
      "metadata": {
        "id": "i9Px8AjybRg3",
        "colab_type": "text"
      },
      "source": [
        "### Diamonds dataset"
      ]
    },
    {
      "cell_type": "code",
      "metadata": {
        "id": "kNGfDb2OWZS3",
        "colab_type": "code",
        "outputId": "b141e019-3799-496b-84c8-e3e3cfd6c357",
        "colab": {
          "base_uri": "https://localhost:8080/",
          "height": 204
        }
      },
      "source": [
        "import pandas as pd\n",
        "diamonds_pdf = pd.read_csv('https://raw.githubusercontent.com/datalab-datasets/file-samples/master/diamonds.csv').drop(columns='Unnamed: 0')\n",
        "diamonds_pdf.columns\n",
        "diamonds_features = diamonds_pdf.drop(labels='price',axis=1)[['x','y','z']]\n",
        "diamonds_target = diamonds_pdf['price']\n",
        "diamonds_features.head()"
      ],
      "execution_count": 3,
      "outputs": [
        {
          "output_type": "execute_result",
          "data": {
            "text/html": [
              "<div>\n",
              "<style scoped>\n",
              "    .dataframe tbody tr th:only-of-type {\n",
              "        vertical-align: middle;\n",
              "    }\n",
              "\n",
              "    .dataframe tbody tr th {\n",
              "        vertical-align: top;\n",
              "    }\n",
              "\n",
              "    .dataframe thead th {\n",
              "        text-align: right;\n",
              "    }\n",
              "</style>\n",
              "<table border=\"1\" class=\"dataframe\">\n",
              "  <thead>\n",
              "    <tr style=\"text-align: right;\">\n",
              "      <th></th>\n",
              "      <th>x</th>\n",
              "      <th>y</th>\n",
              "      <th>z</th>\n",
              "    </tr>\n",
              "  </thead>\n",
              "  <tbody>\n",
              "    <tr>\n",
              "      <th>0</th>\n",
              "      <td>3.95</td>\n",
              "      <td>3.98</td>\n",
              "      <td>2.43</td>\n",
              "    </tr>\n",
              "    <tr>\n",
              "      <th>1</th>\n",
              "      <td>3.89</td>\n",
              "      <td>3.84</td>\n",
              "      <td>2.31</td>\n",
              "    </tr>\n",
              "    <tr>\n",
              "      <th>2</th>\n",
              "      <td>4.05</td>\n",
              "      <td>4.07</td>\n",
              "      <td>2.31</td>\n",
              "    </tr>\n",
              "    <tr>\n",
              "      <th>3</th>\n",
              "      <td>4.20</td>\n",
              "      <td>4.23</td>\n",
              "      <td>2.63</td>\n",
              "    </tr>\n",
              "    <tr>\n",
              "      <th>4</th>\n",
              "      <td>4.34</td>\n",
              "      <td>4.35</td>\n",
              "      <td>2.75</td>\n",
              "    </tr>\n",
              "  </tbody>\n",
              "</table>\n",
              "</div>"
            ],
            "text/plain": [
              "      x     y     z\n",
              "0  3.95  3.98  2.43\n",
              "1  3.89  3.84  2.31\n",
              "2  4.05  4.07  2.31\n",
              "3  4.20  4.23  2.63\n",
              "4  4.34  4.35  2.75"
            ]
          },
          "metadata": {
            "tags": []
          },
          "execution_count": 3
        }
      ]
    },
    {
      "cell_type": "code",
      "metadata": {
        "id": "J0JhJYRUaiNa",
        "colab_type": "code",
        "colab": {}
      },
      "source": [
        "def get_boston_housing_pdf(): # for boston housing dataset\n",
        "  from sklearn.datasets import load_boston\n",
        "  feature_names = [name.lower() \n",
        "                   for name in load_boston().get('feature_names').tolist()\n",
        "                  ]\n",
        "  features_pdf = pd.DataFrame(data=load_boston().get('data'),\n",
        "                              columns=feature_names\n",
        "                             )\n",
        "  target_pdf = pd.DataFrame(data={'price': load_boston().get('target')}\n",
        "                           )\n",
        "  return pd.concat([features_pdf, target_pdf],\n",
        "                   axis='columns',\n",
        "                   join='inner')"
      ],
      "execution_count": 0,
      "outputs": []
    },
    {
      "cell_type": "code",
      "metadata": {
        "id": "e6mVUuDpZ4kP",
        "colab_type": "code",
        "outputId": "2708056b-93c6-4887-a058-717cd345e368",
        "colab": {
          "base_uri": "https://localhost:8080/",
          "height": 204
        }
      },
      "source": [
        "boston_housing_pdf = get_boston_housing_pdf().select_dtypes(include=['float','int'])\n",
        "\n",
        "boston_housing_features = boston_housing_pdf.drop(labels='price',axis=1)\n",
        "boston_housing_target = boston_housing_pdf['price']\n",
        "boston_housing_features.head()"
      ],
      "execution_count": 5,
      "outputs": [
        {
          "output_type": "execute_result",
          "data": {
            "text/html": [
              "<div>\n",
              "<style scoped>\n",
              "    .dataframe tbody tr th:only-of-type {\n",
              "        vertical-align: middle;\n",
              "    }\n",
              "\n",
              "    .dataframe tbody tr th {\n",
              "        vertical-align: top;\n",
              "    }\n",
              "\n",
              "    .dataframe thead th {\n",
              "        text-align: right;\n",
              "    }\n",
              "</style>\n",
              "<table border=\"1\" class=\"dataframe\">\n",
              "  <thead>\n",
              "    <tr style=\"text-align: right;\">\n",
              "      <th></th>\n",
              "      <th>crim</th>\n",
              "      <th>zn</th>\n",
              "      <th>indus</th>\n",
              "      <th>chas</th>\n",
              "      <th>nox</th>\n",
              "      <th>rm</th>\n",
              "      <th>age</th>\n",
              "      <th>dis</th>\n",
              "      <th>rad</th>\n",
              "      <th>tax</th>\n",
              "      <th>ptratio</th>\n",
              "      <th>b</th>\n",
              "      <th>lstat</th>\n",
              "    </tr>\n",
              "  </thead>\n",
              "  <tbody>\n",
              "    <tr>\n",
              "      <th>0</th>\n",
              "      <td>0.00632</td>\n",
              "      <td>18.0</td>\n",
              "      <td>2.31</td>\n",
              "      <td>0.0</td>\n",
              "      <td>0.538</td>\n",
              "      <td>6.575</td>\n",
              "      <td>65.2</td>\n",
              "      <td>4.0900</td>\n",
              "      <td>1.0</td>\n",
              "      <td>296.0</td>\n",
              "      <td>15.3</td>\n",
              "      <td>396.90</td>\n",
              "      <td>4.98</td>\n",
              "    </tr>\n",
              "    <tr>\n",
              "      <th>1</th>\n",
              "      <td>0.02731</td>\n",
              "      <td>0.0</td>\n",
              "      <td>7.07</td>\n",
              "      <td>0.0</td>\n",
              "      <td>0.469</td>\n",
              "      <td>6.421</td>\n",
              "      <td>78.9</td>\n",
              "      <td>4.9671</td>\n",
              "      <td>2.0</td>\n",
              "      <td>242.0</td>\n",
              "      <td>17.8</td>\n",
              "      <td>396.90</td>\n",
              "      <td>9.14</td>\n",
              "    </tr>\n",
              "    <tr>\n",
              "      <th>2</th>\n",
              "      <td>0.02729</td>\n",
              "      <td>0.0</td>\n",
              "      <td>7.07</td>\n",
              "      <td>0.0</td>\n",
              "      <td>0.469</td>\n",
              "      <td>7.185</td>\n",
              "      <td>61.1</td>\n",
              "      <td>4.9671</td>\n",
              "      <td>2.0</td>\n",
              "      <td>242.0</td>\n",
              "      <td>17.8</td>\n",
              "      <td>392.83</td>\n",
              "      <td>4.03</td>\n",
              "    </tr>\n",
              "    <tr>\n",
              "      <th>3</th>\n",
              "      <td>0.03237</td>\n",
              "      <td>0.0</td>\n",
              "      <td>2.18</td>\n",
              "      <td>0.0</td>\n",
              "      <td>0.458</td>\n",
              "      <td>6.998</td>\n",
              "      <td>45.8</td>\n",
              "      <td>6.0622</td>\n",
              "      <td>3.0</td>\n",
              "      <td>222.0</td>\n",
              "      <td>18.7</td>\n",
              "      <td>394.63</td>\n",
              "      <td>2.94</td>\n",
              "    </tr>\n",
              "    <tr>\n",
              "      <th>4</th>\n",
              "      <td>0.06905</td>\n",
              "      <td>0.0</td>\n",
              "      <td>2.18</td>\n",
              "      <td>0.0</td>\n",
              "      <td>0.458</td>\n",
              "      <td>7.147</td>\n",
              "      <td>54.2</td>\n",
              "      <td>6.0622</td>\n",
              "      <td>3.0</td>\n",
              "      <td>222.0</td>\n",
              "      <td>18.7</td>\n",
              "      <td>396.90</td>\n",
              "      <td>5.33</td>\n",
              "    </tr>\n",
              "  </tbody>\n",
              "</table>\n",
              "</div>"
            ],
            "text/plain": [
              "      crim    zn  indus  chas    nox  ...  rad    tax  ptratio       b  lstat\n",
              "0  0.00632  18.0   2.31   0.0  0.538  ...  1.0  296.0     15.3  396.90   4.98\n",
              "1  0.02731   0.0   7.07   0.0  0.469  ...  2.0  242.0     17.8  396.90   9.14\n",
              "2  0.02729   0.0   7.07   0.0  0.469  ...  2.0  242.0     17.8  392.83   4.03\n",
              "3  0.03237   0.0   2.18   0.0  0.458  ...  3.0  222.0     18.7  394.63   2.94\n",
              "4  0.06905   0.0   2.18   0.0  0.458  ...  3.0  222.0     18.7  396.90   5.33\n",
              "\n",
              "[5 rows x 13 columns]"
            ]
          },
          "metadata": {
            "tags": []
          },
          "execution_count": 5
        }
      ]
    },
    {
      "cell_type": "markdown",
      "metadata": {
        "id": "nlIUMN51dWnv",
        "colab_type": "text"
      },
      "source": [
        "Our first step is to create a train dataset and a test dataset from our dataset, which is `iris_features` and `iris_target`. Use the `train_test_split` function from the `sklearn` library to do so. "
      ]
    },
    {
      "cell_type": "code",
      "metadata": {
        "id": "A0f-uxixdmnw",
        "colab_type": "code",
        "colab": {}
      },
      "source": [
        "from sklearn.model_selection import train_test_split\n",
        "iris_x_train, iris_x_test, iris_y_train, iris_y_test = train_test_split(iris_features,\n",
        "                                                                        iris_target)"
      ],
      "execution_count": 0,
      "outputs": []
    },
    {
      "cell_type": "markdown",
      "metadata": {
        "id": "Np1ufJPSduy_",
        "colab_type": "text"
      },
      "source": [
        "Notice that the train dataset is `iris_x_train` and `iris_y_train`, which correspond to the features and the target. "
      ]
    },
    {
      "cell_type": "markdown",
      "metadata": {
        "id": "mN5vf6aueC4d",
        "colab_type": "text"
      },
      "source": [
        "__Exercise__: create train and test datasets \n",
        "- for the `diamonds_features`, `diamonds_target` dataset called `diamonds_x_train`, `diamonds_x_test`, `diamonds_y_train`, `diamonds_y_test`\n",
        "- for the `boston_housing_features`,`boston_housing_target` dataset called `boston_x_train`, `boston_x_test`, `boston_y_train`, `boston_y_test`\n",
        "\n",
        "In both cases put the result of the "
      ]
    },
    {
      "cell_type": "markdown",
      "metadata": {
        "id": "dBfBItlkbli-",
        "colab_type": "text"
      },
      "source": [
        "## Algorithms to models to prediction"
      ]
    },
    {
      "cell_type": "markdown",
      "metadata": {
        "id": "cH3NMiyucbWS",
        "colab_type": "text"
      },
      "source": [
        "Linear regression is an algorithm. This algorithm (and many others) have parameters that determine how they work. The Scikit-learn version of the linear regression algorithm has parameters named `copy_X`, `fit_intercept`, `n_jobs`, `normalize`. The values indicated below are defaults. "
      ]
    },
    {
      "cell_type": "code",
      "metadata": {
        "id": "UPkRAT9kY2we",
        "colab_type": "code",
        "outputId": "94bcff64-17a9-4add-fc7d-05c0adf6087c",
        "colab": {
          "base_uri": "https://localhost:8080/",
          "height": 34
        }
      },
      "source": [
        "from sklearn.linear_model import LinearRegression\n",
        "iris_linreg_algorithm = LinearRegression()\n",
        "iris_linreg_algorithm"
      ],
      "execution_count": 7,
      "outputs": [
        {
          "output_type": "execute_result",
          "data": {
            "text/plain": [
              "LinearRegression(copy_X=True, fit_intercept=True, n_jobs=None, normalize=False)"
            ]
          },
          "metadata": {
            "tags": []
          },
          "execution_count": 7
        }
      ]
    },
    {
      "cell_type": "markdown",
      "metadata": {
        "id": "VHpKtbbCfyfn",
        "colab_type": "text"
      },
      "source": [
        "__Exercise__: Create algorithm objects for diamonds and boston, named `diamonds_linreg_algorithm` and `boston_linreg_algorithm`."
      ]
    },
    {
      "cell_type": "markdown",
      "metadata": {
        "id": "qQgG3AthdEG4",
        "colab_type": "text"
      },
      "source": [
        "Recall that algorithms take train datasets as input and produce models as output. We do this for the iris dataset below, using the `fit` method of the ."
      ]
    },
    {
      "cell_type": "code",
      "metadata": {
        "id": "PmmIZ4ObdKdW",
        "colab_type": "code",
        "outputId": "ff0695f0-ff20-41af-d028-a878be9d6e80",
        "colab": {
          "base_uri": "https://localhost:8080/",
          "height": 34
        }
      },
      "source": [
        "iris_linreg_model = iris_linreg_algorithm.fit(X=iris_x_train,\n",
        "                                              y=iris_y_train)\n",
        "iris_linreg_model"
      ],
      "execution_count": 8,
      "outputs": [
        {
          "output_type": "execute_result",
          "data": {
            "text/plain": [
              "LinearRegression(copy_X=True, fit_intercept=True, n_jobs=None, normalize=False)"
            ]
          },
          "metadata": {
            "tags": []
          },
          "execution_count": 8
        }
      ]
    },
    {
      "cell_type": "markdown",
      "metadata": {
        "id": "WPB2QV1BgLZb",
        "colab_type": "text"
      },
      "source": [
        "__Exercise__: Create model objects for diamonds and boston, named `diamonds_linreg_model` and `boston_linreg_model`. Use the corresponding train dataset."
      ]
    },
    {
      "cell_type": "markdown",
      "metadata": {
        "id": "b_3mpmN1hSC8",
        "colab_type": "text"
      },
      "source": [
        "Recall that models take test datasets as input and produce predictions as output. We do this for the iris dataset below, using the `predict` method."
      ]
    },
    {
      "cell_type": "code",
      "metadata": {
        "id": "uimU_i8_hRoz",
        "colab_type": "code",
        "outputId": "2dca6281-61cd-4039-e291-71a27edff63c",
        "colab": {
          "base_uri": "https://localhost:8080/",
          "height": 1000
        }
      },
      "source": [
        "iris_linreg_predictions = iris_linreg_model.predict(X=iris_x_train)\n",
        "iris_linreg_predictions"
      ],
      "execution_count": 9,
      "outputs": [
        {
          "output_type": "execute_result",
          "data": {
            "text/plain": [
              "array([[6.27836621],\n",
              "       [5.72172849],\n",
              "       [6.47944588],\n",
              "       [4.98139783],\n",
              "       [6.55285333],\n",
              "       [6.43774758],\n",
              "       [5.19840125],\n",
              "       [5.71394093],\n",
              "       [5.97960887],\n",
              "       [6.31046535],\n",
              "       [6.56937735],\n",
              "       [5.09736629],\n",
              "       [6.20500012],\n",
              "       [7.31160233],\n",
              "       [4.99585862],\n",
              "       [5.46699513],\n",
              "       [4.78600113],\n",
              "       [4.60777008],\n",
              "       [5.96850538],\n",
              "       [4.79185301],\n",
              "       [6.86568146],\n",
              "       [4.65682459],\n",
              "       [7.8716387 ],\n",
              "       [6.27690324],\n",
              "       [6.15740858],\n",
              "       [4.87782692],\n",
              "       [6.3949763 ],\n",
              "       [5.19840125],\n",
              "       [5.16986968],\n",
              "       [5.91945087],\n",
              "       [4.94534114],\n",
              "       [4.7058791 ],\n",
              "       [6.50083152],\n",
              "       [5.06337283],\n",
              "       [4.72287583],\n",
              "       [6.70147983],\n",
              "       [6.55139036],\n",
              "       [7.76281617],\n",
              "       [6.46102754],\n",
              "       [5.51768153],\n",
              "       [6.74472383],\n",
              "       [6.17251099],\n",
              "       [7.1843201 ],\n",
              "       [6.24634979],\n",
              "       [4.79331598],\n",
              "       [7.1799312 ],\n",
              "       [6.36287715],\n",
              "       [6.292437  ],\n",
              "       [4.8977496 ],\n",
              "       [5.33489265],\n",
              "       [6.15740858],\n",
              "       [6.69515524],\n",
              "       [5.10029223],\n",
              "       [6.09574624],\n",
              "       [4.93613197],\n",
              "       [5.13381298],\n",
              "       [6.92979702],\n",
              "       [6.12048917],\n",
              "       [5.44371517],\n",
              "       [6.25698057],\n",
              "       [5.96553808],\n",
              "       [6.65582398],\n",
              "       [4.99585862],\n",
              "       [5.57289172],\n",
              "       [6.08989437],\n",
              "       [4.49894755],\n",
              "       [6.30749805],\n",
              "       [7.17558365],\n",
              "       [5.4457784 ],\n",
              "       [4.86229316],\n",
              "       [6.89335033],\n",
              "       [6.69713229],\n",
              "       [6.35220501],\n",
              "       [6.28615377],\n",
              "       [6.43624324],\n",
              "       [5.46570108],\n",
              "       [6.7277271 ],\n",
              "       [6.8686074 ],\n",
              "       [5.57306063],\n",
              "       [4.84237049],\n",
              "       [6.54218119],\n",
              "       [4.92980737],\n",
              "       [6.08361114],\n",
              "       [6.76753107],\n",
              "       [4.91913524],\n",
              "       [6.70001686],\n",
              "       [5.35481532],\n",
              "       [5.96218079],\n",
              "       [5.06190986],\n",
              "       [6.13748591],\n",
              "       [6.24781276],\n",
              "       [5.51751261],\n",
              "       [5.60219247],\n",
              "       [5.03776719],\n",
              "       [6.05301633],\n",
              "       [6.90406383],\n",
              "       [6.27544027],\n",
              "       [5.0648358 ],\n",
              "       [5.61729488],\n",
              "       [4.72287583],\n",
              "       [6.40418546],\n",
              "       [6.48680209],\n",
              "       [6.09764057],\n",
              "       [4.99439565],\n",
              "       [5.27176734],\n",
              "       [6.45181837],\n",
              "       [5.99475265],\n",
              "       [5.19401235],\n",
              "       [5.84604342],\n",
              "       [5.95047703],\n",
              "       [6.05004902],\n",
              "       [4.58931037]])"
            ]
          },
          "metadata": {
            "tags": []
          },
          "execution_count": 9
        }
      ]
    },
    {
      "cell_type": "markdown",
      "metadata": {
        "id": "Z7hGxa78flG8",
        "colab_type": "text"
      },
      "source": [
        "__Exercise__: Create predictions for diamonds and for boston named `diamonds_linreg_predictions` and `boston_linreg_predictions`."
      ]
    },
    {
      "cell_type": "code",
      "metadata": {
        "id": "2ldBvPp4ihBe",
        "colab_type": "code",
        "outputId": "12e1e13b-b20c-42d9-e071-afd305a05849",
        "colab": {
          "base_uri": "https://localhost:8080/",
          "height": 34
        }
      },
      "source": [
        "iris_linreg_model.score(X=iris_x_test,\n",
        "                        y=iris_y_test)"
      ],
      "execution_count": 10,
      "outputs": [
        {
          "output_type": "execute_result",
          "data": {
            "text/plain": [
              "0.8707089962340753"
            ]
          },
          "metadata": {
            "tags": []
          },
          "execution_count": 10
        }
      ]
    },
    {
      "cell_type": "markdown",
      "metadata": {
        "id": "2HGPljZQieLR",
        "colab_type": "text"
      },
      "source": [
        ""
      ]
    },
    {
      "cell_type": "markdown",
      "metadata": {
        "colab_type": "text",
        "id": "CWugEh70izUW"
      },
      "source": [
        "__Exercise__: Create a score for the predictions for diamonds and for boston named `diamonds_linreg_score` and `boston_linreg_score`."
      ]
    },
    {
      "cell_type": "markdown",
      "metadata": {
        "id": "LvYFD5lVq32-",
        "colab_type": "text"
      },
      "source": [
        "## Try other algorithms"
      ]
    },
    {
      "cell_type": "markdown",
      "metadata": {
        "id": "XaBQqL2JwUSx",
        "colab_type": "text"
      },
      "source": [
        "Below we try the decision tree and k-nearest neighbor algorithms on the same datasets. "
      ]
    },
    {
      "cell_type": "markdown",
      "metadata": {
        "id": "y4NpMHABwbrv",
        "colab_type": "text"
      },
      "source": [
        "### Decision tree"
      ]
    },
    {
      "cell_type": "markdown",
      "metadata": {
        "id": "v_2nf9DCq-Uj",
        "colab_type": "text"
      },
      "source": [
        "Below we swap in the decision tree algorithm at the beginning of the sequence. Notice though that the remaining steps are the same. "
      ]
    },
    {
      "cell_type": "code",
      "metadata": {
        "id": "lEqd0fjcrQbq",
        "colab_type": "code",
        "colab": {
          "base_uri": "https://localhost:8080/",
          "height": 102
        },
        "outputId": "18a10e34-6833-4c14-c648-32ce073a08d9"
      },
      "source": [
        "from sklearn.tree import DecisionTreeRegressor\n",
        "iris_decisiontree_algorithm = DecisionTreeRegressor()\n",
        "iris_decisiontree_algorithm"
      ],
      "execution_count": 11,
      "outputs": [
        {
          "output_type": "execute_result",
          "data": {
            "text/plain": [
              "DecisionTreeRegressor(criterion='mse', max_depth=None, max_features=None,\n",
              "                      max_leaf_nodes=None, min_impurity_decrease=0.0,\n",
              "                      min_impurity_split=None, min_samples_leaf=1,\n",
              "                      min_samples_split=2, min_weight_fraction_leaf=0.0,\n",
              "                      presort=False, random_state=None, splitter='best')"
            ]
          },
          "metadata": {
            "tags": []
          },
          "execution_count": 11
        }
      ]
    },
    {
      "cell_type": "code",
      "metadata": {
        "id": "FmXVGTTgrcvE",
        "colab_type": "code",
        "colab": {
          "base_uri": "https://localhost:8080/",
          "height": 102
        },
        "outputId": "371b5cb8-6501-42c3-a3c9-78097ebfce01"
      },
      "source": [
        "iris_decisiontree_model = iris_decisiontree_algorithm.fit(X=iris_x_train,\n",
        "                                                          y=iris_y_train)\n",
        "iris_decisiontree_model"
      ],
      "execution_count": 12,
      "outputs": [
        {
          "output_type": "execute_result",
          "data": {
            "text/plain": [
              "DecisionTreeRegressor(criterion='mse', max_depth=None, max_features=None,\n",
              "                      max_leaf_nodes=None, min_impurity_decrease=0.0,\n",
              "                      min_impurity_split=None, min_samples_leaf=1,\n",
              "                      min_samples_split=2, min_weight_fraction_leaf=0.0,\n",
              "                      presort=False, random_state=None, splitter='best')"
            ]
          },
          "metadata": {
            "tags": []
          },
          "execution_count": 12
        }
      ]
    },
    {
      "cell_type": "code",
      "metadata": {
        "id": "JL9yc6G5siMX",
        "colab_type": "code",
        "colab": {
          "base_uri": "https://localhost:8080/",
          "height": 34
        },
        "outputId": "4167268b-3bde-4fdc-c90a-4433a39dc2d2"
      },
      "source": [
        "iris_decisiontree_score = iris_decisiontree_model.score(X=iris_x_test,\n",
        "                                                        y=iris_y_test)\n",
        "iris_decisiontree_score"
      ],
      "execution_count": 13,
      "outputs": [
        {
          "output_type": "execute_result",
          "data": {
            "text/plain": [
              "0.7839381380774286"
            ]
          },
          "metadata": {
            "tags": []
          },
          "execution_count": 13
        }
      ]
    },
    {
      "cell_type": "code",
      "metadata": {
        "id": "Adi5ELwKrchS",
        "colab_type": "code",
        "colab": {
          "base_uri": "https://localhost:8080/",
          "height": 85
        },
        "outputId": "ab2bd08b-71ce-4a4b-ad84-7adc31e81aff"
      },
      "source": [
        "iris_decisiontree_predictions = iris_decisiontree_model.predict(X=iris_x_test)\n",
        "iris_decisiontree_predictions"
      ],
      "execution_count": 14,
      "outputs": [
        {
          "output_type": "execute_result",
          "data": {
            "text/plain": [
              "array([4.9 , 6.8 , 5.7 , 7.7 , 4.6 , 4.55, 5.1 , 4.6 , 4.9 , 7.9 , 5.  ,\n",
              "       5.5 , 5.1 , 6.1 , 6.5 , 4.6 , 5.5 , 5.6 , 6.7 , 6.2 , 4.8 , 4.55,\n",
              "       6.1 , 5.5 , 6.  , 5.5 , 6.1 , 5.8 , 5.6 , 6.1 , 6.2 , 4.55, 4.55,\n",
              "       4.9 , 5.8 , 4.55, 6.7 , 5.7 ])"
            ]
          },
          "metadata": {
            "tags": []
          },
          "execution_count": 14
        }
      ]
    },
    {
      "cell_type": "markdown",
      "metadata": {
        "id": "kWWud8dWtodE",
        "colab_type": "text"
      },
      "source": [
        "Below the steps are run in a single code cell. "
      ]
    },
    {
      "cell_type": "code",
      "metadata": {
        "id": "EuT0Uwt-tzj0",
        "colab_type": "code",
        "colab": {
          "base_uri": "https://localhost:8080/",
          "height": 102
        },
        "outputId": "9b06791d-c1b1-4697-d464-aa71d0de1409"
      },
      "source": [
        "from sklearn.tree import DecisionTreeRegressor\n",
        "iris_decisiontree_algorithm   = DecisionTreeRegressor()\n",
        "iris_decisiontree_model       = iris_decisiontree_algorithm.fit(X=iris_x_train,\n",
        "                                                                y=iris_y_train)\n",
        "iris_decisiontree_score       = iris_decisiontree_model.score(X=iris_x_test,\n",
        "                                                              y=iris_y_test)\n",
        "iris_decisiontree_predictions = iris_decisiontree_model.predict(X=iris_x_test)\n",
        "\n",
        "(iris_decisiontree_score, \n",
        " iris_decisiontree_predictions\n",
        ")"
      ],
      "execution_count": 15,
      "outputs": [
        {
          "output_type": "execute_result",
          "data": {
            "text/plain": [
              "(0.7884194211395262,\n",
              " array([4.9 , 6.8 , 5.7 , 7.7 , 4.6 , 4.55, 5.1 , 4.6 , 4.9 , 7.7 , 5.  ,\n",
              "        5.6 , 5.1 , 6.1 , 6.5 , 4.6 , 5.6 , 5.6 , 7.  , 6.2 , 4.8 , 4.6 ,\n",
              "        6.1 , 5.5 , 6.  , 5.5 , 6.1 , 5.8 , 5.6 , 6.1 , 6.2 , 4.55, 4.55,\n",
              "        5.1 , 5.8 , 4.6 , 6.7 , 5.7 ]))"
            ]
          },
          "metadata": {
            "tags": []
          },
          "execution_count": 15
        }
      ]
    },
    {
      "cell_type": "markdown",
      "metadata": {
        "id": "yeWSQ1Gdv3Gq",
        "colab_type": "text"
      },
      "source": [
        "__Exercise__: copy-paste the above code cell and modify the copy to work with the diamonds dataset. They modify another copy to work with the boston dataset.  "
      ]
    },
    {
      "cell_type": "markdown",
      "metadata": {
        "id": "KxWs5itEwe4e",
        "colab_type": "text"
      },
      "source": [
        "### K-nearest neighbors"
      ]
    },
    {
      "cell_type": "markdown",
      "metadata": {
        "id": "Ks5fHRrfwsiL",
        "colab_type": "text"
      },
      "source": [
        "See the documentation and modify the below code cell to work with the \n",
        "\n",
        "- https://scikit-learn.org/stable/modules/generated/sklearn.neighbors.KNeighborsRegressor.html#sklearn.neighbors.KNeighborsRegressor"
      ]
    },
    {
      "cell_type": "code",
      "metadata": {
        "id": "MqeEdL1WwihY",
        "colab_type": "code",
        "colab": {}
      },
      "source": [
        "from sklearn.tree import DecisionTreeRegressor\n",
        "iris_decisiontree_algorithm   = DecisionTreeRegressor()\n",
        "iris_decisiontree_model       = iris_decisiontree_algorithm.fit(X=iris_x_train,\n",
        "                                                                y=iris_y_train)\n",
        "iris_decisiontree_score       = iris_decisiontree_model.score(X=iris_x_test,\n",
        "                                                              y=iris_y_test)\n",
        "iris_decisiontree_predictions = iris_decisiontree_model.predict(X=iris_x_test)\n",
        "\n",
        "(iris_decisiontree_score, \n",
        " iris_decisiontree_predictions\n",
        ")"
      ],
      "execution_count": 0,
      "outputs": []
    }
  ]
}