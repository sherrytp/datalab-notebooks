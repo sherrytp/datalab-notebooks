{
 "cells": [
  {
   "cell_type": "markdown",
   "metadata": {
    "colab_type": "text",
    "id": "view-in-github"
   },
   "source": [
    "<a href=\"https://colab.research.google.com/github/data-space/datalab-notebooks/blob/master/Python/9.%20Temporary/Workshop_time_series_intro.ipynb\" target=\"_parent\"><img src=\"https://colab.research.google.com/assets/colab-badge.svg\" alt=\"Open In Colab\"/></a>"
   ]
  },
  {
   "cell_type": "markdown",
   "metadata": {
    "colab_type": "text",
    "id": "fFXHs_P2WbZO"
   },
   "source": [
    "# Time Series Workshop - 2 Dec 2019"
   ]
  },
  {
   "cell_type": "markdown",
   "metadata": {
    "colab_type": "text",
    "id": "l3wmtJpfC6Yi"
   },
   "source": [
    "## Links\n",
    "- https://pandas.pydata.org/pandas-docs/stable/user_guide/timeseries.html#dateoffset-objects\n",
    "- https://www.quandl.com/tools/python\n",
    "- https://en.wikipedia.org/wiki/S&P_500_Index"
   ]
  },
  {
   "cell_type": "markdown",
   "metadata": {
    "colab_type": "text",
    "id": "F7CtX-dIbC3T"
   },
   "source": [
    "## Setup"
   ]
  },
  {
   "cell_type": "code",
   "execution_count": 1,
   "metadata": {
    "colab": {},
    "colab_type": "code",
    "id": "qe-GKbtkXmcR"
   },
   "outputs": [],
   "source": [
    "import pandas  as pd\n",
    "import numpy   as np\n",
    "import sklearn as sk"
   ]
  },
  {
   "cell_type": "markdown",
   "metadata": {
    "colab_type": "text",
    "id": "0h9uib3qD8ip"
   },
   "source": [
    "## Datasets"
   ]
  },
  {
   "cell_type": "markdown",
   "metadata": {
    "colab_type": "text",
    "id": "-r1_SlbMEBLb"
   },
   "source": [
    "### Pico datasets - creating time series "
   ]
  },
  {
   "cell_type": "markdown",
   "metadata": {
    "colab_type": "text",
    "id": "IbtB4A_GEou2"
   },
   "source": [
    "- https://pandas.pydata.org/pandas-docs/stable/reference/api/pandas.date_range.html\n",
    "- https://machinelearningmastery.com/how-to-generate-random-numbers-in-python/\n",
    "- https://pandas.pydata.org/pandas-docs/stable/user_guide/timeseries.html#dateoffset-objects"
   ]
  },
  {
   "cell_type": "code",
   "execution_count": 2,
   "metadata": {
    "colab": {},
    "colab_type": "code",
    "id": "17AyOOy3Gpdm"
   },
   "outputs": [
    {
     "data": {
      "text/plain": [
       "<function Random.random>"
      ]
     },
     "execution_count": 2,
     "metadata": {},
     "output_type": "execute_result"
    }
   ],
   "source": [
    "import random\n",
    "random.random"
   ]
  },
  {
   "cell_type": "code",
   "execution_count": 3,
   "metadata": {
    "colab": {},
    "colab_type": "code",
    "id": "614_5g2vEMT6"
   },
   "outputs": [
    {
     "data": {
      "text/html": [
       "<div>\n",
       "<style scoped>\n",
       "    .dataframe tbody tr th:only-of-type {\n",
       "        vertical-align: middle;\n",
       "    }\n",
       "\n",
       "    .dataframe tbody tr th {\n",
       "        vertical-align: top;\n",
       "    }\n",
       "\n",
       "    .dataframe thead th {\n",
       "        text-align: right;\n",
       "    }\n",
       "</style>\n",
       "<table border=\"1\" class=\"dataframe\">\n",
       "  <thead>\n",
       "    <tr style=\"text-align: right;\">\n",
       "      <th></th>\n",
       "      <th>col_a</th>\n",
       "      <th>col_b</th>\n",
       "    </tr>\n",
       "  </thead>\n",
       "  <tbody>\n",
       "    <tr>\n",
       "      <th>2019-11-01</th>\n",
       "      <td>0</td>\n",
       "      <td>10</td>\n",
       "    </tr>\n",
       "    <tr>\n",
       "      <th>2019-11-02</th>\n",
       "      <td>1</td>\n",
       "      <td>10</td>\n",
       "    </tr>\n",
       "    <tr>\n",
       "      <th>2019-11-03</th>\n",
       "      <td>2</td>\n",
       "      <td>10</td>\n",
       "    </tr>\n",
       "    <tr>\n",
       "      <th>2019-11-04</th>\n",
       "      <td>3</td>\n",
       "      <td>10</td>\n",
       "    </tr>\n",
       "    <tr>\n",
       "      <th>2019-11-05</th>\n",
       "      <td>4</td>\n",
       "      <td>10</td>\n",
       "    </tr>\n",
       "    <tr>\n",
       "      <th>2019-11-06</th>\n",
       "      <td>5</td>\n",
       "      <td>10</td>\n",
       "    </tr>\n",
       "    <tr>\n",
       "      <th>2019-11-07</th>\n",
       "      <td>6</td>\n",
       "      <td>10</td>\n",
       "    </tr>\n",
       "    <tr>\n",
       "      <th>2019-11-08</th>\n",
       "      <td>7</td>\n",
       "      <td>10</td>\n",
       "    </tr>\n",
       "    <tr>\n",
       "      <th>2019-11-09</th>\n",
       "      <td>8</td>\n",
       "      <td>10</td>\n",
       "    </tr>\n",
       "    <tr>\n",
       "      <th>2019-11-10</th>\n",
       "      <td>9</td>\n",
       "      <td>10</td>\n",
       "    </tr>\n",
       "    <tr>\n",
       "      <th>2019-11-11</th>\n",
       "      <td>10</td>\n",
       "      <td>10</td>\n",
       "    </tr>\n",
       "    <tr>\n",
       "      <th>2019-11-12</th>\n",
       "      <td>11</td>\n",
       "      <td>10</td>\n",
       "    </tr>\n",
       "    <tr>\n",
       "      <th>2019-11-13</th>\n",
       "      <td>12</td>\n",
       "      <td>10</td>\n",
       "    </tr>\n",
       "    <tr>\n",
       "      <th>2019-11-14</th>\n",
       "      <td>13</td>\n",
       "      <td>10</td>\n",
       "    </tr>\n",
       "    <tr>\n",
       "      <th>2019-11-15</th>\n",
       "      <td>14</td>\n",
       "      <td>10</td>\n",
       "    </tr>\n",
       "    <tr>\n",
       "      <th>2019-11-16</th>\n",
       "      <td>15</td>\n",
       "      <td>10</td>\n",
       "    </tr>\n",
       "    <tr>\n",
       "      <th>2019-11-17</th>\n",
       "      <td>16</td>\n",
       "      <td>10</td>\n",
       "    </tr>\n",
       "    <tr>\n",
       "      <th>2019-11-18</th>\n",
       "      <td>17</td>\n",
       "      <td>10</td>\n",
       "    </tr>\n",
       "    <tr>\n",
       "      <th>2019-11-19</th>\n",
       "      <td>18</td>\n",
       "      <td>10</td>\n",
       "    </tr>\n",
       "    <tr>\n",
       "      <th>2019-11-20</th>\n",
       "      <td>19</td>\n",
       "      <td>10</td>\n",
       "    </tr>\n",
       "    <tr>\n",
       "      <th>2019-11-21</th>\n",
       "      <td>20</td>\n",
       "      <td>10</td>\n",
       "    </tr>\n",
       "    <tr>\n",
       "      <th>2019-11-22</th>\n",
       "      <td>21</td>\n",
       "      <td>10</td>\n",
       "    </tr>\n",
       "    <tr>\n",
       "      <th>2019-11-23</th>\n",
       "      <td>22</td>\n",
       "      <td>10</td>\n",
       "    </tr>\n",
       "    <tr>\n",
       "      <th>2019-11-24</th>\n",
       "      <td>23</td>\n",
       "      <td>10</td>\n",
       "    </tr>\n",
       "    <tr>\n",
       "      <th>2019-11-25</th>\n",
       "      <td>24</td>\n",
       "      <td>10</td>\n",
       "    </tr>\n",
       "    <tr>\n",
       "      <th>2019-11-26</th>\n",
       "      <td>25</td>\n",
       "      <td>10</td>\n",
       "    </tr>\n",
       "    <tr>\n",
       "      <th>2019-11-27</th>\n",
       "      <td>26</td>\n",
       "      <td>10</td>\n",
       "    </tr>\n",
       "    <tr>\n",
       "      <th>2019-11-28</th>\n",
       "      <td>27</td>\n",
       "      <td>10</td>\n",
       "    </tr>\n",
       "    <tr>\n",
       "      <th>2019-11-29</th>\n",
       "      <td>28</td>\n",
       "      <td>10</td>\n",
       "    </tr>\n",
       "    <tr>\n",
       "      <th>2019-11-30</th>\n",
       "      <td>29</td>\n",
       "      <td>10</td>\n",
       "    </tr>\n",
       "  </tbody>\n",
       "</table>\n",
       "</div>"
      ],
      "text/plain": [
       "            col_a  col_b\n",
       "2019-11-01      0     10\n",
       "2019-11-02      1     10\n",
       "2019-11-03      2     10\n",
       "2019-11-04      3     10\n",
       "2019-11-05      4     10\n",
       "2019-11-06      5     10\n",
       "2019-11-07      6     10\n",
       "2019-11-08      7     10\n",
       "2019-11-09      8     10\n",
       "2019-11-10      9     10\n",
       "2019-11-11     10     10\n",
       "2019-11-12     11     10\n",
       "2019-11-13     12     10\n",
       "2019-11-14     13     10\n",
       "2019-11-15     14     10\n",
       "2019-11-16     15     10\n",
       "2019-11-17     16     10\n",
       "2019-11-18     17     10\n",
       "2019-11-19     18     10\n",
       "2019-11-20     19     10\n",
       "2019-11-21     20     10\n",
       "2019-11-22     21     10\n",
       "2019-11-23     22     10\n",
       "2019-11-24     23     10\n",
       "2019-11-25     24     10\n",
       "2019-11-26     25     10\n",
       "2019-11-27     26     10\n",
       "2019-11-28     27     10\n",
       "2019-11-29     28     10\n",
       "2019-11-30     29     10"
      ]
     },
     "execution_count": 3,
     "metadata": {},
     "output_type": "execute_result"
    }
   ],
   "source": [
    "import pandas as pd\n",
    "pd.DataFrame(data={'col_a':range(30),\n",
    "                   'col_b':10},\n",
    "             index=pd.date_range(start  ='2019-11-01',\n",
    "                                 freq   ='D',\n",
    "                                 periods=30\n",
    "                                 )\n",
    ")"
   ]
  },
  {
   "cell_type": "markdown",
   "metadata": {
    "colab_type": "text",
    "id": "6UnDaQ147m6J"
   },
   "source": [
    "### Quandl\n",
    "- https://www.quandl.com/tools/python\n"
   ]
  },
  {
   "cell_type": "markdown",
   "metadata": {
    "colab_type": "text",
    "id": "7oHgnliw7pu2"
   },
   "source": []
  },
  {
   "cell_type": "code",
   "execution_count": null,
   "metadata": {
    "colab": {
     "base_uri": "https://localhost:8080/",
     "height": 34
    },
    "colab_type": "code",
    "id": "wBVh_csBApBU",
    "outputId": "cde568c3-1630-4771-85ae-6b8cab8fa5c8"
   },
   "outputs": [],
   "source": [
    "!pip install quandl | tail -n 1"
   ]
  },
  {
   "cell_type": "markdown",
   "metadata": {
    "colab_type": "text",
    "id": "N8N-GhgPCKWT"
   },
   "source": [
    "- https://en.wikipedia.org/wiki/S&P_500_Index"
   ]
  },
  {
   "cell_type": "code",
   "execution_count": 4,
   "metadata": {
    "colab": {
     "base_uri": "https://localhost:8080/",
     "height": 255
    },
    "colab_type": "code",
    "id": "MxM0tX1sAk3t",
    "outputId": "8c362d0c-761f-4095-bafc-93d41ffbac44"
   },
   "outputs": [
    {
     "name": "stdout",
     "output_type": "stream",
     "text": [
      "<class 'pandas.core.frame.DataFrame'>\n",
      "DatetimeIndex: 1784 entries, 1871-01-31 to 2019-08-31\n",
      "Data columns (total 9 columns):\n",
      "S&P Composite                   1784 non-null float64\n",
      "Dividend                        1782 non-null float64\n",
      "Earnings                        1779 non-null float64\n",
      "CPI                             1784 non-null float64\n",
      "Long Interest Rate              1784 non-null float64\n",
      "Real Price                      1784 non-null float64\n",
      "Real Dividend                   1782 non-null float64\n",
      "Real Earnings                   1779 non-null float64\n",
      "Cyclically Adjusted PE Ratio    1664 non-null float64\n",
      "dtypes: float64(9)\n",
      "memory usage: 139.4 KB\n"
     ]
    }
   ],
   "source": [
    "import quandl\n",
    "spcomp_pdf = quandl.get(\"YALE/SPCOMP\", authtoken=\"Rsj4hm7tRTtBorpZxEoR\")\n",
    "spcomp_pdf.info()"
   ]
  },
  {
   "cell_type": "code",
   "execution_count": 5,
   "metadata": {
    "colab": {
     "base_uri": "https://localhost:8080/",
     "height": 238
    },
    "colab_type": "code",
    "id": "7rJhtblZCPBm",
    "outputId": "af497bfd-51d7-4119-fef5-c404fb354b83"
   },
   "outputs": [
    {
     "data": {
      "text/plain": [
       "Year\n",
       "1871-01-31       4.44\n",
       "1871-02-28       4.50\n",
       "1871-03-31       4.61\n",
       "1871-04-30       4.74\n",
       "1871-05-31       4.86\n",
       "1871-06-30       4.82\n",
       "1871-07-31       4.73\n",
       "1871-08-31       4.79\n",
       "1871-09-30       4.84\n",
       "1871-10-31       4.59\n",
       "1871-11-30       4.64\n",
       "1871-12-31       4.74\n",
       "1872-01-31       4.86\n",
       "1872-02-29       4.88\n",
       "1872-03-31       5.04\n",
       "1872-04-30       5.18\n",
       "1872-05-31       5.18\n",
       "1872-06-30       5.13\n",
       "1872-07-31       5.10\n",
       "1872-08-31       5.04\n",
       "1872-09-30       4.95\n",
       "1872-10-31       4.97\n",
       "1872-11-30       4.95\n",
       "1872-12-31       5.07\n",
       "1873-01-31       5.11\n",
       "1873-02-28       5.15\n",
       "1873-03-31       5.11\n",
       "1873-04-30       5.04\n",
       "1873-05-31       5.05\n",
       "1873-06-30       4.98\n",
       "               ...   \n",
       "2017-03-31    2366.82\n",
       "2017-04-30    2359.31\n",
       "2017-05-31    2395.35\n",
       "2017-06-30    2433.99\n",
       "2017-07-31    2454.10\n",
       "2017-08-31    2456.22\n",
       "2017-09-30    2492.84\n",
       "2017-10-31    2557.00\n",
       "2017-11-30    2593.61\n",
       "2017-12-31    2664.34\n",
       "2018-01-31    2789.80\n",
       "2018-02-28    2705.16\n",
       "2018-03-31    2702.77\n",
       "2018-04-30    2653.63\n",
       "2018-05-31    2701.49\n",
       "2018-06-30    2754.35\n",
       "2018-07-31    2793.64\n",
       "2018-08-31    2857.82\n",
       "2018-09-30    2901.50\n",
       "2018-10-31    2785.46\n",
       "2018-11-30    2723.23\n",
       "2018-12-31    2567.31\n",
       "2019-01-31    2607.39\n",
       "2019-02-28    2754.86\n",
       "2019-03-31    2803.98\n",
       "2019-04-30    2903.80\n",
       "2019-05-31    2854.71\n",
       "2019-06-30    2890.17\n",
       "2019-07-31    2996.11\n",
       "2019-08-31    2883.98\n",
       "Name: S&P Composite, Length: 1784, dtype: float64"
      ]
     },
     "execution_count": 5,
     "metadata": {},
     "output_type": "execute_result"
    }
   ],
   "source": [
    "spcomp_pdf['S&P Composite']"
   ]
  },
  {
   "cell_type": "markdown",
   "metadata": {
    "colab_type": "text",
    "id": "n9L4drUm7iX0"
   },
   "source": [
    "# BELOW FROM PAST WORKSHOP\n",
    "### Iris dataset"
   ]
  },
  {
   "cell_type": "code",
   "execution_count": 6,
   "metadata": {
    "colab": {},
    "colab_type": "code",
    "id": "YxeMQak9Xfq6"
   },
   "outputs": [],
   "source": [
    "import pandas as pd\n",
    "from sklearn.datasets import load_iris\n",
    "iris_features = load_iris().data[:,1:]\n",
    "iris_target   = load_iris().data[:,:1]"
   ]
  },
  {
   "cell_type": "markdown",
   "metadata": {
    "colab_type": "text",
    "id": "i9Px8AjybRg3"
   },
   "source": [
    "### Diamonds dataset"
   ]
  },
  {
   "cell_type": "code",
   "execution_count": 7,
   "metadata": {
    "colab": {
     "base_uri": "https://localhost:8080/",
     "height": 204
    },
    "colab_type": "code",
    "id": "kNGfDb2OWZS3",
    "outputId": "b141e019-3799-496b-84c8-e3e3cfd6c357"
   },
   "outputs": [
    {
     "data": {
      "text/html": [
       "<div>\n",
       "<style scoped>\n",
       "    .dataframe tbody tr th:only-of-type {\n",
       "        vertical-align: middle;\n",
       "    }\n",
       "\n",
       "    .dataframe tbody tr th {\n",
       "        vertical-align: top;\n",
       "    }\n",
       "\n",
       "    .dataframe thead th {\n",
       "        text-align: right;\n",
       "    }\n",
       "</style>\n",
       "<table border=\"1\" class=\"dataframe\">\n",
       "  <thead>\n",
       "    <tr style=\"text-align: right;\">\n",
       "      <th></th>\n",
       "      <th>x</th>\n",
       "      <th>y</th>\n",
       "      <th>z</th>\n",
       "    </tr>\n",
       "  </thead>\n",
       "  <tbody>\n",
       "    <tr>\n",
       "      <th>0</th>\n",
       "      <td>3.95</td>\n",
       "      <td>3.98</td>\n",
       "      <td>2.43</td>\n",
       "    </tr>\n",
       "    <tr>\n",
       "      <th>1</th>\n",
       "      <td>3.89</td>\n",
       "      <td>3.84</td>\n",
       "      <td>2.31</td>\n",
       "    </tr>\n",
       "    <tr>\n",
       "      <th>2</th>\n",
       "      <td>4.05</td>\n",
       "      <td>4.07</td>\n",
       "      <td>2.31</td>\n",
       "    </tr>\n",
       "    <tr>\n",
       "      <th>3</th>\n",
       "      <td>4.20</td>\n",
       "      <td>4.23</td>\n",
       "      <td>2.63</td>\n",
       "    </tr>\n",
       "    <tr>\n",
       "      <th>4</th>\n",
       "      <td>4.34</td>\n",
       "      <td>4.35</td>\n",
       "      <td>2.75</td>\n",
       "    </tr>\n",
       "  </tbody>\n",
       "</table>\n",
       "</div>"
      ],
      "text/plain": [
       "      x     y     z\n",
       "0  3.95  3.98  2.43\n",
       "1  3.89  3.84  2.31\n",
       "2  4.05  4.07  2.31\n",
       "3  4.20  4.23  2.63\n",
       "4  4.34  4.35  2.75"
      ]
     },
     "execution_count": 7,
     "metadata": {},
     "output_type": "execute_result"
    }
   ],
   "source": [
    "import pandas as pd\n",
    "diamonds_pdf = pd.read_csv('https://raw.githubusercontent.com/datalab-datasets/file-samples/master/diamonds.csv').drop(columns='Unnamed: 0')\n",
    "diamonds_features = diamonds_pdf.drop(labels='price',axis=1)[['x','y','z']]\n",
    "diamonds_target = diamonds_pdf['price']\n",
    "diamonds_features.head()"
   ]
  },
  {
   "cell_type": "markdown",
   "metadata": {
    "colab_type": "text",
    "id": "b0eyNJu2-JsF"
   },
   "source": [
    "### Boston housing dataset"
   ]
  },
  {
   "cell_type": "code",
   "execution_count": 8,
   "metadata": {
    "colab": {},
    "colab_type": "code",
    "id": "J0JhJYRUaiNa"
   },
   "outputs": [],
   "source": [
    "def get_boston_housing_pdf(): # for boston housing dataset\n",
    "    from sklearn.datasets import load_boston \n",
    "    feature_names = [name.lower() \n",
    "                   for name in load_boston().get('feature_names').tolist()\n",
    "                  ]\n",
    "    features_pdf = pd.DataFrame(data=load_boston().get('data'),\n",
    "                              columns=feature_names\n",
    "                             )\n",
    "    target_pdf = pd.DataFrame(data={'price': load_boston().get('target')}\n",
    "                           )\n",
    "    return pd.concat([features_pdf, target_pdf],\n",
    "                   axis='columns',\n",
    "                   join='inner')"
   ]
  },
  {
   "cell_type": "code",
   "execution_count": 9,
   "metadata": {
    "colab": {
     "base_uri": "https://localhost:8080/",
     "height": 204
    },
    "colab_type": "code",
    "id": "e6mVUuDpZ4kP",
    "outputId": "2708056b-93c6-4887-a058-717cd345e368"
   },
   "outputs": [
    {
     "data": {
      "text/html": [
       "<div>\n",
       "<style scoped>\n",
       "    .dataframe tbody tr th:only-of-type {\n",
       "        vertical-align: middle;\n",
       "    }\n",
       "\n",
       "    .dataframe tbody tr th {\n",
       "        vertical-align: top;\n",
       "    }\n",
       "\n",
       "    .dataframe thead th {\n",
       "        text-align: right;\n",
       "    }\n",
       "</style>\n",
       "<table border=\"1\" class=\"dataframe\">\n",
       "  <thead>\n",
       "    <tr style=\"text-align: right;\">\n",
       "      <th></th>\n",
       "      <th>crim</th>\n",
       "      <th>zn</th>\n",
       "      <th>indus</th>\n",
       "      <th>chas</th>\n",
       "      <th>nox</th>\n",
       "      <th>rm</th>\n",
       "      <th>age</th>\n",
       "      <th>dis</th>\n",
       "      <th>rad</th>\n",
       "      <th>tax</th>\n",
       "      <th>ptratio</th>\n",
       "      <th>b</th>\n",
       "      <th>lstat</th>\n",
       "    </tr>\n",
       "  </thead>\n",
       "  <tbody>\n",
       "    <tr>\n",
       "      <th>0</th>\n",
       "      <td>0.00632</td>\n",
       "      <td>18.0</td>\n",
       "      <td>2.31</td>\n",
       "      <td>0.0</td>\n",
       "      <td>0.538</td>\n",
       "      <td>6.575</td>\n",
       "      <td>65.2</td>\n",
       "      <td>4.0900</td>\n",
       "      <td>1.0</td>\n",
       "      <td>296.0</td>\n",
       "      <td>15.3</td>\n",
       "      <td>396.90</td>\n",
       "      <td>4.98</td>\n",
       "    </tr>\n",
       "    <tr>\n",
       "      <th>1</th>\n",
       "      <td>0.02731</td>\n",
       "      <td>0.0</td>\n",
       "      <td>7.07</td>\n",
       "      <td>0.0</td>\n",
       "      <td>0.469</td>\n",
       "      <td>6.421</td>\n",
       "      <td>78.9</td>\n",
       "      <td>4.9671</td>\n",
       "      <td>2.0</td>\n",
       "      <td>242.0</td>\n",
       "      <td>17.8</td>\n",
       "      <td>396.90</td>\n",
       "      <td>9.14</td>\n",
       "    </tr>\n",
       "    <tr>\n",
       "      <th>2</th>\n",
       "      <td>0.02729</td>\n",
       "      <td>0.0</td>\n",
       "      <td>7.07</td>\n",
       "      <td>0.0</td>\n",
       "      <td>0.469</td>\n",
       "      <td>7.185</td>\n",
       "      <td>61.1</td>\n",
       "      <td>4.9671</td>\n",
       "      <td>2.0</td>\n",
       "      <td>242.0</td>\n",
       "      <td>17.8</td>\n",
       "      <td>392.83</td>\n",
       "      <td>4.03</td>\n",
       "    </tr>\n",
       "    <tr>\n",
       "      <th>3</th>\n",
       "      <td>0.03237</td>\n",
       "      <td>0.0</td>\n",
       "      <td>2.18</td>\n",
       "      <td>0.0</td>\n",
       "      <td>0.458</td>\n",
       "      <td>6.998</td>\n",
       "      <td>45.8</td>\n",
       "      <td>6.0622</td>\n",
       "      <td>3.0</td>\n",
       "      <td>222.0</td>\n",
       "      <td>18.7</td>\n",
       "      <td>394.63</td>\n",
       "      <td>2.94</td>\n",
       "    </tr>\n",
       "    <tr>\n",
       "      <th>4</th>\n",
       "      <td>0.06905</td>\n",
       "      <td>0.0</td>\n",
       "      <td>2.18</td>\n",
       "      <td>0.0</td>\n",
       "      <td>0.458</td>\n",
       "      <td>7.147</td>\n",
       "      <td>54.2</td>\n",
       "      <td>6.0622</td>\n",
       "      <td>3.0</td>\n",
       "      <td>222.0</td>\n",
       "      <td>18.7</td>\n",
       "      <td>396.90</td>\n",
       "      <td>5.33</td>\n",
       "    </tr>\n",
       "  </tbody>\n",
       "</table>\n",
       "</div>"
      ],
      "text/plain": [
       "      crim    zn  indus  chas    nox     rm   age     dis  rad    tax  \\\n",
       "0  0.00632  18.0   2.31   0.0  0.538  6.575  65.2  4.0900  1.0  296.0   \n",
       "1  0.02731   0.0   7.07   0.0  0.469  6.421  78.9  4.9671  2.0  242.0   \n",
       "2  0.02729   0.0   7.07   0.0  0.469  7.185  61.1  4.9671  2.0  242.0   \n",
       "3  0.03237   0.0   2.18   0.0  0.458  6.998  45.8  6.0622  3.0  222.0   \n",
       "4  0.06905   0.0   2.18   0.0  0.458  7.147  54.2  6.0622  3.0  222.0   \n",
       "\n",
       "   ptratio       b  lstat  \n",
       "0     15.3  396.90   4.98  \n",
       "1     17.8  396.90   9.14  \n",
       "2     17.8  392.83   4.03  \n",
       "3     18.7  394.63   2.94  \n",
       "4     18.7  396.90   5.33  "
      ]
     },
     "execution_count": 9,
     "metadata": {},
     "output_type": "execute_result"
    }
   ],
   "source": [
    "boston_housing_pdf = get_boston_housing_pdf().select_dtypes(include=['float','int'])\n",
    "\n",
    "boston_housing_features = boston_housing_pdf.drop(labels='price',axis=1)\n",
    "boston_housing_target = boston_housing_pdf['price']\n",
    "boston_housing_features.head()"
   ]
  },
  {
   "cell_type": "markdown",
   "metadata": {
    "colab_type": "text",
    "id": "nlIUMN51dWnv"
   },
   "source": [
    "Our first step is to create a train dataset and a test dataset from our dataset, which is `iris_features` and `iris_target`. Use the `train_test_split` function from the `sklearn` library to do so. "
   ]
  },
  {
   "cell_type": "code",
   "execution_count": 10,
   "metadata": {
    "colab": {},
    "colab_type": "code",
    "id": "A0f-uxixdmnw"
   },
   "outputs": [],
   "source": [
    "from sklearn.model_selection import train_test_split\n",
    "iris_x_train, iris_x_test, iris_y_train, iris_y_test = train_test_split(iris_features,\n",
    "                                                                        iris_target)        "
   ]
  },
  {
   "cell_type": "code",
   "execution_count": 11,
   "metadata": {
    "colab": {
     "base_uri": "https://localhost:8080/",
     "height": 34
    },
    "colab_type": "code",
    "id": "dbwSf7kaKR43",
    "outputId": "7938ad78-4242-4f4f-f1fc-1809bc7b2186"
   },
   "outputs": [
    {
     "data": {
      "text/plain": [
       "((112, 3), (38, 3), (112, 1), (38, 1))"
      ]
     },
     "execution_count": 11,
     "metadata": {},
     "output_type": "execute_result"
    }
   ],
   "source": [
    "iris_x_train.shape, iris_x_test.shape, iris_y_train.shape, iris_y_test.shape"
   ]
  },
  {
   "cell_type": "markdown",
   "metadata": {
    "colab_type": "text",
    "id": "mN5vf6aueC4d"
   },
   "source": [
    "Notice that the train dataset is `iris_x_train` and `iris_y_train`, which correspond to the features and the target. \n",
    "\n",
    "__Exercise__: create train and test datasets \n",
    "- for the `diamonds_features`, `diamonds_target` dataset called `diamonds_x_train`, `diamonds_x_test`, `diamonds_y_train`, `diamonds_y_test`\n",
    "- for the `boston_housing_features`,`boston_housing_target` dataset called `boston_x_train`, `boston_x_test`, `boston_y_train`, `boston_y_test`"
   ]
  },
  {
   "cell_type": "code",
   "execution_count": 12,
   "metadata": {
    "colab": {},
    "colab_type": "code",
    "id": "T9iiSqsJQDsU"
   },
   "outputs": [],
   "source": [
    "from sklearn.model_selection import train_test_split\n",
    "diamonds_x_train, diamonds_x_test, diamonds_y_train, diamonds_y_test = train_test_split(diamonds_features,\n",
    "                                                                        diamonds_target)        "
   ]
  },
  {
   "cell_type": "markdown",
   "metadata": {
    "colab_type": "text",
    "id": "dBfBItlkbli-"
   },
   "source": [
    "## Algorithms to models to prediction \n",
    "\n",
    "Linear regression is an algorithm. This algorithm (and many others) have parameters that determine how they work. The Scikit-learn version of the linear regression algorithm has parameters named `copy_X`, `fit_intercept`, `n_jobs`, `normalize`. The values indicated below are defaults. "
   ]
  },
  {
   "cell_type": "code",
   "execution_count": 13,
   "metadata": {
    "colab": {
     "base_uri": "https://localhost:8080/",
     "height": 34
    },
    "colab_type": "code",
    "id": "UPkRAT9kY2we",
    "outputId": "94bcff64-17a9-4add-fc7d-05c0adf6087c"
   },
   "outputs": [
    {
     "data": {
      "text/plain": [
       "LinearRegression(copy_X=True, fit_intercept=True, n_jobs=None, normalize=False)"
      ]
     },
     "execution_count": 13,
     "metadata": {},
     "output_type": "execute_result"
    }
   ],
   "source": [
    "from sklearn.linear_model import LinearRegression\n",
    "iris_linreg_algorithm = LinearRegression()\n",
    "iris_linreg_algorithm"
   ]
  },
  {
   "cell_type": "markdown",
   "metadata": {
    "colab_type": "text",
    "id": "VHpKtbbCfyfn"
   },
   "source": [
    "__Exercise__: Create algorithm objects for diamonds and boston, named `diamonds_linreg_algorithm` and `boston_linreg_algorithm`."
   ]
  },
  {
   "cell_type": "code",
   "execution_count": null,
   "metadata": {
    "colab": {},
    "colab_type": "code",
    "id": "6RakEB0hNtP4"
   },
   "outputs": [],
   "source": []
  },
  {
   "cell_type": "markdown",
   "metadata": {
    "colab_type": "text",
    "id": "qQgG3AthdEG4"
   },
   "source": [
    "Recall that algorithms take train datasets as input and produce models as output. We do this for the iris dataset below, using the `fit` method of the ."
   ]
  },
  {
   "cell_type": "code",
   "execution_count": null,
   "metadata": {
    "colab": {
     "base_uri": "https://localhost:8080/",
     "height": 34
    },
    "colab_type": "code",
    "id": "PmmIZ4ObdKdW",
    "outputId": "d8307a06-41d2-4720-8db6-2c7d2d03ab4d"
   },
   "outputs": [],
   "source": [
    "iris_linreg_model = iris_linreg_algorithm.fit(X=iris_x_train,\n",
    "                                              y=iris_y_train)\n",
    "iris_linreg_model"
   ]
  },
  {
   "cell_type": "markdown",
   "metadata": {
    "colab_type": "text",
    "id": "WPB2QV1BgLZb"
   },
   "source": [
    "__Exercise__: Create model objects for diamonds and boston, named `diamonds_linreg_model` and `boston_linreg_model`. Use the corresponding train dataset."
   ]
  },
  {
   "cell_type": "markdown",
   "metadata": {
    "colab_type": "text",
    "id": "b_3mpmN1hSC8"
   },
   "source": [
    "Recall that models take test datasets as input and produce predictions as output. We do this for the iris dataset below, using the `predict` method."
   ]
  },
  {
   "cell_type": "code",
   "execution_count": null,
   "metadata": {
    "colab": {
     "base_uri": "https://localhost:8080/",
     "height": 663
    },
    "colab_type": "code",
    "id": "uimU_i8_hRoz",
    "outputId": "a271bd09-f7cb-4a70-dcf4-64da7f3ca746"
   },
   "outputs": [],
   "source": [
    "iris_linreg_predictions = iris_linreg_model.predict(X=iris_x_test)\n",
    "iris_linreg_predictions"
   ]
  },
  {
   "cell_type": "markdown",
   "metadata": {
    "colab_type": "text",
    "id": "Z7hGxa78flG8"
   },
   "source": [
    "__Exercise__: Create predictions for diamonds and for boston named `diamonds_linreg_predictions` and `boston_linreg_predictions`."
   ]
  },
  {
   "cell_type": "markdown",
   "metadata": {
    "colab_type": "text",
    "id": "EvkTxtEz_RtH"
   },
   "source": [
    "A set of prediction for a numeric target variable can be summarized with "
   ]
  },
  {
   "cell_type": "code",
   "execution_count": null,
   "metadata": {
    "colab": {
     "base_uri": "https://localhost:8080/",
     "height": 34
    },
    "colab_type": "code",
    "id": "2ldBvPp4ihBe",
    "outputId": "12e1e13b-b20c-42d9-e071-afd305a05849"
   },
   "outputs": [],
   "source": [
    "iris_linreg_model.score(X=iris_x_test,\n",
    "                        y=iris_y_test)"
   ]
  },
  {
   "cell_type": "markdown",
   "metadata": {
    "colab_type": "text",
    "id": "2HGPljZQieLR"
   },
   "source": []
  },
  {
   "cell_type": "markdown",
   "metadata": {
    "colab_type": "text",
    "id": "CWugEh70izUW"
   },
   "source": [
    "__Exercise__: Create a score for the predictions for diamonds and for boston named `diamonds_linreg_score` and `boston_linreg_score`."
   ]
  },
  {
   "cell_type": "markdown",
   "metadata": {
    "colab_type": "text",
    "id": "LvYFD5lVq32-"
   },
   "source": [
    "## Try other algorithms \n",
    "Below we try the decision tree and k-nearest neighbor algorithms on the same datasets. "
   ]
  },
  {
   "cell_type": "markdown",
   "metadata": {
    "colab_type": "text",
    "id": "y4NpMHABwbrv"
   },
   "source": [
    "### Decision tree\n",
    "Below we swap in the decision tree algorithm at the beginning of the sequence. Notice though that the remaining steps are the same. "
   ]
  },
  {
   "cell_type": "code",
   "execution_count": null,
   "metadata": {
    "colab": {
     "base_uri": "https://localhost:8080/",
     "height": 102
    },
    "colab_type": "code",
    "id": "lEqd0fjcrQbq",
    "outputId": "18a10e34-6833-4c14-c648-32ce073a08d9"
   },
   "outputs": [],
   "source": [
    "from sklearn.tree import DecisionTreeRegressor\n",
    "iris_decisiontree_algorithm = DecisionTreeRegressor()\n",
    "iris_decisiontree_algorithm"
   ]
  },
  {
   "cell_type": "code",
   "execution_count": null,
   "metadata": {
    "colab": {
     "base_uri": "https://localhost:8080/",
     "height": 102
    },
    "colab_type": "code",
    "id": "FmXVGTTgrcvE",
    "outputId": "371b5cb8-6501-42c3-a3c9-78097ebfce01"
   },
   "outputs": [],
   "source": [
    "iris_decisiontree_model = iris_decisiontree_algorithm.fit(X=iris_x_train,\n",
    "                                                          y=iris_y_train)\n",
    "iris_decisiontree_model"
   ]
  },
  {
   "cell_type": "code",
   "execution_count": null,
   "metadata": {
    "colab": {
     "base_uri": "https://localhost:8080/",
     "height": 34
    },
    "colab_type": "code",
    "id": "JL9yc6G5siMX",
    "outputId": "4167268b-3bde-4fdc-c90a-4433a39dc2d2"
   },
   "outputs": [],
   "source": [
    "iris_decisiontree_score = iris_decisiontree_model.score(X=iris_x_test,\n",
    "                                                        y=iris_y_test)\n",
    "iris_decisiontree_score"
   ]
  },
  {
   "cell_type": "code",
   "execution_count": null,
   "metadata": {
    "colab": {
     "base_uri": "https://localhost:8080/",
     "height": 85
    },
    "colab_type": "code",
    "id": "Adi5ELwKrchS",
    "outputId": "ab2bd08b-71ce-4a4b-ad84-7adc31e81aff"
   },
   "outputs": [],
   "source": [
    "iris_decisiontree_predictions = iris_decisiontree_model.predict(X=iris_x_test)\n",
    "iris_decisiontree_predictions"
   ]
  },
  {
   "cell_type": "markdown",
   "metadata": {
    "colab_type": "text",
    "id": "kWWud8dWtodE"
   },
   "source": [
    "Below the steps are run in a single code cell. "
   ]
  },
  {
   "cell_type": "code",
   "execution_count": null,
   "metadata": {
    "colab": {
     "base_uri": "https://localhost:8080/",
     "height": 102
    },
    "colab_type": "code",
    "id": "EuT0Uwt-tzj0",
    "outputId": "9b06791d-c1b1-4697-d464-aa71d0de1409"
   },
   "outputs": [],
   "source": [
    "from sklearn.tree import DecisionTreeRegressor\n",
    "iris_decisiontree_algorithm   = DecisionTreeRegressor()\n",
    "iris_decisiontree_model       = iris_decisiontree_algorithm.fit(X=iris_x_train,\n",
    "                                                                y=iris_y_train)\n",
    "iris_decisiontree_score       = iris_decisiontree_model.score(X=iris_x_test,\n",
    "                                                              y=iris_y_test)\n",
    "iris_decisiontree_predictions = iris_decisiontree_model.predict(X=iris_x_test)\n",
    "\n",
    "(iris_decisiontree_score, \n",
    " iris_decisiontree_predictions\n",
    ")"
   ]
  },
  {
   "cell_type": "markdown",
   "metadata": {
    "colab_type": "text",
    "id": "yeWSQ1Gdv3Gq"
   },
   "source": [
    "__Exercise__: copy-paste the above code cell and modify the copy to work with the diamonds dataset. They modify another copy to work with the boston dataset.  "
   ]
  },
  {
   "cell_type": "markdown",
   "metadata": {
    "colab_type": "text",
    "id": "KxWs5itEwe4e"
   },
   "source": [
    "### K-nearest neighbors"
   ]
  },
  {
   "cell_type": "markdown",
   "metadata": {
    "colab_type": "text",
    "id": "Ks5fHRrfwsiL"
   },
   "source": [
    "See the documentation and modify the below code cell to work with the \n",
    "\n",
    "- https://scikit-learn.org/stable/modules/generated/sklearn.neighbors.KNeighborsRegressor.html#sklearn.neighbors.KNeighborsRegressor"
   ]
  },
  {
   "cell_type": "code",
   "execution_count": 14,
   "metadata": {
    "colab": {},
    "colab_type": "code",
    "id": "MqeEdL1WwihY"
   },
   "outputs": [
    {
     "data": {
      "text/plain": [
       "(0.8155280056359471,\n",
       " array([5.5 , 5.4 , 6.5 , 4.8 , 4.9 , 5.4 , 5.1 , 4.55, 6.4 , 6.1 , 5.4 ,\n",
       "        6.7 , 7.6 , 6.1 , 6.  , 6.  , 5.5 , 5.7 , 5.4 , 6.7 , 5.6 , 6.5 ,\n",
       "        7.6 , 6.5 , 5.1 , 5.6 , 6.9 , 5.7 , 5.  , 6.5 , 4.9 , 5.1 , 5.35,\n",
       "        7.3 , 4.8 , 5.5 , 6.4 , 6.3 ]))"
      ]
     },
     "execution_count": 14,
     "metadata": {},
     "output_type": "execute_result"
    }
   ],
   "source": [
    "from sklearn.tree import DecisionTreeRegressor\n",
    "iris_decisiontree_algorithm   = DecisionTreeRegressor()\n",
    "iris_decisiontree_model       = iris_decisiontree_algorithm.fit(X=iris_x_train,\n",
    "                                                                y=iris_y_train)\n",
    "iris_decisiontree_score       = iris_decisiontree_model.score(X=iris_x_test,\n",
    "                                                              y=iris_y_test)\n",
    "iris_decisiontree_predictions = iris_decisiontree_model.predict(X=iris_x_test)\n",
    "\n",
    "(iris_decisiontree_score, \n",
    " iris_decisiontree_predictions\n",
    ")"
   ]
  }
 ],
 "metadata": {
  "colab": {
   "include_colab_link": true,
   "name": "Workshop - time series intro.ipynb",
   "provenance": []
  },
  "kernelspec": {
   "display_name": "Python 3",
   "language": "python",
   "name": "python3"
  },
  "language_info": {
   "codemirror_mode": {
    "name": "ipython",
    "version": 3
   },
   "file_extension": ".py",
   "mimetype": "text/x-python",
   "name": "python",
   "nbconvert_exporter": "python",
   "pygments_lexer": "ipython3",
   "version": "3.7.3"
  }
 },
 "nbformat": 4,
 "nbformat_minor": 1
}
