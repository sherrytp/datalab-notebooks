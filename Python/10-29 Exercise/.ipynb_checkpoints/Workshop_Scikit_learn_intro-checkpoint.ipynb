{
 "cells": [
  {
   "cell_type": "markdown",
   "metadata": {
    "colab_type": "text",
    "id": "view-in-github"
   },
   "source": [
    "<a href=\"https://colab.research.google.com/github/data-space/datalab-notebooks/blob/master/Python/9.%20Temporary/Workshop_Scikit_learn_intro.ipynb\" target=\"_parent\"><img src=\"https://colab.research.google.com/assets/colab-badge.svg\" alt=\"Open In Colab\"/></a>"
   ]
  },
  {
   "cell_type": "markdown",
   "metadata": {
    "colab_type": "text",
    "id": "fFXHs_P2WbZO"
   },
   "source": [
    "# Scikit-learn Workshop - 19 Nov 2019"
   ]
  },
  {
   "cell_type": "markdown",
   "metadata": {
    "colab_type": "text",
    "id": "F7CtX-dIbC3T"
   },
   "source": [
    "## Setup"
   ]
  },
  {
   "cell_type": "code",
   "execution_count": 1,
   "metadata": {
    "colab": {},
    "colab_type": "code",
    "id": "qe-GKbtkXmcR"
   },
   "outputs": [],
   "source": [
    "import pandas  as pd\n",
    "import numpy   as np\n",
    "import sklearn as sk"
   ]
  },
  {
   "cell_type": "markdown",
   "metadata": {
    "colab_type": "text",
    "id": "3sAOET5FbHFf"
   },
   "source": [
    "### Iris dataset"
   ]
  },
  {
   "cell_type": "code",
   "execution_count": 2,
   "metadata": {
    "colab": {},
    "colab_type": "code",
    "id": "YxeMQak9Xfq6"
   },
   "outputs": [],
   "source": [
    "import pandas as pd\n",
    "from sklearn.datasets import load_iris\n",
    "iris_features = load_iris().data[:,1:]\n",
    "iris_target   = load_iris().data[:,:1]"
   ]
  },
  {
   "cell_type": "markdown",
   "metadata": {
    "colab_type": "text",
    "id": "i9Px8AjybRg3"
   },
   "source": [
    "### Diamonds dataset"
   ]
  },
  {
   "cell_type": "code",
   "execution_count": 3,
   "metadata": {
    "colab": {
     "base_uri": "https://localhost:8080/",
     "height": 204
    },
    "colab_type": "code",
    "id": "kNGfDb2OWZS3",
    "outputId": "b141e019-3799-496b-84c8-e3e3cfd6c357"
   },
   "outputs": [
    {
     "data": {
      "text/html": [
       "<div>\n",
       "<style scoped>\n",
       "    .dataframe tbody tr th:only-of-type {\n",
       "        vertical-align: middle;\n",
       "    }\n",
       "\n",
       "    .dataframe tbody tr th {\n",
       "        vertical-align: top;\n",
       "    }\n",
       "\n",
       "    .dataframe thead th {\n",
       "        text-align: right;\n",
       "    }\n",
       "</style>\n",
       "<table border=\"1\" class=\"dataframe\">\n",
       "  <thead>\n",
       "    <tr style=\"text-align: right;\">\n",
       "      <th></th>\n",
       "      <th>x</th>\n",
       "      <th>y</th>\n",
       "      <th>z</th>\n",
       "    </tr>\n",
       "  </thead>\n",
       "  <tbody>\n",
       "    <tr>\n",
       "      <th>0</th>\n",
       "      <td>3.95</td>\n",
       "      <td>3.98</td>\n",
       "      <td>2.43</td>\n",
       "    </tr>\n",
       "    <tr>\n",
       "      <th>1</th>\n",
       "      <td>3.89</td>\n",
       "      <td>3.84</td>\n",
       "      <td>2.31</td>\n",
       "    </tr>\n",
       "    <tr>\n",
       "      <th>2</th>\n",
       "      <td>4.05</td>\n",
       "      <td>4.07</td>\n",
       "      <td>2.31</td>\n",
       "    </tr>\n",
       "    <tr>\n",
       "      <th>3</th>\n",
       "      <td>4.20</td>\n",
       "      <td>4.23</td>\n",
       "      <td>2.63</td>\n",
       "    </tr>\n",
       "    <tr>\n",
       "      <th>4</th>\n",
       "      <td>4.34</td>\n",
       "      <td>4.35</td>\n",
       "      <td>2.75</td>\n",
       "    </tr>\n",
       "  </tbody>\n",
       "</table>\n",
       "</div>"
      ],
      "text/plain": [
       "      x     y     z\n",
       "0  3.95  3.98  2.43\n",
       "1  3.89  3.84  2.31\n",
       "2  4.05  4.07  2.31\n",
       "3  4.20  4.23  2.63\n",
       "4  4.34  4.35  2.75"
      ]
     },
     "execution_count": 3,
     "metadata": {},
     "output_type": "execute_result"
    }
   ],
   "source": [
    "import pandas as pd\n",
    "diamonds_pdf = pd.read_csv('https://raw.githubusercontent.com/datalab-datasets/file-samples/master/diamonds.csv').drop(columns='Unnamed: 0')\n",
    "diamonds_pdf.columns\n",
    "diamonds_features = diamonds_pdf.drop(labels='price',axis=1)[['x','y','z']]\n",
    "diamonds_target = diamonds_pdf['price']\n",
    "diamonds_features.head()"
   ]
  },
  {
   "cell_type": "code",
   "execution_count": 4,
   "metadata": {
    "colab": {},
    "colab_type": "code",
    "id": "J0JhJYRUaiNa"
   },
   "outputs": [],
   "source": [
    "def get_boston_housing_pdf(): # for boston housing dataset\n",
    "    from sklearn.datasets import load_boston\n",
    "    feature_names = [name.lower() \n",
    "                   for name in load_boston().get('feature_names').tolist()\n",
    "                  ]\n",
    "    features_pdf = pd.DataFrame(data=load_boston().get('data'),\n",
    "                              columns=feature_names\n",
    "                             )\n",
    "    target_pdf = pd.DataFrame(data={'price': load_boston().get('target')}\n",
    "                           )\n",
    "    return pd.concat([features_pdf, target_pdf],\n",
    "                   axis='columns',\n",
    "                   join='inner')"
   ]
  },
  {
   "cell_type": "code",
   "execution_count": 5,
   "metadata": {
    "colab": {
     "base_uri": "https://localhost:8080/",
     "height": 204
    },
    "colab_type": "code",
    "id": "e6mVUuDpZ4kP",
    "outputId": "2708056b-93c6-4887-a058-717cd345e368"
   },
   "outputs": [
    {
     "data": {
      "text/html": [
       "<div>\n",
       "<style scoped>\n",
       "    .dataframe tbody tr th:only-of-type {\n",
       "        vertical-align: middle;\n",
       "    }\n",
       "\n",
       "    .dataframe tbody tr th {\n",
       "        vertical-align: top;\n",
       "    }\n",
       "\n",
       "    .dataframe thead th {\n",
       "        text-align: right;\n",
       "    }\n",
       "</style>\n",
       "<table border=\"1\" class=\"dataframe\">\n",
       "  <thead>\n",
       "    <tr style=\"text-align: right;\">\n",
       "      <th></th>\n",
       "      <th>crim</th>\n",
       "      <th>zn</th>\n",
       "      <th>indus</th>\n",
       "      <th>chas</th>\n",
       "      <th>nox</th>\n",
       "      <th>rm</th>\n",
       "      <th>age</th>\n",
       "      <th>dis</th>\n",
       "      <th>rad</th>\n",
       "      <th>tax</th>\n",
       "      <th>ptratio</th>\n",
       "      <th>b</th>\n",
       "      <th>lstat</th>\n",
       "    </tr>\n",
       "  </thead>\n",
       "  <tbody>\n",
       "    <tr>\n",
       "      <th>0</th>\n",
       "      <td>0.00632</td>\n",
       "      <td>18.0</td>\n",
       "      <td>2.31</td>\n",
       "      <td>0.0</td>\n",
       "      <td>0.538</td>\n",
       "      <td>6.575</td>\n",
       "      <td>65.2</td>\n",
       "      <td>4.0900</td>\n",
       "      <td>1.0</td>\n",
       "      <td>296.0</td>\n",
       "      <td>15.3</td>\n",
       "      <td>396.90</td>\n",
       "      <td>4.98</td>\n",
       "    </tr>\n",
       "    <tr>\n",
       "      <th>1</th>\n",
       "      <td>0.02731</td>\n",
       "      <td>0.0</td>\n",
       "      <td>7.07</td>\n",
       "      <td>0.0</td>\n",
       "      <td>0.469</td>\n",
       "      <td>6.421</td>\n",
       "      <td>78.9</td>\n",
       "      <td>4.9671</td>\n",
       "      <td>2.0</td>\n",
       "      <td>242.0</td>\n",
       "      <td>17.8</td>\n",
       "      <td>396.90</td>\n",
       "      <td>9.14</td>\n",
       "    </tr>\n",
       "    <tr>\n",
       "      <th>2</th>\n",
       "      <td>0.02729</td>\n",
       "      <td>0.0</td>\n",
       "      <td>7.07</td>\n",
       "      <td>0.0</td>\n",
       "      <td>0.469</td>\n",
       "      <td>7.185</td>\n",
       "      <td>61.1</td>\n",
       "      <td>4.9671</td>\n",
       "      <td>2.0</td>\n",
       "      <td>242.0</td>\n",
       "      <td>17.8</td>\n",
       "      <td>392.83</td>\n",
       "      <td>4.03</td>\n",
       "    </tr>\n",
       "    <tr>\n",
       "      <th>3</th>\n",
       "      <td>0.03237</td>\n",
       "      <td>0.0</td>\n",
       "      <td>2.18</td>\n",
       "      <td>0.0</td>\n",
       "      <td>0.458</td>\n",
       "      <td>6.998</td>\n",
       "      <td>45.8</td>\n",
       "      <td>6.0622</td>\n",
       "      <td>3.0</td>\n",
       "      <td>222.0</td>\n",
       "      <td>18.7</td>\n",
       "      <td>394.63</td>\n",
       "      <td>2.94</td>\n",
       "    </tr>\n",
       "    <tr>\n",
       "      <th>4</th>\n",
       "      <td>0.06905</td>\n",
       "      <td>0.0</td>\n",
       "      <td>2.18</td>\n",
       "      <td>0.0</td>\n",
       "      <td>0.458</td>\n",
       "      <td>7.147</td>\n",
       "      <td>54.2</td>\n",
       "      <td>6.0622</td>\n",
       "      <td>3.0</td>\n",
       "      <td>222.0</td>\n",
       "      <td>18.7</td>\n",
       "      <td>396.90</td>\n",
       "      <td>5.33</td>\n",
       "    </tr>\n",
       "  </tbody>\n",
       "</table>\n",
       "</div>"
      ],
      "text/plain": [
       "      crim    zn  indus  chas    nox     rm   age     dis  rad    tax  \\\n",
       "0  0.00632  18.0   2.31   0.0  0.538  6.575  65.2  4.0900  1.0  296.0   \n",
       "1  0.02731   0.0   7.07   0.0  0.469  6.421  78.9  4.9671  2.0  242.0   \n",
       "2  0.02729   0.0   7.07   0.0  0.469  7.185  61.1  4.9671  2.0  242.0   \n",
       "3  0.03237   0.0   2.18   0.0  0.458  6.998  45.8  6.0622  3.0  222.0   \n",
       "4  0.06905   0.0   2.18   0.0  0.458  7.147  54.2  6.0622  3.0  222.0   \n",
       "\n",
       "   ptratio       b  lstat  \n",
       "0     15.3  396.90   4.98  \n",
       "1     17.8  396.90   9.14  \n",
       "2     17.8  392.83   4.03  \n",
       "3     18.7  394.63   2.94  \n",
       "4     18.7  396.90   5.33  "
      ]
     },
     "execution_count": 5,
     "metadata": {},
     "output_type": "execute_result"
    }
   ],
   "source": [
    "boston_housing_pdf = get_boston_housing_pdf().select_dtypes(include=['float','int'])\n",
    "\n",
    "boston_housing_features = boston_housing_pdf.drop(labels='price',axis=1)\n",
    "boston_housing_target = boston_housing_pdf['price']\n",
    "boston_housing_features.head()"
   ]
  },
  {
   "cell_type": "markdown",
   "metadata": {
    "colab_type": "text",
    "id": "nlIUMN51dWnv"
   },
   "source": [
    "Our first step is to create a train dataset and a test dataset from our dataset, which is `iris_features` and `iris_target`. Use the `train_test_split` function from the `sklearn` library to do so. "
   ]
  },
  {
   "cell_type": "code",
   "execution_count": 6,
   "metadata": {
    "colab": {},
    "colab_type": "code",
    "id": "A0f-uxixdmnw"
   },
   "outputs": [],
   "source": [
    "from sklearn.model_selection import train_test_split\n",
    "iris_x_train, iris_x_test, iris_y_train, iris_y_test = train_test_split(iris_features,\n",
    "                                                                        iris_target)"
   ]
  },
  {
   "cell_type": "markdown",
   "metadata": {
    "colab_type": "text",
    "id": "Np1ufJPSduy_"
   },
   "source": [
    "Notice that the train dataset is `iris_x_train` and `iris_y_train`, which correspond to the features and the target. "
   ]
  },
  {
   "cell_type": "markdown",
   "metadata": {
    "colab_type": "text",
    "id": "mN5vf6aueC4d"
   },
   "source": [
    "__Exercise__: create train and test datasets \n",
    "- for the `diamonds_features`, `diamonds_target` dataset called `diamonds_x_train`, `diamonds_x_test`, `diamonds_y_train`, `diamonds_y_test`\n",
    "- for the `boston_housing_features`,`boston_housing_target` dataset called `boston_x_train`, `boston_x_test`, `boston_y_train`, `boston_y_test`\n",
    "\n",
    "In both cases put the result of the "
   ]
  },
  {
   "cell_type": "markdown",
   "metadata": {
    "colab_type": "text",
    "id": "dBfBItlkbli-"
   },
   "source": [
    "## Algorithms to models to prediction"
   ]
  },
  {
   "cell_type": "markdown",
   "metadata": {
    "colab_type": "text",
    "id": "cH3NMiyucbWS"
   },
   "source": [
    "Linear regression is an algorithm. This algorithm (and many others) have parameters that determine how they work. The Scikit-learn version of the linear regression algorithm has parameters named `copy_X`, `fit_intercept`, `n_jobs`, `normalize`. The values indicated below are defaults. "
   ]
  },
  {
   "cell_type": "code",
   "execution_count": 7,
   "metadata": {
    "colab": {
     "base_uri": "https://localhost:8080/",
     "height": 34
    },
    "colab_type": "code",
    "id": "UPkRAT9kY2we",
    "outputId": "94bcff64-17a9-4add-fc7d-05c0adf6087c"
   },
   "outputs": [
    {
     "data": {
      "text/plain": [
       "LinearRegression(copy_X=True, fit_intercept=True, n_jobs=None, normalize=False)"
      ]
     },
     "execution_count": 7,
     "metadata": {},
     "output_type": "execute_result"
    }
   ],
   "source": [
    "from sklearn.linear_model import LinearRegression\n",
    "iris_linreg_algorithm = LinearRegression()\n",
    "iris_linreg_algorithm"
   ]
  },
  {
   "cell_type": "markdown",
   "metadata": {
    "colab_type": "text",
    "id": "VHpKtbbCfyfn"
   },
   "source": [
    "__Exercise__: Create algorithm objects for diamonds and boston, named `diamonds_linreg_algorithm` and `boston_linreg_algorithm`."
   ]
  },
  {
   "cell_type": "markdown",
   "metadata": {
    "colab_type": "text",
    "id": "qQgG3AthdEG4"
   },
   "source": [
    "Recall that algorithms take train datasets as input and produce models as output. We do this for the iris dataset below, using the `fit` method of the ."
   ]
  },
  {
   "cell_type": "code",
   "execution_count": 8,
   "metadata": {
    "colab": {
     "base_uri": "https://localhost:8080/",
     "height": 34
    },
    "colab_type": "code",
    "id": "PmmIZ4ObdKdW",
    "outputId": "ff0695f0-ff20-41af-d028-a878be9d6e80"
   },
   "outputs": [
    {
     "data": {
      "text/plain": [
       "LinearRegression(copy_X=True, fit_intercept=True, n_jobs=None, normalize=False)"
      ]
     },
     "execution_count": 8,
     "metadata": {},
     "output_type": "execute_result"
    }
   ],
   "source": [
    "iris_linreg_model = iris_linreg_algorithm.fit(X=iris_x_train,\n",
    "                                              y=iris_y_train)\n",
    "iris_linreg_model"
   ]
  },
  {
   "cell_type": "markdown",
   "metadata": {
    "colab_type": "text",
    "id": "WPB2QV1BgLZb"
   },
   "source": [
    "__Exercise__: Create model objects for diamonds and boston, named `diamonds_linreg_model` and `boston_linreg_model`. Use the corresponding train dataset."
   ]
  },
  {
   "cell_type": "markdown",
   "metadata": {
    "colab_type": "text",
    "id": "b_3mpmN1hSC8"
   },
   "source": [
    "Recall that models take test datasets as input and produce predictions as output. We do this for the iris dataset below, using the `predict` method."
   ]
  },
  {
   "cell_type": "code",
   "execution_count": 9,
   "metadata": {
    "colab": {
     "base_uri": "https://localhost:8080/",
     "height": 1000
    },
    "colab_type": "code",
    "id": "uimU_i8_hRoz",
    "outputId": "2dca6281-61cd-4039-e291-71a27edff63c"
   },
   "outputs": [
    {
     "data": {
      "text/plain": [
       "array([[6.34936887],\n",
       "       [6.42296527],\n",
       "       [6.64654423],\n",
       "       [5.03384426],\n",
       "       [4.89000959],\n",
       "       [5.17261562],\n",
       "       [5.69314912],\n",
       "       [6.70104409],\n",
       "       [5.75467058],\n",
       "       [7.14545451],\n",
       "       [6.45104169],\n",
       "       [5.23666376],\n",
       "       [4.84169986],\n",
       "       [4.67567358],\n",
       "       [5.82826698],\n",
       "       [7.9351292 ],\n",
       "       [5.22598867],\n",
       "       [6.00017807],\n",
       "       [6.19598593],\n",
       "       [6.26003407],\n",
       "       [6.10608273],\n",
       "       [5.50802631],\n",
       "       [6.37465554],\n",
       "       [4.75236505],\n",
       "       [5.46953787],\n",
       "       [5.91760179],\n",
       "       [6.21172433],\n",
       "       [7.1353801 ],\n",
       "       [5.37318147],\n",
       "       [4.63691212],\n",
       "       [6.8954521 ],\n",
       "       [6.68085303],\n",
       "       [6.50889969],\n",
       "       [7.42893426],\n",
       "       [7.32050292],\n",
       "       [7.25279132],\n",
       "       [6.39458354],\n",
       "       [4.97624933],\n",
       "       [6.53758675],\n",
       "       [6.20522888],\n",
       "       [6.0484878 ],\n",
       "       [5.1872272 ],\n",
       "       [5.63612258],\n",
       "       [4.63381705],\n",
       "       [5.00349428],\n",
       "       [4.90601106],\n",
       "       [7.28257291],\n",
       "       [6.11872607],\n",
       "       [6.14148606],\n",
       "       [6.17688939],\n",
       "       [6.87635557],\n",
       "       [6.35834875],\n",
       "       [5.37627654],\n",
       "       [6.03305472],\n",
       "       [5.58554924],\n",
       "       [6.87661864],\n",
       "       [5.62038418],\n",
       "       [5.11053573],\n",
       "       [5.08524906],\n",
       "       [7.03592864],\n",
       "       [4.70096025],\n",
       "       [6.40639541],\n",
       "       [6.07660647],\n",
       "       [6.20496581],\n",
       "       [5.06641559],\n",
       "       [5.54342964],\n",
       "       [6.40665848],\n",
       "       [5.55297791],\n",
       "       [5.64540778],\n",
       "       [6.77101929],\n",
       "       [6.78366263],\n",
       "       [5.13385416],\n",
       "       [6.91511703],\n",
       "       [4.95715279],\n",
       "       [6.36227527],\n",
       "       [6.04233992],\n",
       "       [6.7167825 ],\n",
       "       [6.19258554],\n",
       "       [6.55415661],\n",
       "       [6.41001662],\n",
       "       [4.10878864],\n",
       "       [6.20496581],\n",
       "       [6.35246394],\n",
       "       [6.7325209 ],\n",
       "       [5.03384426],\n",
       "       [4.53802904],\n",
       "       [7.41319586],\n",
       "       [6.45470514],\n",
       "       [5.54003921],\n",
       "       [6.55694635],\n",
       "       [5.93303487],\n",
       "       [5.93329794],\n",
       "       [6.57634821],\n",
       "       [5.0978924 ],\n",
       "       [4.89310466],\n",
       "       [6.04569806],\n",
       "       [5.81479219],\n",
       "       [4.82905652],\n",
       "       [4.62426878],\n",
       "       [6.33363047],\n",
       "       [4.90884306],\n",
       "       [4.95405773],\n",
       "       [6.46425341],\n",
       "       [5.97545979],\n",
       "       [5.46251628],\n",
       "       [5.02120093],\n",
       "       [6.1920594 ],\n",
       "       [6.2055342 ],\n",
       "       [4.92174946],\n",
       "       [6.1541294 ],\n",
       "       [4.91839133],\n",
       "       [6.12238953]])"
      ]
     },
     "execution_count": 9,
     "metadata": {},
     "output_type": "execute_result"
    }
   ],
   "source": [
    "iris_linreg_predictions = iris_linreg_model.predict(X=iris_x_train)\n",
    "iris_linreg_predictions"
   ]
  },
  {
   "cell_type": "markdown",
   "metadata": {
    "colab_type": "text",
    "id": "Z7hGxa78flG8"
   },
   "source": [
    "__Exercise__: Create predictions for diamonds and for boston named `diamonds_linreg_predictions` and `boston_linreg_predictions`."
   ]
  },
  {
   "cell_type": "code",
   "execution_count": 10,
   "metadata": {
    "colab": {
     "base_uri": "https://localhost:8080/",
     "height": 34
    },
    "colab_type": "code",
    "id": "2ldBvPp4ihBe",
    "outputId": "12e1e13b-b20c-42d9-e071-afd305a05849"
   },
   "outputs": [
    {
     "data": {
      "text/plain": [
       "0.7754459307940612"
      ]
     },
     "execution_count": 10,
     "metadata": {},
     "output_type": "execute_result"
    }
   ],
   "source": [
    "iris_linreg_model.score(X=iris_x_test,\n",
    "                        y=iris_y_test)"
   ]
  },
  {
   "cell_type": "markdown",
   "metadata": {
    "colab_type": "text",
    "id": "2HGPljZQieLR"
   },
   "source": []
  },
  {
   "cell_type": "markdown",
   "metadata": {
    "colab_type": "text",
    "id": "CWugEh70izUW"
   },
   "source": [
    "__Exercise__: Create a score for the predictions for diamonds and for boston named `diamonds_linreg_score` and `boston_linreg_score`."
   ]
  },
  {
   "cell_type": "markdown",
   "metadata": {
    "colab_type": "text",
    "id": "LvYFD5lVq32-"
   },
   "source": [
    "## Try other algorithms"
   ]
  },
  {
   "cell_type": "markdown",
   "metadata": {
    "colab_type": "text",
    "id": "XaBQqL2JwUSx"
   },
   "source": [
    "Below we try the decision tree and k-nearest neighbor algorithms on the same datasets. "
   ]
  },
  {
   "cell_type": "markdown",
   "metadata": {
    "colab_type": "text",
    "id": "y4NpMHABwbrv"
   },
   "source": [
    "### Decision tree"
   ]
  },
  {
   "cell_type": "markdown",
   "metadata": {
    "colab_type": "text",
    "id": "v_2nf9DCq-Uj"
   },
   "source": [
    "Below we swap in the decision tree algorithm at the beginning of the sequence. Notice though that the remaining steps are the same. "
   ]
  },
  {
   "cell_type": "code",
   "execution_count": 11,
   "metadata": {
    "colab": {
     "base_uri": "https://localhost:8080/",
     "height": 102
    },
    "colab_type": "code",
    "id": "lEqd0fjcrQbq",
    "outputId": "18a10e34-6833-4c14-c648-32ce073a08d9"
   },
   "outputs": [
    {
     "data": {
      "text/plain": [
       "DecisionTreeRegressor(criterion='mse', max_depth=None, max_features=None,\n",
       "                      max_leaf_nodes=None, min_impurity_decrease=0.0,\n",
       "                      min_impurity_split=None, min_samples_leaf=1,\n",
       "                      min_samples_split=2, min_weight_fraction_leaf=0.0,\n",
       "                      presort=False, random_state=None, splitter='best')"
      ]
     },
     "execution_count": 11,
     "metadata": {},
     "output_type": "execute_result"
    }
   ],
   "source": [
    "from sklearn.tree import DecisionTreeRegressor\n",
    "iris_decisiontree_algorithm = DecisionTreeRegressor()\n",
    "iris_decisiontree_algorithm"
   ]
  },
  {
   "cell_type": "code",
   "execution_count": 12,
   "metadata": {
    "colab": {
     "base_uri": "https://localhost:8080/",
     "height": 102
    },
    "colab_type": "code",
    "id": "FmXVGTTgrcvE",
    "outputId": "371b5cb8-6501-42c3-a3c9-78097ebfce01"
   },
   "outputs": [
    {
     "data": {
      "text/plain": [
       "DecisionTreeRegressor(criterion='mse', max_depth=None, max_features=None,\n",
       "                      max_leaf_nodes=None, min_impurity_decrease=0.0,\n",
       "                      min_impurity_split=None, min_samples_leaf=1,\n",
       "                      min_samples_split=2, min_weight_fraction_leaf=0.0,\n",
       "                      presort=False, random_state=None, splitter='best')"
      ]
     },
     "execution_count": 12,
     "metadata": {},
     "output_type": "execute_result"
    }
   ],
   "source": [
    "iris_decisiontree_model = iris_decisiontree_algorithm.fit(X=iris_x_train,\n",
    "                                                          y=iris_y_train)\n",
    "iris_decisiontree_model"
   ]
  },
  {
   "cell_type": "code",
   "execution_count": 13,
   "metadata": {
    "colab": {
     "base_uri": "https://localhost:8080/",
     "height": 34
    },
    "colab_type": "code",
    "id": "JL9yc6G5siMX",
    "outputId": "4167268b-3bde-4fdc-c90a-4433a39dc2d2"
   },
   "outputs": [
    {
     "data": {
      "text/plain": [
       "0.5979401203726185"
      ]
     },
     "execution_count": 13,
     "metadata": {},
     "output_type": "execute_result"
    }
   ],
   "source": [
    "iris_decisiontree_score = iris_decisiontree_model.score(X=iris_x_test,\n",
    "                                                        y=iris_y_test)\n",
    "iris_decisiontree_score"
   ]
  },
  {
   "cell_type": "code",
   "execution_count": 14,
   "metadata": {
    "colab": {
     "base_uri": "https://localhost:8080/",
     "height": 85
    },
    "colab_type": "code",
    "id": "Adi5ELwKrchS",
    "outputId": "ab2bd08b-71ce-4a4b-ad84-7adc31e81aff"
   },
   "outputs": [
    {
     "data": {
      "text/plain": [
       "array([5.7, 5.6, 5. , 4.8, 4.9, 6.9, 6.3, 6. , 6.6, 6.4, 6.2, 5.4, 5.5,\n",
       "       6.5, 5.4, 5.8, 4.8, 6.5, 6.5, 5.4, 6.2, 5.4, 4.9, 6.2, 5.4, 5.5,\n",
       "       4.4, 5.9, 4.6, 7.4, 6.4, 4.9, 5. , 5.4, 6.3, 4.4, 6.4, 4.4])"
      ]
     },
     "execution_count": 14,
     "metadata": {},
     "output_type": "execute_result"
    }
   ],
   "source": [
    "iris_decisiontree_predictions = iris_decisiontree_model.predict(X=iris_x_test)\n",
    "iris_decisiontree_predictions"
   ]
  },
  {
   "cell_type": "markdown",
   "metadata": {
    "colab_type": "text",
    "id": "kWWud8dWtodE"
   },
   "source": [
    "Below the steps are run in a single code cell. "
   ]
  },
  {
   "cell_type": "code",
   "execution_count": 15,
   "metadata": {
    "colab": {
     "base_uri": "https://localhost:8080/",
     "height": 102
    },
    "colab_type": "code",
    "id": "EuT0Uwt-tzj0",
    "outputId": "9b06791d-c1b1-4697-d464-aa71d0de1409"
   },
   "outputs": [
    {
     "data": {
      "text/plain": [
       "(0.6304739512120322,\n",
       " array([5.4, 5.6, 5. , 4.8, 4.9, 6.9, 6.2, 6. , 6.6, 6.4, 6.2, 5.4, 5.5,\n",
       "        6.5, 5.4, 5.8, 4.8, 6.5, 6.5, 5.4, 6.2, 5.4, 4.9, 6.2, 5.4, 5.5,\n",
       "        4.4, 5.9, 5. , 7.3, 6.4, 4.9, 5. , 5.4, 6.3, 4.4, 6.4, 4.4]))"
      ]
     },
     "execution_count": 15,
     "metadata": {},
     "output_type": "execute_result"
    }
   ],
   "source": [
    "from sklearn.tree import DecisionTreeRegressor\n",
    "iris_decisiontree_algorithm   = DecisionTreeRegressor()\n",
    "iris_decisiontree_model       = iris_decisiontree_algorithm.fit(X=iris_x_train,\n",
    "                                                                y=iris_y_train)\n",
    "iris_decisiontree_score       = iris_decisiontree_model.score(X=iris_x_test,\n",
    "                                                              y=iris_y_test)\n",
    "iris_decisiontree_predictions = iris_decisiontree_model.predict(X=iris_x_test)\n",
    "\n",
    "(iris_decisiontree_score, \n",
    " iris_decisiontree_predictions\n",
    ")"
   ]
  },
  {
   "cell_type": "markdown",
   "metadata": {
    "colab_type": "text",
    "id": "yeWSQ1Gdv3Gq"
   },
   "source": [
    "__Exercise__: copy-paste the above code cell and modify the copy to work with the diamonds dataset. They modify another copy to work with the boston dataset.  "
   ]
  },
  {
   "cell_type": "markdown",
   "metadata": {
    "colab_type": "text",
    "id": "KxWs5itEwe4e"
   },
   "source": [
    "### K-nearest neighbors"
   ]
  },
  {
   "cell_type": "markdown",
   "metadata": {
    "colab_type": "text",
    "id": "Ks5fHRrfwsiL"
   },
   "source": [
    "See the documentation and modify the below code cell to work with the \n",
    "\n",
    "- https://scikit-learn.org/stable/modules/generated/sklearn.neighbors.KNeighborsRegressor.html#sklearn.neighbors.KNeighborsRegressor"
   ]
  },
  {
   "cell_type": "code",
   "execution_count": 0,
   "metadata": {
    "colab": {},
    "colab_type": "code",
    "id": "MqeEdL1WwihY"
   },
   "outputs": [],
   "source": [
    "from sklearn.tree import DecisionTreeRegressor\n",
    "iris_decisiontree_algorithm   = DecisionTreeRegressor()\n",
    "iris_decisiontree_model       = iris_decisiontree_algorithm.fit(X=iris_x_train,\n",
    "                                                                y=iris_y_train)\n",
    "iris_decisiontree_score       = iris_decisiontree_model.score(X=iris_x_test,\n",
    "                                                              y=iris_y_test)\n",
    "iris_decisiontree_predictions = iris_decisiontree_model.predict(X=iris_x_test)\n",
    "\n",
    "(iris_decisiontree_score, \n",
    " iris_decisiontree_predictions\n",
    ")"
   ]
  }
 ],
 "metadata": {
  "colab": {
   "include_colab_link": true,
   "name": "Workshop - Scikit-learn intro.ipynb",
   "provenance": []
  },
  "kernelspec": {
   "display_name": "Python 3",
   "language": "python",
   "name": "python3"
  },
  "language_info": {
   "codemirror_mode": {
    "name": "ipython",
    "version": 3
   },
   "file_extension": ".py",
   "mimetype": "text/x-python",
   "name": "python",
   "nbconvert_exporter": "python",
   "pygments_lexer": "ipython3",
   "version": "3.7.3"
  }
 },
 "nbformat": 4,
 "nbformat_minor": 1
}
