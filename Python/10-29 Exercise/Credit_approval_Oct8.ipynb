{
  "nbformat": 4,
  "nbformat_minor": 0,
  "metadata": {
    "colab": {
      "name": "Credit-approval Oct8.ipynb",
      "provenance": [],
      "include_colab_link": true
    },
    "kernelspec": {
      "name": "python3",
      "display_name": "Python 3"
    }
  },
  "cells": [
    {
      "cell_type": "markdown",
      "metadata": {
        "id": "view-in-github",
        "colab_type": "text"
      },
      "source": [
        "<a href=\"https://colab.research.google.com/github/data-space/datalab-notebooks/blob/master/Python/9.%20Temporary/Credit_approval_Oct8.ipynb\" target=\"_parent\"><img src=\"https://colab.research.google.com/assets/colab-badge.svg\" alt=\"Open In Colab\"/></a>"
      ]
    },
    {
      "cell_type": "markdown",
      "metadata": {
        "id": "-ueE1NdccOsX",
        "colab_type": "text"
      },
      "source": [
        "# Classes & Objects - Credit Approval Dataset"
      ]
    },
    {
      "cell_type": "markdown",
      "metadata": {
        "id": "q9PCtaOeS7I5",
        "colab_type": "text"
      },
      "source": [
        "This notebook demonstrates \n",
        "- Python classes\n",
        "- Scikit-learn transformer classes \n",
        "- Scikit-learn `Pipeline` class\n",
        "- Scikit-learn `FeatureUnion` class\n",
        "\n",
        "The dataset created below is used in most of the demonstrations. "
      ]
    },
    {
      "cell_type": "markdown",
      "metadata": {
        "id": "Gaxo4tyLcWRo",
        "colab_type": "text"
      },
      "source": [
        "The credit approval dataset is read by the `get_initial_pdf` function. "
      ]
    },
    {
      "cell_type": "code",
      "metadata": {
        "id": "HxLcuqivTOZZ",
        "colab_type": "code",
        "colab": {}
      },
      "source": [
        "import pandas as pd\n",
        "def get_initial_pdf():\n",
        "  pdf = pd.read_csv('https://raw.githubusercontent.com/datalab-datasets/credit-approval/master/crx.data',\n",
        "                    header=None,\n",
        "                    names=[f'col_{col_num}' for col_num in range(16)],\n",
        "                    dtype={f'col_{num}': 'float' for num in [1,2,7,13,14]},\n",
        "                    na_values=['?']\n",
        "                    ) \\\n",
        "          .replace(to_replace={'col_15': {'+':1.0, '-':0.0}}) \n",
        "  return pdf"
      ],
      "execution_count": 0,
      "outputs": []
    },
    {
      "cell_type": "markdown",
      "metadata": {
        "id": "Vc1jMGp2ceg7",
        "colab_type": "text"
      },
      "source": [
        "It is stored in the `initial_pdf` variable. We will use this later. "
      ]
    },
    {
      "cell_type": "code",
      "metadata": {
        "id": "fVX_YKoUU5cQ",
        "colab_type": "code",
        "colab": {}
      },
      "source": [
        "initial_pdf = get_initial_pdf()\n",
        "float_pdf   = initial_pdf.select_dtypes(include='float')\n",
        "object_pdf  = initial_pdf.select_dtypes(include='object')"
      ],
      "execution_count": 0,
      "outputs": []
    },
    {
      "cell_type": "markdown",
      "metadata": {
        "id": "I3UxBplp6guB",
        "colab_type": "text"
      },
      "source": [
        "For reasons that will make more sense later, the dataset is split into two pieces: \n",
        "- the `float` columns are in `float_pdf` \n",
        "- the `object` columns are in `object_pdf`."
      ]
    },
    {
      "cell_type": "markdown",
      "metadata": {
        "id": "pnAnnQYEcHwI",
        "colab_type": "text"
      },
      "source": [
        "## Classes and objects\n",
        "There are three types of methods: \n",
        "- init\n",
        "- get\n",
        "- set "
      ]
    },
    {
      "cell_type": "markdown",
      "metadata": {
        "id": "SIrlUrcaTmoI",
        "colab_type": "text"
      },
      "source": [
        "This class has only an init method."
      ]
    },
    {
      "cell_type": "code",
      "metadata": {
        "id": "AqlCYSZsdV66",
        "colab_type": "code",
        "colab": {}
      },
      "source": [
        "class Person: \n",
        "  def __init__(self,name=''):\n",
        "    self.name=name"
      ],
      "execution_count": 0,
      "outputs": []
    },
    {
      "cell_type": "code",
      "metadata": {
        "id": "BdKOLLIAdmnE",
        "colab_type": "code",
        "colab": {}
      },
      "source": [
        "host = Person(name=\"David\")\n",
        "brother = Person(name='John')"
      ],
      "execution_count": 0,
      "outputs": []
    },
    {
      "cell_type": "code",
      "metadata": {
        "id": "9Jc6PE74d_kf",
        "colab_type": "code",
        "outputId": "a82b7dd2-987d-4324-ae1c-38115c82b1ad",
        "colab": {
          "base_uri": "https://localhost:8080/",
          "height": 34
        }
      },
      "source": [
        "host.name, brother.name"
      ],
      "execution_count": 5,
      "outputs": [
        {
          "output_type": "execute_result",
          "data": {
            "text/plain": [
              "('David', 'John')"
            ]
          },
          "metadata": {
            "tags": []
          },
          "execution_count": 5
        }
      ]
    },
    {
      "cell_type": "markdown",
      "metadata": {
        "id": "4e1L10q4Try2",
        "colab_type": "text"
      },
      "source": [
        "A \"get\" method is added to this class. "
      ]
    },
    {
      "cell_type": "code",
      "metadata": {
        "id": "28dPfeJyeReI",
        "colab_type": "code",
        "colab": {}
      },
      "source": [
        "class Person: \n",
        "  def __init__(self,name=''):\n",
        "    self.name=name\n",
        "  def get_name(self):\n",
        "    return self.name"
      ],
      "execution_count": 0,
      "outputs": []
    },
    {
      "cell_type": "code",
      "metadata": {
        "id": "UUCrBkLAeaNx",
        "colab_type": "code",
        "colab": {}
      },
      "source": [
        "host = Person('david')"
      ],
      "execution_count": 0,
      "outputs": []
    },
    {
      "cell_type": "code",
      "metadata": {
        "id": "synfGqOHeiId",
        "colab_type": "code",
        "outputId": "76e50d07-45e5-4ad9-81f6-5043b3fdbd41",
        "colab": {
          "base_uri": "https://localhost:8080/",
          "height": 34
        }
      },
      "source": [
        "host.get_name()"
      ],
      "execution_count": 8,
      "outputs": [
        {
          "output_type": "execute_result",
          "data": {
            "text/plain": [
              "'david'"
            ]
          },
          "metadata": {
            "tags": []
          },
          "execution_count": 8
        }
      ]
    },
    {
      "cell_type": "markdown",
      "metadata": {
        "id": "2MyHPZq9TwPy",
        "colab_type": "text"
      },
      "source": [
        "A \"set\" method is added to this class. "
      ]
    },
    {
      "cell_type": "code",
      "metadata": {
        "id": "XyVzdb1FfNyo",
        "colab_type": "code",
        "colab": {}
      },
      "source": [
        "class Person: \n",
        "  def __init__(self,name=''):\n",
        "    self.name=name\n",
        "  def get_name(self):\n",
        "    return self.name\n",
        "  def set_name(self,name):\n",
        "    self.name=name\n",
        "    return self"
      ],
      "execution_count": 0,
      "outputs": []
    },
    {
      "cell_type": "code",
      "metadata": {
        "id": "U3bz7t1PfTQ9",
        "colab_type": "code",
        "colab": {}
      },
      "source": [
        "host = Person()"
      ],
      "execution_count": 0,
      "outputs": []
    },
    {
      "cell_type": "code",
      "metadata": {
        "id": "OQvPBrUEfX87",
        "colab_type": "code",
        "outputId": "df1f8aa7-5e4a-453d-d434-f8e488787234",
        "colab": {
          "base_uri": "https://localhost:8080/",
          "height": 34
        }
      },
      "source": [
        "host.get_name()"
      ],
      "execution_count": 11,
      "outputs": [
        {
          "output_type": "execute_result",
          "data": {
            "text/plain": [
              "''"
            ]
          },
          "metadata": {
            "tags": []
          },
          "execution_count": 11
        }
      ]
    },
    {
      "cell_type": "code",
      "metadata": {
        "id": "cxSeQz49fbQP",
        "colab_type": "code",
        "outputId": "fac9e3ef-234d-4584-b8b4-87e10828e80c",
        "colab": {
          "base_uri": "https://localhost:8080/",
          "height": 34
        }
      },
      "source": [
        "host.set_name('David')"
      ],
      "execution_count": 12,
      "outputs": [
        {
          "output_type": "execute_result",
          "data": {
            "text/plain": [
              "<__main__.Person at 0x7f2762465400>"
            ]
          },
          "metadata": {
            "tags": []
          },
          "execution_count": 12
        }
      ]
    },
    {
      "cell_type": "code",
      "metadata": {
        "id": "yeZp1KWRfeI7",
        "colab_type": "code",
        "outputId": "4e7ae2e7-91c2-460f-f2a4-57770da917a0",
        "colab": {
          "base_uri": "https://localhost:8080/",
          "height": 34
        }
      },
      "source": [
        "host.get_name()"
      ],
      "execution_count": 13,
      "outputs": [
        {
          "output_type": "execute_result",
          "data": {
            "text/plain": [
              "'David'"
            ]
          },
          "metadata": {
            "tags": []
          },
          "execution_count": 13
        }
      ]
    },
    {
      "cell_type": "code",
      "metadata": {
        "id": "9MowHhb1fguZ",
        "colab_type": "code",
        "outputId": "31e7f2c7-b516-4e13-a08f-f3932adecfcc",
        "colab": {
          "base_uri": "https://localhost:8080/",
          "height": 34
        }
      },
      "source": [
        "host.set_name('Davie').get_name()"
      ],
      "execution_count": 14,
      "outputs": [
        {
          "output_type": "execute_result",
          "data": {
            "text/plain": [
              "'Davie'"
            ]
          },
          "metadata": {
            "tags": []
          },
          "execution_count": 14
        }
      ]
    },
    {
      "cell_type": "markdown",
      "metadata": {
        "id": "428XjcT4KLEK",
        "colab_type": "text"
      },
      "source": [
        "From this section remember:\n",
        "- The \"init\" method records the initial parameters used when creating the object\n",
        "- The \"get\" method return values from the object\n",
        "- The \"set\" method stores values in the object and returns `self` (the object)\n"
      ]
    },
    {
      "cell_type": "markdown",
      "metadata": {
        "id": "gxnznmwdgHvT",
        "colab_type": "text"
      },
      "source": [
        "## Transformer classes and objects"
      ]
    },
    {
      "cell_type": "markdown",
      "metadata": {
        "id": "4gzNyIvYT6X9",
        "colab_type": "text"
      },
      "source": [
        "Two examples of transformer classes are created below."
      ]
    },
    {
      "cell_type": "markdown",
      "metadata": {
        "id": "bwwt5vo57fMp",
        "colab_type": "text"
      },
      "source": [
        "### `DoNothing` class (first example)"
      ]
    },
    {
      "cell_type": "markdown",
      "metadata": {
        "id": "V8axzBrDUAYB",
        "colab_type": "text"
      },
      "source": [
        "This class is the minimum needed to create a transformer class. When you are creating a new class, this might be a good place to start (no errors)."
      ]
    },
    {
      "cell_type": "code",
      "metadata": {
        "id": "TPATgOp1g96l",
        "colab_type": "code",
        "colab": {}
      },
      "source": [
        "from sklearn.base import BaseEstimator, TransformerMixin\n",
        "class DoNothing(BaseEstimator, TransformerMixin):\n",
        "  def __init__(self):\n",
        "    return\n",
        "  def fit(self, X, y=None):\n",
        "    return self\n",
        "  def transform(self, X):\n",
        "    return X"
      ],
      "execution_count": 0,
      "outputs": []
    },
    {
      "cell_type": "code",
      "metadata": {
        "id": "FUlRDzoshepQ",
        "colab_type": "code",
        "colab": {}
      },
      "source": [
        "no_op = DoNothing()"
      ],
      "execution_count": 0,
      "outputs": []
    },
    {
      "cell_type": "code",
      "metadata": {
        "id": "3xymTjNihxvu",
        "colab_type": "code",
        "outputId": "375f4c10-9f96-467e-f6fd-fb84550dbe6c",
        "colab": {
          "base_uri": "https://localhost:8080/",
          "height": 34
        }
      },
      "source": [
        "no_op.fit(initial_pdf)"
      ],
      "execution_count": 17,
      "outputs": [
        {
          "output_type": "execute_result",
          "data": {
            "text/plain": [
              "DoNothing()"
            ]
          },
          "metadata": {
            "tags": []
          },
          "execution_count": 17
        }
      ]
    },
    {
      "cell_type": "code",
      "metadata": {
        "id": "T4NI_Nslh4mm",
        "colab_type": "code",
        "colab": {}
      },
      "source": [
        "transformed_pdf = no_op.transform(initial_pdf)"
      ],
      "execution_count": 0,
      "outputs": []
    },
    {
      "cell_type": "code",
      "metadata": {
        "id": "nD9EzuDJiNWK",
        "colab_type": "code",
        "outputId": "9b1e8fbc-e7b2-4f70-da1f-5434e02aeb53",
        "colab": {
          "base_uri": "https://localhost:8080/",
          "height": 34
        }
      },
      "source": [
        "transformed_pdf.equals(initial_pdf)"
      ],
      "execution_count": 19,
      "outputs": [
        {
          "output_type": "execute_result",
          "data": {
            "text/plain": [
              "True"
            ]
          },
          "metadata": {
            "tags": []
          },
          "execution_count": 19
        }
      ]
    },
    {
      "cell_type": "markdown",
      "metadata": {
        "id": "DJNy-AdK7k-S",
        "colab_type": "text"
      },
      "source": [
        "### `DataFrameSelector` class (second example)"
      ]
    },
    {
      "cell_type": "markdown",
      "metadata": {
        "id": "fnR8XQ69UTPv",
        "colab_type": "text"
      },
      "source": [
        "This class save an init parameter as an attribute and transforms any dataframe passed to the transform method by returned only the columns listed in the init method."
      ]
    },
    {
      "cell_type": "code",
      "metadata": {
        "id": "hd03ol_W7tWF",
        "colab_type": "code",
        "colab": {}
      },
      "source": [
        "class DataFrameSelector(BaseEstimator, TransformerMixin):\n",
        "  def __init__(self, attribute_names=[]):\n",
        "    self.attribute_names = attribute_names\n",
        "  def fit(self, X, y=None):\n",
        "    return self\n",
        "  def transform(self, X):\n",
        "    return X[self.attribute_names]"
      ],
      "execution_count": 0,
      "outputs": []
    },
    {
      "cell_type": "code",
      "metadata": {
        "id": "ZlJRYWSO-aUn",
        "colab_type": "code",
        "outputId": "4ca759f7-2d79-41a6-dd8d-4f49422ca5da",
        "colab": {
          "base_uri": "https://localhost:8080/",
          "height": 195
        }
      },
      "source": [
        "(DataFrameSelector(attribute_names=['col_1','col_2'])\n",
        ".fit(float_pdf)\n",
        ".transform(float_pdf)\n",
        ".head()\n",
        ")"
      ],
      "execution_count": 21,
      "outputs": [
        {
          "output_type": "execute_result",
          "data": {
            "text/html": [
              "<div>\n",
              "<style scoped>\n",
              "    .dataframe tbody tr th:only-of-type {\n",
              "        vertical-align: middle;\n",
              "    }\n",
              "\n",
              "    .dataframe tbody tr th {\n",
              "        vertical-align: top;\n",
              "    }\n",
              "\n",
              "    .dataframe thead th {\n",
              "        text-align: right;\n",
              "    }\n",
              "</style>\n",
              "<table border=\"1\" class=\"dataframe\">\n",
              "  <thead>\n",
              "    <tr style=\"text-align: right;\">\n",
              "      <th></th>\n",
              "      <th>col_1</th>\n",
              "      <th>col_2</th>\n",
              "    </tr>\n",
              "  </thead>\n",
              "  <tbody>\n",
              "    <tr>\n",
              "      <th>0</th>\n",
              "      <td>30.83</td>\n",
              "      <td>0.000</td>\n",
              "    </tr>\n",
              "    <tr>\n",
              "      <th>1</th>\n",
              "      <td>58.67</td>\n",
              "      <td>4.460</td>\n",
              "    </tr>\n",
              "    <tr>\n",
              "      <th>2</th>\n",
              "      <td>24.50</td>\n",
              "      <td>0.500</td>\n",
              "    </tr>\n",
              "    <tr>\n",
              "      <th>3</th>\n",
              "      <td>27.83</td>\n",
              "      <td>1.540</td>\n",
              "    </tr>\n",
              "    <tr>\n",
              "      <th>4</th>\n",
              "      <td>20.17</td>\n",
              "      <td>5.625</td>\n",
              "    </tr>\n",
              "  </tbody>\n",
              "</table>\n",
              "</div>"
            ],
            "text/plain": [
              "   col_1  col_2\n",
              "0  30.83  0.000\n",
              "1  58.67  4.460\n",
              "2  24.50  0.500\n",
              "3  27.83  1.540\n",
              "4  20.17  5.625"
            ]
          },
          "metadata": {
            "tags": []
          },
          "execution_count": 21
        }
      ]
    },
    {
      "cell_type": "markdown",
      "metadata": {
        "id": "jVnC1Rf3quDH",
        "colab_type": "text"
      },
      "source": [
        "## Transforming `object` columns "
      ]
    },
    {
      "cell_type": "markdown",
      "metadata": {
        "id": "ZTtFnwTUUn9p",
        "colab_type": "text"
      },
      "source": [
        "In this section objects from two common Scikit-learn transformer classes are used to transform the `object_pdf` dataframe. The result of the first is passed to the second.\n",
        "\n",
        "- The `fit` method of a transformer class is a \"set\" method. \n",
        "- The `transform` method of a transformer class is a \"get\" method."
      ]
    },
    {
      "cell_type": "markdown",
      "metadata": {
        "id": "abhA9ezpstJW",
        "colab_type": "text"
      },
      "source": [
        "### `Object` - `SimpleImputer`"
      ]
    },
    {
      "cell_type": "code",
      "metadata": {
        "id": "pnfu-E519gVM",
        "colab_type": "code",
        "colab": {}
      },
      "source": [
        "from sklearn.impute import SimpleImputer\n",
        "import numpy as np"
      ],
      "execution_count": 0,
      "outputs": []
    },
    {
      "cell_type": "code",
      "metadata": {
        "id": "lMJa5zVYq3CL",
        "colab_type": "code",
        "colab": {}
      },
      "source": [
        "imp = SimpleImputer(missing_values=np.nan,\n",
        "                    strategy='most_frequent')"
      ],
      "execution_count": 0,
      "outputs": []
    },
    {
      "cell_type": "code",
      "metadata": {
        "id": "LlqkLLeGr2Mg",
        "colab_type": "code",
        "outputId": "8660f3d8-320b-423c-8a55-22dd4f871e41",
        "colab": {
          "base_uri": "https://localhost:8080/",
          "height": 50
        }
      },
      "source": [
        "imp.fit(object_pdf)"
      ],
      "execution_count": 28,
      "outputs": [
        {
          "output_type": "execute_result",
          "data": {
            "text/plain": [
              "SimpleImputer(add_indicator=False, copy=True, fill_value=None,\n",
              "              missing_values=nan, strategy='most_frequent', verbose=0)"
            ]
          },
          "metadata": {
            "tags": []
          },
          "execution_count": 28
        }
      ]
    },
    {
      "cell_type": "code",
      "metadata": {
        "id": "WzNM_TLzr-TQ",
        "colab_type": "code",
        "outputId": "9cdf8745-f22d-40ad-d183-97e291fb6a10",
        "colab": {
          "base_uri": "https://localhost:8080/",
          "height": 34
        }
      },
      "source": [
        "imp.statistics_"
      ],
      "execution_count": 29,
      "outputs": [
        {
          "output_type": "execute_result",
          "data": {
            "text/plain": [
              "array(['b', 'u', 'g', 'c', 'v', 't', 'f', 'f', 'g'], dtype=object)"
            ]
          },
          "metadata": {
            "tags": []
          },
          "execution_count": 29
        }
      ]
    },
    {
      "cell_type": "code",
      "metadata": {
        "id": "VWoRiv4b9sna",
        "colab_type": "code",
        "outputId": "851f07e3-dc3f-407a-a011-759756225a30",
        "colab": {
          "base_uri": "https://localhost:8080/",
          "height": 67
        }
      },
      "source": [
        "object_pdf.columns"
      ],
      "execution_count": 30,
      "outputs": [
        {
          "output_type": "execute_result",
          "data": {
            "text/plain": [
              "Index(['col_0', 'col_3', 'col_4', 'col_5', 'col_6', 'col_8', 'col_9', 'col_11',\n",
              "       'col_12'],\n",
              "      dtype='object')"
            ]
          },
          "metadata": {
            "tags": []
          },
          "execution_count": 30
        }
      ]
    },
    {
      "cell_type": "code",
      "metadata": {
        "id": "HWgbsQ6S9zVw",
        "colab_type": "code",
        "outputId": "7ca3bc05-212c-4e98-8043-c7a12a0b1122",
        "colab": {
          "base_uri": "https://localhost:8080/",
          "height": 67
        }
      },
      "source": [
        "object_pdf.col_0.value_counts()"
      ],
      "execution_count": 31,
      "outputs": [
        {
          "output_type": "execute_result",
          "data": {
            "text/plain": [
              "b    468\n",
              "a    210\n",
              "Name: col_0, dtype: int64"
            ]
          },
          "metadata": {
            "tags": []
          },
          "execution_count": 31
        }
      ]
    },
    {
      "cell_type": "code",
      "metadata": {
        "id": "Z638GT_79_YJ",
        "colab_type": "code",
        "outputId": "1620951f-c047-4fe5-d0d9-4e5f30aa4ec3",
        "colab": {
          "base_uri": "https://localhost:8080/",
          "height": 84
        }
      },
      "source": [
        "object_pdf.col_3.value_counts()"
      ],
      "execution_count": 32,
      "outputs": [
        {
          "output_type": "execute_result",
          "data": {
            "text/plain": [
              "u    519\n",
              "y    163\n",
              "l      2\n",
              "Name: col_3, dtype: int64"
            ]
          },
          "metadata": {
            "tags": []
          },
          "execution_count": 32
        }
      ]
    },
    {
      "cell_type": "code",
      "metadata": {
        "id": "nGvr5NOXsBzl",
        "colab_type": "code",
        "colab": {}
      },
      "source": [
        "imputed_object_arr = imp.transform(object_pdf)"
      ],
      "execution_count": 0,
      "outputs": []
    },
    {
      "cell_type": "code",
      "metadata": {
        "id": "a8OCR_IlsWhr",
        "colab_type": "code",
        "outputId": "279a06a1-9734-4a98-cddd-58ef27257b1b",
        "colab": {
          "base_uri": "https://localhost:8080/",
          "height": 134
        }
      },
      "source": [
        "imputed_object_arr"
      ],
      "execution_count": 34,
      "outputs": [
        {
          "output_type": "execute_result",
          "data": {
            "text/plain": [
              "array([['b', 'u', 'g', ..., 't', 'f', 'g'],\n",
              "       ['a', 'u', 'g', ..., 't', 'f', 'g'],\n",
              "       ['a', 'u', 'g', ..., 'f', 'f', 'g'],\n",
              "       ...,\n",
              "       ['a', 'y', 'p', ..., 't', 't', 'g'],\n",
              "       ['b', 'u', 'g', ..., 'f', 'f', 'g'],\n",
              "       ['b', 'u', 'g', ..., 'f', 't', 'g']], dtype=object)"
            ]
          },
          "metadata": {
            "tags": []
          },
          "execution_count": 34
        }
      ]
    },
    {
      "cell_type": "markdown",
      "metadata": {
        "id": "TQ_BA3rQooYd",
        "colab_type": "text"
      },
      "source": [
        "### `Object` - `OneHotEncoder`\n",
        "\n",
        "- https://scikit-learn.org/stable/modules/generated/sklearn.preprocessing.OneHotEncoder.html"
      ]
    },
    {
      "cell_type": "code",
      "metadata": {
        "id": "Pj7YIWkXo7MV",
        "colab_type": "code",
        "colab": {}
      },
      "source": [
        "from sklearn.preprocessing import OneHotEncoder"
      ],
      "execution_count": 0,
      "outputs": []
    },
    {
      "cell_type": "code",
      "metadata": {
        "id": "yhMIRPiCo25I",
        "colab_type": "code",
        "colab": {}
      },
      "source": [
        "ohe = OneHotEncoder()"
      ],
      "execution_count": 0,
      "outputs": []
    },
    {
      "cell_type": "code",
      "metadata": {
        "id": "N80Ugn0HtqJx",
        "colab_type": "code",
        "outputId": "e59cd62a-faf9-468c-d45f-1182e0a9071f",
        "colab": {
          "base_uri": "https://localhost:8080/",
          "height": 185
        }
      },
      "source": [
        "test_arr = imputed_object_arr[5:15,:3]\n",
        "test_arr"
      ],
      "execution_count": 37,
      "outputs": [
        {
          "output_type": "execute_result",
          "data": {
            "text/plain": [
              "array([['b', 'u', 'g'],\n",
              "       ['b', 'u', 'g'],\n",
              "       ['a', 'u', 'g'],\n",
              "       ['b', 'y', 'p'],\n",
              "       ['b', 'y', 'p'],\n",
              "       ['b', 'u', 'g'],\n",
              "       ['b', 'u', 'g'],\n",
              "       ['a', 'u', 'g'],\n",
              "       ['b', 'u', 'g'],\n",
              "       ['a', 'u', 'g']], dtype=object)"
            ]
          },
          "metadata": {
            "tags": []
          },
          "execution_count": 37
        }
      ]
    },
    {
      "cell_type": "code",
      "metadata": {
        "id": "0bK5d0JBo2t2",
        "colab_type": "code",
        "outputId": "39f93c5c-e406-439e-9bb1-da35ca16d9c8",
        "colab": {
          "base_uri": "https://localhost:8080/",
          "height": 50
        }
      },
      "source": [
        "ohe.fit(test_arr).transform(test_arr) #.todense()"
      ],
      "execution_count": 44,
      "outputs": [
        {
          "output_type": "execute_result",
          "data": {
            "text/plain": [
              "<10x6 sparse matrix of type '<class 'numpy.float64'>'\n",
              "\twith 30 stored elements in Compressed Sparse Row format>"
            ]
          },
          "metadata": {
            "tags": []
          },
          "execution_count": 44
        }
      ]
    },
    {
      "cell_type": "code",
      "metadata": {
        "id": "1NOJIMiWvCcz",
        "colab_type": "code",
        "colab": {}
      },
      "source": [
        "ohe_imputed_object_arr = ohe.fit(imputed_object_arr).transform(imputed_object_arr)"
      ],
      "execution_count": 0,
      "outputs": []
    },
    {
      "cell_type": "code",
      "metadata": {
        "id": "umNkcKmZvMDU",
        "colab_type": "code",
        "outputId": "6ea932c0-c6b6-46a9-8f00-41e75ba4cfe4",
        "colab": {
          "base_uri": "https://localhost:8080/",
          "height": 134
        }
      },
      "source": [
        "ohe_imputed_object_arr.todense()"
      ],
      "execution_count": 43,
      "outputs": [
        {
          "output_type": "execute_result",
          "data": {
            "text/plain": [
              "matrix([[0., 1., 0., ..., 1., 0., 0.],\n",
              "        [1., 0., 0., ..., 1., 0., 0.],\n",
              "        [1., 0., 0., ..., 1., 0., 0.],\n",
              "        ...,\n",
              "        [1., 0., 0., ..., 1., 0., 0.],\n",
              "        [0., 1., 0., ..., 1., 0., 0.],\n",
              "        [0., 1., 0., ..., 1., 0., 0.]])"
            ]
          },
          "metadata": {
            "tags": []
          },
          "execution_count": 43
        }
      ]
    },
    {
      "cell_type": "markdown",
      "metadata": {
        "id": "FbtCFki-WPMd",
        "colab_type": "text"
      },
      "source": [
        "The two objects above transformed the `object_pdf` by\n",
        "- replacing any missing values with the most frequent value in that columns\n",
        "- encoding categorical/object columns as multiple columns of `0`/`1`"
      ]
    },
    {
      "cell_type": "markdown",
      "metadata": {
        "id": "jCrFq9sZkigY",
        "colab_type": "text"
      },
      "source": [
        "## `Float`"
      ]
    },
    {
      "cell_type": "markdown",
      "metadata": {
        "id": "d-WSpQOWWv3A",
        "colab_type": "text"
      },
      "source": [
        "In this section objects from two common Scikit-learn transformer classes are used to transform the `float_pdf` dataframe. The result of the first is passed to the second.\n",
        "\n",
        "Recall that:\n",
        "- The `fit` method of a transformer class is a \"set\" method. \n",
        "- The `transform` method of a transformer class is a \"get\" method."
      ]
    },
    {
      "cell_type": "markdown",
      "metadata": {
        "id": "NQrA9HkswJfa",
        "colab_type": "text"
      },
      "source": [
        "### `Float` - `SimpleImputer`"
      ]
    },
    {
      "cell_type": "markdown",
      "metadata": {
        "id": "B2aW_fJ1klEr",
        "colab_type": "text"
      },
      "source": [
        "- https://scikit-learn.org/stable/modules/generated/sklearn.impute.SimpleImputer.html"
      ]
    },
    {
      "cell_type": "code",
      "metadata": {
        "id": "gSxcF2IoXwMx",
        "colab_type": "code",
        "colab": {
          "base_uri": "https://localhost:8080/",
          "height": 134
        },
        "outputId": "3526e2f9-a675-46e4-ab63-40004b22f6cd"
      },
      "source": [
        "float_pdf.isnull().sum()"
      ],
      "execution_count": 62,
      "outputs": [
        {
          "output_type": "execute_result",
          "data": {
            "text/plain": [
              "col_1     12\n",
              "col_2      0\n",
              "col_7      0\n",
              "col_13    13\n",
              "col_14     0\n",
              "col_15     0\n",
              "dtype: int64"
            ]
          },
          "metadata": {
            "tags": []
          },
          "execution_count": 62
        }
      ]
    },
    {
      "cell_type": "code",
      "metadata": {
        "id": "aPZafbjblrSP",
        "colab_type": "code",
        "colab": {}
      },
      "source": [
        "from sklearn.impute import SimpleImputer\n",
        "import numpy as np"
      ],
      "execution_count": 0,
      "outputs": []
    },
    {
      "cell_type": "code",
      "metadata": {
        "id": "YSKIOQWPoK6d",
        "colab_type": "code",
        "colab": {}
      },
      "source": [
        "imp = SimpleImputer(missing_values=np.nan, strategy='mean')"
      ],
      "execution_count": 0,
      "outputs": []
    },
    {
      "cell_type": "code",
      "metadata": {
        "id": "kjual6hNoN0k",
        "colab_type": "code",
        "outputId": "2654b0b0-0105-440c-ff2b-f4d253d7b61d",
        "colab": {
          "base_uri": "https://localhost:8080/",
          "height": 50
        }
      },
      "source": [
        "imp.fit(float_pdf)"
      ],
      "execution_count": 47,
      "outputs": [
        {
          "output_type": "execute_result",
          "data": {
            "text/plain": [
              "SimpleImputer(add_indicator=False, copy=True, fill_value=None,\n",
              "              missing_values=nan, strategy='mean', verbose=0)"
            ]
          },
          "metadata": {
            "tags": []
          },
          "execution_count": 47
        }
      ]
    },
    {
      "cell_type": "code",
      "metadata": {
        "id": "UDpdBvpGXLgP",
        "colab_type": "code",
        "colab": {
          "base_uri": "https://localhost:8080/",
          "height": 50
        },
        "outputId": "13d67d22-ed4f-4d2f-9630-05c18920fb96"
      },
      "source": [
        "imp.statistics_"
      ],
      "execution_count": 49,
      "outputs": [
        {
          "output_type": "execute_result",
          "data": {
            "text/plain": [
              "array([3.15681711e+01, 4.75872464e+00, 2.22340580e+00, 1.84014771e+02,\n",
              "       1.01738551e+03, 4.44927536e-01])"
            ]
          },
          "metadata": {
            "tags": []
          },
          "execution_count": 49
        }
      ]
    },
    {
      "cell_type": "code",
      "metadata": {
        "id": "6Hw_M9c2XSQH",
        "colab_type": "code",
        "colab": {
          "base_uri": "https://localhost:8080/",
          "height": 34
        },
        "outputId": "cd0df9a7-36d7-45bb-ae38-60f4de42f420"
      },
      "source": [
        "float_pdf.columns"
      ],
      "execution_count": 50,
      "outputs": [
        {
          "output_type": "execute_result",
          "data": {
            "text/plain": [
              "Index(['col_1', 'col_2', 'col_7', 'col_13', 'col_14', 'col_15'], dtype='object')"
            ]
          },
          "metadata": {
            "tags": []
          },
          "execution_count": 50
        }
      ]
    },
    {
      "cell_type": "code",
      "metadata": {
        "id": "oulOOQXtusXd",
        "colab_type": "code",
        "colab": {}
      },
      "source": [
        "imputed_float_arr = imp.transform(float_pdf)"
      ],
      "execution_count": 0,
      "outputs": []
    },
    {
      "cell_type": "code",
      "metadata": {
        "id": "pcdHQccUXjJX",
        "colab_type": "code",
        "colab": {
          "base_uri": "https://localhost:8080/",
          "height": 34
        },
        "outputId": "c1175994-ebd3-447c-d152-a2b006339a44"
      },
      "source": [
        "np.sum(np.isnan(imputed_float_arr))"
      ],
      "execution_count": 61,
      "outputs": [
        {
          "output_type": "execute_result",
          "data": {
            "text/plain": [
              "0"
            ]
          },
          "metadata": {
            "tags": []
          },
          "execution_count": 61
        }
      ]
    },
    {
      "cell_type": "markdown",
      "metadata": {
        "id": "eX4wooUgwQLR",
        "colab_type": "text"
      },
      "source": [
        "### `Float` - `MinMaxScaler`"
      ]
    },
    {
      "cell_type": "code",
      "metadata": {
        "id": "U3RdyJkvX6AN",
        "colab_type": "code",
        "colab": {
          "base_uri": "https://localhost:8080/",
          "height": 34
        },
        "outputId": "1caa06d3-3a24-4ec4-b41e-0738480a92b1"
      },
      "source": [
        "np.max(imputed_float_arr,axis=0)"
      ],
      "execution_count": 68,
      "outputs": [
        {
          "output_type": "execute_result",
          "data": {
            "text/plain": [
              "array([8.025e+01, 2.800e+01, 2.850e+01, 2.000e+03, 1.000e+05, 1.000e+00])"
            ]
          },
          "metadata": {
            "tags": []
          },
          "execution_count": 68
        }
      ]
    },
    {
      "cell_type": "code",
      "metadata": {
        "id": "u6GbINxbwPx4",
        "colab_type": "code",
        "colab": {}
      },
      "source": [
        "from sklearn.preprocessing import MinMaxScaler\n",
        "scaler = MinMaxScaler()"
      ],
      "execution_count": 0,
      "outputs": []
    },
    {
      "cell_type": "code",
      "metadata": {
        "id": "wbfNl03WwgMu",
        "colab_type": "code",
        "outputId": "1d593b80-8fee-4f91-d115-b78cdce543c4",
        "colab": {
          "base_uri": "https://localhost:8080/",
          "height": 34
        }
      },
      "source": [
        "scaler.fit(imputed_float_pdf)"
      ],
      "execution_count": 70,
      "outputs": [
        {
          "output_type": "execute_result",
          "data": {
            "text/plain": [
              "MinMaxScaler(copy=True, feature_range=(0, 1))"
            ]
          },
          "metadata": {
            "tags": []
          },
          "execution_count": 70
        }
      ]
    },
    {
      "cell_type": "code",
      "metadata": {
        "id": "7_eNF7lYwnSz",
        "colab_type": "code",
        "outputId": "e15ad366-1f59-4035-b4c9-5cc00a6c116e",
        "colab": {
          "base_uri": "https://localhost:8080/",
          "height": 50
        }
      },
      "source": [
        "scaler.data_min_, scaler.data_max_"
      ],
      "execution_count": 71,
      "outputs": [
        {
          "output_type": "execute_result",
          "data": {
            "text/plain": [
              "(array([13.75,  0.  ,  0.  ,  0.  ,  0.  ,  0.  ]),\n",
              " array([8.025e+01, 2.800e+01, 2.850e+01, 2.000e+03, 1.000e+05, 1.000e+00]))"
            ]
          },
          "metadata": {
            "tags": []
          },
          "execution_count": 71
        }
      ]
    },
    {
      "cell_type": "code",
      "metadata": {
        "id": "15a0MDiEw1lD",
        "colab_type": "code",
        "colab": {}
      },
      "source": [
        "scaled_imputed_float_arr = scaler.transform(imputed_float_pdf)"
      ],
      "execution_count": 0,
      "outputs": []
    },
    {
      "cell_type": "code",
      "metadata": {
        "id": "CDIatNuRLqdE",
        "colab_type": "code",
        "outputId": "e293084a-c991-43f9-c67d-ca130a9a6b7a",
        "colab": {
          "base_uri": "https://localhost:8080/",
          "height": 34
        }
      },
      "source": [
        "(scaled_imputed_float_arr.min(axis=0), \n",
        " scaled_imputed_float_arr.max(axis=0)\n",
        " )"
      ],
      "execution_count": 77,
      "outputs": [
        {
          "output_type": "execute_result",
          "data": {
            "text/plain": [
              "(array([0., 0., 0., 0., 0., 0.]), array([1., 1., 1., 1., 1., 1.]))"
            ]
          },
          "metadata": {
            "tags": []
          },
          "execution_count": 77
        }
      ]
    },
    {
      "cell_type": "markdown",
      "metadata": {
        "id": "g_cSC2Emx0y5",
        "colab_type": "text"
      },
      "source": [
        "## `Object` - `Pipeline`"
      ]
    },
    {
      "cell_type": "markdown",
      "metadata": {
        "id": "t8Tc_mvxYhgG",
        "colab_type": "text"
      },
      "source": [
        "The pair of transformations (impute, one hot encoding) are chained tohether with a `Pipeline` object, which allows you to run two transformations with a single command. "
      ]
    },
    {
      "cell_type": "code",
      "metadata": {
        "id": "T8XWH9SryFRu",
        "colab_type": "code",
        "colab": {}
      },
      "source": [
        "imp = SimpleImputer(missing_values=np.nan,strategy='most_frequent')\n",
        "imputed_object_arr =  imp.fit(object_pdf).transform(object_pdf)"
      ],
      "execution_count": 0,
      "outputs": []
    },
    {
      "cell_type": "code",
      "metadata": {
        "id": "25MLHYdDzXsT",
        "colab_type": "code",
        "colab": {}
      },
      "source": [
        "ohe = OneHotEncoder()\n",
        "ohe_imputed_object_arr = ohe.fit(imputed_object_arr).transform(imputed_object_arr)"
      ],
      "execution_count": 0,
      "outputs": []
    },
    {
      "cell_type": "code",
      "metadata": {
        "id": "hc1rBetsMTE3",
        "colab_type": "code",
        "colab": {}
      },
      "source": [
        "ohe_imputed_object_arr.todense()"
      ],
      "execution_count": 0,
      "outputs": []
    },
    {
      "cell_type": "code",
      "metadata": {
        "id": "izrPlR3VzXd5",
        "colab_type": "code",
        "colab": {}
      },
      "source": [
        "from sklearn.pipeline import Pipeline\n",
        "imp_ohe_pipe = Pipeline(steps=[('imp_obj', SimpleImputer(missing_values=np.nan,strategy='most_frequent')),\n",
        "                               ('ohe_obj', OneHotEncoder())\n",
        "                               ]\n",
        ")              "
      ],
      "execution_count": 0,
      "outputs": []
    },
    {
      "cell_type": "code",
      "metadata": {
        "id": "3sFv4WfN0V5K",
        "colab_type": "code",
        "colab": {}
      },
      "source": [
        "pipe_ohe_imputed_object_arr = imp_ohe_pipe.fit(object_pdf).transform(object_pdf)\n",
        "np.array_equal(pipe_ohe_imputed_object_arr.todense(),\n",
        "                    ohe_imputed_object_arr.todense()\n",
        "               )"
      ],
      "execution_count": 0,
      "outputs": []
    },
    {
      "cell_type": "markdown",
      "metadata": {
        "id": "pORqp9Oz1C1Q",
        "colab_type": "text"
      },
      "source": [
        "## `Float` - `Pipeline`"
      ]
    },
    {
      "cell_type": "code",
      "metadata": {
        "id": "S68T589c1Btc",
        "colab_type": "code",
        "colab": {}
      },
      "source": [
        "imp = SimpleImputer(missing_values=np.nan, strategy='mean')\n",
        "imputed_float_arr = imp.fit(float_pdf).transform(float_pdf)"
      ],
      "execution_count": 0,
      "outputs": []
    },
    {
      "cell_type": "code",
      "metadata": {
        "id": "PweqFKDV1ZRm",
        "colab_type": "code",
        "colab": {}
      },
      "source": [
        "scaler = MinMaxScaler()\n",
        "scaled_imputed_float_arr = scaler.fit(imputed_float_arr).transform(imputed_float_arr)"
      ],
      "execution_count": 0,
      "outputs": []
    },
    {
      "cell_type": "code",
      "metadata": {
        "id": "Ctp2xjpS1nKt",
        "colab_type": "code",
        "colab": {}
      },
      "source": [
        "from sklearn.pipeline import Pipeline\n",
        "imp_sca_pipe = Pipeline(steps=[('imp_flt', SimpleImputer(missing_values=np.nan,strategy='mean')),\n",
        "                               ('sca_flt', MinMaxScaler())\n",
        "                               ]\n",
        ")              "
      ],
      "execution_count": 0,
      "outputs": []
    },
    {
      "cell_type": "code",
      "metadata": {
        "id": "xYmj3fHJ1ztm",
        "colab_type": "code",
        "colab": {}
      },
      "source": [
        "pipe_scaled_imputed_float_arr = imp_sca_pipe.fit(float_pdf).transform(float_pdf)"
      ],
      "execution_count": 0,
      "outputs": []
    },
    {
      "cell_type": "code",
      "metadata": {
        "id": "vGQJS22vB9uK",
        "colab_type": "code",
        "colab": {}
      },
      "source": [
        "np.array_equal(pipe_scaled_imputed_float_arr,\n",
        "               scaled_imputed_float_arr)"
      ],
      "execution_count": 0,
      "outputs": []
    },
    {
      "cell_type": "markdown",
      "metadata": {
        "id": "r-TNGaPACKBQ",
        "colab_type": "text"
      },
      "source": [
        "## `FeatureUnion`"
      ]
    },
    {
      "cell_type": "code",
      "metadata": {
        "id": "EdQS5XSICNMP",
        "colab_type": "code",
        "colab": {}
      },
      "source": [
        "from sklearn.pipeline import FeatureUnion"
      ],
      "execution_count": 0,
      "outputs": []
    },
    {
      "cell_type": "code",
      "metadata": {
        "id": "T7ZfXLQ4Cvcc",
        "colab_type": "code",
        "colab": {}
      },
      "source": [
        "class SelectDtypePDF(BaseEstimator, TransformerMixin):\n",
        "  def __init__(self, dtype=[]):\n",
        "    self.dtype = dtype\n",
        "  def fit(self, X, y=None):\n",
        "    return self\n",
        "  def transform(self, X):\n",
        "    return X.select_dtypes(self.dtype)"
      ],
      "execution_count": 0,
      "outputs": []
    },
    {
      "cell_type": "code",
      "metadata": {
        "id": "bueZBmBKDEUN",
        "colab_type": "code",
        "colab": {}
      },
      "source": [
        "SelectDtypePDF(dtype='float').fit(initial_pdf).transform(initial_pdf).head()"
      ],
      "execution_count": 0,
      "outputs": []
    },
    {
      "cell_type": "code",
      "metadata": {
        "id": "plTd91ZLNEoF",
        "colab_type": "code",
        "colab": {}
      },
      "source": [
        "float_pdf.columns"
      ],
      "execution_count": 0,
      "outputs": []
    },
    {
      "cell_type": "code",
      "metadata": {
        "id": "Gl2eOg5CD7Em",
        "colab_type": "code",
        "colab": {}
      },
      "source": [
        "from sklearn.pipeline import Pipeline\n",
        "sel_imp_sca_pipe = Pipeline(steps=[('sel_flt', SelectDtypePDF('float')),\n",
        "                                   ('imp_flt', SimpleImputer(missing_values=np.nan,strategy='mean')),\n",
        "                                   ('sca_flt', MinMaxScaler())])              "
      ],
      "execution_count": 0,
      "outputs": []
    },
    {
      "cell_type": "code",
      "metadata": {
        "id": "lA1ZdrL2EX_O",
        "colab_type": "code",
        "colab": {}
      },
      "source": [
        "np.array_equal(sel_imp_sca_pipe.fit(initial_pdf).transform(initial_pdf),\n",
        "                   imp_sca_pipe.fit(float_pdf)  .transform(float_pdf))"
      ],
      "execution_count": 0,
      "outputs": []
    },
    {
      "cell_type": "code",
      "metadata": {
        "id": "Sp0o1EoIEtKS",
        "colab_type": "code",
        "colab": {}
      },
      "source": [
        "from sklearn.pipeline import Pipeline\n",
        "sel_imp_ohe_pipe = Pipeline(steps=[('sel_obj', SelectDtypePDF('object')),\n",
        "                                   ('imp_obj', SimpleImputer(missing_values=np.nan,strategy='most_frequent')),\n",
        "                                   ('ohe_obj', OneHotEncoder())\n",
        "                               ])              "
      ],
      "execution_count": 0,
      "outputs": []
    },
    {
      "cell_type": "code",
      "metadata": {
        "id": "6cPv25OCE9-Q",
        "colab_type": "code",
        "colab": {}
      },
      "source": [
        "np.array_equal(imp_ohe_pipe.fit(object_pdf).transform(object_pdf).todense(),\n",
        "               sel_imp_ohe_pipe.fit(initial_pdf).transform(initial_pdf).todense()\n",
        "               )"
      ],
      "execution_count": 0,
      "outputs": []
    },
    {
      "cell_type": "code",
      "metadata": {
        "id": "Aa472rvHCXhL",
        "colab_type": "code",
        "colab": {}
      },
      "source": [
        "float_object_fea_un = FeatureUnion(transformer_list=[('flt',sel_imp_sca_pipe),\n",
        "                                                    ('obj',sel_imp_ohe_pipe)])"
      ],
      "execution_count": 0,
      "outputs": []
    },
    {
      "cell_type": "code",
      "metadata": {
        "id": "F6nPdrRDFjAU",
        "colab_type": "code",
        "colab": {}
      },
      "source": [
        "fea_un_arr = float_object_fea_un.fit(initial_pdf).transform(initial_pdf)"
      ],
      "execution_count": 0,
      "outputs": []
    },
    {
      "cell_type": "code",
      "metadata": {
        "id": "u-SSsNggFz3z",
        "colab_type": "code",
        "colab": {}
      },
      "source": [
        "concat_flt_obj_arr = \\\n",
        "np.concatenate((sel_imp_ohe_pipe.fit(initial_pdf).transform(initial_pdf).todense(),\n",
        "                sel_imp_sca_pipe.fit(initial_pdf).transform(initial_pdf)),\n",
        "               axis=1)"
      ],
      "execution_count": 0,
      "outputs": []
    },
    {
      "cell_type": "code",
      "metadata": {
        "id": "klVCG8n1IpZA",
        "colab_type": "code",
        "colab": {}
      },
      "source": [
        "np.array_equal(fea_un_arr.shape, concat_flt_obj_arr.shape)"
      ],
      "execution_count": 0,
      "outputs": []
    },
    {
      "cell_type": "code",
      "metadata": {
        "id": "7iFgJlyBI5rS",
        "colab_type": "code",
        "colab": {}
      },
      "source": [
        "float_object_fea_un = \\\n",
        "FeatureUnion(\n",
        "    transformer_list=[('flt',Pipeline(steps=[('sel_flt', SelectDtypePDF('float')),\n",
        "                                             ('imp_flt', SimpleImputer(missing_values=np.nan,strategy='mean')),\n",
        "                                             ('sca_flt', MinMaxScaler())])),\n",
        "                      ('obj',Pipeline(steps=[('sel_obj', SelectDtypePDF('object')),\n",
        "                                             ('imp_obj', SimpleImputer(missing_values=np.nan,strategy='most_frequent')),\n",
        "                                             ('ohe_obj', OneHotEncoder())]))])"
      ],
      "execution_count": 0,
      "outputs": []
    },
    {
      "cell_type": "code",
      "metadata": {
        "id": "cRtsEekOJo6I",
        "colab_type": "code",
        "colab": {}
      },
      "source": [
        "float_object_fea_un.fit(initial_pdf).transform(initial_pdf)"
      ],
      "execution_count": 0,
      "outputs": []
    }
  ]
}