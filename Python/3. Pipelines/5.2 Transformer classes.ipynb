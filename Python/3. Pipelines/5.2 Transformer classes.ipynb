{
  "nbformat": 4,
  "nbformat_minor": 0,
  "metadata": {
    "colab": {
      "name": "5.2 Transformer classes.ipynb",
      "provenance": []
    },
    "kernelspec": {
      "name": "python3",
      "display_name": "Python 3"
    }
  },
  "cells": [
    {
      "cell_type": "markdown",
      "metadata": {
        "id": "kZyjKiAib-Pm",
        "colab_type": "text"
      },
      "source": [
        "#Transformer Class"
      ]
    },
    {
      "cell_type": "markdown",
      "metadata": {
        "id": "8EVAtcXhb-Pp",
        "colab_type": "text"
      },
      "source": [
        "## Reference\n",
        "- https://scikit-learn.org/stable/data_transforms.html\n",
        "- https://scikit-learn.org/stable/modules/generated/sklearn.base.TransformerMixin.html"
      ]
    },
    {
      "cell_type": "markdown",
      "metadata": {
        "id": "JgsqYf5zb-Pq",
        "colab_type": "text"
      },
      "source": [
        "## Table of Contents\n",
        "1. Introduction\n",
        "1. Create a transformer __object__\n",
        "1. Create a transformer __class__"
      ]
    },
    {
      "cell_type": "markdown",
      "metadata": {
        "id": "A5LFZgnWb-Pq",
        "colab_type": "text"
      },
      "source": [
        "##1. Introduction"
      ]
    },
    {
      "cell_type": "markdown",
      "metadata": {
        "id": "4wBIJTA_b-Pr",
        "colab_type": "text"
      },
      "source": [
        "A _transformer_ is an object that converts (transforms) input data into output data. \n",
        "\n",
        "Often both the input and output data are dataframes, matrices or numpy arrays, but this is not required.  \n",
        "\n",
        "Often attributes of the transformer object are set using information from one dataframe, but then these attributes are used to convert (transform) other dataframes."
      ]
    },
    {
      "cell_type": "markdown",
      "metadata": {
        "id": "vg3w8Ue9b-Ps",
        "colab_type": "text"
      },
      "source": [
        "Transformers have two key functions (methods):\n",
        "\n",
        "- `fit()`: This sets internal parameters (attributes) based on the input data.\n",
        "\n",
        "- `transform()`: This performs the transformation itself.\n",
        "\n",
        "Below several examples are provided for the use of each method."
      ]
    },
    {
      "cell_type": "markdown",
      "metadata": {
        "id": "MShHRLwQb-Pt",
        "colab_type": "text"
      },
      "source": [
        "Import the `pandas` and `numpy` libraries. In addition, import the `Imputer` class which is a transformer that is used to complete missing values."
      ]
    },
    {
      "cell_type": "code",
      "metadata": {
        "id": "BHhI3ilLb-Pt",
        "colab_type": "code",
        "colab": {}
      },
      "source": [
        "import pandas  as pd\n",
        "import numpy   as np\n",
        "import sklearn as sk\n",
        "from sklearn.impute import SimpleImputer"
      ],
      "execution_count": 0,
      "outputs": []
    },
    {
      "cell_type": "markdown",
      "metadata": {
        "id": "i9bbWoCub-Px",
        "colab_type": "text"
      },
      "source": [
        "Display the version numbers of the numpy, pandas and scikit-learn packages:"
      ]
    },
    {
      "cell_type": "code",
      "metadata": {
        "id": "ID0mrkQ-b-Px",
        "colab_type": "code",
        "outputId": "49a6f954-0b16-4955-9a0c-9cfbd68b2a36",
        "colab": {
          "base_uri": "https://localhost:8080/",
          "height": 68
        }
      },
      "source": [
        "print('numpy  :',np.__version__)\n",
        "print('pandas :',pd.__version__)\n",
        "print('sklearn:',sk.__version__)"
      ],
      "execution_count": 3,
      "outputs": [
        {
          "output_type": "stream",
          "text": [
            "numpy  : 1.17.5\n",
            "pandas : 0.25.3\n",
            "sklearn: 0.22.1\n"
          ],
          "name": "stdout"
        }
      ]
    },
    {
      "cell_type": "markdown",
      "metadata": {
        "id": "Mf7-BXnxb-Pz",
        "colab_type": "text"
      },
      "source": [
        "Note that these version number may not be identical to the references provide above."
      ]
    },
    {
      "cell_type": "markdown",
      "metadata": {
        "id": "rDRLa-uWb-P0",
        "colab_type": "text"
      },
      "source": [
        "## 2. Create a transformer object"
      ]
    },
    {
      "cell_type": "markdown",
      "metadata": {
        "id": "g2r5qW8tb-P3",
        "colab_type": "text"
      },
      "source": [
        "The code cell below creates a transformer object `imp`, which is an instance of the `Imputer` class, by calling the constructor (init method) of that class. \n",
        "\n",
        "Several arguments (of the init method) are used to configure the `imp` object. The keyword argument:\n",
        "- `missing_values='NaN'` specifies that missing values are represented by `NaN`\n",
        "- `strategy='mean'` specifies that the mean will be used to complete missing values\n",
        "- `axis=0` specifies that the mean is taken for each column"
      ]
    },
    {
      "cell_type": "code",
      "metadata": {
        "id": "4gG6L7n-b-P5",
        "colab_type": "code",
        "colab": {}
      },
      "source": [
        "imp = SimpleImputer(strategy='mean')"
      ],
      "execution_count": 0,
      "outputs": []
    },
    {
      "cell_type": "markdown",
      "metadata": {
        "id": "JKPQFQEQb-P7",
        "colab_type": "text"
      },
      "source": [
        "Create a sample data set `A`."
      ]
    },
    {
      "cell_type": "code",
      "metadata": {
        "id": "-IyPnCZEb-P8",
        "colab_type": "code",
        "colab": {}
      },
      "source": [
        "A = [[np.nan, 2, 0], \n",
        "     [3, 0, 0], \n",
        "     [7, 1, 6],\n",
        "     [2, 1, 2]]"
      ],
      "execution_count": 0,
      "outputs": []
    },
    {
      "cell_type": "markdown",
      "metadata": {
        "id": "dFwLtT6eb-P-",
        "colab_type": "text"
      },
      "source": [
        "Fit the imputer object `imp` to the sample data `A` using the `fit` method."
      ]
    },
    {
      "cell_type": "code",
      "metadata": {
        "id": "MkJykwqZb-P-",
        "colab_type": "code",
        "outputId": "a373a5ab-15b0-40f7-f786-37ff33b83b54",
        "colab": {
          "base_uri": "https://localhost:8080/",
          "height": 51
        }
      },
      "source": [
        "imp.fit(A) "
      ],
      "execution_count": 7,
      "outputs": [
        {
          "output_type": "execute_result",
          "data": {
            "text/plain": [
              "SimpleImputer(add_indicator=False, copy=True, fill_value=None,\n",
              "              missing_values=nan, strategy='mean', verbose=0)"
            ]
          },
          "metadata": {
            "tags": []
          },
          "execution_count": 7
        }
      ]
    },
    {
      "cell_type": "markdown",
      "metadata": {
        "id": "8U-XDIwvb-QB",
        "colab_type": "text"
      },
      "source": [
        "Recall that the `fit` method returns the object itself."
      ]
    },
    {
      "cell_type": "markdown",
      "metadata": {
        "id": "tBWGqQGCb-QE",
        "colab_type": "text"
      },
      "source": [
        "The `.statistics_` attribute stores an array of values, which in this case contains the mean of each column."
      ]
    },
    {
      "cell_type": "code",
      "metadata": {
        "id": "VHoIFVT_b-QE",
        "colab_type": "code",
        "outputId": "251b7897-c03d-4954-ccfc-24215a4a0e2d",
        "colab": {
          "base_uri": "https://localhost:8080/",
          "height": 34
        }
      },
      "source": [
        "imp.statistics_"
      ],
      "execution_count": 8,
      "outputs": [
        {
          "output_type": "execute_result",
          "data": {
            "text/plain": [
              "array([4., 1., 2.])"
            ]
          },
          "metadata": {
            "tags": []
          },
          "execution_count": 8
        }
      ]
    },
    {
      "cell_type": "markdown",
      "metadata": {
        "id": "d-3YM9_Hb-QJ",
        "colab_type": "text"
      },
      "source": [
        "Create a similar dataset `B`, but this time with missing values. For convenience, the missing values are on the diagonal."
      ]
    },
    {
      "cell_type": "code",
      "metadata": {
        "id": "leQHFnf6b-QK",
        "colab_type": "code",
        "colab": {}
      },
      "source": [
        "B = [[np.nan, 2, 5],\n",
        "     [6, np.nan, 4],\n",
        "     [7, 6, np.nan]]"
      ],
      "execution_count": 0,
      "outputs": []
    },
    {
      "cell_type": "markdown",
      "metadata": {
        "id": "D0-aA4gfb-QM",
        "colab_type": "text"
      },
      "source": [
        "Transform the new dataset `B` using the `transform` method of `imp`, the fitted imputer, and return a completed version of `B`."
      ]
    },
    {
      "cell_type": "code",
      "metadata": {
        "id": "4KYuQB0lb-QM",
        "colab_type": "code",
        "outputId": "c1db7c99-ab20-4c3c-8df4-993497cc4cd6",
        "colab": {
          "base_uri": "https://localhost:8080/",
          "height": 68
        }
      },
      "source": [
        "imp.transform(B)"
      ],
      "execution_count": 10,
      "outputs": [
        {
          "output_type": "execute_result",
          "data": {
            "text/plain": [
              "array([[4., 2., 5.],\n",
              "       [6., 1., 4.],\n",
              "       [7., 6., 2.]])"
            ]
          },
          "metadata": {
            "tags": []
          },
          "execution_count": 10
        }
      ]
    },
    {
      "cell_type": "markdown",
      "metadata": {
        "id": "eFkNTERDb-QR",
        "colab_type": "text"
      },
      "source": [
        "Notice in the output above that the missing values (along the diagonal) in `B` have been replaced with the values from `imp.statistics_` (which is an array of the mean of each column of `A`)."
      ]
    },
    {
      "cell_type": "code",
      "metadata": {
        "id": "zHNK2ag-b-QY",
        "colab_type": "code",
        "outputId": "0d5d7a8f-2aa3-4058-8f3e-380faf858cb4",
        "colab": {
          "base_uri": "https://localhost:8080/",
          "height": 34
        }
      },
      "source": [
        "imp.statistics_"
      ],
      "execution_count": 11,
      "outputs": [
        {
          "output_type": "execute_result",
          "data": {
            "text/plain": [
              "array([4., 1., 2.])"
            ]
          },
          "metadata": {
            "tags": []
          },
          "execution_count": 11
        }
      ]
    },
    {
      "cell_type": "markdown",
      "metadata": {
        "id": "vlqKwhjQb-Qa",
        "colab_type": "text"
      },
      "source": [
        "The `mean` function from numpy computes the mean of each column of `A`."
      ]
    },
    {
      "cell_type": "code",
      "metadata": {
        "id": "hJb0QDisb-Qb",
        "colab_type": "code",
        "outputId": "2916dcdd-184a-416a-d4de-1f9e086bab4e",
        "colab": {
          "base_uri": "https://localhost:8080/",
          "height": 34
        }
      },
      "source": [
        "np.mean(A, axis=0)"
      ],
      "execution_count": 12,
      "outputs": [
        {
          "output_type": "execute_result",
          "data": {
            "text/plain": [
              "array([nan,  1.,  2.])"
            ]
          },
          "metadata": {
            "tags": []
          },
          "execution_count": 12
        }
      ]
    },
    {
      "cell_type": "code",
      "metadata": {
        "id": "ZpzmwX7Zb-Qe",
        "colab_type": "code",
        "outputId": "8e1baabe-4457-4d9b-d795-113a932646d1",
        "colab": {
          "base_uri": "https://localhost:8080/",
          "height": 34
        }
      },
      "source": [
        "np.nanmean(A, axis=0)"
      ],
      "execution_count": 13,
      "outputs": [
        {
          "output_type": "execute_result",
          "data": {
            "text/plain": [
              "array([4., 1., 2.])"
            ]
          },
          "metadata": {
            "tags": []
          },
          "execution_count": 13
        }
      ]
    },
    {
      "cell_type": "markdown",
      "metadata": {
        "id": "31rMGYxKb-Qg",
        "colab_type": "text"
      },
      "source": [
        "This section introduces the applicaton of existing transformers in `Scikit-Learn` library to transform data. A transformer class is useful as it learns parameters from one dataset with the `fit()` method rather than take fixed values, and perform the transformation with the `transform()` method one the \"fit\" dataset or on other datasets."
      ]
    },
    {
      "cell_type": "markdown",
      "metadata": {
        "id": "YjJ4_lwCb-Qh",
        "colab_type": "text"
      },
      "source": [
        "## 3. Create a transformer class"
      ]
    },
    {
      "cell_type": "markdown",
      "metadata": {
        "id": "Fdtow19ab-Qh",
        "colab_type": "text"
      },
      "source": [
        "Every transformer class should \n",
        "- define an init method, named `__init__`\n",
        "- define two methods, `fit` and `transform` \n",
        "- inherit the `BaseEstimator` and `TransformerMixin` classes (supplied by scikit-learn) \n",
        "\n",
        "The `fit` method should return `self` and the `transform` method should returned the transformed output. \n",
        "\n",
        "The `fit_transform()` method is added from the `TransformerMixin` class. Calling the `fit_transform` method is equivalent to chaining the `fit` method and then `transform` method, with the same inputs. For example, `imp.fit_transform(A)` is equivalent to `imp.fit(A).transform(A)`.\n",
        "\n",
        "Methods `get_params()` and `set_params()` are added from the `BaseEstimator` class and are useful for automatic hyperparameter tuning."
      ]
    },
    {
      "cell_type": "markdown",
      "metadata": {
        "id": "EjYQYKqTb-Qi",
        "colab_type": "text"
      },
      "source": [
        "### 3.1 Example 1: create `DataFrameSelector` class"
      ]
    },
    {
      "cell_type": "markdown",
      "metadata": {
        "id": "0R3Bh7sub-Qi",
        "colab_type": "text"
      },
      "source": [
        "The `DataFrameSelector` will transform a dataset by returned only a specified collection of columns from that dataset:\n",
        "- The `__init__` method records the names of the columns to return\n",
        "- The `fit` method does nothing, except return `self` which is required of all `fit` methods\n",
        "- The `transform` method returns the specified columns of the dataset, which is input to the `transform` method"
      ]
    },
    {
      "cell_type": "markdown",
      "metadata": {
        "id": "HUkcpK7hb-Qj",
        "colab_type": "text"
      },
      "source": [
        "Recall that transformers must inherit `TransformerMixin` and `BaseEstimator`. Import these classes:"
      ]
    },
    {
      "cell_type": "code",
      "metadata": {
        "id": "C4EvoXiib-Qk",
        "colab_type": "code",
        "colab": {}
      },
      "source": [
        "from sklearn.base import BaseEstimator, TransformerMixin"
      ],
      "execution_count": 0,
      "outputs": []
    },
    {
      "cell_type": "markdown",
      "metadata": {
        "id": "jvd4GzIjb-Qm",
        "colab_type": "text"
      },
      "source": [
        "Define the `DataFrameSelector` transformer class to select the desired attributes from the input dataset."
      ]
    },
    {
      "cell_type": "code",
      "metadata": {
        "id": "RPKrtEYPb-Qq",
        "colab_type": "code",
        "colab": {}
      },
      "source": [
        "class DataFrameSelector(BaseEstimator, TransformerMixin):\n",
        "  def __init__(self, attribute_names):\n",
        "    self.attribute_names = attribute_names\n",
        "  def fit(self, X, y=None):\n",
        "    return self\n",
        "  def transform(self, X):\n",
        "    return X[self.attribute_names]"
      ],
      "execution_count": 0,
      "outputs": []
    },
    {
      "cell_type": "markdown",
      "metadata": {
        "id": "hDFjW5C_b-Qt",
        "colab_type": "text"
      },
      "source": [
        "In this class:\n",
        "- The init method has one parameter, `attribute_names`. \n",
        "- The `fit` method returns `self` (this is standard behavior for `.fit` methods in scikit-learn).\n",
        "- The `transform` method takes as input a DataFrame and returns only the specified columns of that DataFrame"
      ]
    },
    {
      "cell_type": "markdown",
      "metadata": {
        "id": "kVzDm2ZUb-Qu",
        "colab_type": "text"
      },
      "source": [
        "The remainder of this section applies this transformer to the diamonds dataset."
      ]
    },
    {
      "cell_type": "markdown",
      "metadata": {
        "id": "5H2W8_hQb-Qv",
        "colab_type": "text"
      },
      "source": [
        "Load the diamonds dataset as a Pandas DataFrame. Check the first five observations with column headers."
      ]
    },
    {
      "cell_type": "code",
      "metadata": {
        "id": "RW-kdykhb-Qv",
        "colab_type": "code",
        "outputId": "743eae30-aac2-4f3b-b3fe-eeb7958fdc8b",
        "colab": {
          "base_uri": "https://localhost:8080/",
          "height": 142
        }
      },
      "source": [
        "diamonds_pdf = pd.read_csv('https://raw.githubusercontent.com/datalab-datasets/file-samples/master/diamonds.csv')\n",
        "diamonds_pdf.head(3)"
      ],
      "execution_count": 16,
      "outputs": [
        {
          "output_type": "execute_result",
          "data": {
            "text/html": [
              "<div>\n",
              "<style scoped>\n",
              "    .dataframe tbody tr th:only-of-type {\n",
              "        vertical-align: middle;\n",
              "    }\n",
              "\n",
              "    .dataframe tbody tr th {\n",
              "        vertical-align: top;\n",
              "    }\n",
              "\n",
              "    .dataframe thead th {\n",
              "        text-align: right;\n",
              "    }\n",
              "</style>\n",
              "<table border=\"1\" class=\"dataframe\">\n",
              "  <thead>\n",
              "    <tr style=\"text-align: right;\">\n",
              "      <th></th>\n",
              "      <th>Unnamed: 0</th>\n",
              "      <th>carat</th>\n",
              "      <th>cut</th>\n",
              "      <th>color</th>\n",
              "      <th>clarity</th>\n",
              "      <th>depth</th>\n",
              "      <th>table</th>\n",
              "      <th>price</th>\n",
              "      <th>x</th>\n",
              "      <th>y</th>\n",
              "      <th>z</th>\n",
              "    </tr>\n",
              "  </thead>\n",
              "  <tbody>\n",
              "    <tr>\n",
              "      <th>0</th>\n",
              "      <td>1</td>\n",
              "      <td>0.23</td>\n",
              "      <td>Ideal</td>\n",
              "      <td>E</td>\n",
              "      <td>SI2</td>\n",
              "      <td>61.5</td>\n",
              "      <td>55.0</td>\n",
              "      <td>326</td>\n",
              "      <td>3.95</td>\n",
              "      <td>3.98</td>\n",
              "      <td>2.43</td>\n",
              "    </tr>\n",
              "    <tr>\n",
              "      <th>1</th>\n",
              "      <td>2</td>\n",
              "      <td>0.21</td>\n",
              "      <td>Premium</td>\n",
              "      <td>E</td>\n",
              "      <td>SI1</td>\n",
              "      <td>59.8</td>\n",
              "      <td>61.0</td>\n",
              "      <td>326</td>\n",
              "      <td>3.89</td>\n",
              "      <td>3.84</td>\n",
              "      <td>2.31</td>\n",
              "    </tr>\n",
              "    <tr>\n",
              "      <th>2</th>\n",
              "      <td>3</td>\n",
              "      <td>0.23</td>\n",
              "      <td>Good</td>\n",
              "      <td>E</td>\n",
              "      <td>VS1</td>\n",
              "      <td>56.9</td>\n",
              "      <td>65.0</td>\n",
              "      <td>327</td>\n",
              "      <td>4.05</td>\n",
              "      <td>4.07</td>\n",
              "      <td>2.31</td>\n",
              "    </tr>\n",
              "  </tbody>\n",
              "</table>\n",
              "</div>"
            ],
            "text/plain": [
              "   Unnamed: 0  carat      cut color clarity  ...  table  price     x     y     z\n",
              "0           1   0.23    Ideal     E     SI2  ...   55.0    326  3.95  3.98  2.43\n",
              "1           2   0.21  Premium     E     SI1  ...   61.0    326  3.89  3.84  2.31\n",
              "2           3   0.23     Good     E     VS1  ...   65.0    327  4.05  4.07  2.31\n",
              "\n",
              "[3 rows x 11 columns]"
            ]
          },
          "metadata": {
            "tags": []
          },
          "execution_count": 16
        }
      ]
    },
    {
      "cell_type": "markdown",
      "metadata": {
        "id": "a70uYlnwb-Qx",
        "colab_type": "text"
      },
      "source": [
        "Define the features to choose and store the list of feature names in the `variable_list` object."
      ]
    },
    {
      "cell_type": "code",
      "metadata": {
        "id": "naZFZx6Ub-Qy",
        "colab_type": "code",
        "colab": {}
      },
      "source": [
        "variable_list=[\"carat\", \"depth\", \"table\", \"price\"]"
      ],
      "execution_count": 0,
      "outputs": []
    },
    {
      "cell_type": "markdown",
      "metadata": {
        "id": "vSrQ5f1Gb-Q0",
        "colab_type": "text"
      },
      "source": [
        "Create a `DataFrameSelector` class with attribute names as stated in the `variable_list` object, and store the transformer class in the `selector` object."
      ]
    },
    {
      "cell_type": "code",
      "metadata": {
        "id": "5u1qeSRrb-Q1",
        "colab_type": "code",
        "colab": {}
      },
      "source": [
        "selector=DataFrameSelector(variable_list)"
      ],
      "execution_count": 0,
      "outputs": []
    },
    {
      "cell_type": "markdown",
      "metadata": {
        "id": "EXodAw_mb-Q3",
        "colab_type": "text"
      },
      "source": [
        "Use the `selector` instance of the transformer class to transform the diamonds dataset."
      ]
    },
    {
      "cell_type": "code",
      "metadata": {
        "id": "QltBJxQYb-Q5",
        "colab_type": "code",
        "outputId": "372d8714-1fc9-4a6f-8b9d-ff2cf50e1d23",
        "colab": {
          "base_uri": "https://localhost:8080/",
          "height": 142
        }
      },
      "source": [
        "(selector\n",
        " .fit_transform(diamonds_pdf)\n",
        " .head(3)\n",
        ")"
      ],
      "execution_count": 19,
      "outputs": [
        {
          "output_type": "execute_result",
          "data": {
            "text/html": [
              "<div>\n",
              "<style scoped>\n",
              "    .dataframe tbody tr th:only-of-type {\n",
              "        vertical-align: middle;\n",
              "    }\n",
              "\n",
              "    .dataframe tbody tr th {\n",
              "        vertical-align: top;\n",
              "    }\n",
              "\n",
              "    .dataframe thead th {\n",
              "        text-align: right;\n",
              "    }\n",
              "</style>\n",
              "<table border=\"1\" class=\"dataframe\">\n",
              "  <thead>\n",
              "    <tr style=\"text-align: right;\">\n",
              "      <th></th>\n",
              "      <th>carat</th>\n",
              "      <th>depth</th>\n",
              "      <th>table</th>\n",
              "      <th>price</th>\n",
              "    </tr>\n",
              "  </thead>\n",
              "  <tbody>\n",
              "    <tr>\n",
              "      <th>0</th>\n",
              "      <td>0.23</td>\n",
              "      <td>61.5</td>\n",
              "      <td>55.0</td>\n",
              "      <td>326</td>\n",
              "    </tr>\n",
              "    <tr>\n",
              "      <th>1</th>\n",
              "      <td>0.21</td>\n",
              "      <td>59.8</td>\n",
              "      <td>61.0</td>\n",
              "      <td>326</td>\n",
              "    </tr>\n",
              "    <tr>\n",
              "      <th>2</th>\n",
              "      <td>0.23</td>\n",
              "      <td>56.9</td>\n",
              "      <td>65.0</td>\n",
              "      <td>327</td>\n",
              "    </tr>\n",
              "  </tbody>\n",
              "</table>\n",
              "</div>"
            ],
            "text/plain": [
              "   carat  depth  table  price\n",
              "0   0.23   61.5   55.0    326\n",
              "1   0.21   59.8   61.0    326\n",
              "2   0.23   56.9   65.0    327"
            ]
          },
          "metadata": {
            "tags": []
          },
          "execution_count": 19
        }
      ]
    },
    {
      "cell_type": "markdown",
      "metadata": {
        "id": "OXZfexJtb-Q6",
        "colab_type": "text"
      },
      "source": [
        "The output of the `transform` method (of the `imp`)"
      ]
    },
    {
      "cell_type": "markdown",
      "metadata": {
        "id": "B7DxQlx5b-Q7",
        "colab_type": "text"
      },
      "source": [
        "### 3.2 Example 2: `Scaler_MinMax` class"
      ]
    },
    {
      "cell_type": "markdown",
      "metadata": {
        "id": "51J-2Vk-b-Q8",
        "colab_type": "text"
      },
      "source": [
        "#### 3.2.1. Introduction to min-max scaling"
      ]
    },
    {
      "cell_type": "markdown",
      "metadata": {
        "id": "qJXqzfRob-Q8",
        "colab_type": "text"
      },
      "source": [
        "The `MinMaxScaler` in scikit-learn transforms features by scaling each feature to a given range (normally between 0 and 1), and follows the formula below for each feature:\n",
        "\n",
        "$$\\dfrac{x{_i}-min(x)}{max(x)-min(x)}\n",
        "$$\n",
        "\n",
        "where \\\\(x\\\\) refers to a column of data and \\\\(x_i\\\\) refers to the \\\\(i\\\\)-th value in that column."
      ]
    },
    {
      "cell_type": "markdown",
      "metadata": {
        "id": "w6qA3bHRb-Q9",
        "colab_type": "text"
      },
      "source": [
        "Import the built-in transformer `MinMaxScaler` from the scikit-learn library."
      ]
    },
    {
      "cell_type": "code",
      "metadata": {
        "id": "x9gh3MGKb-RA",
        "colab_type": "code",
        "colab": {}
      },
      "source": [
        "from sklearn.preprocessing import MinMaxScaler"
      ],
      "execution_count": 0,
      "outputs": []
    },
    {
      "cell_type": "markdown",
      "metadata": {
        "id": "7h0sUVDYb-RC",
        "colab_type": "text"
      },
      "source": [
        "Create an instance of `MinMaxScaler` and store it in an object `minmax1`."
      ]
    },
    {
      "cell_type": "code",
      "metadata": {
        "id": "rioQKdAZb-RD",
        "colab_type": "code",
        "colab": {}
      },
      "source": [
        "minmax1 = MinMaxScaler()"
      ],
      "execution_count": 0,
      "outputs": []
    },
    {
      "cell_type": "markdown",
      "metadata": {
        "id": "XwvJ1mQWb-RF",
        "colab_type": "text"
      },
      "source": [
        "Create a sample array `a` with two features ranging (0, 8) and (1, 9)."
      ]
    },
    {
      "cell_type": "code",
      "metadata": {
        "id": "OykHgdHXb-RJ",
        "colab_type": "code",
        "outputId": "401a6012-81ae-4368-9c8a-271dd5bdef18",
        "colab": {
          "base_uri": "https://localhost:8080/",
          "height": 102
        }
      },
      "source": [
        "a = np.arange(10).reshape((5,2))\n",
        "a"
      ],
      "execution_count": 22,
      "outputs": [
        {
          "output_type": "execute_result",
          "data": {
            "text/plain": [
              "array([[0, 1],\n",
              "       [2, 3],\n",
              "       [4, 5],\n",
              "       [6, 7],\n",
              "       [8, 9]])"
            ]
          },
          "metadata": {
            "tags": []
          },
          "execution_count": 22
        }
      ]
    },
    {
      "cell_type": "markdown",
      "metadata": {
        "id": "RWXZavbLb-RM",
        "colab_type": "text"
      },
      "source": [
        "Fit the transformer object to the sample array `a` and return a transformed version of `a` with two features ranging from 0 to 1."
      ]
    },
    {
      "cell_type": "code",
      "metadata": {
        "id": "Ndc3r5Vzb-RM",
        "colab_type": "code",
        "outputId": "0efa76e2-156c-4963-ddd1-397a48e52700",
        "colab": {
          "base_uri": "https://localhost:8080/",
          "height": 102
        }
      },
      "source": [
        "minmax1.fit_transform(a)"
      ],
      "execution_count": 23,
      "outputs": [
        {
          "output_type": "execute_result",
          "data": {
            "text/plain": [
              "array([[0.  , 0.  ],\n",
              "       [0.25, 0.25],\n",
              "       [0.5 , 0.5 ],\n",
              "       [0.75, 0.75],\n",
              "       [1.  , 1.  ]])"
            ]
          },
          "metadata": {
            "tags": []
          },
          "execution_count": 23
        }
      ]
    },
    {
      "cell_type": "markdown",
      "metadata": {
        "id": "h1TXKXAtb-RO",
        "colab_type": "text"
      },
      "source": [
        "The following section defines a transformer class the performs the same function as the `MinMaxScaler` class."
      ]
    },
    {
      "cell_type": "markdown",
      "metadata": {
        "id": "eSR05Y4ib-RO",
        "colab_type": "text"
      },
      "source": [
        "#### 3.2.2. Build a `Scaler_MinMax` class"
      ]
    },
    {
      "cell_type": "markdown",
      "metadata": {
        "id": "RMLtZ1gAb-RP",
        "colab_type": "text"
      },
      "source": [
        "The transformer class `Scaler_MinMax` defined below performs the same transformation as `MinMaxScaler`."
      ]
    },
    {
      "cell_type": "code",
      "metadata": {
        "id": "OlAS6Iqlb-RP",
        "colab_type": "code",
        "colab": {}
      },
      "source": [
        "class Scaler_MinMax(BaseEstimator, TransformerMixin):\n",
        "  def __init__(self, axis=0):\n",
        "    self.axis = axis\n",
        "  def fit(self, X, y=None):\n",
        "    data_min = np.nanmin(X, axis=self.axis)\n",
        "    data_max = np.nanmax(X, axis=self.axis)\n",
        "    data_range = data_max - data_min\n",
        "    self.data_min_ = data_min\n",
        "    self.data_max_ = data_max\n",
        "    self.data_range_ = data_range\n",
        "    return self\n",
        "  def transform(self, X):\n",
        "    X_scaled = (X - self.data_min_) / self.data_range_\n",
        "    return X_scaled"
      ],
      "execution_count": 0,
      "outputs": []
    },
    {
      "cell_type": "markdown",
      "metadata": {
        "id": "jmZxlQJIb-RS",
        "colab_type": "text"
      },
      "source": [
        "In this class the transformer has one parameter, `axis` with a default of `0` which indicates that minimum and maximum values should be computed for each __column__. See lines `5` and `6` which use the `axis` attribute.\n",
        "\n",
        "In the `fit` method, the class will:\n",
        "- learn the minimum of an array by computing `np.nanmin(X, axis=self.axis)` \n",
        "- learn the maximum of an array by computing `np.nanmax(X, axis=self.axis)`\n",
        "- compute the range between the minimum and maximum by computing `data_max - data_min`\n",
        "\n",
        "Each of the calculation is then stored as an attribute of the object. Finally, the `fit` method returns `self`.\n",
        "\n",
        "The `transform` method takes the input data `X` and uses the stored attributes to calculate:\n",
        "- a scaled version `X_scaled` (of the input data `X`) by subtracting the minimum value and divided by the range\n",
        "\n",
        "The `transform` method then returns this scaled version of data `X_scaled`."
      ]
    },
    {
      "cell_type": "markdown",
      "metadata": {
        "id": "Mdn2yS4Jb-RS",
        "colab_type": "text"
      },
      "source": [
        "The same sample dataset `a` is used to demonstrate the `Scaler_MinMax` class:\n",
        "1. Create an instance of `Scaler_MinMax` and store it in an object `minmax2`. \n",
        "1. Fit and transform the dataset `a` using this instance."
      ]
    },
    {
      "cell_type": "code",
      "metadata": {
        "id": "LlGbaf4qb-RT",
        "colab_type": "code",
        "outputId": "b2c0a7a7-1ec6-4493-af8e-7392a07f7155",
        "colab": {
          "base_uri": "https://localhost:8080/",
          "height": 102
        }
      },
      "source": [
        "minmax2 = Scaler_MinMax()\n",
        "minmax2.fit_transform(a)"
      ],
      "execution_count": 25,
      "outputs": [
        {
          "output_type": "execute_result",
          "data": {
            "text/plain": [
              "array([[0.  , 0.  ],\n",
              "       [0.25, 0.25],\n",
              "       [0.5 , 0.5 ],\n",
              "       [0.75, 0.75],\n",
              "       [1.  , 1.  ]])"
            ]
          },
          "metadata": {
            "tags": []
          },
          "execution_count": 25
        }
      ]
    },
    {
      "cell_type": "markdown",
      "metadata": {
        "id": "3ZadcruIb-RU",
        "colab_type": "text"
      },
      "source": [
        "After fitting the transformer class on the dataset `a`, the object `minmax2` has calculated and stored the three attributes:\n",
        "- `data_min_` which is the minimum value of each feature\n",
        "- `data_max_` which is the maximum value of each feature\n",
        "- `data_range_` which is the range (`data_min_ - data_max_`) value of each feature\n",
        "\n",
        "These attributes are displayed below."
      ]
    },
    {
      "cell_type": "code",
      "metadata": {
        "id": "MMZpCZvbb-RV",
        "colab_type": "code",
        "outputId": "9d1848d4-f328-4d57-a881-b08382c237a8",
        "colab": {
          "base_uri": "https://localhost:8080/",
          "height": 34
        }
      },
      "source": [
        "minmax2.data_min_, minmax2.data_max_, minmax2.data_range_"
      ],
      "execution_count": 26,
      "outputs": [
        {
          "output_type": "execute_result",
          "data": {
            "text/plain": [
              "(array([0, 1]), array([8, 9]), array([8, 8]))"
            ]
          },
          "metadata": {
            "tags": []
          },
          "execution_count": 26
        }
      ]
    },
    {
      "cell_type": "markdown",
      "metadata": {
        "id": "73EtkDgLb-RX",
        "colab_type": "text"
      },
      "source": [
        "Create another sample data `b` with two feature ranging (0, 4) and (1, 5)."
      ]
    },
    {
      "cell_type": "code",
      "metadata": {
        "id": "CB2_61MGb-RY",
        "colab_type": "code",
        "outputId": "f50606dd-3e8c-4544-a889-d562485ec087",
        "colab": {
          "base_uri": "https://localhost:8080/",
          "height": 68
        }
      },
      "source": [
        "b=np.arange(6).reshape(3,2)\n",
        "b"
      ],
      "execution_count": 27,
      "outputs": [
        {
          "output_type": "execute_result",
          "data": {
            "text/plain": [
              "array([[0, 1],\n",
              "       [2, 3],\n",
              "       [4, 5]])"
            ]
          },
          "metadata": {
            "tags": []
          },
          "execution_count": 27
        }
      ]
    },
    {
      "cell_type": "markdown",
      "metadata": {
        "id": "Qq9Wm2xDb-Ra",
        "colab_type": "text"
      },
      "source": [
        "Use the fitted transformer object `minmax2` to perform transformation on `b` and get a scaled version of `b` with two features ranging from 0 to 0.5."
      ]
    },
    {
      "cell_type": "code",
      "metadata": {
        "id": "ks14uFI8b-Rb",
        "colab_type": "code",
        "outputId": "0b9caabf-0ef6-46dc-d37a-ec1daf95dcd3",
        "colab": {
          "base_uri": "https://localhost:8080/",
          "height": 68
        }
      },
      "source": [
        "minmax2.transform(b)"
      ],
      "execution_count": 28,
      "outputs": [
        {
          "output_type": "execute_result",
          "data": {
            "text/plain": [
              "array([[0.  , 0.  ],\n",
              "       [0.25, 0.25],\n",
              "       [0.5 , 0.5 ]])"
            ]
          },
          "metadata": {
            "tags": []
          },
          "execution_count": 28
        }
      ]
    },
    {
      "cell_type": "markdown",
      "metadata": {
        "id": "q5m6t4OIb-Rd",
        "colab_type": "text"
      },
      "source": [
        "__The End__"
      ]
    },
    {
      "cell_type": "code",
      "metadata": {
        "id": "xDfIustkEDxH",
        "colab_type": "code",
        "colab": {}
      },
      "source": [
        ""
      ],
      "execution_count": 0,
      "outputs": []
    }
  ]
}