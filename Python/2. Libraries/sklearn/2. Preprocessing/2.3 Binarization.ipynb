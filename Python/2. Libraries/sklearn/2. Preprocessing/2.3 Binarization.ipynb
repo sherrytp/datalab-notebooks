{
  "nbformat": 4,
  "nbformat_minor": 0,
  "metadata": {
    "name": "2.3 Binarization",
    "notebookId": 427223,
    "colab": {
      "name": "2.3 Binarization.ipynb",
      "provenance": []
    },
    "kernelspec": {
      "name": "python3",
      "display_name": "Python 3"
    }
  },
  "cells": [
    {
      "cell_type": "markdown",
      "metadata": {
        "id": "NxEBnmGj_Z1C",
        "colab_type": "text"
      },
      "source": [
        "# Binarization"
      ]
    },
    {
      "cell_type": "markdown",
      "metadata": {
        "id": "HA9jZmB__Z1E",
        "colab_type": "text"
      },
      "source": [
        "## Table of Contents\n",
        "1. Binarization\n",
        "1. Encoding categorical features"
      ]
    },
    {
      "cell_type": "markdown",
      "metadata": {
        "id": "jwoT7d2V_Z1F",
        "colab_type": "text"
      },
      "source": [
        "## 1. Binarization"
      ]
    },
    {
      "cell_type": "markdown",
      "metadata": {
        "id": "tLtmYn2r_Z1G",
        "colab_type": "text"
      },
      "source": [
        "Feature binarization is the process of thresholding numerical features to get boolean values. It creates binary values from numeric values by assigning \n",
        "- a `0` to all values below a given threshold \n",
        "- a `1` to all values above that threshold."
      ]
    },
    {
      "cell_type": "markdown",
      "metadata": {
        "id": "8_dH76Jt_Z1H",
        "colab_type": "text"
      },
      "source": [
        "Binarization is a common operation on text count data where the analyst can decide to only consider the presence or absence of a feature rather than a quantified number of occurrences for instance.\n",
        "It can also be used as a pre-processing step for estimators that consider boolean random variables (e.g. modelled using the Bernoulli distribution in a Bayesian setting)."
      ]
    },
    {
      "cell_type": "markdown",
      "metadata": {
        "id": "pbsCFa2m_Z1J",
        "colab_type": "text"
      },
      "source": [
        "The utility class `Binarizer` can be used to binarize features according to a threshold. Below is an example using `Binarizer` to transform data."
      ]
    },
    {
      "cell_type": "markdown",
      "metadata": {
        "id": "6c34v3WS_Z1J",
        "colab_type": "text"
      },
      "source": [
        "Load libraries."
      ]
    },
    {
      "cell_type": "code",
      "metadata": {
        "id": "CNAQMzni_Z1K",
        "colab_type": "code",
        "colab": {}
      },
      "source": [
        "from sklearn import preprocessing"
      ],
      "execution_count": 0,
      "outputs": []
    },
    {
      "cell_type": "markdown",
      "metadata": {
        "id": "ikNJPRUO_Z1N",
        "colab_type": "text"
      },
      "source": [
        "Create a sample dataset `X`."
      ]
    },
    {
      "cell_type": "code",
      "metadata": {
        "id": "MgFrLkHh_Z1P",
        "colab_type": "code",
        "colab": {}
      },
      "source": [
        "X = [[ 1., -1.,  2.],\n",
        "     [ 2.,  0.,  0.],\n",
        "     [ 0.,  1., -1.]]"
      ],
      "execution_count": 0,
      "outputs": []
    },
    {
      "cell_type": "markdown",
      "metadata": {
        "id": "PQbYPbfN_Z1R",
        "colab_type": "text"
      },
      "source": [
        "Create an object `binarizer`."
      ]
    },
    {
      "cell_type": "code",
      "metadata": {
        "id": "l99YeXyx_Z1S",
        "colab_type": "code",
        "colab": {
          "base_uri": "https://localhost:8080/",
          "height": 34
        },
        "outputId": "91c81871-7b9f-49bb-b02b-3640d2a00c36"
      },
      "source": [
        "binarizer = preprocessing.Binarizer()\n",
        "binarizer"
      ],
      "execution_count": 7,
      "outputs": [
        {
          "output_type": "execute_result",
          "data": {
            "text/plain": [
              "Binarizer(copy=True, threshold=0.0)"
            ]
          },
          "metadata": {
            "tags": []
          },
          "execution_count": 7
        }
      ]
    },
    {
      "cell_type": "markdown",
      "metadata": {
        "id": "4ApAlZQ-_Z1U",
        "colab_type": "text"
      },
      "source": [
        "The fit method does nothing as each sample is treated independently of others."
      ]
    },
    {
      "cell_type": "code",
      "metadata": {
        "id": "_K3-Pv-e_Z1V",
        "colab_type": "code",
        "colab": {
          "base_uri": "https://localhost:8080/",
          "height": 34
        },
        "outputId": "540f7faf-8fd7-404b-ba02-acdf71515642"
      },
      "source": [
        "binarizer.fit(X)"
      ],
      "execution_count": 9,
      "outputs": [
        {
          "output_type": "execute_result",
          "data": {
            "text/plain": [
              "Binarizer(copy=True, threshold=0.0)"
            ]
          },
          "metadata": {
            "tags": []
          },
          "execution_count": 9
        }
      ]
    },
    {
      "cell_type": "markdown",
      "metadata": {
        "id": "8zgspcDF_Z1X",
        "colab_type": "text"
      },
      "source": [
        "The transform method binarizes each element of `X`."
      ]
    },
    {
      "cell_type": "code",
      "metadata": {
        "id": "BM8i3OaC_Z1Y",
        "colab_type": "code",
        "colab": {
          "base_uri": "https://localhost:8080/",
          "height": 68
        },
        "outputId": "5fe55ea1-7e87-4cec-a302-258762c15197"
      },
      "source": [
        "binarizer.transform(X)"
      ],
      "execution_count": 10,
      "outputs": [
        {
          "output_type": "execute_result",
          "data": {
            "text/plain": [
              "array([[1., 0., 1.],\n",
              "       [1., 0., 0.],\n",
              "       [0., 1., 0.]])"
            ]
          },
          "metadata": {
            "tags": []
          },
          "execution_count": 10
        }
      ]
    },
    {
      "cell_type": "markdown",
      "metadata": {
        "id": "Yol0lm62_Z1a",
        "colab_type": "text"
      },
      "source": [
        "It is possible to adjust the threshold of the binarizer:"
      ]
    },
    {
      "cell_type": "code",
      "metadata": {
        "id": "4qnJJu6a_Z1a",
        "colab_type": "code",
        "colab": {
          "base_uri": "https://localhost:8080/",
          "height": 68
        },
        "outputId": "dd07136b-6c6d-4d78-918e-a25b4812dae4"
      },
      "source": [
        "binarizer_adjust = preprocessing.Binarizer(threshold=1)\n",
        "binarizer_adjust.transform(X)"
      ],
      "execution_count": 11,
      "outputs": [
        {
          "output_type": "execute_result",
          "data": {
            "text/plain": [
              "array([[0., 0., 1.],\n",
              "       [1., 0., 0.],\n",
              "       [0., 0., 0.]])"
            ]
          },
          "metadata": {
            "tags": []
          },
          "execution_count": 11
        }
      ]
    },
    {
      "cell_type": "markdown",
      "metadata": {
        "id": "sE53UzLR_Z1c",
        "colab_type": "text"
      },
      "source": [
        "The above session introduces using the `Binarizer` class which can set feature values to 0 or 1 according to a threshold and that class can also be useful in the early stages of a `sklearn.pipeline.Pipeline`."
      ]
    },
    {
      "cell_type": "markdown",
      "metadata": {
        "id": "rxs779Pw_Z1c",
        "colab_type": "text"
      },
      "source": [
        "##2. Encoding categorical features"
      ]
    },
    {
      "cell_type": "markdown",
      "metadata": {
        "id": "IgNl9WsM_Z1e",
        "colab_type": "text"
      },
      "source": [
        "Often features are not given as continuous values but categorical. Some examples include color (“Red”, “Yellow”, “Blue”, \"Red\"), size (“Small”, “Medium”, “Large”) or geographic designations (State or Country). \n",
        "\n",
        "Categorical variables are intentionally (for censorship) or implicitly encoded as numerical variables in order to be used as features in any given model, e.g. [\"Red\", \"Yellow\", \"Blue\", \"Red\"] becomes [0,1,2,0]. This method imparts an ordinal property to the variable, i.e. Red < Yellow < Blue, which may not be desired."
      ]
    },
    {
      "cell_type": "markdown",
      "metadata": {
        "id": "bfyXAJao_Z1g",
        "colab_type": "text"
      },
      "source": [
        "As the ordinal characteristic is usually not desired, one-hot encoding is necessary for the proper representation of the distinct elements of the variable. \n",
        "\n",
        "- One hot encoding transforms a single variable with \\\\(n\\\\) observations and \\\\(d\\\\) distinct values, to \\\\(d\\\\) binary variables with \\\\(n\\\\) observations each. Each observation indicating the presence (1) or absence (0) of the \\\\(d\\\\)th binary variable.\n",
        "\n",
        "e.g. [Red, Yellow, Blue, Red] becomes \n",
        "[[1,0,0,1],\n",
        "[0,1,0,0],\n",
        "[0,0,1,0]]"
      ]
    },
    {
      "cell_type": "markdown",
      "metadata": {
        "id": "IVhyUtCs_Z1h",
        "colab_type": "text"
      },
      "source": [
        "### `OneHotEncoder` Transformer Class\n",
        "\n",
        "Objects of this class:\n",
        "- take as input (to the `fit` method) a matrix of integers, denoting the values taken on by categorical (discrete) features. It is assumed that input features take on values in the range [0, n_values).\n",
        "- return as output (by the `transform` method) a sparse matrix where each column corresponds to one possible value of one feature."
      ]
    },
    {
      "cell_type": "markdown",
      "metadata": {
        "id": "YJ2msOMP_Z1h",
        "colab_type": "text"
      },
      "source": [
        "Load libraries."
      ]
    },
    {
      "cell_type": "code",
      "metadata": {
        "id": "jM6TBW8H_Z1i",
        "colab_type": "code",
        "colab": {}
      },
      "source": [
        "import pandas  as pd\n",
        "import numpy as np"
      ],
      "execution_count": 0,
      "outputs": []
    },
    {
      "cell_type": "markdown",
      "metadata": {
        "id": "9Qzzl-Ci_Z1k",
        "colab_type": "text"
      },
      "source": [
        "Create a sample dataset."
      ]
    },
    {
      "cell_type": "code",
      "metadata": {
        "id": "c_DjmUaj_Z1k",
        "colab_type": "code",
        "colab": {
          "base_uri": "https://localhost:8080/",
          "height": 173
        },
        "outputId": "bdf6f1f3-2dfc-45cc-ff3c-8c74cacdd365"
      },
      "source": [
        "testdata = pd.DataFrame({'pet': ['cat', 'dog', 'dog', 'fish'],                         \n",
        "                         'age': [3, 6, 3, 1],                         \n",
        "                         'size':[4, 5, 2, 1]})\n",
        "testdata"
      ],
      "execution_count": 13,
      "outputs": [
        {
          "output_type": "execute_result",
          "data": {
            "text/html": [
              "<div>\n",
              "<style scoped>\n",
              "    .dataframe tbody tr th:only-of-type {\n",
              "        vertical-align: middle;\n",
              "    }\n",
              "\n",
              "    .dataframe tbody tr th {\n",
              "        vertical-align: top;\n",
              "    }\n",
              "\n",
              "    .dataframe thead th {\n",
              "        text-align: right;\n",
              "    }\n",
              "</style>\n",
              "<table border=\"1\" class=\"dataframe\">\n",
              "  <thead>\n",
              "    <tr style=\"text-align: right;\">\n",
              "      <th></th>\n",
              "      <th>pet</th>\n",
              "      <th>age</th>\n",
              "      <th>size</th>\n",
              "    </tr>\n",
              "  </thead>\n",
              "  <tbody>\n",
              "    <tr>\n",
              "      <th>0</th>\n",
              "      <td>cat</td>\n",
              "      <td>3</td>\n",
              "      <td>4</td>\n",
              "    </tr>\n",
              "    <tr>\n",
              "      <th>1</th>\n",
              "      <td>dog</td>\n",
              "      <td>6</td>\n",
              "      <td>5</td>\n",
              "    </tr>\n",
              "    <tr>\n",
              "      <th>2</th>\n",
              "      <td>dog</td>\n",
              "      <td>3</td>\n",
              "      <td>2</td>\n",
              "    </tr>\n",
              "    <tr>\n",
              "      <th>3</th>\n",
              "      <td>fish</td>\n",
              "      <td>1</td>\n",
              "      <td>1</td>\n",
              "    </tr>\n",
              "  </tbody>\n",
              "</table>\n",
              "</div>"
            ],
            "text/plain": [
              "    pet  age  size\n",
              "0   cat    3     4\n",
              "1   dog    6     5\n",
              "2   dog    3     2\n",
              "3  fish    1     1"
            ]
          },
          "metadata": {
            "tags": []
          },
          "execution_count": 13
        }
      ]
    },
    {
      "cell_type": "markdown",
      "metadata": {
        "id": "0GryKpEE_Z1m",
        "colab_type": "text"
      },
      "source": [
        "Create a `OneHotEncoder` object and store it in the `enc` variable. Define the parameter `sparse=False` to return an array instead of a sparse matrix in the output."
      ]
    },
    {
      "cell_type": "code",
      "metadata": {
        "id": "0qzriW0l_Z1n",
        "colab_type": "code",
        "colab": {}
      },
      "source": [
        "enc = preprocessing.OneHotEncoder(sparse=False)"
      ],
      "execution_count": 0,
      "outputs": []
    },
    {
      "cell_type": "markdown",
      "metadata": {
        "id": "yfdigYtd_Z1q",
        "colab_type": "text"
      },
      "source": [
        "Using the \"age\" column in the sample data to fit the `OneHotEncoder` object `enc`. The `fit` method records (in the `enc` object) the number of values of the feature."
      ]
    },
    {
      "cell_type": "code",
      "metadata": {
        "id": "W7eRn2j1_Z1q",
        "colab_type": "code",
        "colab": {
          "base_uri": "https://localhost:8080/",
          "height": 51
        },
        "outputId": "736508ca-753e-4846-aa6b-a745ac7a1ec5"
      },
      "source": [
        "enc.fit(testdata[[\"age\"]])"
      ],
      "execution_count": 15,
      "outputs": [
        {
          "output_type": "execute_result",
          "data": {
            "text/plain": [
              "OneHotEncoder(categories='auto', drop=None, dtype=<class 'numpy.float64'>,\n",
              "              handle_unknown='error', sparse=False)"
            ]
          },
          "metadata": {
            "tags": []
          },
          "execution_count": 15
        }
      ]
    },
    {
      "cell_type": "markdown",
      "metadata": {
        "id": "-XD6iF_M_Z1s",
        "colab_type": "text"
      },
      "source": [
        "Transform \"age\" data to a binary one-hot encoding. The output has 3 binary variables and 4 observations because the \"age\" feature has 3 distinct values and 4 observations."
      ]
    },
    {
      "cell_type": "code",
      "metadata": {
        "id": "HERTu1q9_Z1t",
        "colab_type": "code",
        "colab": {
          "base_uri": "https://localhost:8080/",
          "height": 85
        },
        "outputId": "c801053b-e7fb-4536-f350-57cc4f2b81dd"
      },
      "source": [
        "enc.transform(testdata[[\"age\"]]),\\\n",
        "enc.transform(testdata[[\"age\"]]).shape"
      ],
      "execution_count": 16,
      "outputs": [
        {
          "output_type": "execute_result",
          "data": {
            "text/plain": [
              "(array([[0., 1., 0.],\n",
              "        [0., 0., 1.],\n",
              "        [0., 1., 0.],\n",
              "        [1., 0., 0.]]), (4, 3))"
            ]
          },
          "metadata": {
            "tags": []
          },
          "execution_count": 16
        }
      ]
    },
    {
      "cell_type": "markdown",
      "metadata": {
        "id": "zI4eeCo0_Z1u",
        "colab_type": "text"
      },
      "source": [
        "Now fit and transform two features, \"age\" and \"size\", using the object `enc`.The fit method records the number of values per feature."
      ]
    },
    {
      "cell_type": "code",
      "metadata": {
        "id": "vbTzWc86_Z1w",
        "colab_type": "code",
        "colab": {
          "base_uri": "https://localhost:8080/",
          "height": 51
        },
        "outputId": "5f676f1d-6f38-494b-9874-b17b3d0a7224"
      },
      "source": [
        "enc.fit(testdata[[\"age\",\"size\"]])"
      ],
      "execution_count": 17,
      "outputs": [
        {
          "output_type": "execute_result",
          "data": {
            "text/plain": [
              "OneHotEncoder(categories='auto', drop=None, dtype=<class 'numpy.float64'>,\n",
              "              handle_unknown='error', sparse=False)"
            ]
          },
          "metadata": {
            "tags": []
          },
          "execution_count": 17
        }
      ]
    },
    {
      "cell_type": "markdown",
      "metadata": {
        "id": "w90JwV6__Z1y",
        "colab_type": "text"
      },
      "source": [
        "Transform \"age\" and \"size\" data to a binary one-hot encoding. The output has 7 binary variables and 4 observations because the \"age\" and \"size\" features have 7 distinct values and 4 observations in total. The \"age\" feature has 3 values and the \"size\" feature has 4 values."
      ]
    },
    {
      "cell_type": "code",
      "metadata": {
        "id": "BZB_8Xcr_Z1z",
        "colab_type": "code",
        "colab": {
          "base_uri": "https://localhost:8080/",
          "height": 85
        },
        "outputId": "9384b512-35df-462b-dd44-e6160a19399f"
      },
      "source": [
        "enc.transform(testdata[[\"age\",\"size\"]]),\\\n",
        "enc.transform(testdata[[\"age\",\"size\"]]).shape"
      ],
      "execution_count": 18,
      "outputs": [
        {
          "output_type": "execute_result",
          "data": {
            "text/plain": [
              "(array([[0., 1., 0., 0., 0., 1., 0.],\n",
              "        [0., 0., 1., 0., 0., 0., 1.],\n",
              "        [0., 1., 0., 0., 1., 0., 0.],\n",
              "        [1., 0., 0., 1., 0., 0., 0.]]), (4, 7))"
            ]
          },
          "metadata": {
            "tags": []
          },
          "execution_count": 18
        }
      ]
    },
    {
      "cell_type": "markdown",
      "metadata": {
        "id": "xHm6FBAY_Z12",
        "colab_type": "text"
      },
      "source": [
        "Note: By default, the number of values each feature can take is inferred automatically from the dataset. It is possible to specify this explicitly using the parameter `n_values`."
      ]
    },
    {
      "cell_type": "markdown",
      "metadata": {
        "id": "IvGQgBaj_Z12",
        "colab_type": "text"
      },
      "source": [
        "The following command demonstrates how the number of values is defined for each feature. Create another OneHotEncoder object `enc_n`. Define the number of values each feature can take using `n_values` parameter. There are seven possible ages and six sizes in our dataset. Also define the parameter `sparse=False` to return an array instead of a sparse matrix in the output."
      ]
    },
    {
      "cell_type": "code",
      "metadata": {
        "id": "yffYrxpM_Z13",
        "colab_type": "code",
        "colab": {}
      },
      "source": [
        "enc_n = preprocessing.OneHotEncoder(sparse=False)"
      ],
      "execution_count": 0,
      "outputs": []
    },
    {
      "cell_type": "markdown",
      "metadata": {
        "id": "YPSQ2CzD_Z16",
        "colab_type": "text"
      },
      "source": [
        "Fit and transform the object again. There are 13 binary variables now because the \"age\" feature is fit to have 7 values and \"size\" feature is fit to have 6 values."
      ]
    },
    {
      "cell_type": "code",
      "metadata": {
        "id": "t8b6bBkN_Z17",
        "colab_type": "code",
        "colab": {
          "base_uri": "https://localhost:8080/",
          "height": 85
        },
        "outputId": "ac9e17ea-b49b-4531-d618-f89379af21a0"
      },
      "source": [
        "enc_n.fit_transform(testdata[[\"age\",\"size\"]]),\\\n",
        "enc_n.fit_transform(testdata[[\"age\",\"size\"]]).shape"
      ],
      "execution_count": 21,
      "outputs": [
        {
          "output_type": "execute_result",
          "data": {
            "text/plain": [
              "(array([[0., 1., 0., 0., 0., 1., 0.],\n",
              "        [0., 0., 1., 0., 0., 0., 1.],\n",
              "        [0., 1., 0., 0., 1., 0., 0.],\n",
              "        [1., 0., 0., 1., 0., 0., 0.]]), (4, 7))"
            ]
          },
          "metadata": {
            "tags": []
          },
          "execution_count": 21
        }
      ]
    },
    {
      "cell_type": "markdown",
      "metadata": {
        "id": "j5DGbHKd_Z18",
        "colab_type": "text"
      },
      "source": [
        "The above session introduces using the `OneHotEncoder` class to convert categorical integer features to a binary one-hot encoding."
      ]
    }
  ]
}