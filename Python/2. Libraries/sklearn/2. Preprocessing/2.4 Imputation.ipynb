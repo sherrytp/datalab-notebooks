{
  "nbformat": 4,
  "nbformat_minor": 0,
  "metadata": {
    "name": "2.4 Imputation",
    "notebookId": 427304,
    "colab": {
      "name": "2.4 Imputation.ipynb",
      "provenance": []
    },
    "kernelspec": {
      "name": "python3",
      "display_name": "Python 3"
    }
  },
  "cells": [
    {
      "cell_type": "markdown",
      "metadata": {
        "id": "HZ9WwVG6DGQp",
        "colab_type": "text"
      },
      "source": [
        "# THIS NOTEBOOK DOES NOT WORK \n",
        "# AND HAS NOT BEEN UPDATED"
      ]
    },
    {
      "cell_type": "markdown",
      "metadata": {
        "id": "J_ggZiHL_aJR",
        "colab_type": "text"
      },
      "source": [
        "# Imputation"
      ]
    },
    {
      "cell_type": "markdown",
      "metadata": {
        "id": "nnTaX2d2_aJa",
        "colab_type": "text"
      },
      "source": [
        "## Table of Contents\n",
        "\n",
        "1. Imputation of missing values\n",
        "1. Imputing within a pipeline"
      ]
    },
    {
      "cell_type": "markdown",
      "metadata": {
        "id": "h713P8a1_aJb",
        "colab_type": "text"
      },
      "source": [
        "### 1. Imputation of missing values"
      ]
    },
    {
      "cell_type": "markdown",
      "metadata": {
        "id": "F9Kglqa9_aJd",
        "colab_type": "text"
      },
      "source": [
        "Imputation makes an educated guess about the missing values from the known part of the data, for example, using the mean of the non-missing entries."
      ]
    },
    {
      "cell_type": "markdown",
      "metadata": {
        "id": "oASq92zU_aJe",
        "colab_type": "text"
      },
      "source": [
        "Load libraries."
      ]
    },
    {
      "cell_type": "code",
      "metadata": {
        "id": "28ObftRw_aJg",
        "colab_type": "code",
        "colab": {}
      },
      "source": [
        "from sklearn.impute import SimpleImputer\n",
        "import numpy as np"
      ],
      "execution_count": 0,
      "outputs": []
    },
    {
      "cell_type": "markdown",
      "metadata": {
        "id": "7YhiELNO_aJn",
        "colab_type": "text"
      },
      "source": [
        "Instantiate an instance  `imp` of the Imputer class. The keyword argument `missing_values='NaN'` here specifies that missing values are represented by `NaN`; `strategy='mean'` specifies that we will use the mean of the columns (`axis 0`) that contain the missing values."
      ]
    },
    {
      "cell_type": "code",
      "metadata": {
        "id": "j-A4L6Ys_aJo",
        "colab_type": "code",
        "colab": {}
      },
      "source": [
        "imp = SimpleImputer(strategy='mean')                       "
      ],
      "execution_count": 0,
      "outputs": []
    },
    {
      "cell_type": "markdown",
      "metadata": {
        "id": "QuADPOV__aJq",
        "colab_type": "text"
      },
      "source": [
        "Fit this imputer to the sample data `A` using the `fit` method. The mean of each column will be stored in the object `imp`."
      ]
    },
    {
      "cell_type": "code",
      "metadata": {
        "id": "7TxucdB6_aJr",
        "colab_type": "code",
        "colab": {
          "base_uri": "https://localhost:8080/",
          "height": 51
        },
        "outputId": "f2d9d529-14cd-42bd-c2cc-7dd6a291dad3"
      },
      "source": [
        "A = [[1, 2], [np.nan, 3], [7, 6]]\n",
        "imp.fit(A) "
      ],
      "execution_count": 3,
      "outputs": [
        {
          "output_type": "execute_result",
          "data": {
            "text/plain": [
              "SimpleImputer(add_indicator=False, copy=True, fill_value=None,\n",
              "              missing_values=nan, strategy='mean', verbose=0)"
            ]
          },
          "metadata": {
            "tags": []
          },
          "execution_count": 3
        }
      ]
    },
    {
      "cell_type": "markdown",
      "metadata": {
        "id": "KjzB-vrO_aJw",
        "colab_type": "text"
      },
      "source": [
        "Create a similar dataset `B` with missing values. Transform the dataset using the fitted imputer and return a completed version of `B`."
      ]
    },
    {
      "cell_type": "code",
      "metadata": {
        "id": "dnkYNFoV_aJx",
        "colab_type": "code",
        "colab": {
          "base_uri": "https://localhost:8080/",
          "height": 68
        },
        "outputId": "4070e0a9-9ef5-43a9-b090-035161bc0ddf"
      },
      "source": [
        "B = [[np.nan, 2], [6, np.nan], [7, 6]]\n",
        "print(imp.transform(B))   "
      ],
      "execution_count": 4,
      "outputs": [
        {
          "output_type": "stream",
          "text": [
            "[[4.         2.        ]\n",
            " [6.         3.66666667]\n",
            " [7.         6.        ]]\n"
          ],
          "name": "stdout"
        }
      ]
    },
    {
      "cell_type": "markdown",
      "metadata": {
        "id": "ghyY130l_aJ3",
        "colab_type": "text"
      },
      "source": [
        "Compare the output above with the arithmetic means along columns in `A` with the values that replaced the `NaN` values above."
      ]
    },
    {
      "cell_type": "code",
      "metadata": {
        "id": "moeiZlzI_aJ3",
        "colab_type": "code",
        "colab": {
          "base_uri": "https://localhost:8080/",
          "height": 34
        },
        "outputId": "18c11acd-770e-4632-a6a6-09bbb019c838"
      },
      "source": [
        "np.nanmean(A, axis=0)"
      ],
      "execution_count": 5,
      "outputs": [
        {
          "output_type": "execute_result",
          "data": {
            "text/plain": [
              "array([4.        , 3.66666667])"
            ]
          },
          "metadata": {
            "tags": []
          },
          "execution_count": 5
        }
      ]
    },
    {
      "cell_type": "markdown",
      "metadata": {
        "id": "EgLBvGyX_aJ5",
        "colab_type": "text"
      },
      "source": [
        "The imputation strategy.\n",
        "- If “mean”, then replace missing values using the mean along the axis.\n",
        "- If “median”, then replace missing values using the median along the axis.\n",
        "- If “most_frequent”, then replace missing using the most frequent value along the axis."
      ]
    },
    {
      "cell_type": "markdown",
      "metadata": {
        "id": "2iGsUV5L_aJ6",
        "colab_type": "text"
      },
      "source": [
        "The axis along which to impute.\n",
        "- If axis=0, then impute along columns.\n",
        "- If axis=1, then impute along rows."
      ]
    },
    {
      "cell_type": "markdown",
      "metadata": {
        "id": "TuU9m48w_aJ6",
        "colab_type": "text"
      },
      "source": [
        "###2. Imputing within a pipeline"
      ]
    },
    {
      "cell_type": "markdown",
      "metadata": {
        "id": "qCfzDwd2_aJ7",
        "colab_type": "text"
      },
      "source": [
        "This example shows imputing the missing values in the pima-indians-diabetes dataset and using a k-Nearest-Neighbors estimator to predict if a person has diabetes (or not).\n",
        "\n",
        "The pima-indians-diabetes dataset:\n",
        "- https://www.kaggle.com/uciml/pima-indians-diabetes-database"
      ]
    },
    {
      "cell_type": "markdown",
      "metadata": {
        "id": "9UaAyZQt_aJ7",
        "colab_type": "text"
      },
      "source": [
        "Load libraries."
      ]
    },
    {
      "cell_type": "code",
      "metadata": {
        "id": "DzNLFbvo_aJ9",
        "colab_type": "code",
        "colab": {}
      },
      "source": [
        "import pandas as pd\n",
        "from sklearn.model_selection import train_test_split\n",
        "from sklearn.pipeline import Pipeline\n",
        "from sklearn.neighbors import KNeighborsClassifier\n",
        "from sklearn.metrics import mean_squared_error"
      ],
      "execution_count": 0,
      "outputs": []
    },
    {
      "cell_type": "markdown",
      "metadata": {
        "id": "0NuvIOnZ_aKE",
        "colab_type": "text"
      },
      "source": [
        "Load the dataset as a Pandas DataFrame and print summary statistics on each attribute."
      ]
    },
    {
      "cell_type": "code",
      "metadata": {
        "id": "-hcFUVPI_aKF",
        "colab_type": "code",
        "colab": {
          "base_uri": "https://localhost:8080/",
          "height": 412
        },
        "outputId": "fc6824b7-383b-4e64-91ab-12aca2df7f78"
      },
      "source": [
        "dataset = pd.read_csv('/dbfs/mnt/datalab-datasets/file-samples/pima-indians-diabetes.csv', header=None, skiprows=9)\n",
        "print(dataset.describe())"
      ],
      "execution_count": 7,
      "outputs": [
        {
          "output_type": "error",
          "ename": "FileNotFoundError",
          "evalue": "ignored",
          "traceback": [
            "\u001b[0;31m---------------------------------------------------------------------------\u001b[0m",
            "\u001b[0;31mFileNotFoundError\u001b[0m                         Traceback (most recent call last)",
            "\u001b[0;32m<ipython-input-7-d6538424c8ef>\u001b[0m in \u001b[0;36m<module>\u001b[0;34m()\u001b[0m\n\u001b[0;32m----> 1\u001b[0;31m \u001b[0mdataset\u001b[0m \u001b[0;34m=\u001b[0m \u001b[0mpd\u001b[0m\u001b[0;34m.\u001b[0m\u001b[0mread_csv\u001b[0m\u001b[0;34m(\u001b[0m\u001b[0;34m'/dbfs/mnt/datalab-datasets/file-samples/pima-indians-diabetes.csv'\u001b[0m\u001b[0;34m,\u001b[0m \u001b[0mheader\u001b[0m\u001b[0;34m=\u001b[0m\u001b[0;32mNone\u001b[0m\u001b[0;34m,\u001b[0m \u001b[0mskiprows\u001b[0m\u001b[0;34m=\u001b[0m\u001b[0;36m9\u001b[0m\u001b[0;34m)\u001b[0m\u001b[0;34m\u001b[0m\u001b[0;34m\u001b[0m\u001b[0m\n\u001b[0m\u001b[1;32m      2\u001b[0m \u001b[0mprint\u001b[0m\u001b[0;34m(\u001b[0m\u001b[0mdataset\u001b[0m\u001b[0;34m.\u001b[0m\u001b[0mdescribe\u001b[0m\u001b[0;34m(\u001b[0m\u001b[0;34m)\u001b[0m\u001b[0;34m)\u001b[0m\u001b[0;34m\u001b[0m\u001b[0;34m\u001b[0m\u001b[0m\n",
            "\u001b[0;32m/usr/local/lib/python3.6/dist-packages/pandas/io/parsers.py\u001b[0m in \u001b[0;36mparser_f\u001b[0;34m(filepath_or_buffer, sep, delimiter, header, names, index_col, usecols, squeeze, prefix, mangle_dupe_cols, dtype, engine, converters, true_values, false_values, skipinitialspace, skiprows, skipfooter, nrows, na_values, keep_default_na, na_filter, verbose, skip_blank_lines, parse_dates, infer_datetime_format, keep_date_col, date_parser, dayfirst, cache_dates, iterator, chunksize, compression, thousands, decimal, lineterminator, quotechar, quoting, doublequote, escapechar, comment, encoding, dialect, error_bad_lines, warn_bad_lines, delim_whitespace, low_memory, memory_map, float_precision)\u001b[0m\n\u001b[1;32m    683\u001b[0m         )\n\u001b[1;32m    684\u001b[0m \u001b[0;34m\u001b[0m\u001b[0m\n\u001b[0;32m--> 685\u001b[0;31m         \u001b[0;32mreturn\u001b[0m \u001b[0m_read\u001b[0m\u001b[0;34m(\u001b[0m\u001b[0mfilepath_or_buffer\u001b[0m\u001b[0;34m,\u001b[0m \u001b[0mkwds\u001b[0m\u001b[0;34m)\u001b[0m\u001b[0;34m\u001b[0m\u001b[0;34m\u001b[0m\u001b[0m\n\u001b[0m\u001b[1;32m    686\u001b[0m \u001b[0;34m\u001b[0m\u001b[0m\n\u001b[1;32m    687\u001b[0m     \u001b[0mparser_f\u001b[0m\u001b[0;34m.\u001b[0m\u001b[0m__name__\u001b[0m \u001b[0;34m=\u001b[0m \u001b[0mname\u001b[0m\u001b[0;34m\u001b[0m\u001b[0;34m\u001b[0m\u001b[0m\n",
            "\u001b[0;32m/usr/local/lib/python3.6/dist-packages/pandas/io/parsers.py\u001b[0m in \u001b[0;36m_read\u001b[0;34m(filepath_or_buffer, kwds)\u001b[0m\n\u001b[1;32m    455\u001b[0m \u001b[0;34m\u001b[0m\u001b[0m\n\u001b[1;32m    456\u001b[0m     \u001b[0;31m# Create the parser.\u001b[0m\u001b[0;34m\u001b[0m\u001b[0;34m\u001b[0m\u001b[0;34m\u001b[0m\u001b[0m\n\u001b[0;32m--> 457\u001b[0;31m     \u001b[0mparser\u001b[0m \u001b[0;34m=\u001b[0m \u001b[0mTextFileReader\u001b[0m\u001b[0;34m(\u001b[0m\u001b[0mfp_or_buf\u001b[0m\u001b[0;34m,\u001b[0m \u001b[0;34m**\u001b[0m\u001b[0mkwds\u001b[0m\u001b[0;34m)\u001b[0m\u001b[0;34m\u001b[0m\u001b[0;34m\u001b[0m\u001b[0m\n\u001b[0m\u001b[1;32m    458\u001b[0m \u001b[0;34m\u001b[0m\u001b[0m\n\u001b[1;32m    459\u001b[0m     \u001b[0;32mif\u001b[0m \u001b[0mchunksize\u001b[0m \u001b[0;32mor\u001b[0m \u001b[0miterator\u001b[0m\u001b[0;34m:\u001b[0m\u001b[0;34m\u001b[0m\u001b[0;34m\u001b[0m\u001b[0m\n",
            "\u001b[0;32m/usr/local/lib/python3.6/dist-packages/pandas/io/parsers.py\u001b[0m in \u001b[0;36m__init__\u001b[0;34m(self, f, engine, **kwds)\u001b[0m\n\u001b[1;32m    893\u001b[0m             \u001b[0mself\u001b[0m\u001b[0;34m.\u001b[0m\u001b[0moptions\u001b[0m\u001b[0;34m[\u001b[0m\u001b[0;34m\"has_index_names\"\u001b[0m\u001b[0;34m]\u001b[0m \u001b[0;34m=\u001b[0m \u001b[0mkwds\u001b[0m\u001b[0;34m[\u001b[0m\u001b[0;34m\"has_index_names\"\u001b[0m\u001b[0;34m]\u001b[0m\u001b[0;34m\u001b[0m\u001b[0;34m\u001b[0m\u001b[0m\n\u001b[1;32m    894\u001b[0m \u001b[0;34m\u001b[0m\u001b[0m\n\u001b[0;32m--> 895\u001b[0;31m         \u001b[0mself\u001b[0m\u001b[0;34m.\u001b[0m\u001b[0m_make_engine\u001b[0m\u001b[0;34m(\u001b[0m\u001b[0mself\u001b[0m\u001b[0;34m.\u001b[0m\u001b[0mengine\u001b[0m\u001b[0;34m)\u001b[0m\u001b[0;34m\u001b[0m\u001b[0;34m\u001b[0m\u001b[0m\n\u001b[0m\u001b[1;32m    896\u001b[0m \u001b[0;34m\u001b[0m\u001b[0m\n\u001b[1;32m    897\u001b[0m     \u001b[0;32mdef\u001b[0m \u001b[0mclose\u001b[0m\u001b[0;34m(\u001b[0m\u001b[0mself\u001b[0m\u001b[0;34m)\u001b[0m\u001b[0;34m:\u001b[0m\u001b[0;34m\u001b[0m\u001b[0;34m\u001b[0m\u001b[0m\n",
            "\u001b[0;32m/usr/local/lib/python3.6/dist-packages/pandas/io/parsers.py\u001b[0m in \u001b[0;36m_make_engine\u001b[0;34m(self, engine)\u001b[0m\n\u001b[1;32m   1133\u001b[0m     \u001b[0;32mdef\u001b[0m \u001b[0m_make_engine\u001b[0m\u001b[0;34m(\u001b[0m\u001b[0mself\u001b[0m\u001b[0;34m,\u001b[0m \u001b[0mengine\u001b[0m\u001b[0;34m=\u001b[0m\u001b[0;34m\"c\"\u001b[0m\u001b[0;34m)\u001b[0m\u001b[0;34m:\u001b[0m\u001b[0;34m\u001b[0m\u001b[0;34m\u001b[0m\u001b[0m\n\u001b[1;32m   1134\u001b[0m         \u001b[0;32mif\u001b[0m \u001b[0mengine\u001b[0m \u001b[0;34m==\u001b[0m \u001b[0;34m\"c\"\u001b[0m\u001b[0;34m:\u001b[0m\u001b[0;34m\u001b[0m\u001b[0;34m\u001b[0m\u001b[0m\n\u001b[0;32m-> 1135\u001b[0;31m             \u001b[0mself\u001b[0m\u001b[0;34m.\u001b[0m\u001b[0m_engine\u001b[0m \u001b[0;34m=\u001b[0m \u001b[0mCParserWrapper\u001b[0m\u001b[0;34m(\u001b[0m\u001b[0mself\u001b[0m\u001b[0;34m.\u001b[0m\u001b[0mf\u001b[0m\u001b[0;34m,\u001b[0m \u001b[0;34m**\u001b[0m\u001b[0mself\u001b[0m\u001b[0;34m.\u001b[0m\u001b[0moptions\u001b[0m\u001b[0;34m)\u001b[0m\u001b[0;34m\u001b[0m\u001b[0;34m\u001b[0m\u001b[0m\n\u001b[0m\u001b[1;32m   1136\u001b[0m         \u001b[0;32melse\u001b[0m\u001b[0;34m:\u001b[0m\u001b[0;34m\u001b[0m\u001b[0;34m\u001b[0m\u001b[0m\n\u001b[1;32m   1137\u001b[0m             \u001b[0;32mif\u001b[0m \u001b[0mengine\u001b[0m \u001b[0;34m==\u001b[0m \u001b[0;34m\"python\"\u001b[0m\u001b[0;34m:\u001b[0m\u001b[0;34m\u001b[0m\u001b[0;34m\u001b[0m\u001b[0m\n",
            "\u001b[0;32m/usr/local/lib/python3.6/dist-packages/pandas/io/parsers.py\u001b[0m in \u001b[0;36m__init__\u001b[0;34m(self, src, **kwds)\u001b[0m\n\u001b[1;32m   1915\u001b[0m         \u001b[0mkwds\u001b[0m\u001b[0;34m[\u001b[0m\u001b[0;34m\"usecols\"\u001b[0m\u001b[0;34m]\u001b[0m \u001b[0;34m=\u001b[0m \u001b[0mself\u001b[0m\u001b[0;34m.\u001b[0m\u001b[0musecols\u001b[0m\u001b[0;34m\u001b[0m\u001b[0;34m\u001b[0m\u001b[0m\n\u001b[1;32m   1916\u001b[0m \u001b[0;34m\u001b[0m\u001b[0m\n\u001b[0;32m-> 1917\u001b[0;31m         \u001b[0mself\u001b[0m\u001b[0;34m.\u001b[0m\u001b[0m_reader\u001b[0m \u001b[0;34m=\u001b[0m \u001b[0mparsers\u001b[0m\u001b[0;34m.\u001b[0m\u001b[0mTextReader\u001b[0m\u001b[0;34m(\u001b[0m\u001b[0msrc\u001b[0m\u001b[0;34m,\u001b[0m \u001b[0;34m**\u001b[0m\u001b[0mkwds\u001b[0m\u001b[0;34m)\u001b[0m\u001b[0;34m\u001b[0m\u001b[0;34m\u001b[0m\u001b[0m\n\u001b[0m\u001b[1;32m   1918\u001b[0m         \u001b[0mself\u001b[0m\u001b[0;34m.\u001b[0m\u001b[0munnamed_cols\u001b[0m \u001b[0;34m=\u001b[0m \u001b[0mself\u001b[0m\u001b[0;34m.\u001b[0m\u001b[0m_reader\u001b[0m\u001b[0;34m.\u001b[0m\u001b[0munnamed_cols\u001b[0m\u001b[0;34m\u001b[0m\u001b[0;34m\u001b[0m\u001b[0m\n\u001b[1;32m   1919\u001b[0m \u001b[0;34m\u001b[0m\u001b[0m\n",
            "\u001b[0;32mpandas/_libs/parsers.pyx\u001b[0m in \u001b[0;36mpandas._libs.parsers.TextReader.__cinit__\u001b[0;34m()\u001b[0m\n",
            "\u001b[0;32mpandas/_libs/parsers.pyx\u001b[0m in \u001b[0;36mpandas._libs.parsers.TextReader._setup_parser_source\u001b[0;34m()\u001b[0m\n",
            "\u001b[0;31mFileNotFoundError\u001b[0m: [Errno 2] File b'/dbfs/mnt/datalab-datasets/file-samples/pima-indians-diabetes.csv' does not exist: b'/dbfs/mnt/datalab-datasets/file-samples/pima-indians-diabetes.csv'"
          ]
        }
      ]
    },
    {
      "cell_type": "markdown",
      "metadata": {
        "id": "VKicbAvy_aKK",
        "colab_type": "text"
      },
      "source": [
        "We can see that there are columns that have a minimum value of zero (`0`). On some columns, a value of zero does not make sense and indicates an invalid or missing value."
      ]
    },
    {
      "cell_type": "markdown",
      "metadata": {
        "id": "dQ5F-Pm5_aKK",
        "colab_type": "text"
      },
      "source": [
        "Mark zero values as `NaN` with the Pandas DataFrame by using the `replace()` function on a subset of the columns we are interested in."
      ]
    },
    {
      "cell_type": "code",
      "metadata": {
        "id": "6ceXPk16_aKL",
        "colab_type": "code",
        "colab": {}
      },
      "source": [
        "dataset[[1,2,3,4,5]] = dataset[[1,2,3,4,5]].replace(0, np.NaN)"
      ],
      "execution_count": 0,
      "outputs": []
    },
    {
      "cell_type": "markdown",
      "metadata": {
        "id": "EtAMKRsX_aKN",
        "colab_type": "text"
      },
      "source": [
        "For cross check purpose, use the `isnull()` function to mark all of the `NaN` values in the dataset as True and get a count of the missing values for each column."
      ]
    },
    {
      "cell_type": "code",
      "metadata": {
        "id": "LRTYffXn_aKN",
        "colab_type": "code",
        "colab": {}
      },
      "source": [
        "print(dataset.isnull().sum())"
      ],
      "execution_count": 0,
      "outputs": []
    },
    {
      "cell_type": "markdown",
      "metadata": {
        "id": "KgxdlF5s_aKP",
        "colab_type": "text"
      },
      "source": [
        "This dataset has 9 columns. The 9th column is the labels, with 1 or 0 for Diabetes or no Diabetes. Split the dataset into `X` and `y`. Using the `squeeze` function to flatten the labels into the vector `y`."
      ]
    },
    {
      "cell_type": "code",
      "metadata": {
        "id": "KlUcjPRZ_aKQ",
        "colab_type": "code",
        "colab": {}
      },
      "source": [
        "X = dataset.iloc[:,:-1]\n",
        "y = dataset.iloc[:,-1:].squeeze()\n",
        "print (X.shape, y.shape)"
      ],
      "execution_count": 0,
      "outputs": []
    },
    {
      "cell_type": "markdown",
      "metadata": {
        "id": "45BtfnA9_aKS",
        "colab_type": "text"
      },
      "source": [
        "Split the `X` and `y` into train and test using the `train_test_split` function."
      ]
    },
    {
      "cell_type": "code",
      "metadata": {
        "id": "I1mTOvBL_aKS",
        "colab_type": "code",
        "colab": {}
      },
      "source": [
        "X_train, X_test, y_train, y_test=train_test_split(X,y,test_size=0.2, random_state=20)"
      ],
      "execution_count": 0,
      "outputs": []
    },
    {
      "cell_type": "markdown",
      "metadata": {
        "id": "J1Y6wjg7_aKV",
        "colab_type": "text"
      },
      "source": [
        "Use a k-nearest neighbors classifier as part of a pipeline that includes imputing."
      ]
    },
    {
      "cell_type": "code",
      "metadata": {
        "id": "oSFz8uDi_aKW",
        "colab_type": "code",
        "colab": {}
      },
      "source": [
        "steps = [('imputation', Imputer(missing_values='NaN', strategy='most_frequent', axis=0)),\n",
        "         ('knn', KNeighborsClassifier(n_neighbors=3))]\n",
        "\n",
        "pipeline = Pipeline(steps)"
      ],
      "execution_count": 0,
      "outputs": []
    },
    {
      "cell_type": "markdown",
      "metadata": {
        "id": "Du545LFO_aKY",
        "colab_type": "text"
      },
      "source": [
        "Fit the pipeline using `X_train` as training data and `y_train` as target values, and pass the computed parameters to an object `knn_imputing`."
      ]
    },
    {
      "cell_type": "code",
      "metadata": {
        "id": "ClUSoGPq_aKZ",
        "colab_type": "code",
        "colab": {}
      },
      "source": [
        "knn_imputing = pipeline.fit(X_train, y_train)"
      ],
      "execution_count": 0,
      "outputs": []
    },
    {
      "cell_type": "markdown",
      "metadata": {
        "id": "USZjrKo9_aKb",
        "colab_type": "text"
      },
      "source": [
        "Compute and print metrics."
      ]
    },
    {
      "cell_type": "code",
      "metadata": {
        "id": "vdNRfZIF_aKc",
        "colab_type": "code",
        "colab": {}
      },
      "source": [
        "print('Prediction Error with Imputing: {}'.format(mean_squared_error(y_test, knn_imputing.predict(X_test))))"
      ],
      "execution_count": 0,
      "outputs": []
    },
    {
      "cell_type": "markdown",
      "metadata": {
        "id": "lNyKlYdp_aKi",
        "colab_type": "text"
      },
      "source": [
        "The output above shows that the model based on kNN predicts with ~70% accuracy, whether a person has diabetes (or not), provided information as we have it in the PIMA Indians Diabetes dataset."
      ]
    }
  ]
}