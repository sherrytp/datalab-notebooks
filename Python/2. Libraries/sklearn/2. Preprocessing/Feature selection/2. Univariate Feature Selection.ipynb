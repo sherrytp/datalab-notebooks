{
  "nbformat": 4,
  "nbformat_minor": 0,
  "metadata": {
    "name": "2. Univariate Feature Selection",
    "notebookId": 478847,
    "colab": {
      "name": "2. Univariate Feature Selection.ipynb",
      "provenance": []
    },
    "kernelspec": {
      "name": "python3",
      "display_name": "Python 3"
    }
  },
  "cells": [
    {
      "cell_type": "markdown",
      "metadata": {
        "id": "PTeYQRDDDlze",
        "colab_type": "text"
      },
      "source": [
        "# NOTEBOOK NOT UPDATED --- SORRY"
      ]
    },
    {
      "cell_type": "markdown",
      "metadata": {
        "id": "WWFMumHo_byz",
        "colab_type": "text"
      },
      "source": [
        "#Univariate Feature Selection"
      ]
    },
    {
      "cell_type": "markdown",
      "metadata": {
        "id": "91i7ZnYn_by2",
        "colab_type": "text"
      },
      "source": [
        "## Table of Contents\n",
        "1. Introduction to univariate feature selection \n",
        "1. The `SelectKBest` and `SelectPercentile` transformer classes"
      ]
    },
    {
      "cell_type": "markdown",
      "metadata": {
        "id": "fbl3SYTM_by3",
        "colab_type": "text"
      },
      "source": [
        "##1. Introduction to univariate feature selection"
      ]
    },
    {
      "cell_type": "markdown",
      "metadata": {
        "id": "Y_Zp9ryx_by4",
        "colab_type": "text"
      },
      "source": [
        "Univariate feature selection techniques evaluate a single feature by applying a scoring function to each feature (possibly in relation to the target feature), and choose features based on their rank with regard to the function.\n",
        "\n",
        "See _Feature selection_ at Wikipedia for additional details.\n",
        "- https://en.wikipedia.org/wiki/Feature_selection"
      ]
    },
    {
      "cell_type": "markdown",
      "metadata": {
        "id": "nnc_Y96H_by5",
        "colab_type": "text"
      },
      "source": [
        "To perform univariate feature selection, you need to:\n",
        "\n",
        "- define the __number of features__ that you want to keep.\n",
        "- select the __scoring function__ that will evaluate the relationship between the variables."
      ]
    },
    {
      "cell_type": "markdown",
      "metadata": {
        "id": "W_f0S-x2_by6",
        "colab_type": "text"
      },
      "source": [
        "##2. The `SelectKBest` and `SelectPercentile` transformer classes"
      ]
    },
    {
      "cell_type": "markdown",
      "metadata": {
        "id": "Xjix7B-W_by7",
        "colab_type": "text"
      },
      "source": [
        "The `Scikit-learn` library provides classes to use with a suite of different statistical tests in order to select a specific number (percentage) of features.\n",
        "\n",
        "For the __number of features__, you can define it through:\n",
        "- The `SelectKBest` transformer class. Selects the k best features.\n",
        "- The `SelectPercentile` transformer class. Selects the best features into the percentile that you define.\n",
        "\n",
        "Regarding the __scoring functions__, you'll have different functions for classification and regression problems. \n",
        "\n",
        "For classification problem, the two scoring functions are mostly used:\n",
        "- `f_classif`. Based on analysis of variance (ANOVA).\n",
        "- `mutual_info_classif`. Based on mutual information.\n",
        "\n",
        "For regression problem, the two scoring functions are mostly used:\n",
        "- `f_regression`. Based on correlation between label and feature.\n",
        "- `mutual_info_regression` Based on mutual information."
      ]
    },
    {
      "cell_type": "markdown",
      "metadata": {
        "id": "5ZGJznUQ_by8",
        "colab_type": "text"
      },
      "source": [
        "###2.1 `SelectKBest`"
      ]
    },
    {
      "cell_type": "markdown",
      "metadata": {
        "id": "EnvOMiaj_by8",
        "colab_type": "text"
      },
      "source": [
        "The class `SelectBest` in the `sklearn.feature_selection` module can be used to remove all but the k highest scoring features. For instance, we can perform an analysis of variance (ANOVA) F-test to the iris dataset to retrieve only the two best features as follows:"
      ]
    },
    {
      "cell_type": "markdown",
      "metadata": {
        "id": "oY8VcoUp_by9",
        "colab_type": "text"
      },
      "source": [
        "Load the libraries."
      ]
    },
    {
      "cell_type": "code",
      "metadata": {
        "id": "HmZtI65Y_by-",
        "colab_type": "code",
        "colab": {}
      },
      "source": [
        "import pandas as pd\n",
        "from sklearn.feature_selection import SelectKBest\n",
        "from sklearn.feature_selection import f_classif"
      ],
      "execution_count": 0,
      "outputs": []
    },
    {
      "cell_type": "markdown",
      "metadata": {
        "id": "FB_8iQRb_bzA",
        "colab_type": "text"
      },
      "source": [
        "Load iris data."
      ]
    },
    {
      "cell_type": "code",
      "metadata": {
        "id": "q7MRU6iK_bzB",
        "colab_type": "code",
        "colab": {}
      },
      "source": [
        "iris = pd.read_csv('/dbfs/mnt/datalab-datasets/file-samples/iris.csv')"
      ],
      "execution_count": 0,
      "outputs": []
    },
    {
      "cell_type": "markdown",
      "metadata": {
        "id": "ZSdrnXjC_bzD",
        "colab_type": "text"
      },
      "source": [
        "Create features `X` and target `y`."
      ]
    },
    {
      "cell_type": "code",
      "metadata": {
        "id": "MYnDdxEz_bzE",
        "colab_type": "code",
        "colab": {}
      },
      "source": [
        "X = iris.values[:,0:-1]\n",
        "y = iris.values[:,-1]"
      ],
      "execution_count": 0,
      "outputs": []
    },
    {
      "cell_type": "markdown",
      "metadata": {
        "id": "4gEOfyep_bzG",
        "colab_type": "text"
      },
      "source": [
        "Create an intance of `SelectKBest` class and store it in an object `selector`. Set the scoring function as `f_classif` and `k=2` to select two features with the highest ANOVA F-Values."
      ]
    },
    {
      "cell_type": "code",
      "metadata": {
        "id": "mzK4WdGw_bzH",
        "colab_type": "code",
        "colab": {}
      },
      "source": [
        "selector = SelectKBest(f_classif, k=2)"
      ],
      "execution_count": 0,
      "outputs": []
    },
    {
      "cell_type": "markdown",
      "metadata": {
        "id": "22SixQxU_bzJ",
        "colab_type": "text"
      },
      "source": [
        "The `fit` method computes the ANOVA F-values from `(X, y)`."
      ]
    },
    {
      "cell_type": "code",
      "metadata": {
        "id": "0MXdlofj_bzJ",
        "colab_type": "code",
        "colab": {}
      },
      "source": [
        "selector.fit(X, y)"
      ],
      "execution_count": 0,
      "outputs": []
    },
    {
      "cell_type": "markdown",
      "metadata": {
        "id": "YxRFzKvV_bzL",
        "colab_type": "text"
      },
      "source": [
        "After calling `fit` method, the F-values of features are stored in the `scores_` attribute and the p-values are stored in the `pvalues_` attribute."
      ]
    },
    {
      "cell_type": "code",
      "metadata": {
        "id": "jXMRhm5Q_bzM",
        "colab_type": "code",
        "colab": {}
      },
      "source": [
        "selector.scores_, selector.pvalues_"
      ],
      "execution_count": 0,
      "outputs": []
    },
    {
      "cell_type": "markdown",
      "metadata": {
        "id": "dBEy_wYj_bzO",
        "colab_type": "text"
      },
      "source": [
        "The `get_support()` method of the object returns a boolean array which indicates whether a corresponding feature is selected for retention or not."
      ]
    },
    {
      "cell_type": "code",
      "metadata": {
        "id": "wf9NKVxo_bzO",
        "colab_type": "code",
        "colab": {}
      },
      "source": [
        "selector.get_support()"
      ],
      "execution_count": 0,
      "outputs": []
    },
    {
      "cell_type": "markdown",
      "metadata": {
        "id": "OcaZ5l-4_bzQ",
        "colab_type": "text"
      },
      "source": [
        "Call the `transform` method to reduce `X` to the selected features. Store the selected features in a new variable `X_kbest`."
      ]
    },
    {
      "cell_type": "code",
      "metadata": {
        "id": "f-tC0BIi_bzR",
        "colab_type": "code",
        "colab": {}
      },
      "source": [
        "X_kbest = selector.transform(X)"
      ],
      "execution_count": 0,
      "outputs": []
    },
    {
      "cell_type": "markdown",
      "metadata": {
        "id": "bny9xPeK_bzT",
        "colab_type": "text"
      },
      "source": [
        "Use the `shape` method of the two arrays `X` and `X_kbest` to display the number of features before and after feature selection."
      ]
    },
    {
      "cell_type": "code",
      "metadata": {
        "id": "v7rIW9WA_bzT",
        "colab_type": "code",
        "colab": {}
      },
      "source": [
        "print('Original number of features:', X.shape[1])\n",
        "print('Reduced number of features:', X_kbest.shape[1])"
      ],
      "execution_count": 0,
      "outputs": []
    },
    {
      "cell_type": "markdown",
      "metadata": {
        "id": "1xxjtjBo_bzV",
        "colab_type": "text"
      },
      "source": [
        "Display names of the selected features according to the boolean array returned by the `get_support()` method."
      ]
    },
    {
      "cell_type": "code",
      "metadata": {
        "id": "XhfbB-Dt_bzW",
        "colab_type": "code",
        "colab": {}
      },
      "source": [
        "names = iris.columns.values[0:-1]\n",
        "print('Selected Features:')\n",
        "for i in range(X.shape[1]):\n",
        "  if selector.get_support()[i] == True:\n",
        "    print(names[i])"
      ],
      "execution_count": 0,
      "outputs": []
    },
    {
      "cell_type": "markdown",
      "metadata": {
        "id": "7FI62Ue8_bzY",
        "colab_type": "text"
      },
      "source": [
        "This section introduces using a transformer class `SelectKBest` to select features according to the k highest scores, as well as displaying the number and names of selected features."
      ]
    },
    {
      "cell_type": "markdown",
      "metadata": {
        "id": "bmmHrliZ_bzZ",
        "colab_type": "text"
      },
      "source": [
        "###2.2 `SelectPercentile`"
      ]
    },
    {
      "cell_type": "markdown",
      "metadata": {
        "id": "qRQCU4AV_bzZ",
        "colab_type": "text"
      },
      "source": [
        "The class `SelectPercentile` in the `sklearn.feature_selection` module can be used to remove all but a user-specified highest scoring percentage of features. For instance, we can estimate mutual information (MI) from the iris dataset to retrieve only the top 50% best features as follows.\n",
        "\n",
        "- _About mutual information(MI): mutual information (MI) between two random variables is a non-negative value, which measures the dependency between the variables. It is equal to zero if and only if two random variables are independent, and higher values mean higher dependency._"
      ]
    },
    {
      "cell_type": "markdown",
      "metadata": {
        "id": "FWVnNCAF_bza",
        "colab_type": "text"
      },
      "source": [
        "Load the libraries."
      ]
    },
    {
      "cell_type": "code",
      "metadata": {
        "id": "gL3siqci_bza",
        "colab_type": "code",
        "colab": {}
      },
      "source": [
        "from sklearn.feature_selection import SelectPercentile\n",
        "from sklearn.feature_selection import mutual_info_classif"
      ],
      "execution_count": 0,
      "outputs": []
    },
    {
      "cell_type": "markdown",
      "metadata": {
        "id": "SXRyaZH7_bzc",
        "colab_type": "text"
      },
      "source": [
        "Create an intance of `SelectPercentile` class and store it in an object `selector_mi`. Set the scoring function as `mutual_info_classif` and `percentile=50` to select features with the top 50% highest mutual information (MI) estimation."
      ]
    },
    {
      "cell_type": "code",
      "metadata": {
        "id": "bLhqLmAO_bzc",
        "colab_type": "code",
        "colab": {}
      },
      "source": [
        "selector_mi = SelectPercentile(mutual_info_classif, percentile=50)"
      ],
      "execution_count": 0,
      "outputs": []
    },
    {
      "cell_type": "markdown",
      "metadata": {
        "id": "VHpe6eHp_bze",
        "colab_type": "text"
      },
      "source": [
        "The `fit` method computes the estimated mutual information between each feature and the target."
      ]
    },
    {
      "cell_type": "code",
      "metadata": {
        "id": "pvHOYImn_bzf",
        "colab_type": "code",
        "colab": {}
      },
      "source": [
        "selector_mi.fit(X, y)"
      ],
      "execution_count": 0,
      "outputs": []
    },
    {
      "cell_type": "markdown",
      "metadata": {
        "id": "06LxkqOc_bzi",
        "colab_type": "text"
      },
      "source": [
        "After calling `fit` method, the estimated MI scores of features are stored in the `scores_` attribute."
      ]
    },
    {
      "cell_type": "code",
      "metadata": {
        "id": "UoExyz4U_bzj",
        "colab_type": "code",
        "colab": {}
      },
      "source": [
        "selector_mi.scores_"
      ],
      "execution_count": 0,
      "outputs": []
    },
    {
      "cell_type": "markdown",
      "metadata": {
        "id": "FqUBwYpC_bzm",
        "colab_type": "text"
      },
      "source": [
        "The `get_support()` method of the object returns a boolean array which indicates whether a corresponding feature is selected for retention or not."
      ]
    },
    {
      "cell_type": "code",
      "metadata": {
        "id": "FhjTbKl__bzn",
        "colab_type": "code",
        "colab": {}
      },
      "source": [
        "selector_mi.get_support()"
      ],
      "execution_count": 0,
      "outputs": []
    },
    {
      "cell_type": "markdown",
      "metadata": {
        "id": "G8hYI5yj_bzp",
        "colab_type": "text"
      },
      "source": [
        "Call the `transform` method to reduce `X` to the selected features. Store the selected features in a new variable `X_pct`."
      ]
    },
    {
      "cell_type": "code",
      "metadata": {
        "id": "Xxw64LZw_bzp",
        "colab_type": "code",
        "colab": {}
      },
      "source": [
        "X_pct = selector_mi.transform(X)"
      ],
      "execution_count": 0,
      "outputs": []
    },
    {
      "cell_type": "markdown",
      "metadata": {
        "id": "-swhVKlf_bzr",
        "colab_type": "text"
      },
      "source": [
        "Display the number of features before and after feature selection."
      ]
    },
    {
      "cell_type": "code",
      "metadata": {
        "id": "IEk9-fuB_bzs",
        "colab_type": "code",
        "colab": {}
      },
      "source": [
        "print('Original number of features:', X.shape[1])\n",
        "print('Reduced number of features:', X_pct.shape[1])"
      ],
      "execution_count": 0,
      "outputs": []
    },
    {
      "cell_type": "markdown",
      "metadata": {
        "id": "vB3qbKMQ_bzt",
        "colab_type": "text"
      },
      "source": [
        "Display names of the selected features."
      ]
    },
    {
      "cell_type": "code",
      "metadata": {
        "id": "UuLHtIhT_bzu",
        "colab_type": "code",
        "colab": {}
      },
      "source": [
        "print('Selected Features:')\n",
        "for i in range(X.shape[1]):\n",
        "  if selector_mi.get_support()[i] == True:\n",
        "    print(names[i])"
      ],
      "execution_count": 0,
      "outputs": []
    },
    {
      "cell_type": "markdown",
      "metadata": {
        "id": "1hSrFG2Q_bzv",
        "colab_type": "text"
      },
      "source": [
        "Note: The selected features may contain multicollinearity since the univariate feature selection methods do not remove multicollinearity. Methods of dealing with multicollinearity in data won't be illustrated in this notebook."
      ]
    },
    {
      "cell_type": "markdown",
      "metadata": {
        "id": "LZOP7y9d_bzw",
        "colab_type": "text"
      },
      "source": [
        "This section introduces using a transformer classes `SelectPercentile` to select features according to a percentile of the highest scores, as well as displaying the number and names of the selected features."
      ]
    }
  ]
}