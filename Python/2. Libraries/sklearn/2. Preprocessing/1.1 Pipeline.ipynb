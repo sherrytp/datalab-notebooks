{
  "nbformat": 4,
  "nbformat_minor": 0,
  "metadata": {
    "name": "1.1 Pipeline",
    "notebookId": 429027,
    "colab": {
      "name": "1.1 Pipeline.ipynb",
      "provenance": []
    },
    "kernelspec": {
      "name": "python3",
      "display_name": "Python 3"
    }
  },
  "cells": [
    {
      "cell_type": "markdown",
      "metadata": {
        "id": "uPcPvnS99XBg",
        "colab_type": "text"
      },
      "source": [
        "#Pipeline"
      ]
    },
    {
      "cell_type": "markdown",
      "metadata": {
        "id": "oihrP5Ud9XBj",
        "colab_type": "text"
      },
      "source": [
        "## Table of Contents\n",
        "\n",
        "1. `Pipeline` class\n",
        "1. `fit` and `transform` methods in pipeline"
      ]
    },
    {
      "cell_type": "markdown",
      "metadata": {
        "id": "34TM4Drs9XBk",
        "colab_type": "text"
      },
      "source": [
        "### 1. `Pipeline` class"
      ]
    },
    {
      "cell_type": "markdown",
      "metadata": {
        "id": "hAqYVDPE9XBk",
        "colab_type": "text"
      },
      "source": [
        "`Pipeline` can be used to chain multiple transformers (and an optional final estimator) into one. This is useful as there is often a fixed sequence of steps in processing the data."
      ]
    },
    {
      "cell_type": "markdown",
      "metadata": {
        "id": "evXXLs8J9XBl",
        "colab_type": "text"
      },
      "source": [
        "Load libraries."
      ]
    },
    {
      "cell_type": "code",
      "metadata": {
        "id": "JacKVTCv9XBm",
        "colab_type": "code",
        "colab": {}
      },
      "source": [
        "import sklearn as  sk\n",
        "from sklearn.pipeline      import Pipeline\n",
        "from sklearn.impute        import SimpleImputer\n",
        "from sklearn.preprocessing import MinMaxScaler\n",
        "from sklearn.decomposition import PCA\n",
        "from sklearn.neighbors     import KNeighborsClassifier"
      ],
      "execution_count": 0,
      "outputs": []
    },
    {
      "cell_type": "markdown",
      "metadata": {
        "id": "7GJWlP8I9XBp",
        "colab_type": "text"
      },
      "source": [
        "Build a `Pipeline` and store it in an object `pipe`. The `Pipeline` is built using a list of _(key, value)_ pairs, where the _key_ is a string containing the name you want to give this step and _value_ is an estimator/transformer object:"
      ]
    },
    {
      "cell_type": "code",
      "metadata": {
        "id": "mkMe26vq9XBp",
        "colab_type": "code",
        "colab": {
          "base_uri": "https://localhost:8080/",
          "height": 289
        },
        "outputId": "7a32f6cf-12e2-46e7-a0be-a88464582638"
      },
      "source": [
        "pipe = Pipeline([('imputer', SimpleImputer(strategy='mean')),\n",
        "                 ('scaler' , MinMaxScaler()),\n",
        "                 ('reduce_dim', PCA()),\n",
        "                 ('knn'    , KNeighborsClassifier())\n",
        "                 ])\n",
        "pipe"
      ],
      "execution_count": 4,
      "outputs": [
        {
          "output_type": "execute_result",
          "data": {
            "text/plain": [
              "Pipeline(memory=None,\n",
              "         steps=[('imputer',\n",
              "                 SimpleImputer(add_indicator=False, copy=True, fill_value=None,\n",
              "                               missing_values=nan, strategy='mean',\n",
              "                               verbose=0)),\n",
              "                ('scaler', MinMaxScaler(copy=True, feature_range=(0, 1))),\n",
              "                ('reduce_dim',\n",
              "                 PCA(copy=True, iterated_power='auto', n_components=None,\n",
              "                     random_state=None, svd_solver='auto', tol=0.0,\n",
              "                     whiten=False)),\n",
              "                ('knn',\n",
              "                 KNeighborsClassifier(algorithm='auto', leaf_size=30,\n",
              "                                      metric='minkowski', metric_params=None,\n",
              "                                      n_jobs=None, n_neighbors=5, p=2,\n",
              "                                      weights='uniform'))],\n",
              "         verbose=False)"
            ]
          },
          "metadata": {
            "tags": []
          },
          "execution_count": 4
        }
      ]
    },
    {
      "cell_type": "markdown",
      "metadata": {
        "id": "22S28txK9XBr",
        "colab_type": "text"
      },
      "source": [
        "The output above shows that the four transformers are chained in the order we defined in the `Pipeline`. In addition, the default init parameters are displayed."
      ]
    },
    {
      "cell_type": "markdown",
      "metadata": {
        "id": "PcvKR0xx9XBs",
        "colab_type": "text"
      },
      "source": [
        "Note: All estimators in a pipeline, except the last one, must be transformers (i.e. must have a `transform` method). The last estimator may be any type (transformer, classifier, etc.)."
      ]
    },
    {
      "cell_type": "markdown",
      "metadata": {
        "id": "GhIy_vde9XBt",
        "colab_type": "text"
      },
      "source": [
        "The transformers of a pipeline are stored as a list in the `steps` attribute:"
      ]
    },
    {
      "cell_type": "code",
      "metadata": {
        "id": "IT-DZcn39XBt",
        "colab_type": "code",
        "colab": {
          "base_uri": "https://localhost:8080/",
          "height": 68
        },
        "outputId": "4e005626-d57a-4662-ad9e-45dcdb893a7a"
      },
      "source": [
        "pipe.steps[2]"
      ],
      "execution_count": 5,
      "outputs": [
        {
          "output_type": "execute_result",
          "data": {
            "text/plain": [
              "('reduce_dim',\n",
              " PCA(copy=True, iterated_power='auto', n_components=None, random_state=None,\n",
              "     svd_solver='auto', tol=0.0, whiten=False))"
            ]
          },
          "metadata": {
            "tags": []
          },
          "execution_count": 5
        }
      ]
    },
    {
      "cell_type": "markdown",
      "metadata": {
        "id": "8tEfn-LW9XBv",
        "colab_type": "text"
      },
      "source": [
        "The final estimator is also stored in the `steps` attribute."
      ]
    },
    {
      "cell_type": "code",
      "metadata": {
        "id": "eyXHBfxl9XBw",
        "colab_type": "code",
        "colab": {
          "base_uri": "https://localhost:8080/",
          "height": 85
        },
        "outputId": "8a7d02b4-c874-4cd3-af43-9340eea0621f"
      },
      "source": [
        "pipe.steps[-1]"
      ],
      "execution_count": 6,
      "outputs": [
        {
          "output_type": "execute_result",
          "data": {
            "text/plain": [
              "('knn',\n",
              " KNeighborsClassifier(algorithm='auto', leaf_size=30, metric='minkowski',\n",
              "                      metric_params=None, n_jobs=None, n_neighbors=5, p=2,\n",
              "                      weights='uniform'))"
            ]
          },
          "metadata": {
            "tags": []
          },
          "execution_count": 6
        }
      ]
    },
    {
      "cell_type": "markdown",
      "metadata": {
        "id": "Askl0z2a9XBy",
        "colab_type": "text"
      },
      "source": [
        "The transformers of a pipeline are also stored as a dict in `named_steps` attribute:"
      ]
    },
    {
      "cell_type": "code",
      "metadata": {
        "id": "LC7lfn3j9XBz",
        "colab_type": "code",
        "colab": {
          "base_uri": "https://localhost:8080/",
          "height": 51
        },
        "outputId": "4e3cddf4-38bb-470d-946a-8bf1589d57b9"
      },
      "source": [
        "pipe.named_steps['reduce_dim']"
      ],
      "execution_count": 7,
      "outputs": [
        {
          "output_type": "execute_result",
          "data": {
            "text/plain": [
              "PCA(copy=True, iterated_power='auto', n_components=None, random_state=None,\n",
              "    svd_solver='auto', tol=0.0, whiten=False)"
            ]
          },
          "metadata": {
            "tags": []
          },
          "execution_count": 7
        }
      ]
    },
    {
      "cell_type": "markdown",
      "metadata": {
        "id": "za0mEd4p9XB2",
        "colab_type": "text"
      },
      "source": [
        "Parameters of the transformers in the pipeline can be accessed using the `set_params` method with the `<step name>__<parameter>` syntax:"
      ]
    },
    {
      "cell_type": "code",
      "metadata": {
        "id": "lqp0xDjN9XB2",
        "colab_type": "code",
        "colab": {
          "base_uri": "https://localhost:8080/",
          "height": 289
        },
        "outputId": "2ed13877-90f9-4036-e600-c28707c4e5ab"
      },
      "source": [
        " pipe.set_params(imputer__strategy='most_frequent') "
      ],
      "execution_count": 8,
      "outputs": [
        {
          "output_type": "execute_result",
          "data": {
            "text/plain": [
              "Pipeline(memory=None,\n",
              "         steps=[('imputer',\n",
              "                 SimpleImputer(add_indicator=False, copy=True, fill_value=None,\n",
              "                               missing_values=nan, strategy='most_frequent',\n",
              "                               verbose=0)),\n",
              "                ('scaler', MinMaxScaler(copy=True, feature_range=(0, 1))),\n",
              "                ('reduce_dim',\n",
              "                 PCA(copy=True, iterated_power='auto', n_components=None,\n",
              "                     random_state=None, svd_solver='auto', tol=0.0,\n",
              "                     whiten=False)),\n",
              "                ('knn',\n",
              "                 KNeighborsClassifier(algorithm='auto', leaf_size=30,\n",
              "                                      metric='minkowski', metric_params=None,\n",
              "                                      n_jobs=None, n_neighbors=5, p=2,\n",
              "                                      weights='uniform'))],\n",
              "         verbose=False)"
            ]
          },
          "metadata": {
            "tags": []
          },
          "execution_count": 8
        }
      ]
    },
    {
      "cell_type": "markdown",
      "metadata": {
        "id": "qXHh1SLh9XB4",
        "colab_type": "text"
      },
      "source": [
        "This session introduces the way to build a pipeline and to obtain parameters of the transformers in the pipeline."
      ]
    },
    {
      "cell_type": "markdown",
      "metadata": {
        "id": "SICdFCte9XB4",
        "colab_type": "text"
      },
      "source": [
        "###2. `fit` and `transform` methods in pipeline"
      ]
    },
    {
      "cell_type": "markdown",
      "metadata": {
        "id": "WqVAqoqT9XB5",
        "colab_type": "text"
      },
      "source": [
        "In scikit-learn, estimators have a `fit` method, which learns model parameters from a training set, and a `transform` method which applies this transformation model to unseen data. `fit_transform` may be more convenient and efficient for modelling and transforming the training data simultaneously. Calling `fit` on the pipeline is the same as calling `fit` on each estimator in turn, `transform` the input and pass it on to the next step. \n",
        " - [Pipeline process](https://ibb.co/m4sz3o)"
      ]
    },
    {
      "cell_type": "markdown",
      "metadata": {
        "id": "KuUAU9It9XB6",
        "colab_type": "text"
      },
      "source": [
        "Load libraries."
      ]
    },
    {
      "cell_type": "code",
      "metadata": {
        "id": "oFLnkRYY9XB6",
        "colab_type": "code",
        "colab": {}
      },
      "source": [
        "from sklearn.datasets import load_digits\n",
        "from sklearn.model_selection import train_test_split"
      ],
      "execution_count": 0,
      "outputs": []
    },
    {
      "cell_type": "markdown",
      "metadata": {
        "id": "J_vAN-Nw9XB8",
        "colab_type": "text"
      },
      "source": [
        "Prepare a sample dataset from the sklearn library, and store it in the `digits` object."
      ]
    },
    {
      "cell_type": "code",
      "metadata": {
        "id": "DVfNNYt49XB9",
        "colab_type": "code",
        "colab": {}
      },
      "source": [
        "digits = load_digits()"
      ],
      "execution_count": 0,
      "outputs": []
    },
    {
      "cell_type": "markdown",
      "metadata": {
        "id": "wg3SyBVL9XB_",
        "colab_type": "text"
      },
      "source": [
        "Split the predictors (`digit.data`) and labels (`digits.target`) into train and test using the `train_test_split` function."
      ]
    },
    {
      "cell_type": "code",
      "metadata": {
        "id": "H6ue9aWt9XB_",
        "colab_type": "code",
        "colab": {}
      },
      "source": [
        "X_train, X_test, y_train, y_test = train_test_split(digits.data, digits.target, test_size=.2, random_state=0)"
      ],
      "execution_count": 0,
      "outputs": []
    },
    {
      "cell_type": "markdown",
      "metadata": {
        "id": "cruspC7n9XCC",
        "colab_type": "text"
      },
      "source": [
        "Fit the pipeline using `X_train` as training data and `y_train` as target values, and store the computed parameters to the object `Pipe`."
      ]
    },
    {
      "cell_type": "code",
      "metadata": {
        "id": "wuoN4_So9XCC",
        "colab_type": "code",
        "colab": {
          "base_uri": "https://localhost:8080/",
          "height": 289
        },
        "outputId": "2655ebf3-dc2c-4743-d253-c7bcaea2d734"
      },
      "source": [
        "pipe.fit(X_train, y_train)"
      ],
      "execution_count": 12,
      "outputs": [
        {
          "output_type": "execute_result",
          "data": {
            "text/plain": [
              "Pipeline(memory=None,\n",
              "         steps=[('imputer',\n",
              "                 SimpleImputer(add_indicator=False, copy=True, fill_value=None,\n",
              "                               missing_values=nan, strategy='most_frequent',\n",
              "                               verbose=0)),\n",
              "                ('scaler', MinMaxScaler(copy=True, feature_range=(0, 1))),\n",
              "                ('reduce_dim',\n",
              "                 PCA(copy=True, iterated_power='auto', n_components=None,\n",
              "                     random_state=None, svd_solver='auto', tol=0.0,\n",
              "                     whiten=False)),\n",
              "                ('knn',\n",
              "                 KNeighborsClassifier(algorithm='auto', leaf_size=30,\n",
              "                                      metric='minkowski', metric_params=None,\n",
              "                                      n_jobs=None, n_neighbors=5, p=2,\n",
              "                                      weights='uniform'))],\n",
              "         verbose=False)"
            ]
          },
          "metadata": {
            "tags": []
          },
          "execution_count": 12
        }
      ]
    },
    {
      "cell_type": "markdown",
      "metadata": {
        "id": "u-YkwbIq9XCE",
        "colab_type": "text"
      },
      "source": [
        "The above pipeline process consists of several intermediate steps (`Imputer`, `MinMaxScaler`, `PCA`) and a final estimator (`KNeighborsClassifier`). When the `fit` method of the pipeline is called with the training data:\n",
        "1. The `Imputer` object is fit to the training data\n",
        "1. The `Imputer` object transforms the training data\n",
        "1. The `MinMaxScaler` object is fit to the transformed training data from the `Imputer` object (previous step)\n",
        "1. The `MinMaxScaler` object transforms the transformed training data from the `Imputer` object\n",
        "1. The `PCA` object fits the transformed data from the `MinMaxScaler` object\n",
        "1. The `PCA` object transforms the transformed data from the `MinMaxScaler` object\n",
        "1. The `KNeighborsClassifier` object fits the transformed data from the `PCA` object\n",
        "\n",
        "That's all it does. In particular, the `transform` method of the `KNeighborsClassifier` __is not called__."
      ]
    },
    {
      "cell_type": "markdown",
      "metadata": {
        "id": "IyDjVmnU9XCF",
        "colab_type": "text"
      },
      "source": [
        "Apply the pipeline transformations to the test data, and score with the final estimator."
      ]
    },
    {
      "cell_type": "code",
      "metadata": {
        "id": "CZOWUVMd9XCF",
        "colab_type": "code",
        "colab": {
          "base_uri": "https://localhost:8080/",
          "height": 34
        },
        "outputId": "0fe3481e-32cf-47b3-d17a-df0fa375dbfb"
      },
      "source": [
        "print('Test accuracy: %.3f' % pipe.score(X_test, y_test))"
      ],
      "execution_count": 13,
      "outputs": [
        {
          "output_type": "stream",
          "text": [
            "Test accuracy: 0.981\n"
          ],
          "name": "stdout"
        }
      ]
    },
    {
      "cell_type": "markdown",
      "metadata": {
        "id": "x-4yn04A9XCH",
        "colab_type": "text"
      },
      "source": [
        "The pipeline has all the methods that the last estimator in the pipeline has, i.e. if the last estimator is a classifier, the pipeline can be used as a classifier with all the methods that classifier has. If the last estimator is a transformer, again, so is the pipeline."
      ]
    },
    {
      "cell_type": "markdown",
      "metadata": {
        "id": "pDEF0rm-9XCH",
        "colab_type": "text"
      },
      "source": [
        "Below is the `Pipeline` command that originally created the object `pipe`."
      ]
    },
    {
      "cell_type": "code",
      "metadata": {
        "id": "eHTtgeQM9XCI",
        "colab_type": "code",
        "colab": {
          "base_uri": "https://localhost:8080/",
          "height": 289
        },
        "outputId": "f48d1b8d-d47c-4bf7-b2bb-23c492202ddd"
      },
      "source": [
        "pipe = Pipeline([('imputer', SimpleImputer(strategy='mean')),\n",
        "                 ('scaler' , MinMaxScaler()),\n",
        "                 ('reduce_dim', PCA()),\n",
        "                 ('knn'    , KNeighborsClassifier())\n",
        "                 ])\n",
        "pipe"
      ],
      "execution_count": 15,
      "outputs": [
        {
          "output_type": "execute_result",
          "data": {
            "text/plain": [
              "Pipeline(memory=None,\n",
              "         steps=[('imputer',\n",
              "                 SimpleImputer(add_indicator=False, copy=True, fill_value=None,\n",
              "                               missing_values=nan, strategy='mean',\n",
              "                               verbose=0)),\n",
              "                ('scaler', MinMaxScaler(copy=True, feature_range=(0, 1))),\n",
              "                ('reduce_dim',\n",
              "                 PCA(copy=True, iterated_power='auto', n_components=None,\n",
              "                     random_state=None, svd_solver='auto', tol=0.0,\n",
              "                     whiten=False)),\n",
              "                ('knn',\n",
              "                 KNeighborsClassifier(algorithm='auto', leaf_size=30,\n",
              "                                      metric='minkowski', metric_params=None,\n",
              "                                      n_jobs=None, n_neighbors=5, p=2,\n",
              "                                      weights='uniform'))],\n",
              "         verbose=False)"
            ]
          },
          "metadata": {
            "tags": []
          },
          "execution_count": 15
        }
      ]
    },
    {
      "cell_type": "code",
      "metadata": {
        "id": "Y61hE3dqB1nv",
        "colab_type": "code",
        "colab": {}
      },
      "source": [
        ""
      ],
      "execution_count": 0,
      "outputs": []
    }
  ]
}